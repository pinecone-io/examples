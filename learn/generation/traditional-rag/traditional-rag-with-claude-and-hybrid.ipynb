{
 "cells": [
  {
   "attachments": {},
   "cell_type": "markdown",
   "metadata": {},
   "source": [
    "# Retrieval-Augmented Generation using Anthropic Claude\n",
    "\n",
    "This notebook demonstrates how to implement retrieval-augmented generation (RAG), connecting Claude with the data in your Pinecone vector database. We will cover the following steps:\n",
    "\n",
    "1. Setup: Setup and set Pinecone and Anthropic API keys\n",
    "2. Ingestion: Embedding and upserting data into Pinecone using integrated inference\n",
    "3. Retrieval: Querying a dense and a sparse index from Pinecone to retrieve results using hybrid search\n",
    "4. Augmentation: Prepare the prompt\n",
    "5. Generation: Using Claude to answer questions with information from the database\n",
    "\n",
    "This notebook accompanies this [Retrieval-Augmented Generation article](https://www.pinecone.io/learn/retrieval-augmented-generation/)."
   ]
  },
  {
   "attachments": {},
   "cell_type": "markdown",
   "metadata": {},
   "source": [
    "## 1. Setup\n",
    "First, let's install the necessary libraries and set the API keys we will need to use in this notebook."
   ]
  },
  {
   "cell_type": "code",
   "execution_count": null,
   "metadata": {},
   "outputs": [
    {
     "name": "stdout",
     "output_type": "stream",
     "text": [
      "Note: you may need to restart the kernel to use updated packages.\n"
     ]
    }
   ],
   "source": [
    "%pip install -qU \\\n",
    "     anthropic==0.54.0 \\\n",
    "     pinecone==7.0.2 \\\n",
    "     pinecone-notebooks==0.1.1 \\\n",
    "     pandas==2.2.2 \\\n",
    "     tqdm==4.67.1"
   ]
  },
  {
   "cell_type": "markdown",
   "metadata": {},
   "source": [
    "### Get and set the Pinecone API key\n",
    "\n",
    "We will need a free [Pinecone API key](https://docs.pinecone.io/guides/get-started/quickstart). The code below will either authenticate you and set the API key as an environment variable or will prompt you to enter the API key and then set it in the environment."
   ]
  },
  {
   "cell_type": "code",
   "execution_count": 6,
   "metadata": {},
   "outputs": [
    {
     "name": "stdout",
     "output_type": "stream",
     "text": [
      "Pinecone API key not found in environment.\n"
     ]
    }
   ],
   "source": [
    "import os\n",
    "from getpass import getpass\n",
    "\n",
    "def get_pinecone_api_key():\n",
    "    \"\"\"\n",
    "    Get Pinecone API key from environment variable or prompt user for input.\n",
    "    Returns the API key as a string.\n",
    "\n",
    "    Only necessary for notebooks. When using Pinecone yourself, \n",
    "    you can use environment variables or the like to set your API key.\n",
    "    \"\"\"\n",
    "    api_key = os.environ.get(\"PINECONE_API_KEY\")\n",
    "    \n",
    "    if api_key is None:\n",
    "        try:\n",
    "            # Try Colab authentication if available\n",
    "            from pinecone_notebooks.colab import Authenticate\n",
    "            Authenticate()\n",
    "            # If successful, key will now be in environment\n",
    "            api_key = os.environ.get(\"PINECONE_API_KEY\")\n",
    "        except ImportError:\n",
    "            # If not in Colab or authentication fails, prompt user for API key\n",
    "            print(\"Pinecone API key not found in environment.\")\n",
    "            api_key = getpass(\"Please enter your Pinecone API key: \")\n",
    "            # Save to environment for future use in session\n",
    "            os.environ[\"PINECONE_API_KEY\"] = api_key\n",
    "            print(\"Pinecone API key saved to environment.\")\n",
    "            \n",
    "    return api_key\n",
    "\n",
    "PINECONE_API_KEY = get_pinecone_api_key()"
   ]
  },
  {
   "cell_type": "markdown",
   "metadata": {},
   "source": [
    "### Set the Anthropic API key\n",
    "\n",
    "Next, we'll need to get a [Claude API key](https://docs.anthropic.com/en/api/overview). The code below will prompt you to enter it and then set it in the environment."
   ]
  },
  {
   "cell_type": "code",
   "execution_count": 7,
   "metadata": {},
   "outputs": [],
   "source": [
    "def get_anthropic_api_key():\n",
    "    \"\"\"\n",
    "    Get Anthropic API key from environment variable or prompt user for input.\n",
    "    Returns the API key as a string.\n",
    "    \"\"\"\n",
    "\n",
    "    api_key = os.environ.get(\"ANTHROPIC_API_KEY\")\n",
    "    \n",
    "    if api_key is None:\n",
    "        try:\n",
    "            api_key = getpass(\"Please enter your Anthropic API key: \")\n",
    "            # Save to environment for future use in session\n",
    "            os.environ[\"ANTHROPIC_API_KEY\"] = api_key\n",
    "        except Exception as e:\n",
    "            print(f\"Error getting Anthropic API key: {e}\")\n",
    "            return None\n",
    "    \n",
    "    return api_key\n",
    "\n",
    "ANTHROPIC_API_KEY = get_anthropic_api_key()"
   ]
  },
  {
   "cell_type": "markdown",
   "metadata": {},
   "source": [
    "## 2. Ingestion"
   ]
  },
  {
   "attachments": {},
   "cell_type": "markdown",
   "metadata": {},
   "source": [
    "### Download the dataset\n",
    "Now let's download the Amazon products dataset which has over 10k Amazon product descriptions and load it into a DataFrame."
   ]
  },
  {
   "cell_type": "code",
   "execution_count": 9,
   "metadata": {},
   "outputs": [
    {
     "name": "stdout",
     "output_type": "stream",
     "text": [
      "  % Total    % Received % Xferd  Average Speed   Time    Time     Time  Current\n",
      "                                 Dload  Upload   Total   Spent    Left  Speed\n",
      "100 5559k  100 5559k    0     0   508k      0  0:00:10  0:00:10 --:--:--  517k\n"
     ]
    }
   ],
   "source": [
    "\n",
    "!curl -0 \"https://www-cdn.anthropic.com/48affa556a5af1de657d426bcc1506cdf7e2f68e/amazon-products.jsonl\" > amazon-products.jsonl\n"
   ]
  },
  {
   "cell_type": "code",
   "execution_count": 10,
   "metadata": {},
   "outputs": [
    {
     "data": {
      "text/html": [
       "<div>\n",
       "<style scoped>\n",
       "    .dataframe tbody tr th:only-of-type {\n",
       "        vertical-align: middle;\n",
       "    }\n",
       "\n",
       "    .dataframe tbody tr th {\n",
       "        vertical-align: top;\n",
       "    }\n",
       "\n",
       "    .dataframe thead th {\n",
       "        text-align: right;\n",
       "    }\n",
       "</style>\n",
       "<table border=\"1\" class=\"dataframe\">\n",
       "  <thead>\n",
       "    <tr style=\"text-align: right;\">\n",
       "      <th></th>\n",
       "      <th>text</th>\n",
       "    </tr>\n",
       "  </thead>\n",
       "  <tbody>\n",
       "    <tr>\n",
       "      <th>0</th>\n",
       "      <td>Product Name: DB Longboards CoreFlex Crossbow ...</td>\n",
       "    </tr>\n",
       "    <tr>\n",
       "      <th>1</th>\n",
       "      <td>Product Name: Electronic Snap Circuits Mini Ki...</td>\n",
       "    </tr>\n",
       "    <tr>\n",
       "      <th>2</th>\n",
       "      <td>Product Name: 3Doodler Create Flexy 3D Printin...</td>\n",
       "    </tr>\n",
       "    <tr>\n",
       "      <th>3</th>\n",
       "      <td>Product Name: Guillow Airplane Design Studio w...</td>\n",
       "    </tr>\n",
       "    <tr>\n",
       "      <th>4</th>\n",
       "      <td>Product Name: Woodstock- Collage 500 pc Puzzle...</td>\n",
       "    </tr>\n",
       "  </tbody>\n",
       "</table>\n",
       "</div>"
      ],
      "text/plain": [
       "                                                text\n",
       "0  Product Name: DB Longboards CoreFlex Crossbow ...\n",
       "1  Product Name: Electronic Snap Circuits Mini Ki...\n",
       "2  Product Name: 3Doodler Create Flexy 3D Printin...\n",
       "3  Product Name: Guillow Airplane Design Studio w...\n",
       "4  Product Name: Woodstock- Collage 500 pc Puzzle..."
      ]
     },
     "metadata": {},
     "output_type": "display_data"
    },
    {
     "data": {
      "text/plain": [
       "10002"
      ]
     },
     "execution_count": 10,
     "metadata": {},
     "output_type": "execute_result"
    }
   ],
   "source": [
    "import pandas as pd\n",
    "\n",
    "data = []\n",
    "with open('amazon-products.jsonl', 'r') as file:\n",
    "    for line in file:\n",
    "        try:\n",
    "            data.append(eval(line))\n",
    "        except:\n",
    "            pass\n",
    "\n",
    "df = pd.DataFrame(data)\n",
    "display(df.head())\n",
    "len(df)"
   ]
  },
  {
   "attachments": {},
   "cell_type": "markdown",
   "metadata": {},
   "source": [
    "### Pinecone vector database and integrated inference\n",
    "\n",
    "We'll use hybrid search to implement retrieval. We'll create separate dense and sparse indexes, upsert dense vectors into the dense index and sparse vectors into the sparse index, and search each index separately. Then we'll combine and deduplicate the results, use one of Pinecone’s hosted reranking models to rerank them based on a unified relevance score, and then return the most relevant matches.\n",
    "\n",
    "We'll use integrated inference, so when creating the indexes, we'll specify a Pinecone-hosted model to use for embedding queries and documents. Pinecone handles the embedding for us,\n",
    "so we can pass it text directly. Learn more about hybrid search [here](https://docs.pinecone.io/guides/search/hybrid-search) and integrated inference [here](https://docs.pinecone.io/guides/index-data/indexing-overview#integrated-embedding).\n",
    "\n",
    "Now, we can initialize the dense index, using the `llama-text-embed-v2` embedding model."
   ]
  },
  {
   "cell_type": "code",
   "execution_count": 11,
   "metadata": {},
   "outputs": [
    {
     "name": "stderr",
     "output_type": "stream",
     "text": [
      "/Users/jenna/Development/playground/notebook-playground/.venv/lib/python3.12/site-packages/tqdm/auto.py:21: TqdmWarning: IProgress not found. Please update jupyter and ipywidgets. See https://ipywidgets.readthedocs.io/en/stable/user_install.html\n",
      "  from .autonotebook import tqdm as notebook_tqdm\n"
     ]
    },
    {
     "data": {
      "text/plain": [
       "{'dimension': 1024,\n",
       " 'index_fullness': 0.0,\n",
       " 'metric': 'cosine',\n",
       " 'namespaces': {},\n",
       " 'total_vector_count': 0,\n",
       " 'vector_type': 'dense'}"
      ]
     },
     "execution_count": 11,
     "metadata": {},
     "output_type": "execute_result"
    }
   ],
   "source": [
    "from pinecone import Pinecone\n",
    "\n",
    "pc = Pinecone()\n",
    "\n",
    "dense_index_name = \"traditional-rag-with-claude-dense\"\n",
    "if not pc.has_index(dense_index_name):\n",
    "    pc.create_index_for_model(\n",
    "        name=dense_index_name,\n",
    "        cloud=\"aws\",\n",
    "        region=\"us-east-1\",\n",
    "        # Chunk text will be the field we embed from our documents\n",
    "        embed={\n",
    "            \"model\":\"llama-text-embed-v2\",\n",
    "            \"field_map\":{\"text\": \"chunk_text\"}\n",
    "        }\n",
    "    )\n",
    "\n",
    "dense_index = pc.Index(dense_index_name)\n",
    "dense_index.describe_index_stats()"
   ]
  },
  {
   "cell_type": "markdown",
   "metadata": {},
   "source": [
    "Next, we'll initialize the sparse index, using the `pinecone-sparse-english-v0` sparse embedding model."
   ]
  },
  {
   "cell_type": "code",
   "execution_count": 12,
   "metadata": {},
   "outputs": [
    {
     "data": {
      "text/plain": [
       "{'index_fullness': 0.0,\n",
       " 'metric': 'dotproduct',\n",
       " 'namespaces': {},\n",
       " 'total_vector_count': 0,\n",
       " 'vector_type': 'sparse'}"
      ]
     },
     "execution_count": 12,
     "metadata": {},
     "output_type": "execute_result"
    }
   ],
   "source": [
    "sparse_index_name = \"traditional-rag-with-claude-sparse\"\n",
    "if not pc.has_index(sparse_index_name):\n",
    "    pc.create_index_for_model(\n",
    "        name=sparse_index_name,\n",
    "        cloud=\"aws\",\n",
    "        region=\"us-east-1\",\n",
    "        # Chunk text will be the field we embed from our documents\n",
    "        embed={\n",
    "            \"model\":\"pinecone-sparse-english-v0\",\n",
    "            \"field_map\":{\"text\": \"chunk_text\"}\n",
    "        }\n",
    "    )\n",
    "\n",
    "sparse_index = pc.Index(sparse_index_name)\n",
    "sparse_index.describe_index_stats()\n"
   ]
  },
  {
   "attachments": {},
   "cell_type": "markdown",
   "metadata": {},
   "source": [
    "We should see that the two new Pinecone indexes both have a total_vector_count of 0, as we haven't added any vectors yet."
   ]
  },
  {
   "attachments": {},
   "cell_type": "markdown",
   "metadata": {},
   "source": [
    "### Embedding and upserting data to Pinecone \n",
    "\n",
    "With our indexes set up, we can now take our product descriptions, embed them, and upsert them to each index."
   ]
  },
  {
   "cell_type": "code",
   "execution_count": 13,
   "metadata": {},
   "outputs": [
    {
     "name": "stderr",
     "output_type": "stream",
     "text": [
      "100%|██████████| 105/105 [01:24<00:00,  1.24it/s]\n",
      "100%|██████████| 105/105 [00:41<00:00,  2.51it/s]\n"
     ]
    },
    {
     "data": {
      "text/plain": [
       "{'index_fullness': 0.0,\n",
       " 'metric': 'dotproduct',\n",
       " 'namespaces': {'amz-products': {'vector_count': 9792}},\n",
       " 'total_vector_count': 9792,\n",
       " 'vector_type': 'sparse'}"
      ]
     },
     "execution_count": 13,
     "metadata": {},
     "output_type": "execute_result"
    }
   ],
   "source": [
    "from tqdm import tqdm\n",
    "\n",
    "descriptions = df[\"text\"].tolist()\n",
    "batch_size = 96  # how many embeddings we create and insert at once via integrated embedding\n",
    "\n",
    "def upsert_and_embed_into_index(index, namespace, descriptions, batch_size=96):\n",
    "    for i in tqdm(range(0, len(descriptions), batch_size)):\n",
    "        # Iterate over descriptions in batches of 96, the max number of docs that can be embedded each call\n",
    "        # find end of batch\n",
    "        i_end = min(len(descriptions), i+batch_size)\n",
    "        descriptions_batch = descriptions[i:i_end]\n",
    "\n",
    "        records = [\n",
    "            {\n",
    "                \"id\": f\"description_{i+idx}\",\n",
    "                \"chunk_text\": description,\n",
    "            }\n",
    "            for idx, description in enumerate(descriptions_batch)\n",
    "        ]\n",
    "\n",
    "        # embed and upsert into Pinecone. This operation does both!\n",
    "        index.upsert_records(namespace=namespace, records=records)\n",
    "\n",
    "\n",
    "# We specify a namespace to upsert our data into.\n",
    "# We write a check to ensure that we only upsert if the index is empty or is missing vectors\n",
    "dense_embed_condition = dense_index.describe_index_stats()[\"total_vector_count\"] == 0 or dense_index.describe_index_stats()[\"total_vector_count\"] < len(descriptions)\n",
    "if dense_embed_condition:\n",
    "    upsert_and_embed_into_index(dense_index, \"amz-products\", descriptions)\n",
    "\n",
    "sparse_embed_condition = sparse_index.describe_index_stats()[\"total_vector_count\"] == 0 or sparse_index.describe_index_stats()[\"total_vector_count\"] < len(descriptions)\n",
    "if sparse_embed_condition:\n",
    "    upsert_and_embed_into_index(sparse_index, \"amz-products\", descriptions)\n"
   ]
  },
  {
   "cell_type": "code",
   "execution_count": 17,
   "metadata": {},
   "outputs": [
    {
     "name": "stdout",
     "output_type": "stream",
     "text": [
      "dense index stats:\n"
     ]
    },
    {
     "data": {
      "text/plain": [
       "{'dimension': 1024,\n",
       " 'index_fullness': 0.0,\n",
       " 'metric': 'cosine',\n",
       " 'namespaces': {'amz-products': {'vector_count': 10002}},\n",
       " 'total_vector_count': 10002,\n",
       " 'vector_type': 'dense'}"
      ]
     },
     "execution_count": 17,
     "metadata": {},
     "output_type": "execute_result"
    }
   ],
   "source": [
    "print(\"dense index stats:\")\n",
    "dense_index.describe_index_stats()"
   ]
  },
  {
   "cell_type": "code",
   "execution_count": 18,
   "metadata": {},
   "outputs": [
    {
     "name": "stdout",
     "output_type": "stream",
     "text": [
      "sparse index stats:\n"
     ]
    },
    {
     "data": {
      "text/plain": [
       "{'index_fullness': 0.0,\n",
       " 'metric': 'dotproduct',\n",
       " 'namespaces': {'amz-products': {'vector_count': 10002}},\n",
       " 'total_vector_count': 10002,\n",
       " 'vector_type': 'sparse'}"
      ]
     },
     "execution_count": 18,
     "metadata": {},
     "output_type": "execute_result"
    }
   ],
   "source": [
    "print(\"sparse index stats:\")\n",
    "sparse_index.describe_index_stats()"
   ]
  },
  {
   "attachments": {},
   "cell_type": "markdown",
   "metadata": {},
   "source": [
    "## 3. Retrieval using hybrid search\n",
    "\n",
    "### Perform semantic search\n",
    "\n",
    "With our indexes populated, we can start making queries to get results.\n",
    "\n",
    "We'll first query the dense index to find the 5 records most semantically related to the natural language query. Because the index is integrated with an embedding model, you provide the query as text and Pinecone converts the text to a dense vector automatically."
   ]
  },
  {
   "cell_type": "code",
   "execution_count": 74,
   "metadata": {},
   "outputs": [
    {
     "name": "stdout",
     "output_type": "stream",
     "text": [
      "Result 1:\n",
      "description_5128\n",
      "Product Name: Hey! Play! Kids Science Kit-Lab Set to Create Solutions, Litmus Paper, & More-Great Fun & Educational Stem Learning Activity for Boys & Girls\n",
      "\n",
      "About Product: Hands on learning- equipped with 4 test tubes and a holding rack, 2 beakers, dropper, measuring spoon, funnel, 3 grams of purple sweet potato powder and 10 sheets of paper filter, This is an excellent Basic starter science kit for kids! | Uses household items- The items needed for experiments that are not included with the kit are everyday items, that are easily found around the house, like scissors, plastic wrap, vinegar, baking soda, and water. | Stem activity- The science kit is a fantastic STEM (science, technology, engineering, Math) learning toy that will help your kids understand the concepts of mixing substances like acid and alkaline liquids and making things like litmus paper. | Hours of fun- this set is a wonderful gift for birthdays, holidays, or any occasion! Your little girl or boy will have hours of educational fun playing scientist and doing experiments! | Product details- kit includes 4 test tubes and holding rack, 2 beakers, dropper, measuring spoon, funnel, 3 grams of purple sweet potato powder and 10 sheets of paper filter. Needed but not included: scissors, plastic wrap, vinegar, baking soda, water.\n",
      "\n",
      "Categories: Toys & Games | Learning & Education | Science Kits & Toys 0.4084329903125763\n",
      "\n",
      "\n",
      "Result 2:\n",
      "description_1771\n",
      "Product Name: Scientific Explorer My First Science Kids Science Experiment Kit\n",
      "\n",
      "About Product: Experiments to spark creativity and curiosity | Grow watery crystals, create a rainbow in a plate, explore the science of color and more | Represents STEM (Science, Technology, Engineering, Math) principles – open ended toys to construct, engineer, explorer and experiment | Includes cross linked polyacrylamide, 3 color tablets, 3 mixing cups, 3 test tubes, caps and stand, pipette, mixing tray, magnifier and instructions | Recommended for children 4 years of age and older with adult supervision\n",
      "\n",
      "Categories: Toys & Games | Learning & Education | Science Kits & Toys 0.37664997577667236\n",
      "\n",
      "\n",
      "Result 3:\n",
      "description_395\n",
      "Product Name: Learning Resources Primary Science Deluxe Lab Set, Science Kit, 45 Piece Set, Ages 3+\n",
      "\n",
      "About Product: SKILL DEVELOPMENT: Problem solving, Fine motor skills, Following multi-step directions, Sequential thought, Math concepts, Making predictions, Observation | SCIENCE EXPLORATION: Supports early hands-on scientific exploration through fun activities and lab gear! | ACTIVITY CARDS INCLUDED: Kids can follow the step-by-step instructions on the included activity cards and jot down their findings in the write & wipe journal | Deluxe Lab Set Includes: 2 test tubes with stand, dropper, 2 funnels, safety glasses, adjustable stand, 2 connector tubes, 3 stoppers, sensory tube with 2 lids, ViewScope with case, and 20 activity cards. | Great for any toddler ages 3+\n",
      "\n",
      "Categories: Toys & Games | Learning & Education 0.35853707790374756\n",
      "\n",
      "\n",
      "Result 4:\n",
      "description_1604\n",
      "Product Name: Educational Insights GeoSafari Rockin' Reactions Chemistry Set\n",
      "\n",
      "About Product: Conduct fun science experiments at home with common household ingredients | Includes: beaker, 4 test tubes, test tube rack, graduated cylinder, lab glasses, dropper, funnel, stirring rod, and 22-page activity journal | Try these incredible experiments: extinguish a flame with invisible gas, make your own bubbling \"lava,\" cause chemicals to change colors, and more! | Offers foundation of basic chemical principles | Supports STEM: Pose questions, test hypotheses, analyze data, draw conclusions\n",
      "\n",
      "Categories: Toys & Games | Learning & Education | Science Kits & Toys 0.35138869285583496\n",
      "\n",
      "\n",
      "Result 5:\n",
      "description_5059\n",
      "Product Name: Be Amazing! Toys Universe Unboxed by Scishow: Survival Science Lab\n",
      "\n",
      "About Product: Be Amazing! Toys has partnered with Hank green, co-creator of the incredibly popular YouTube channel scissors to launch universe unboxed! Each kit also has its own YouTube playlist where host Hank green walks you through the experiments and tells you the science behind how and why it works! | Teach your kids to survive in the great outdoors! Make your own compass, filtration system and solar oven. | Kit includes materials and tools to get you started: solar oven, 3 plastic funnels, filter paper, magnet, aluminum foil, thermometer, petri dish, plastic tube, and compass card; plus gravel, sand, active carbon, superabsorbent jelly crystals, iron filing, and calcium chloride. | Easy to follow instruction guide takes you through 20 experiments | For ages 8 years and up, This is a great to get elementary School aged children up and running on the matter, Polymers, and the mystery of it all!\n",
      "\n",
      "Categories: Toys & Games | Learning & Education | Science Kits & Toys 0.34660768508911133\n",
      "\n",
      "\n"
     ]
    }
   ],
   "source": [
    "USER_QUESTION = \"I want to get my daughter more interested in science. What kind of gifts should I get her?\"\n",
    "\n",
    "def search_dense_index(question):\n",
    "    # search_records embeds and queries the Pinecone index in one step\n",
    "    dense_results = dense_index.search(\n",
    "        namespace=\"amz-products\", \n",
    "        query={\n",
    "            # specifies number of results to return\n",
    "            \"top_k\":5,\n",
    "            # specifies the query to embed and search for\n",
    "            \"inputs\":{\n",
    "                \"text\": USER_QUESTION\n",
    "            }\n",
    "        }\n",
    "    )\n",
    "\n",
    "    return dense_results[\"result\"][\"hits\"]\n",
    "\n",
    "dense_results = search_dense_index(USER_QUESTION)\n",
    "\n",
    "for num, result in enumerate(dense_results):\n",
    "    # Return result and score\n",
    "    print(f\"Result {num+1}:\")\n",
    "    print(result[\"_id\"])\n",
    "    print(result[\"fields\"][\"chunk_text\"], result[\"_score\"])\n",
    "    print(\"\\n\")\n",
    "\n"
   ]
  },
  {
   "cell_type": "markdown",
   "metadata": {},
   "source": [
    "### Perform lexical search\n",
    "\n",
    "Now we'll perform a lexical search by searching the sparse index for the 5 records that most exactly match the words in the query. This is an advanced variant of keyword search, and uses the `pinecone-sparse-english-v0` sparse embedding model that is optimized for keyword search."
   ]
  },
  {
   "cell_type": "code",
   "execution_count": 75,
   "metadata": {},
   "outputs": [
    {
     "name": "stdout",
     "output_type": "stream",
     "text": [
      "Result 1:\n",
      "description_7342\n",
      "Product Name: Be Amazing! Toys Get Slimed! Science Kit\n",
      "\n",
      "About Product: Explore the world of polymers by mixing different liquids together and watch them gel, harden, and expand as you create slimey science fun. | Some kid-favorite activities from this kit include Lumpy Slime, making Insta-Worms, making Worm Eggs, and Rainbow Worms. | The polymers and chemicals in this kit have been throughly tested and are safe for kids to use and we recommend adult supervision. | What is S.T.E.M.? STEM stands for Science, Technology, Engineering, and Math, which constitutes many of the areas educators look to cover for science based activities. We are proud to say that his kit has a strong focus on STEM. | The Amazing Science line of products has been designed to peak kid's curiosity for the world around them. These kits encourage kids to wonder, discover and explore in a way that will get the science to the dinner table. Our goal is to teach kids how to be amazing as they show their friends and family what they’ve learned. Real Science…Real Learning!\n",
      "\n",
      "Categories: Toys & Games | Learning & Education | Science Kits & Toys 6.802734375\n",
      "\n",
      "\n",
      "Result 2:\n",
      "description_5375\n",
      "Product Name: Pearhead Ugly Sweater Party Kit, Everything You Need to Throw Your Own Ugly Sweater Party This Christmas Season, Includes 8 Photo Booth Props, 1 Banner, and 4 Award Stickers\n",
      "\n",
      "About Product: Includes one “Let’s Get Ugly” banner; eight photo props and 4 best sweater stickers | Prop dimensions average: 4\" diameter | Make your holiday party the talk of the holiday season with this ugly sweater party kit. It includes everything you need to create festive holiday photos that you'll cherish for a lifetime | The holiday season is fast approaching; so it’s time to break out all the holiday classics and secure the perfect gift! Make sure your home is ready for holiday festivities with fun Christmas photo props and ugly sweater party décor | Everyone wants to make sure they choose the perfect Christmas gift. Look no further for anyone who loves a funny gift. They’re sure to smile with all the joy of the season when you present them with this truly unique gift | It’s time to make your list; check it twice and secure the perfect gift! Pearhead has you covered with everything from keepsake frames; unique gifts and festive holiday décor. Pearhead’s holiday keepsakes and creative gifts make the perfect Hanukkah gifts; gifts for grandparents; baby first Christmas gifts; tree ornaments; Grandmother gifts and beyond. Look no further for any parents; aunts; uncles and grandparents on your holiday | More Pearhead holiday products available- Pearhead offers a variety of baby products perfect for any family expecting; baby’s first Christmas; or a baby shower gift; including holiday gifts; tree ornaments; baby frames; baby keepsakes; baby ornaments; pregnancy gifts; and baby gifts. Click on Pearhead in this listing to see more baby and holiday options available! | For use as photo props / not intended as a toy | At Pearhead, we aim to create genuine, quality products to celebrate your special moments in life. We are a family of designers, marketers, and trendsetters bringing products to life that will bring a smile to your face. From concept and design to production and customer service, the Pearhead team works together seamlessly every step of the way. Whether your baby is celebrating their first year of life, you are announcing your pregnancy, or your pup is celebrating his first holiday season, Pearhead is here to share your moments in style.\n",
      "\n",
      "Categories: Toys & Games | Arts & Crafts | Craft Kits 6.17462158203125\n",
      "\n",
      "\n",
      "Result 3:\n",
      "description_3362\n",
      "Product Name: 4M Grow-A-Maze Green Science Kit\n",
      "\n",
      "About Product: This plant maze is a great toy for anyone interested in experimenting with nature, both young and old. Just plant a bean and watch it sprout and wind its way through the maze. | Grow-A-Maze also comes with a transparent cover, a water pot, and a mini-magnifying glass so you can watch both above and below the soil and see for yourself just how plants work. | The container measures approximately 5-inches x 4-inches and works as a great office desktop decoration/garden. | Encourage understanding of plant biology and interest in nature with this transparent planter. | Dried beans and soil (not included) are required for this experiment. Recommended for ages 3 and up. | Challenge your child's imagination with 4M toys and kits. | 4M educational toys cover a wide range of educational subjects and include science kits, arts and crafts kits, robotics kits, and more. | 4M offers a wide range of toys and kits to let you build a clock, crochet a placemat, or turn your room into a planetarium--all in the name of making learning fun. | Plant a bean and watch it sprout and wind its way through the maze | Requires dried beans and soil (not included) | Includes adjustable maze with planter, magnifier and instructions | Fun and educational\n",
      "\n",
      "Categories: Toys & Games | Learning & Education | Science Kits & Toys 5.693359375\n",
      "\n",
      "\n",
      "Result 4:\n",
      "description_393\n",
      "Product Name: Color My Heart Pendant Necklace Craft Kit\n",
      "\n",
      "About Product: Create one-of-a-kind gifts from the heart with this fun jewelry-making kit! | Six transparent polyresin hearts measure 1-1/2\" and come ready to decorate | Includes special paints in six springtime colors, fine-tipped brush, permanent marker, and craft sticks | Six yards of lustrous, rainbow-hued rayon cording | For ages 5 and up\n",
      "\n",
      "Categories: Toys & Games | Arts & Crafts | Craft Kits | Jewelry 5.5399169921875\n",
      "\n",
      "\n",
      "Result 5:\n",
      "description_2847\n",
      "Product Name: Fantasy Fields TD-12806A Girls Ballet Swan Lake Ballerina Set of Bookends, White/Pink\n",
      "\n",
      "About Product: Fabulous design: attract your child's attention to the pretty ballet shoe and Swan design. Stimulate their growing imagination and encourage a love of books. | Get rid of mess- bringing a decorative flair to child's room. Teach your kid to store their books tidy. Store more books when holding vertically (not recommended to store heavy books). | Sweet time- turn an ordinary bed time story into a sweet dream every time with these bookends! | Best choice for gifts: the elegant ballet shoe and graceful Swan design can be a great gift for any age and any time. From newborn's nursery, kids birthdays, holiday and Christmas gifts, to teens and adults who need something special for decor. All will love it when receiving this unique present. | No assembly required-perfect for all ages.\n",
      "\n",
      "Categories: Home & Kitchen | Home Décor | Kids' Room Décor | Accents | Bookends 5.4365234375\n",
      "\n",
      "\n"
     ]
    }
   ],
   "source": [
    "def search_sparse_index(question):\n",
    "    # search_records embeds and queries the Pinecone index in one step\n",
    "    sparse_results = sparse_index.search(\n",
    "        namespace=\"amz-products\", \n",
    "        query={\n",
    "            # specifies number of results to return\n",
    "            \"top_k\":5,\n",
    "            # specifies the query to embed and search for\n",
    "            \"inputs\":{\n",
    "                \"text\": USER_QUESTION\n",
    "            }\n",
    "        }\n",
    "    )\n",
    "\n",
    "    return sparse_results[\"result\"][\"hits\"]\n",
    "\n",
    "sparse_results = search_sparse_index(USER_QUESTION)\n",
    "\n",
    "for num, result in enumerate(sparse_results):\n",
    "    # Return result and score\n",
    "    print(f\"Result {num+1}:\")\n",
    "    print(result[\"_id\"])\n",
    "    print(result[\"fields\"][\"chunk_text\"], result[\"_score\"])\n",
    "    print(\"\\n\")\n",
    "\n"
   ]
  },
  {
   "cell_type": "markdown",
   "metadata": {},
   "source": [
    "### Merge and deduplicate the results\n",
    "\n",
    "Next, we'll merge the dense and sparse results and deduplicated them based on the field we used to link sparse and dense vectors, in our case `_id`."
   ]
  },
  {
   "cell_type": "code",
   "execution_count": 76,
   "metadata": {},
   "outputs": [
    {
     "name": "stdout",
     "output_type": "stream",
     "text": [
      "[\n",
      "   {'_id': 'description_7342', 'chunk_text': \"Product Name: Be Amazing! Toys Get Slimed! Science Kit\\n\\nAbout Product: Explore the world of polymers by mixing different liquids together and watch them gel, harden, and expand as you create slimey science fun. | Some kid-favorite activities from this kit include Lumpy Slime, making Insta-Worms, making Worm Eggs, and Rainbow Worms. | The polymers and chemicals in this kit have been throughly tested and are safe for kids to use and we recommend adult supervision. | What is S.T.E.M.? STEM stands for Science, Technology, Engineering, and Math, which constitutes many of the areas educators look to cover for science based activities. We are proud to say that his kit has a strong focus on STEM. | The Amazing Science line of products has been designed to peak kid's curiosity for the world around them. These kits encourage kids to wonder, discover and explore in a way that will get the science to the dinner table. Our goal is to teach kids how to be amazing as they show their friends and family what they’ve learned. Real Science…Real Learning!\\n\\nCategories: Toys & Games | Learning & Education | Science Kits & Toys\"},\n",
      "   {'_id': 'description_5375', 'chunk_text': 'Product Name: Pearhead Ugly Sweater Party Kit, Everything You Need to Throw Your Own Ugly Sweater Party This Christmas Season, Includes 8 Photo Booth Props, 1 Banner, and 4 Award Stickers\\n\\nAbout Product: Includes one “Let’s Get Ugly” banner; eight photo props and 4 best sweater stickers | Prop dimensions average: 4\" diameter | Make your holiday party the talk of the holiday season with this ugly sweater party kit. It includes everything you need to create festive holiday photos that you\\'ll cherish for a lifetime | The holiday season is fast approaching; so it’s time to break out all the holiday classics and secure the perfect gift! Make sure your home is ready for holiday festivities with fun Christmas photo props and ugly sweater party décor | Everyone wants to make sure they choose the perfect Christmas gift. Look no further for anyone who loves a funny gift. They’re sure to smile with all the joy of the season when you present them with this truly unique gift | It’s time to make your list; check it twice and secure the perfect gift! Pearhead has you covered with everything from keepsake frames; unique gifts and festive holiday décor. Pearhead’s holiday keepsakes and creative gifts make the perfect Hanukkah gifts; gifts for grandparents; baby first Christmas gifts; tree ornaments; Grandmother gifts and beyond. Look no further for any parents; aunts; uncles and grandparents on your holiday | More Pearhead holiday products available- Pearhead offers a variety of baby products perfect for any family expecting; baby’s first Christmas; or a baby shower gift; including holiday gifts; tree ornaments; baby frames; baby keepsakes; baby ornaments; pregnancy gifts; and baby gifts. Click on Pearhead in this listing to see more baby and holiday options available! | For use as photo props / not intended as a toy | At Pearhead, we aim to create genuine, quality products to celebrate your special moments in life. We are a family of designers, marketers, and trendsetters bringing products to life that will bring a smile to your face. From concept and design to production and customer service, the Pearhead team works together seamlessly every step of the way. Whether your baby is celebrating their first year of life, you are announcing your pregnancy, or your pup is celebrating his first holiday season, Pearhead is here to share your moments in style.\\n\\nCategories: Toys & Games | Arts & Crafts | Craft Kits'},\n",
      "   {'_id': 'description_3362', 'chunk_text': \"Product Name: 4M Grow-A-Maze Green Science Kit\\n\\nAbout Product: This plant maze is a great toy for anyone interested in experimenting with nature, both young and old. Just plant a bean and watch it sprout and wind its way through the maze. | Grow-A-Maze also comes with a transparent cover, a water pot, and a mini-magnifying glass so you can watch both above and below the soil and see for yourself just how plants work. | The container measures approximately 5-inches x 4-inches and works as a great office desktop decoration/garden. | Encourage understanding of plant biology and interest in nature with this transparent planter. | Dried beans and soil (not included) are required for this experiment. Recommended for ages 3 and up. | Challenge your child's imagination with 4M toys and kits. | 4M educational toys cover a wide range of educational subjects and include science kits, arts and crafts kits, robotics kits, and more. | 4M offers a wide range of toys and kits to let you build a clock, crochet a placemat, or turn your room into a planetarium--all in the name of making learning fun. | Plant a bean and watch it sprout and wind its way through the maze | Requires dried beans and soil (not included) | Includes adjustable maze with planter, magnifier and instructions | Fun and educational\\n\\nCategories: Toys & Games | Learning & Education | Science Kits & Toys\"},\n",
      "   {'_id': 'description_393', 'chunk_text': 'Product Name: Color My Heart Pendant Necklace Craft Kit\\n\\nAbout Product: Create one-of-a-kind gifts from the heart with this fun jewelry-making kit! | Six transparent polyresin hearts measure 1-1/2\" and come ready to decorate | Includes special paints in six springtime colors, fine-tipped brush, permanent marker, and craft sticks | Six yards of lustrous, rainbow-hued rayon cording | For ages 5 and up\\n\\nCategories: Toys & Games | Arts & Crafts | Craft Kits | Jewelry'},\n",
      "   {'_id': 'description_2847', 'chunk_text': \"Product Name: Fantasy Fields TD-12806A Girls Ballet Swan Lake Ballerina Set of Bookends, White/Pink\\n\\nAbout Product: Fabulous design: attract your child's attention to the pretty ballet shoe and Swan design. Stimulate their growing imagination and encourage a love of books. | Get rid of mess- bringing a decorative flair to child's room. Teach your kid to store their books tidy. Store more books when holding vertically (not recommended to store heavy books). | Sweet time- turn an ordinary bed time story into a sweet dream every time with these bookends! | Best choice for gifts: the elegant ballet shoe and graceful Swan design can be a great gift for any age and any time. From newborn's nursery, kids birthdays, holiday and Christmas gifts, to teens and adults who need something special for decor. All will love it when receiving this unique present. | No assembly required-perfect for all ages.\\n\\nCategories: Home & Kitchen | Home Décor | Kids' Room Décor | Accents | Bookends\"},\n",
      "   {'_id': 'description_5128', 'chunk_text': 'Product Name: Hey! Play! Kids Science Kit-Lab Set to Create Solutions, Litmus Paper, & More-Great Fun & Educational Stem Learning Activity for Boys & Girls\\n\\nAbout Product: Hands on learning- equipped with 4 test tubes and a holding rack, 2 beakers, dropper, measuring spoon, funnel, 3 grams of purple sweet potato powder and 10 sheets of paper filter, This is an excellent Basic starter science kit for kids! | Uses household items- The items needed for experiments that are not included with the kit are everyday items, that are easily found around the house, like scissors, plastic wrap, vinegar, baking soda, and water. | Stem activity- The science kit is a fantastic STEM (science, technology, engineering, Math) learning toy that will help your kids understand the concepts of mixing substances like acid and alkaline liquids and making things like litmus paper. | Hours of fun- this set is a wonderful gift for birthdays, holidays, or any occasion! Your little girl or boy will have hours of educational fun playing scientist and doing experiments! | Product details- kit includes 4 test tubes and holding rack, 2 beakers, dropper, measuring spoon, funnel, 3 grams of purple sweet potato powder and 10 sheets of paper filter. Needed but not included: scissors, plastic wrap, vinegar, baking soda, water.\\n\\nCategories: Toys & Games | Learning & Education | Science Kits & Toys'},\n",
      "   {'_id': 'description_1771', 'chunk_text': 'Product Name: Scientific Explorer My First Science Kids Science Experiment Kit\\n\\nAbout Product: Experiments to spark creativity and curiosity | Grow watery crystals, create a rainbow in a plate, explore the science of color and more | Represents STEM (Science, Technology, Engineering, Math) principles – open ended toys to construct, engineer, explorer and experiment | Includes cross linked polyacrylamide, 3 color tablets, 3 mixing cups, 3 test tubes, caps and stand, pipette, mixing tray, magnifier and instructions | Recommended for children 4 years of age and older with adult supervision\\n\\nCategories: Toys & Games | Learning & Education | Science Kits & Toys'},\n",
      "   {'_id': 'description_395', 'chunk_text': 'Product Name: Learning Resources Primary Science Deluxe Lab Set, Science Kit, 45 Piece Set, Ages 3+\\n\\nAbout Product: SKILL DEVELOPMENT: Problem solving, Fine motor skills, Following multi-step directions, Sequential thought, Math concepts, Making predictions, Observation | SCIENCE EXPLORATION: Supports early hands-on scientific exploration through fun activities and lab gear! | ACTIVITY CARDS INCLUDED: Kids can follow the step-by-step instructions on the included activity cards and jot down their findings in the write & wipe journal | Deluxe Lab Set Includes: 2 test tubes with stand, dropper, 2 funnels, safety glasses, adjustable stand, 2 connector tubes, 3 stoppers, sensory tube with 2 lids, ViewScope with case, and 20 activity cards. | Great for any toddler ages 3+\\n\\nCategories: Toys & Games | Learning & Education'},\n",
      "   {'_id': 'description_1604', 'chunk_text': 'Product Name: Educational Insights GeoSafari Rockin\\' Reactions Chemistry Set\\n\\nAbout Product: Conduct fun science experiments at home with common household ingredients | Includes: beaker, 4 test tubes, test tube rack, graduated cylinder, lab glasses, dropper, funnel, stirring rod, and 22-page activity journal | Try these incredible experiments: extinguish a flame with invisible gas, make your own bubbling \"lava,\" cause chemicals to change colors, and more! | Offers foundation of basic chemical principles | Supports STEM: Pose questions, test hypotheses, analyze data, draw conclusions\\n\\nCategories: Toys & Games | Learning & Education | Science Kits & Toys'},\n",
      "   {'_id': 'description_5059', 'chunk_text': 'Product Name: Be Amazing! Toys Universe Unboxed by Scishow: Survival Science Lab\\n\\nAbout Product: Be Amazing! Toys has partnered with Hank green, co-creator of the incredibly popular YouTube channel scissors to launch universe unboxed! Each kit also has its own YouTube playlist where host Hank green walks you through the experiments and tells you the science behind how and why it works! | Teach your kids to survive in the great outdoors! Make your own compass, filtration system and solar oven. | Kit includes materials and tools to get you started: solar oven, 3 plastic funnels, filter paper, magnet, aluminum foil, thermometer, petri dish, plastic tube, and compass card; plus gravel, sand, active carbon, superabsorbent jelly crystals, iron filing, and calcium chloride. | Easy to follow instruction guide takes you through 20 experiments | For ages 8 years and up, This is a great to get elementary School aged children up and running on the matter, Polymers, and the mystery of it all!\\n\\nCategories: Toys & Games | Learning & Education | Science Kits & Toys'}\n",
      "]\n"
     ]
    }
   ],
   "source": [
    "def merge_chunks(h1, h2):\n",
    "    \"\"\"Get the unique hits from two search results and return them as single array of {'_id', 'chunk_text'} dicts, printing each dict on a new line.\"\"\"\n",
    "    # Deduplicate by _id\n",
    "    deduped_hits = {hit['_id']: hit for hit in h1 + h2}.values()\n",
    "    # Sort by _score descending\n",
    "    sorted_hits = sorted(deduped_hits, key=lambda x: x['_score'], reverse=True)\n",
    "    # Transform to format for reranking\n",
    "    result = [{'_id': hit['_id'], 'chunk_text': hit['fields']['chunk_text']} for hit in sorted_hits]\n",
    "    return result\n",
    "\n",
    "merged_results = merge_chunks(sparse_results, dense_results)\n",
    "\n",
    "print('[\\n   ' + ',\\n   '.join(str(obj) for obj in merged_results) + '\\n]')"
   ]
  },
  {
   "cell_type": "markdown",
   "metadata": {},
   "source": [
    "### Rerank the results\n",
    "\n",
    "We'll use one of Pinecone’s hosted reranking models, `bge-reranker-v2-m3` to rerank the merged and deduplicated results based on a unified relevance score."
   ]
  },
  {
   "cell_type": "code",
   "execution_count": 77,
   "metadata": {},
   "outputs": [
    {
     "name": "stdout",
     "output_type": "stream",
     "text": [
      "Query I want to get my daughter more interested in science. What kind of gifts should I get her?\n",
      "-----\n",
      "description_5128 - 0.12 - Product Name: Hey! Play! Kids Science Kit-Lab Set to Create Solutions, Litmus Paper, & More-Great Fun & Educational Stem Learning Activity for Boys & Girls\n",
      "\n",
      "About Product: Hands on learning- equipped with 4 test tubes and a holding rack, 2 beakers, dropper, measuring spoon, funnel, 3 grams of purple sweet potato powder and 10 sheets of paper filter, This is an excellent Basic starter science kit for kids! | Uses household items- The items needed for experiments that are not included with the kit are everyday items, that are easily found around the house, like scissors, plastic wrap, vinegar, baking soda, and water. | Stem activity- The science kit is a fantastic STEM (science, technology, engineering, Math) learning toy that will help your kids understand the concepts of mixing substances like acid and alkaline liquids and making things like litmus paper. | Hours of fun- this set is a wonderful gift for birthdays, holidays, or any occasion! Your little girl or boy will have hours of educational fun playing scientist and doing experiments! | Product details- kit includes 4 test tubes and holding rack, 2 beakers, dropper, measuring spoon, funnel, 3 grams of purple sweet potato powder and 10 sheets of paper filter. Needed but not included: scissors, plastic wrap, vinegar, baking soda, water.\n",
      "\n",
      "Categories: Toys & Games | Learning & Education | Science Kits & Toys\n",
      "description_3362 - 0.04 - Product Name: 4M Grow-A-Maze Green Science Kit\n",
      "\n",
      "About Product: This plant maze is a great toy for anyone interested in experimenting with nature, both young and old. Just plant a bean and watch it sprout and wind its way through the maze. | Grow-A-Maze also comes with a transparent cover, a water pot, and a mini-magnifying glass so you can watch both above and below the soil and see for yourself just how plants work. | The container measures approximately 5-inches x 4-inches and works as a great office desktop decoration/garden. | Encourage understanding of plant biology and interest in nature with this transparent planter. | Dried beans and soil (not included) are required for this experiment. Recommended for ages 3 and up. | Challenge your child's imagination with 4M toys and kits. | 4M educational toys cover a wide range of educational subjects and include science kits, arts and crafts kits, robotics kits, and more. | 4M offers a wide range of toys and kits to let you build a clock, crochet a placemat, or turn your room into a planetarium--all in the name of making learning fun. | Plant a bean and watch it sprout and wind its way through the maze | Requires dried beans and soil (not included) | Includes adjustable maze with planter, magnifier and instructions | Fun and educational\n",
      "\n",
      "Categories: Toys & Games | Learning & Education | Science Kits & Toys\n",
      "description_7342 - 0.02 - Product Name: Be Amazing! Toys Get Slimed! Science Kit\n",
      "\n",
      "About Product: Explore the world of polymers by mixing different liquids together and watch them gel, harden, and expand as you create slimey science fun. | Some kid-favorite activities from this kit include Lumpy Slime, making Insta-Worms, making Worm Eggs, and Rainbow Worms. | The polymers and chemicals in this kit have been throughly tested and are safe for kids to use and we recommend adult supervision. | What is S.T.E.M.? STEM stands for Science, Technology, Engineering, and Math, which constitutes many of the areas educators look to cover for science based activities. We are proud to say that his kit has a strong focus on STEM. | The Amazing Science line of products has been designed to peak kid's curiosity for the world around them. These kits encourage kids to wonder, discover and explore in a way that will get the science to the dinner table. Our goal is to teach kids how to be amazing as they show their friends and family what they’ve learned. Real Science…Real Learning!\n",
      "\n",
      "Categories: Toys & Games | Learning & Education | Science Kits & Toys\n",
      "description_5059 - 0.02 - Product Name: Be Amazing! Toys Universe Unboxed by Scishow: Survival Science Lab\n",
      "\n",
      "About Product: Be Amazing! Toys has partnered with Hank green, co-creator of the incredibly popular YouTube channel scissors to launch universe unboxed! Each kit also has its own YouTube playlist where host Hank green walks you through the experiments and tells you the science behind how and why it works! | Teach your kids to survive in the great outdoors! Make your own compass, filtration system and solar oven. | Kit includes materials and tools to get you started: solar oven, 3 plastic funnels, filter paper, magnet, aluminum foil, thermometer, petri dish, plastic tube, and compass card; plus gravel, sand, active carbon, superabsorbent jelly crystals, iron filing, and calcium chloride. | Easy to follow instruction guide takes you through 20 experiments | For ages 8 years and up, This is a great to get elementary School aged children up and running on the matter, Polymers, and the mystery of it all!\n",
      "\n",
      "Categories: Toys & Games | Learning & Education | Science Kits & Toys\n",
      "description_395 - 0.01 - Product Name: Learning Resources Primary Science Deluxe Lab Set, Science Kit, 45 Piece Set, Ages 3+\n",
      "\n",
      "About Product: SKILL DEVELOPMENT: Problem solving, Fine motor skills, Following multi-step directions, Sequential thought, Math concepts, Making predictions, Observation | SCIENCE EXPLORATION: Supports early hands-on scientific exploration through fun activities and lab gear! | ACTIVITY CARDS INCLUDED: Kids can follow the step-by-step instructions on the included activity cards and jot down their findings in the write & wipe journal | Deluxe Lab Set Includes: 2 test tubes with stand, dropper, 2 funnels, safety glasses, adjustable stand, 2 connector tubes, 3 stoppers, sensory tube with 2 lids, ViewScope with case, and 20 activity cards. | Great for any toddler ages 3+\n",
      "\n",
      "Categories: Toys & Games | Learning & Education\n"
     ]
    }
   ],
   "source": [
    "def rerank_results(question, results):\n",
    "    result = pc.inference.rerank(\n",
    "        model=\"bge-reranker-v2-m3\",\n",
    "        query=question,\n",
    "        documents=results,\n",
    "        rank_fields=[\"chunk_text\"],\n",
    "        top_n=5,\n",
    "        return_documents=True,\n",
    "        parameters={\n",
    "            \"truncate\": \"END\"\n",
    "        }\n",
    "    )\n",
    "    return result.data\n",
    "\n",
    "reranked_results = rerank_results(USER_QUESTION, merged_results)\n",
    "\n",
    "print(\"Query\", USER_QUESTION)\n",
    "print('-----')\n",
    "for row in reranked_results:\n",
    "    print(f\"{row['document']['_id']} - {round(row['score'], 2)} - {row['document']['chunk_text']}\")"
   ]
  },
  {
   "cell_type": "markdown",
   "metadata": {},
   "source": [
    "## 4. Augmentation\n",
    "\n",
    "Next, we'll prepare the prompt with the search results as context for the next step, generation. Let's format them into a [search template using techniques](https://docs.anthropic.com/en/docs/build-with-claude/prompt-engineering/overview) Claude has been trained with and add the formatted descriptions to a prompt. We'll use this prompt to send the search results as context to the generation step.\n",
    "\n",
    "### Setup the Anthropic client"
   ]
  },
  {
   "cell_type": "code",
   "execution_count": 78,
   "metadata": {},
   "outputs": [],
   "source": [
    "# Formatting search results\n",
    "def format_results(extracted: list[str]) -> str:\n",
    "        result = \"\\n\".join(\n",
    "            [\n",
    "                f'<item index=\"{i+1}\">\\n<page_content>\\n{r[\"document\"][\"chunk_text\"]}\\n</page_content>\\n</item>'\n",
    "                for i, r in enumerate(extracted)\n",
    "            ]\n",
    "        )\n",
    "    \n",
    "        return f\"\\n<search_results>\\n{result}\\n</search_results>\"\n",
    "\n",
    "def create_answer_prompt(results_list, question):\n",
    "    return f\"\"\"\\n\\nHuman: {format_results(results_list)} Using the search results provided within the <search_results></search_results> tags, please answer the following question <question>{question}</question>. Do not reference the search results in your answer.\\n\\nAssistant:\"\"\"\n"
   ]
  },
  {
   "cell_type": "code",
   "execution_count": 79,
   "metadata": {},
   "outputs": [
    {
     "name": "stdout",
     "output_type": "stream",
     "text": [
      "\n",
      "\n",
      "Human: \n",
      "<search_results>\n",
      "<item index=\"1\">\n",
      "<page_content>\n",
      "Product Name: Hey! Play! Kids Science Kit-Lab Set to Create Solutions, Litmus Paper, & More-Great Fun & Educational Stem Learning Activity for Boys & Girls\n",
      "\n",
      "About Product: Hands on learning- equipped with 4 test tubes and a holding rack, 2 beakers, dropper, measuring spoon, funnel, 3 grams of purple sweet potato powder and 10 sheets of paper filter, This is an excellent Basic starter science kit for kids! | Uses household items- The items needed for experiments that are not included with the kit are everyday items, that are easily found around the house, like scissors, plastic wrap, vinegar, baking soda, and water. | Stem activity- The science kit is a fantastic STEM (science, technology, engineering, Math) learning toy that will help your kids understand the concepts of mixing substances like acid and alkaline liquids and making things like litmus paper. | Hours of fun- this set is a wonderful gift for birthdays, holidays, or any occasion! Your little girl or boy will have hours of educational fun playing scientist and doing experiments! | Product details- kit includes 4 test tubes and holding rack, 2 beakers, dropper, measuring spoon, funnel, 3 grams of purple sweet potato powder and 10 sheets of paper filter. Needed but not included: scissors, plastic wrap, vinegar, baking soda, water.\n",
      "\n",
      "Categories: Toys & Games | Learning & Education | Science Kits & Toys\n",
      "</page_content>\n",
      "</item>\n",
      "<item index=\"2\">\n",
      "<page_content>\n",
      "Product Name: 4M Grow-A-Maze Green Science Kit\n",
      "\n",
      "About Product: This plant maze is a great toy for anyone interested in experimenting with nature, both young and old. Just plant a bean and watch it sprout and wind its way through the maze. | Grow-A-Maze also comes with a transparent cover, a water pot, and a mini-magnifying glass so you can watch both above and below the soil and see for yourself just how plants work. | The container measures approximately 5-inches x 4-inches and works as a great office desktop decoration/garden. | Encourage understanding of plant biology and interest in nature with this transparent planter. | Dried beans and soil (not included) are required for this experiment. Recommended for ages 3 and up. | Challenge your child's imagination with 4M toys and kits. | 4M educational toys cover a wide range of educational subjects and include science kits, arts and crafts kits, robotics kits, and more. | 4M offers a wide range of toys and kits to let you build a clock, crochet a placemat, or turn your room into a planetarium--all in the name of making learning fun. | Plant a bean and watch it sprout and wind its way through the maze | Requires dried beans and soil (not included) | Includes adjustable maze with planter, magnifier and instructions | Fun and educational\n",
      "\n",
      "Categories: Toys & Games | Learning & Education | Science Kits & Toys\n",
      "</page_content>\n",
      "</item>\n",
      "<item index=\"3\">\n",
      "<page_content>\n",
      "Product Name: Be Amazing! Toys Get Slimed! Science Kit\n",
      "\n",
      "About Product: Explore the world of polymers by mixing different liquids together and watch them gel, harden, and expand as you create slimey science fun. | Some kid-favorite activities from this kit include Lumpy Slime, making Insta-Worms, making Worm Eggs, and Rainbow Worms. | The polymers and chemicals in this kit have been throughly tested and are safe for kids to use and we recommend adult supervision. | What is S.T.E.M.? STEM stands for Science, Technology, Engineering, and Math, which constitutes many of the areas educators look to cover for science based activities. We are proud to say that his kit has a strong focus on STEM. | The Amazing Science line of products has been designed to peak kid's curiosity for the world around them. These kits encourage kids to wonder, discover and explore in a way that will get the science to the dinner table. Our goal is to teach kids how to be amazing as they show their friends and family what they’ve learned. Real Science…Real Learning!\n",
      "\n",
      "Categories: Toys & Games | Learning & Education | Science Kits & Toys\n",
      "</page_content>\n",
      "</item>\n",
      "<item index=\"4\">\n",
      "<page_content>\n",
      "Product Name: Be Amazing! Toys Universe Unboxed by Scishow: Survival Science Lab\n",
      "\n",
      "About Product: Be Amazing! Toys has partnered with Hank green, co-creator of the incredibly popular YouTube channel scissors to launch universe unboxed! Each kit also has its own YouTube playlist where host Hank green walks you through the experiments and tells you the science behind how and why it works! | Teach your kids to survive in the great outdoors! Make your own compass, filtration system and solar oven. | Kit includes materials and tools to get you started: solar oven, 3 plastic funnels, filter paper, magnet, aluminum foil, thermometer, petri dish, plastic tube, and compass card; plus gravel, sand, active carbon, superabsorbent jelly crystals, iron filing, and calcium chloride. | Easy to follow instruction guide takes you through 20 experiments | For ages 8 years and up, This is a great to get elementary School aged children up and running on the matter, Polymers, and the mystery of it all!\n",
      "\n",
      "Categories: Toys & Games | Learning & Education | Science Kits & Toys\n",
      "</page_content>\n",
      "</item>\n",
      "<item index=\"5\">\n",
      "<page_content>\n",
      "Product Name: Learning Resources Primary Science Deluxe Lab Set, Science Kit, 45 Piece Set, Ages 3+\n",
      "\n",
      "About Product: SKILL DEVELOPMENT: Problem solving, Fine motor skills, Following multi-step directions, Sequential thought, Math concepts, Making predictions, Observation | SCIENCE EXPLORATION: Supports early hands-on scientific exploration through fun activities and lab gear! | ACTIVITY CARDS INCLUDED: Kids can follow the step-by-step instructions on the included activity cards and jot down their findings in the write & wipe journal | Deluxe Lab Set Includes: 2 test tubes with stand, dropper, 2 funnels, safety glasses, adjustable stand, 2 connector tubes, 3 stoppers, sensory tube with 2 lids, ViewScope with case, and 20 activity cards. | Great for any toddler ages 3+\n",
      "\n",
      "Categories: Toys & Games | Learning & Education\n",
      "</page_content>\n",
      "</item>\n",
      "</search_results> Using the search results provided within the <search_results></search_results> tags, please answer the following question <question>I want to get my daughter more interested in science. What kind of gifts should I get her?</question>. Do not reference the search results in your answer.\n",
      "\n",
      "Assistant:\n"
     ]
    }
   ],
   "source": [
    "print(create_answer_prompt(reranked_results, USER_QUESTION))"
   ]
  },
  {
   "cell_type": "markdown",
   "metadata": {},
   "source": [
    "## 5. Generation: Answering with Claude\n",
    "\n",
    "Finally, let's ask the original user's question and get our answer from Claude."
   ]
  },
  {
   "cell_type": "code",
   "execution_count": 80,
   "metadata": {},
   "outputs": [],
   "source": [
    "import anthropic\n",
    "\n",
    "client = anthropic.Anthropic()\n",
    "model = \"claude-3-5-haiku-latest\"\n",
    "\n",
    "def get_completion(prompt):\n",
    "    message = client.messages.create(\n",
    "        model=model,\n",
    "        max_tokens=1000,\n",
    "        temperature=1,\n",
    "        # system=\"You are a keyword generating assistant. Given a user message, you'll generate keywords to search for products.\",\n",
    "        messages=[\n",
    "            {\n",
    "                \"role\": \"user\",\n",
    "                \"content\": [\n",
    "                    {\n",
    "                        \"type\": \"text\",\n",
    "                        \"text\": f\"{prompt}\"\n",
    "                    }\n",
    "                ]\n",
    "            }\n",
    "        ]\n",
    "    )\n",
    "    return message.content"
   ]
  },
  {
   "cell_type": "code",
   "execution_count": null,
   "metadata": {},
   "outputs": [],
   "source": [
    "answer = get_completion(create_answer_prompt(reranked_results, USER_QUESTION))\n",
    "\n",
    "print(answer[0].text)\n"
   ]
  },
  {
   "cell_type": "markdown",
   "metadata": {},
   "source": [
    "## Putting it all together"
   ]
  },
  {
   "cell_type": "code",
   "execution_count": 84,
   "metadata": {},
   "outputs": [
    {
     "name": "stdout",
     "output_type": "stream",
     "text": [
      "Based on the search results, here are some great science-related gift ideas to help spark your daughter's interest in science:\n",
      "\n",
      "1. Science Kits: These are excellent educational toys that make learning fun and interactive. Look for STEM (Science, Technology, Engineering, and Math) kits that offer hands-on experiments and activities. Some options include:\n",
      "- Chemistry sets with test tubes and experiment materials\n",
      "- Slime-making kits that explore polymers\n",
      "- Plant growing kits that teach biology\n",
      "- Survival science labs that show practical scientific skills\n",
      "\n",
      "2. Key features to look for:\n",
      "- Age-appropriate difficulty levels\n",
      "- Engaging, colorful equipment\n",
      "- Step-by-step instruction cards\n",
      "- Experiments that demonstrate scientific concepts in an exciting way\n",
      "\n",
      "3. Benefits of these science kits:\n",
      "- Develop problem-solving skills\n",
      "- Improve fine motor skills\n",
      "- Encourage curiosity and exploration\n",
      "- Make learning science enjoyable\n",
      "- Build confidence in scientific thinking\n",
      "\n",
      "4. Additional tips:\n",
      "- Choose kits with adult supervision recommendations\n",
      "- Look for sets that match her specific interests\n",
      "- Consider kits that allow her to record observations\n",
      "- Select gifts that make science feel like play, not work\n",
      "\n",
      "The goal is to make science feel fun, accessible, and exciting, which can help nurture her natural curiosity and potential interest in scientific fields.\n"
     ]
    }
   ],
   "source": [
    "def answer_query_with_enriched_search(question):\n",
    "    # Hybrid search\n",
    "\n",
    "    ## Search dense index\n",
    "    dense_results = search_dense_index(question)\n",
    "\n",
    "    ## Search sparse index\n",
    "    sparse_results = search_sparse_index(question)\n",
    "\n",
    "    ## Merge and deduplicate results\n",
    "    merged_results = merge_chunks(sparse_results, dense_results)\n",
    "    \n",
    "    ## Rerank results\n",
    "    reranked_results = rerank_results(question, merged_results)\n",
    "    \n",
    "    ## Augment prompt with search results\n",
    "    prompt = create_answer_prompt(reranked_results, question)\n",
    "\n",
    "    ## Answer the question\n",
    "    answer = get_completion(prompt)\n",
    "    return answer[0].text\n",
    "\n",
    "\n",
    "print(answer_query_with_enriched_search(USER_QUESTION))"
   ]
  },
  {
   "cell_type": "markdown",
   "metadata": {},
   "source": [
    "## Cleanup Indexes\n",
    "\n",
    "Run these when you're done experimenting, to delete the indexes."
   ]
  },
  {
   "cell_type": "code",
   "execution_count": 127,
   "metadata": {},
   "outputs": [],
   "source": [
    "pc.delete_index(name=sparse_index_name)\n",
    "pc.delete_index(name=dense_index_name)\n"
   ]
  }
 ],
 "metadata": {
  "kernelspec": {
   "display_name": ".venv",
   "language": "python",
   "name": "python3"
  },
  "language_info": {
   "codemirror_mode": {
    "name": "ipython",
    "version": 3
   },
   "file_extension": ".py",
   "mimetype": "text/x-python",
   "name": "python",
   "nbconvert_exporter": "python",
   "pygments_lexer": "ipython3",
   "version": "3.12.9"
  },
  "orig_nbformat": 4
 },
 "nbformat": 4,
 "nbformat_minor": 2
}
