{
 "cells": [
  {
   "attachments": {},
   "cell_type": "markdown",
   "metadata": {},
   "source": [
    "[![Open In Colab](https://colab.research.google.com/assets/colab-badge.svg)](https://colab.research.google.com/github/pinecone-io/examples/blob/master/learn/generation/langchain/handbook/01-langchain-prompt-templates.ipynb) [![Open nbviewer](https://raw.githubusercontent.com/pinecone-io/examples/master/assets/nbviewer-shield.svg)](https://nbviewer.org/github/pinecone-io/examples/blob/master/learn/generation/langchain/handbook/01-langchain-prompt-templates.ipynb)\n",
    "\n",
    "# Prompt Engineering\n",
    "\n",
    "In this notebook we'll explore the fundamentals of prompt engineering. We'll start by installing library prerequisites."
   ]
  },
  {
   "cell_type": "code",
   "execution_count": 2,
   "metadata": {},
   "outputs": [
    {
     "name": "stdout",
     "output_type": "stream",
     "text": [
      "Requirement already satisfied: langchain in c:\\users\\siraj\\documents\\pinecone\\venvs\\pinecone1\\lib\\site-packages (0.3.25)\n",
      "Requirement already satisfied: openai in c:\\users\\siraj\\documents\\pinecone\\venvs\\pinecone1\\lib\\site-packages (1.81.0)\n",
      "Requirement already satisfied: langchain-core<1.0.0,>=0.3.58 in c:\\users\\siraj\\documents\\pinecone\\venvs\\pinecone1\\lib\\site-packages (from langchain) (0.3.60)\n",
      "Requirement already satisfied: langchain-text-splitters<1.0.0,>=0.3.8 in c:\\users\\siraj\\documents\\pinecone\\venvs\\pinecone1\\lib\\site-packages (from langchain) (0.3.8)\n",
      "Requirement already satisfied: langsmith<0.4,>=0.1.17 in c:\\users\\siraj\\documents\\pinecone\\venvs\\pinecone1\\lib\\site-packages (from langchain) (0.3.42)\n",
      "Requirement already satisfied: pydantic<3.0.0,>=2.7.4 in c:\\users\\siraj\\documents\\pinecone\\venvs\\pinecone1\\lib\\site-packages (from langchain) (2.11.4)\n",
      "Requirement already satisfied: SQLAlchemy<3,>=1.4 in c:\\users\\siraj\\documents\\pinecone\\venvs\\pinecone1\\lib\\site-packages (from langchain) (2.0.41)\n",
      "Requirement already satisfied: requests<3,>=2 in c:\\users\\siraj\\documents\\pinecone\\venvs\\pinecone1\\lib\\site-packages (from langchain) (2.32.3)\n",
      "Requirement already satisfied: PyYAML>=5.3 in c:\\users\\siraj\\documents\\pinecone\\venvs\\pinecone1\\lib\\site-packages (from langchain) (6.0.2)\n",
      "Requirement already satisfied: anyio<5,>=3.5.0 in c:\\users\\siraj\\documents\\pinecone\\venvs\\pinecone1\\lib\\site-packages (from openai) (4.9.0)\n",
      "Requirement already satisfied: distro<2,>=1.7.0 in c:\\users\\siraj\\documents\\pinecone\\venvs\\pinecone1\\lib\\site-packages (from openai) (1.9.0)\n",
      "Requirement already satisfied: httpx<1,>=0.23.0 in c:\\users\\siraj\\documents\\pinecone\\venvs\\pinecone1\\lib\\site-packages (from openai) (0.28.1)\n",
      "Requirement already satisfied: jiter<1,>=0.4.0 in c:\\users\\siraj\\documents\\pinecone\\venvs\\pinecone1\\lib\\site-packages (from openai) (0.10.0)\n",
      "Requirement already satisfied: sniffio in c:\\users\\siraj\\documents\\pinecone\\venvs\\pinecone1\\lib\\site-packages (from openai) (1.3.1)\n",
      "Requirement already satisfied: tqdm>4 in c:\\users\\siraj\\documents\\pinecone\\venvs\\pinecone1\\lib\\site-packages (from openai) (4.67.1)\n",
      "Requirement already satisfied: typing-extensions<5,>=4.11 in c:\\users\\siraj\\documents\\pinecone\\venvs\\pinecone1\\lib\\site-packages (from openai) (4.13.2)\n",
      "Requirement already satisfied: idna>=2.8 in c:\\users\\siraj\\documents\\pinecone\\venvs\\pinecone1\\lib\\site-packages (from anyio<5,>=3.5.0->openai) (3.10)\n",
      "Requirement already satisfied: certifi in c:\\users\\siraj\\documents\\pinecone\\venvs\\pinecone1\\lib\\site-packages (from httpx<1,>=0.23.0->openai) (2025.4.26)\n",
      "Requirement already satisfied: httpcore==1.* in c:\\users\\siraj\\documents\\pinecone\\venvs\\pinecone1\\lib\\site-packages (from httpx<1,>=0.23.0->openai) (1.0.9)\n",
      "Requirement already satisfied: h11>=0.16 in c:\\users\\siraj\\documents\\pinecone\\venvs\\pinecone1\\lib\\site-packages (from httpcore==1.*->httpx<1,>=0.23.0->openai) (0.16.0)\n",
      "Requirement already satisfied: tenacity!=8.4.0,<10.0.0,>=8.1.0 in c:\\users\\siraj\\documents\\pinecone\\venvs\\pinecone1\\lib\\site-packages (from langchain-core<1.0.0,>=0.3.58->langchain) (9.1.2)\n",
      "Requirement already satisfied: jsonpatch<2.0,>=1.33 in c:\\users\\siraj\\documents\\pinecone\\venvs\\pinecone1\\lib\\site-packages (from langchain-core<1.0.0,>=0.3.58->langchain) (1.33)\n",
      "Requirement already satisfied: packaging<25,>=23.2 in c:\\users\\siraj\\documents\\pinecone\\venvs\\pinecone1\\lib\\site-packages (from langchain-core<1.0.0,>=0.3.58->langchain) (24.2)\n",
      "Requirement already satisfied: orjson<4.0.0,>=3.9.14 in c:\\users\\siraj\\documents\\pinecone\\venvs\\pinecone1\\lib\\site-packages (from langsmith<0.4,>=0.1.17->langchain) (3.10.18)\n",
      "Requirement already satisfied: requests-toolbelt<2.0.0,>=1.0.0 in c:\\users\\siraj\\documents\\pinecone\\venvs\\pinecone1\\lib\\site-packages (from langsmith<0.4,>=0.1.17->langchain) (1.0.0)\n",
      "Requirement already satisfied: zstandard<0.24.0,>=0.23.0 in c:\\users\\siraj\\documents\\pinecone\\venvs\\pinecone1\\lib\\site-packages (from langsmith<0.4,>=0.1.17->langchain) (0.23.0)\n",
      "Requirement already satisfied: annotated-types>=0.6.0 in c:\\users\\siraj\\documents\\pinecone\\venvs\\pinecone1\\lib\\site-packages (from pydantic<3.0.0,>=2.7.4->langchain) (0.7.0)\n",
      "Requirement already satisfied: pydantic-core==2.33.2 in c:\\users\\siraj\\documents\\pinecone\\venvs\\pinecone1\\lib\\site-packages (from pydantic<3.0.0,>=2.7.4->langchain) (2.33.2)\n",
      "Requirement already satisfied: typing-inspection>=0.4.0 in c:\\users\\siraj\\documents\\pinecone\\venvs\\pinecone1\\lib\\site-packages (from pydantic<3.0.0,>=2.7.4->langchain) (0.4.1)\n",
      "Requirement already satisfied: charset-normalizer<4,>=2 in c:\\users\\siraj\\documents\\pinecone\\venvs\\pinecone1\\lib\\site-packages (from requests<3,>=2->langchain) (3.4.2)\n",
      "Requirement already satisfied: urllib3<3,>=1.21.1 in c:\\users\\siraj\\documents\\pinecone\\venvs\\pinecone1\\lib\\site-packages (from requests<3,>=2->langchain) (2.4.0)\n",
      "Requirement already satisfied: greenlet>=1 in c:\\users\\siraj\\documents\\pinecone\\venvs\\pinecone1\\lib\\site-packages (from SQLAlchemy<3,>=1.4->langchain) (3.2.2)\n",
      "Requirement already satisfied: colorama in c:\\users\\siraj\\documents\\pinecone\\venvs\\pinecone1\\lib\\site-packages (from tqdm>4->openai) (0.4.6)\n",
      "Requirement already satisfied: jsonpointer>=1.9 in c:\\users\\siraj\\documents\\pinecone\\venvs\\pinecone1\\lib\\site-packages (from jsonpatch<2.0,>=1.33->langchain-core<1.0.0,>=0.3.58->langchain) (3.0.0)\n"
     ]
    },
    {
     "name": "stderr",
     "output_type": "stream",
     "text": [
      "\n",
      "[notice] A new release of pip is available: 23.1.2 -> 25.1.1\n",
      "[notice] To update, run: python.exe -m pip install --upgrade pip\n"
     ]
    }
   ],
   "source": [
    "!pip install langchain openai"
   ]
  },
  {
   "attachments": {},
   "cell_type": "markdown",
   "metadata": {},
   "source": [
    "## Structure of a Prompt\n",
    "\n",
    "A prompt can consist of multiple components:\n",
    "\n",
    "* Instructions\n",
    "* External information or context\n",
    "* User input or query\n",
    "* Output indicator\n",
    "\n",
    "Not all prompts require all of these components, but often a good prompt will use two or more of them. Let's define what they all are more precisely.\n",
    "\n",
    "**Instructions** tell the model what to do, typically how it should use inputs and/or external information to produce the output we want.\n",
    "\n",
    "**External information or context** are additional information that we either manually insert into the prompt, retrieve via a vector database (long-term memory), or pull in through other means (API calls, calculations, etc).\n",
    "\n",
    "**User input or query** is typically a query directly input by the user of the system.\n",
    "\n",
    "**Output indicator** is the *beginning* of the generated text. For a model generating Python code we may put `import ` (as most Python scripts begin with a library `import`), or a chatbot may begin with `Chatbot: ` (assuming we format the chatbot script as lines of interchanging text between `User` and `Chatbot`).\n",
    "\n",
    "Each of these components should usually be placed the order we've described them. We start with instructions, provide context (if needed), then add the user input, and finally end with the output indicator."
   ]
  },
  {
   "cell_type": "code",
   "execution_count": 3,
   "metadata": {},
   "outputs": [],
   "source": [
    "prompt = \"\"\"Answer the question based on the context below. If the\n",
    "question cannot be answered using the information provided answer\n",
    "with \"I don't know\".\n",
    "\n",
    "Context: Large Language Models (LLMs) are the latest models used in NLP.\n",
    "Their superior performance over smaller models has made them incredibly\n",
    "useful for developers building NLP enabled applications. These models\n",
    "can be accessed via Hugging Face's `transformers` library, via OpenAI\n",
    "using the `openai` library, and via Cohere using the `cohere` library.\n",
    "\n",
    "Question: Which libraries and model providers offer LLMs?\n",
    "\n",
    "Answer: \"\"\""
   ]
  },
  {
   "attachments": {},
   "cell_type": "markdown",
   "metadata": {},
   "source": [
    "In this example we have:\n",
    "\n",
    "```\n",
    "Instructions\n",
    "\n",
    "Context\n",
    "\n",
    "Question (user input)\n",
    "\n",
    "Output indicator (\"Answer: \")\n",
    "```\n",
    "\n",
    "Let's try sending this to a GPT-3 model. We will use the LangChain library but you can also use the `openai` library directly. In both cases, you will need [an OpenAI API key](https://beta.openai.com/account/api-keys).\n",
    "\n",
    "We initialize a `text-davinci-003` model like so:"
   ]
  },
  {
   "cell_type": "code",
   "execution_count": 4,
   "metadata": {},
   "outputs": [],
   "source": [
    "from langchain_openai import ChatOpenAI\n",
    "\n",
    "# initialize the models\n",
    "openai = ChatOpenAI(\n",
    "    model_name=\"gpt-3.5-turbo\",  # or \"gpt-4\" or other available models\n",
    "    temperature=0.7\n",
    ")"
   ]
  },
  {
   "attachments": {},
   "cell_type": "markdown",
   "metadata": {},
   "source": [
    "And make a generation from our prompt."
   ]
  },
  {
   "cell_type": "code",
   "execution_count": 5,
   "metadata": {},
   "outputs": [
    {
     "name": "stdout",
     "output_type": "stream",
     "text": [
      "Response: Hugging Face's `transformers` library, OpenAI's `openai` library, and Cohere's `cohere` library offer LLMs.\n"
     ]
    }
   ],
   "source": [
    "result = openai.invoke(prompt)\n",
    "print(f\"Response: {result.content}\")\n"
   ]
  },
  {
   "attachments": {},
   "cell_type": "markdown",
   "metadata": {},
   "source": [
    "We wouldn't typically know what the users prompt is beforehand. So rather than writing the full prompt, we create a `PromptTemplate` with a single input variable `query`."
   ]
  },
  {
   "cell_type": "code",
   "execution_count": 6,
   "metadata": {},
   "outputs": [],
   "source": [
    "from langchain import PromptTemplate\n",
    "\n",
    "template = \"\"\"Answer the question based on the context below. If the\n",
    "question cannot be answered using the information provided answer\n",
    "with \"I don't know\".\n",
    "\n",
    "Context: Large Language Models (LLMs) are the latest models used in NLP.\n",
    "Their superior performance over smaller models has made them incredibly\n",
    "useful for developers building NLP enabled applications. These models\n",
    "can be accessed via Hugging Face's `transformers` library, via OpenAI\n",
    "using the `openai` library, and via Cohere using the `cohere` library.\n",
    "\n",
    "Question: {query}\n",
    "\n",
    "Answer: \"\"\"\n",
    "\n",
    "prompt_template = PromptTemplate(\n",
    "    input_variables=[\"query\"],\n",
    "    template=template\n",
    ")"
   ]
  },
  {
   "attachments": {},
   "cell_type": "markdown",
   "metadata": {},
   "source": [
    "Now we can insert the user's `query` to the prompt template via the `query` parameter."
   ]
  },
  {
   "cell_type": "code",
   "execution_count": 7,
   "metadata": {},
   "outputs": [
    {
     "name": "stdout",
     "output_type": "stream",
     "text": [
      "Answer the question based on the context below. If the\n",
      "question cannot be answered using the information provided answer\n",
      "with \"I don't know\".\n",
      "\n",
      "Context: Large Language Models (LLMs) are the latest models used in NLP.\n",
      "Their superior performance over smaller models has made them incredibly\n",
      "useful for developers building NLP enabled applications. These models\n",
      "can be accessed via Hugging Face's `transformers` library, via OpenAI\n",
      "using the `openai` library, and via Cohere using the `cohere` library.\n",
      "\n",
      "Question: Which libraries and model providers offer LLMs?\n",
      "\n",
      "Answer: \n"
     ]
    }
   ],
   "source": [
    "print(\n",
    "    prompt_template.format(\n",
    "        query=\"Which libraries and model providers offer LLMs?\"\n",
    "    )\n",
    ")"
   ]
  },
  {
   "cell_type": "code",
   "execution_count": 8,
   "metadata": {},
   "outputs": [
    {
     "name": "stdout",
     "output_type": "stream",
     "text": [
      "Response: The libraries and model providers that offer LLMs are Hugging Face's `transformers` library, OpenAI using the `openai` library, and Cohere using the `cohere` library.\n"
     ]
    }
   ],
   "source": [
    "response = openai.invoke(\n",
    "    prompt_template.format(\n",
    "        query=\"Which libraries and model providers offer LLMs?\"\n",
    "    )\n",
    ")\n",
    "print(f\"Response: {response.content}\")"
   ]
  },
  {
   "attachments": {},
   "cell_type": "markdown",
   "metadata": {},
   "source": [
    "This is just a simple implementation, that we can easily replace with f-strings (like `f\"insert some custom text '{custom_text}' etc\"`). But using LangChain's `PromptTemplate` object we're able to formalize the process, add multiple parameters, and build the prompts in an object-oriented way.\n",
    "\n",
    "Yet, these are not the only benefits of using LangChains prompt tooling."
   ]
  },
  {
   "attachments": {},
   "cell_type": "markdown",
   "metadata": {},
   "source": [
    "## Few Shot Prompt Templates"
   ]
  },
  {
   "attachments": {},
   "cell_type": "markdown",
   "metadata": {},
   "source": [
    "Another useful feature offered by LangChain is the `FewShotPromptTemplate` object. This is ideal for what we'd call *few-shot learning* using our prompts.\n",
    "\n",
    "To give some context, the primary sources of \"knowledge\" for LLMs are:\n",
    "\n",
    "* **Parametric knowledge** — the knowledge has been learned during model training and is stored within the model weights.\n",
    "\n",
    "* **Source knowledge** — the knowledge is provided within model input at inference time, i.e. via the prompt.\n",
    "\n",
    "The idea behind `FewShotPromptTemplate` is to provide few-shot training as **source knowledge**. To do this we add a few examples to our prompts that the model can read and then apply to our user's input."
   ]
  },
  {
   "attachments": {},
   "cell_type": "markdown",
   "metadata": {},
   "source": [
    "## Few-shot Training\n",
    "\n",
    "Sometimes we might find that a model doesn't seem to get what we'd like it to do. We can see this in the following example:"
   ]
  },
  {
   "cell_type": "code",
   "execution_count": 9,
   "metadata": {},
   "outputs": [],
   "source": [
    "from IPython.display import Markdown"
   ]
  },
  {
   "cell_type": "code",
   "execution_count": 10,
   "metadata": {},
   "outputs": [
    {
     "data": {
      "text/markdown": [
       "## Frequently Asked Questions\n",
       "\n",
       "### Q: What is your return policy?\n",
       "A: We accept returns within 30 days with receipt.\n",
       "\n",
       "### Q: Do you ship internationally?\n",
       "A: Yes, we ship to over 50 countries.\n",
       "\n",
       "### Q: How can I track my order?\n",
       "A: Use the tracking link in your confirmation email."
      ],
      "text/plain": [
       "<IPython.core.display.Markdown object>"
      ]
     },
     "execution_count": 10,
     "metadata": {},
     "output_type": "execute_result"
    }
   ],
   "source": [
    "prompt = \"\"\"\n",
    "Create an FAQ in Markdown based on the following questions and answers:\n",
    "Q1: What is your return policy?\n",
    "A1: We accept returns within 30 days with receipt.\n",
    "Q2: Do you ship internationally?\n",
    "A2: Yes, we ship to over 50 countries.\n",
    "Q3: How can I track my order?\n",
    "A3: Use the tracking link in your confirmation email.\n",
    "\"\"\"\n",
    "\n",
    "openai.temperature = 0.1  # increase creativity/randomness of output\n",
    "\n",
    "Markdown(openai.invoke(prompt).content)"
   ]
  },
  {
   "cell_type": "markdown",
   "metadata": {},
   "source": [
    "The output results are okay. However, what if the Markdown headers aren't at the correct level (wrong mumber of hashes), and what if we want more interesting formatting?\n",
    "\n",
    "We could explain the desired formatting in painful detail in a large wordy paragraph, but that might be a bit fiddly and would likely lead to hallucinations. \n",
    "\n",
    "If a picture is worth a thousand words then examples are probably worth at least one hundred! We can give **examples** of what the outputs should look like - i.e. few-shot training."
   ]
  },
  {
   "cell_type": "code",
   "execution_count": 11,
   "metadata": {},
   "outputs": [
    {
     "data": {
      "text/markdown": [
       "# Frequently Asked Questions\n",
       "\n",
       "## [1. What payment methods do you accept?](#1-what-payment-methods-do-you-accept)\n",
       "\n",
       "We accept **Visa, Mastercard, PayPal, and Apple Pay**.\n",
       "\n",
       "## [2. Can I change my shipping address after ordering?](#2-can-i-change-my-shipping-address-after-ordering)\n",
       "\n",
       "Only if your order hasn't shipped yet. Contact support **ASAP**.\n",
       "\n",
       "## [3. Do you offer gift wrapping?](#3-do-you-offer-gift-wrapping)\n",
       "\n",
       "Yes! You can select **gift wrapping** during checkout.\n",
       "\n",
       "---"
      ],
      "text/plain": [
       "<IPython.core.display.Markdown object>"
      ]
     },
     "execution_count": 11,
     "metadata": {},
     "output_type": "execute_result"
    }
   ],
   "source": [
    "prompt = \"\"\"\n",
    "Create a structured Markdown FAQ with anchor links, headers, and formatting conventions for readability.\n",
    "\n",
    "**Example:**\n",
    "\n",
    "Example input:\n",
    "Q1: What is your return policy?\n",
    "A1: We accept returns within 30 days with the original receipt.\n",
    "Q2: Do you ship internationally?\n",
    "A2: Yes, we ship to over 50 countries worldwide.\n",
    "Q3: How can I track my order?\n",
    "A3: After your order is shipped, you’ll receive a tracking link via email.\n",
    "\n",
    "Example Output:\n",
    "\n",
    "# Frequently Asked Questions\n",
    "\n",
    "## [1. What is your return policy?](#1-what-is-your-return-policy)\n",
    "\n",
    "We accept returns within **30 days** with the original **receipt**.\n",
    "\n",
    "## [2. Do you ship internationally?](#2-do-you-ship-internationally)\n",
    "\n",
    "Yes, we ship to over **50 countries** worldwide.\n",
    "\n",
    "## [3. How can I track my order?](#3-how-can-i-track-my-order)\n",
    "\n",
    "After your order is shipped, you’ll receive a **tracking link** via email.\n",
    "\n",
    "---\n",
    "\n",
    "Now generate the FAQ section for this data:\n",
    "Q1: What payment methods do you accept?\n",
    "A1: We accept Visa, Mastercard, PayPal, and Apple Pay.\n",
    "Q2: Can I change my shipping address after ordering?\n",
    "A2: Only if your order hasn't shipped yet. Contact support ASAP.\n",
    "Q3: Do you offer gift wrapping?\n",
    "A3: Yes! You can select gift wrapping during checkout.\n",
    "\n",
    "\"\"\"\n",
    "\n",
    "Markdown(openai.invoke(prompt).content)"
   ]
  },
  {
   "attachments": {},
   "cell_type": "markdown",
   "metadata": {},
   "source": [
    "We now get a much better response and we did this via *few-shot learning* by adding a few examples via our source knowledge.\n",
    "\n",
    "Now, to implement this with LangChain's `FewShotPromptTemplate` we need to do this:"
   ]
  },
  {
   "cell_type": "code",
   "execution_count": 12,
   "metadata": {},
   "outputs": [
    {
     "data": {
      "text/markdown": [
       "# Frequently Asked Questions\n",
       "\n",
       "## [1. What payment methods do you accept?](#1-What payment methods do you accept?)\n",
       "\n",
       "We accept **Visa**, **Mastercard**, **PayPal**, and **Apple Pay**.\n",
       "\n",
       "## [2. Can I change my shipping address after ordering?](#2-Can I change my shipping address after ordering?)\n",
       "\n",
       "Only if your order hasn't shipped yet. Contact support **ASAP**.\n",
       "\n",
       "## [3. Do you offer gift wrapping?](#3-Do you offer gift wrapping?)\n",
       "\n",
       "Yes! You can select **gift wrapping** during checkout.\n",
       "\n",
       "---"
      ],
      "text/plain": [
       "<IPython.core.display.Markdown object>"
      ]
     },
     "execution_count": 12,
     "metadata": {},
     "output_type": "execute_result"
    }
   ],
   "source": [
    "from langchain_core.prompts import PromptTemplate, FewShotPromptTemplate\n",
    "from IPython.display import Markdown\n",
    "from langchain_openai import ChatOpenAI\n",
    "\n",
    "# Create FAQ examples with both input_answers and formatted output_answers\n",
    "examples = [\n",
    "    {\n",
    "        \"question1\": \"What is your return policy?\",\n",
    "        \"input_answer1\": \"We accept returns within 30 days with the original receipt.\",\n",
    "        \"output_answer1\": \"We accept returns within **30 days** with the original **receipt**.\",\n",
    "        \"question2\": \"Do you ship internationally?\",\n",
    "        \"input_answer2\": \"Yes, we ship to over 50 countries worldwide.\",\n",
    "        \"output_answer2\": \"Yes, we ship to over **50 countries** worldwide.\",\n",
    "        \"question3\": \"How can I track my order?\",\n",
    "        \"input_answer3\": \"After your order is shipped, you'll receive a tracking link via email.\",\n",
    "        \"output_answer3\": \"After your order is shipped, you'll receive a **tracking link** via email.\"\n",
    "    }\n",
    "]\n",
    "\n",
    "# Format for each example\n",
    "example_template = \"\"\"\n",
    "Example input:\n",
    "Q1: {question1}\n",
    "A1: {input_answer1}\n",
    "Q2: {question2}\n",
    "A2: {input_answer2}\n",
    "Q3: {question3}\n",
    "A3: {input_answer3}\n",
    "\n",
    "Example Output:\n",
    "\n",
    "# Frequently Asked Questions\n",
    "\n",
    "## [1. {question1}](#1-{question1})\n",
    "\n",
    "{output_answer1}\n",
    "\n",
    "## [2. {question2}](#2-{question2})\n",
    "\n",
    "{output_answer2}\n",
    "\n",
    "## [3. {question3}](#3-{question3})\n",
    "\n",
    "{output_answer3}\n",
    "\n",
    "---\n",
    "\"\"\"\n",
    "\n",
    "# Create prompt template for examples\n",
    "example_prompt = PromptTemplate(\n",
    "    input_variables=[\"question1\", \"input_answer1\", \"output_answer1\", \n",
    "                    \"question2\", \"input_answer2\", \"output_answer2\", \n",
    "                    \"question3\", \"input_answer3\", \"output_answer3\"],\n",
    "    template=example_template\n",
    ")\n",
    "\n",
    "# Instructions prefix\n",
    "prefix = \"\"\"Create a structured Markdown FAQ with anchor links, headers, and formatting conventions for readability.\n",
    "Make sure to bold key terms and important information in the answers.\n",
    "\n",
    "**Example:**\n",
    "\"\"\"\n",
    "\n",
    "# User input format and instructions\n",
    "suffix = \"\"\"\n",
    "Now generate the FAQ section for this data:\n",
    "Q1: {question1}\n",
    "A1: {input_answer1}\n",
    "Q2: {question2}\n",
    "A2: {input_answer2}\n",
    "Q3: {question3}\n",
    "A3: {input_answer3}\n",
    "\"\"\"\n",
    "\n",
    "# Create the few-shot prompt template\n",
    "faq_few_shot = FewShotPromptTemplate(\n",
    "    examples=examples,\n",
    "    example_prompt=example_prompt,\n",
    "    prefix=prefix,\n",
    "    suffix=suffix,\n",
    "    input_variables=[\"question1\", \"input_answer1\", \n",
    "                    \"question2\", \"input_answer2\", \n",
    "                    \"question3\", \"input_answer3\"],\n",
    "    example_separator=\"\\n\"\n",
    ")\n",
    "\n",
    "# Format with new FAQ questions\n",
    "formatted_prompt = faq_few_shot.format(\n",
    "    question1=\"What payment methods do you accept?\",\n",
    "    input_answer1=\"We accept Visa, Mastercard, PayPal, and Apple Pay.\",\n",
    "    question2=\"Can I change my shipping address after ordering?\",\n",
    "    input_answer2=\"Only if your order hasn't shipped yet. Contact support ASAP.\",\n",
    "    question3=\"Do you offer gift wrapping?\",\n",
    "    input_answer3=\"Yes! You can select gift wrapping during checkout.\"\n",
    ")\n",
    "\n",
    "# Use with OpenAI\n",
    "openai = ChatOpenAI(model_name=\"gpt-3.5-turbo\")\n",
    "response = openai.invoke(formatted_prompt)\n",
    "\n",
    "# Display the formatted FAQ\n",
    "Markdown(response.content)"
   ]
  },
  {
   "attachments": {},
   "cell_type": "markdown",
   "metadata": {},
   "source": [
    "Now let's see what prompt this creates when we feed in a user query..."
   ]
  },
  {
   "cell_type": "code",
   "execution_count": 13,
   "metadata": {},
   "outputs": [
    {
     "name": "stdout",
     "output_type": "stream",
     "text": [
      "Create a structured Markdown FAQ with anchor links, headers, and formatting conventions for readability.\n",
      "Make sure to bold key terms and important information in the answers.\n",
      "\n",
      "**Example:**\n",
      "\n",
      "\n",
      "Example input:\n",
      "Q1: What is your return policy?\n",
      "A1: We accept returns within 30 days with the original receipt.\n",
      "Q2: Do you ship internationally?\n",
      "A2: Yes, we ship to over 50 countries worldwide.\n",
      "Q3: How can I track my order?\n",
      "A3: After your order is shipped, you'll receive a tracking link via email.\n",
      "\n",
      "Example Output:\n",
      "\n",
      "# Frequently Asked Questions\n",
      "\n",
      "## [1. What is your return policy?](#1-What is your return policy?)\n",
      "\n",
      "We accept returns within **30 days** with the original **receipt**.\n",
      "\n",
      "## [2. Do you ship internationally?](#2-Do you ship internationally?)\n",
      "\n",
      "Yes, we ship to over **50 countries** worldwide.\n",
      "\n",
      "## [3. How can I track my order?](#3-How can I track my order?)\n",
      "\n",
      "After your order is shipped, you'll receive a **tracking link** via email.\n",
      "\n",
      "---\n",
      "\n",
      "\n",
      "Now generate the FAQ section for this data:\n",
      "Q1: What payment methods do you accept?\n",
      "A1: We accept Visa, Mastercard, PayPal, and Apple Pay.\n",
      "Q2: Can I change my shipping address after ordering?\n",
      "A2: Only if your order hasn't shipped yet. Contact support ASAP.\n",
      "Q3: Do you offer gift wrapping?\n",
      "A3: Yes! You can select gift wrapping during checkout.\n",
      "\n"
     ]
    }
   ],
   "source": [
    "user_inputs = {\n",
    "    \"question1\": \"What payment methods do you accept?\",\n",
    "    \"input_answer1\": \"We accept Visa, Mastercard, PayPal, and Apple Pay.\",\n",
    "    \"question2\": \"Can I change my shipping address after ordering?\",\n",
    "    \"input_answer2\": \"Only if your order hasn't shipped yet. Contact support ASAP.\",\n",
    "    \"question3\": \"Do you offer gift wrapping?\",\n",
    "    \"input_answer3\": \"Yes! You can select gift wrapping during checkout.\"\n",
    "}\n",
    "\n",
    "fromatted_prompt = faq_few_shot.format(**user_inputs)\n",
    "\n",
    "print(fromatted_prompt)"
   ]
  },
  {
   "attachments": {},
   "cell_type": "markdown",
   "metadata": {},
   "source": [
    "And to generate with this we just do:"
   ]
  },
  {
   "cell_type": "code",
   "execution_count": 14,
   "metadata": {},
   "outputs": [
    {
     "data": {
      "text/markdown": [
       "# Frequently Asked Questions\n",
       "\n",
       "## [1. What payment methods do you accept?](#1-What payment methods do you accept?)\n",
       "\n",
       "We accept **Visa**, **Mastercard**, **PayPal**, and **Apple Pay**.\n",
       "\n",
       "## [2. Can I change my shipping address after ordering?](#2-Can I change my shipping address after ordering?)\n",
       "\n",
       "Only if your order hasn't shipped yet. Contact support **ASAP**.\n",
       "\n",
       "## [3. Do you offer gift wrapping?](#3-Do you offer gift wrapping?)\n",
       "\n",
       "Yes! You can select **gift wrapping** during checkout.\n",
       "\n",
       "---"
      ],
      "text/plain": [
       "<IPython.core.display.Markdown object>"
      ]
     },
     "execution_count": 14,
     "metadata": {},
     "output_type": "execute_result"
    }
   ],
   "source": [
    "resonse = openai.invoke(fromatted_prompt)\n",
    "\n",
    "Markdown(response.content)"
   ]
  },
  {
   "attachments": {},
   "cell_type": "markdown",
   "metadata": {},
   "source": [
    "Again, another good response.\n",
    "\n",
    "However, this does seem somewhat convoluted. Why go through all of the above with `FewShotPromptTemplate`, the `examples` dictionary, etc — when we can do the same with a single f-string.\n",
    "\n",
    "This approach is more robust and contains some nice features. One of those is the ability to include or exclude examples based on the length of our input FAQ data.\n",
    "\n",
    "This is actually very important because the max length of our prompt and generation output is limited. This limitation is the *max context window*, and is simply the length of our prompt + length of our generation (which we define via `max_tokens`).\n",
    "\n",
    "So we must try to maximize the number of example FAQs we give to the model as few-shot learning examples, while ensuring we don't exceed the maximum context window or increase processing times excessively.\n",
    "\n",
    "Let's see how the dynamic inclusion/exclusion of examples works. First we need lots of FAQ examples:\n"
   ]
  },
  {
   "cell_type": "code",
   "execution_count": 43,
   "metadata": {},
   "outputs": [],
   "source": [
    "# Expanded examples list with more FAQs\n",
    "examples = [\n",
    "    {\n",
    "        \"question1\": \"What is your return policy?\",\n",
    "        \"input_answer1\": \"We accept returns within 30 days with the original receipt.\",\n",
    "        \"output_answer1\": \"We accept returns within **30 days** with the original **receipt**.\",\n",
    "        \"question2\": \"Do you ship internationally?\",\n",
    "        \"input_answer2\": \"Yes, we ship to over 50 countries worldwide.\",\n",
    "        \"output_answer2\": \"Yes, we ship to over **50 countries** worldwide.\",\n",
    "        \"question3\": \"How can I track my order?\",\n",
    "        \"input_answer3\": \"After your order is shipped, you'll receive a tracking link via email.\",\n",
    "        \"output_answer3\": \"After your order is shipped, you'll receive a **tracking link** via email.\"\n",
    "    },\n",
    "    {\n",
    "        \"question1\": \"What payment methods do you accept?\",\n",
    "        \"input_answer1\": \"We accept Visa, Mastercard, PayPal, and Apple Pay.\",\n",
    "        \"output_answer1\": \"We accept **Visa**, **Mastercard**, **PayPal**, and **Apple Pay**.\",\n",
    "        \"question2\": \"Can I change my shipping address after ordering?\",\n",
    "        \"input_answer2\": \"Only if your order hasn't shipped yet. Contact support ASAP.\",\n",
    "        \"output_answer2\": \"Only if your order hasn't shipped yet. Contact support **ASAP**.\",\n",
    "        \"question3\": \"Do you offer gift wrapping?\",\n",
    "        \"input_answer3\": \"Yes! You can select gift wrapping during checkout.\",\n",
    "        \"output_answer3\": \"Yes! You can select **gift wrapping** during checkout.\"\n",
    "    },\n",
    "    {\n",
    "        \"question1\": \"What are your store hours?\",\n",
    "        \"input_answer1\": \"We're open Monday through Friday from 9am to 9pm, and weekends from 10am to 7pm.\",\n",
    "        \"output_answer1\": \"We're open **Monday through Friday** from **9am to 9pm**, and **weekends** from **10am to 7pm**.\",\n",
    "        \"question2\": \"Do you offer price matching?\",\n",
    "        \"input_answer2\": \"Yes, we'll match any price from authorized retailers for identical products.\",\n",
    "        \"output_answer2\": \"Yes, we'll match any price from **authorized retailers** for **identical products**.\",\n",
    "        \"question3\": \"What is your warranty policy?\",\n",
    "        \"input_answer3\": \"All electronics come with a standard 1-year manufacturer warranty.\",\n",
    "        \"output_answer3\": \"All electronics come with a standard **1-year manufacturer warranty**.\"\n",
    "    },\n",
    "    {\n",
    "        \"question1\": \"How do I contact customer service?\",\n",
    "        \"input_answer1\": \"You can reach us at support@example.com or call 555-123-4567.\",\n",
    "        \"output_answer1\": \"You can reach us at **support@example.com** or call **555-123-4567**.\",\n",
    "        \"question2\": \"Do you offer same-day delivery?\",\n",
    "        \"input_answer2\": \"Yes, for orders placed before 2pm in selected metro areas.\",\n",
    "        \"output_answer2\": \"Yes, for orders placed before **2pm** in selected **metro areas**.\",\n",
    "        \"question3\": \"How do I cancel an order?\",\n",
    "        \"input_answer3\": \"Log into your account and cancel within 1 hour of placing the order.\",\n",
    "        \"output_answer3\": \"Log into your account and cancel within **1 hour** of placing the order.\"\n",
    "    },\n",
    "    {\n",
    "        \"question1\": \"Do you offer student discounts?\",\n",
    "        \"input_answer1\": \"Yes, students with valid ID receive 15% off all purchases.\",\n",
    "        \"output_answer1\": \"Yes, students with valid ID receive **15% off** all purchases.\",\n",
    "        \"question2\": \"What is your privacy policy?\",\n",
    "        \"input_answer2\": \"We never share your personal information with third parties without consent.\",\n",
    "        \"output_answer2\": \"We **never share** your personal information with third parties without consent.\",\n",
    "        \"question3\": \"Are your products environmentally friendly?\",\n",
    "        \"input_answer3\": \"We use recyclable packaging and offer carbon-neutral shipping options.\",\n",
    "        \"output_answer3\": \"We use **recyclable packaging** and offer **carbon-neutral shipping** options.\"\n",
    "    },\n",
    "    {\n",
    "        \"question1\": \"How do I apply for a refund?\",\n",
    "        \"input_answer1\": \"Submit your request through our customer portal with your order number and reason.\",\n",
    "        \"output_answer1\": \"Submit your request through our **customer portal** with your **order number** and reason.\",\n",
    "        \"question2\": \"Do you have a loyalty program?\",\n",
    "        \"input_answer2\": \"Yes! Earn 1 point for every dollar spent and redeem for discounts.\",\n",
    "        \"output_answer2\": \"Yes! Earn **1 point** for every dollar spent and redeem for **discounts**.\",\n",
    "        \"question3\": \"What are the system requirements?\",\n",
    "        \"input_answer3\": \"Our software requires Windows 10/11 or macOS 10.15+, 8GB RAM, and 2GB storage.\",\n",
    "        \"output_answer3\": \"Our software requires **Windows 10/11** or **macOS 10.15+**, **8GB RAM**, and **2GB storage**.\"\n",
    "    },\n",
    "    {\n",
    "        \"question1\": \"How long does shipping take?\",\n",
    "        \"input_answer1\": \"Standard shipping takes 3-5 business days, and express shipping takes 1-2 business days.\",\n",
    "        \"output_answer1\": \"Standard shipping takes **3-5 business days**, and express shipping takes **1-2 business days**.\",\n",
    "        \"question2\": \"Do you have physical stores?\",\n",
    "        \"input_answer2\": \"Yes, we have 12 locations across North America. Find the nearest one on our website.\",\n",
    "        \"output_answer2\": \"Yes, we have **12 locations** across North America. Find the nearest one on our **website**.\",\n",
    "        \"question3\": \"How do I reset my password?\",\n",
    "        \"input_answer3\": \"Click 'Forgot Password' on the login page and follow the email instructions.\",\n",
    "        \"output_answer3\": \"Click **'Forgot Password'** on the login page and follow the email instructions.\"\n",
    "    },\n",
    "    {\n",
    "        \"question1\": \"What's your wholesale policy?\",\n",
    "        \"input_answer1\": \"For orders over $500, contact our wholesale department for special pricing.\",\n",
    "        \"output_answer1\": \"For orders over **$500**, contact our **wholesale department** for special pricing.\",\n",
    "        \"question2\": \"How can I become a vendor?\",\n",
    "        \"input_answer2\": \"Fill out the vendor application form on our Partners page for consideration.\",\n",
    "        \"output_answer2\": \"Fill out the **vendor application form** on our **Partners page** for consideration.\",\n",
    "        \"question3\": \"Do you offer installation services?\",\n",
    "        \"input_answer3\": \"Yes, professional installation is available for an additional fee in most areas.\",\n",
    "        \"output_answer3\": \"Yes, **professional installation** is available for an additional fee in **most areas**.\"\n",
    "    }\n",
    "]"
   ]
  },
  {
   "attachments": {},
   "cell_type": "markdown",
   "metadata": {},
   "source": [
    "Then rather than using the `examples` list of dictionaries directly we use a `LengthBasedExampleSelector` like so:"
   ]
  },
  {
   "cell_type": "code",
   "execution_count": 44,
   "metadata": {},
   "outputs": [],
   "source": [
    "from langchain.prompts.example_selector import LengthBasedExampleSelector\n",
    "\n",
    "example_selector = LengthBasedExampleSelector(\n",
    "    examples=examples,\n",
    "    example_prompt=example_prompt,\n",
    "    max_length=50  # this sets the max length that examples should be\n",
    ")"
   ]
  },
  {
   "attachments": {},
   "cell_type": "markdown",
   "metadata": {},
   "source": [
    "Note that the `max_length` is measured as a split of words between newlines and spaces, determined by:"
   ]
  },
  {
   "cell_type": "code",
   "execution_count": 45,
   "metadata": {},
   "outputs": [
    {
     "name": "stdout",
     "output_type": "stream",
     "text": [
      "['There', 'are', 'a', 'total', 'of', '8', 'words', 'here.', 'Plus', '6', 'here,', 'totaling', '14', 'words.'] 14\n"
     ]
    }
   ],
   "source": [
    "import re\n",
    "\n",
    "some_text = \"There are a total of 8 words here.\\nPlus 6 here, totaling 14 words.\"\n",
    "\n",
    "words = re.split('[\\n ]', some_text)\n",
    "print(words, len(words))"
   ]
  },
  {
   "attachments": {},
   "cell_type": "markdown",
   "metadata": {},
   "source": [
    "Then we use the selector to initialize a `dynamic_prompt_template`."
   ]
  },
  {
   "cell_type": "code",
   "execution_count": 46,
   "metadata": {},
   "outputs": [],
   "source": [
    "from langchain.prompts.example_selector import LengthBasedExampleSelector\n",
    "\n",
    "# First create the example selector with your FAQ examples\n",
    "example_selector = LengthBasedExampleSelector(\n",
    "    examples=examples,\n",
    "    example_prompt=example_prompt,\n",
    "    max_length=700  # adjust based on your context window needs\n",
    ")\n",
    "\n",
    "# Then create the dynamic prompt template\n",
    "dynamic_faq_prompt = FewShotPromptTemplate(\n",
    "    example_selector=example_selector,  # use example_selector instead of examples\n",
    "    example_prompt=example_prompt,\n",
    "    prefix=prefix,\n",
    "    suffix=suffix,\n",
    "    input_variables=[\"question1\", \"input_answer1\", \n",
    "                    \"question2\", \"input_answer2\", \n",
    "                    \"question3\", \"input_answer3\"],\n",
    "    example_separator=\"\\n\"\n",
    ")"
   ]
  },
  {
   "attachments": {},
   "cell_type": "markdown",
   "metadata": {},
   "source": [
    "We can see that the number of included prompts will vary based on the length of our query. First let's start with a relatively short user input."
   ]
  },
  {
   "cell_type": "code",
   "execution_count": 47,
   "metadata": {},
   "outputs": [],
   "source": [
    "# Using a dictionary of inputs\n",
    "user_inputs = {\n",
    "    \"question1\": \"What payment methods do you accept?\",\n",
    "    \"input_answer1\": \"We accept Visa, Mastercard, PayPal, and Apple Pay.\",\n",
    "    \"question2\": \"Can I change my shipping address after ordering?\",\n",
    "    \"input_answer2\": \"Only if your order hasn't shipped yet. Contact support ASAP.\",\n",
    "    \"question3\": \"Do you offer gift wrapping?\",\n",
    "    \"input_answer3\": \"Yes! You can select gift wrapping during checkout.\"\n",
    "}\n",
    "\n",
    "formatted_prompt = dynamic_faq_prompt.format(**user_inputs)"
   ]
  },
  {
   "cell_type": "markdown",
   "metadata": {},
   "source": [
    "As you can see, the dynamically formatted prompt includes an number of examples."
   ]
  },
  {
   "cell_type": "code",
   "execution_count": 48,
   "metadata": {},
   "outputs": [
    {
     "name": "stdout",
     "output_type": "stream",
     "text": [
      "Create a structured Markdown FAQ with anchor links, headers, and formatting conventions for readability.\n",
      "Make sure to bold key terms and important information in the answers.\n",
      "\n",
      "**Example:**\n",
      "\n",
      "\n",
      "Example input:\n",
      "Q1: What is your return policy?\n",
      "A1: We accept returns within 30 days with the original receipt.\n",
      "Q2: Do you ship internationally?\n",
      "A2: Yes, we ship to over 50 countries worldwide.\n",
      "Q3: How can I track my order?\n",
      "A3: After your order is shipped, you'll receive a tracking link via email.\n",
      "\n",
      "Example Output:\n",
      "\n",
      "# Frequently Asked Questions\n",
      "\n",
      "## [1. What is your return policy?](#1-What is your return policy?)\n",
      "\n",
      "We accept returns within **30 days** with the original **receipt**.\n",
      "\n",
      "## [2. Do you ship internationally?](#2-Do you ship internationally?)\n",
      "\n",
      "Yes, we ship to over **50 countries** worldwide.\n",
      "\n",
      "## [3. How can I track my order?](#3-How can I track my order?)\n",
      "\n",
      "After your order is shipped, you'll receive a **tracking link** via email.\n",
      "\n",
      "---\n",
      "\n",
      "\n",
      "Example input:\n",
      "Q1: What payment methods do you accept?\n",
      "A1: We accept Visa, Mastercard, PayPal, and Apple Pay.\n",
      "Q2: Can I change my shipping address after ordering?\n",
      "A2: Only if your order hasn't shipped yet. Contact support ASAP.\n",
      "Q3: Do you offer gift wrapping?\n",
      "A3: Yes! You can select gift wrapping during checkout.\n",
      "\n",
      "Example Output:\n",
      "\n",
      "# Frequently Asked Questions\n",
      "\n",
      "## [1. What payment methods do you accept?](#1-What payment methods do you accept?)\n",
      "\n",
      "We accept **Visa**, **Mastercard**, **PayPal**, and **Apple Pay**.\n",
      "\n",
      "## [2. Can I change my shipping address after ordering?](#2-Can I change my shipping address after ordering?)\n",
      "\n",
      "Only if your order hasn't shipped yet. Contact support **ASAP**.\n",
      "\n",
      "## [3. Do you offer gift wrapping?](#3-Do you offer gift wrapping?)\n",
      "\n",
      "Yes! You can select **gift wrapping** during checkout.\n",
      "\n",
      "---\n",
      "\n",
      "\n",
      "Example input:\n",
      "Q1: What are your store hours?\n",
      "A1: We're open Monday through Friday from 9am to 9pm, and weekends from 10am to 7pm.\n",
      "Q2: Do you offer price matching?\n",
      "A2: Yes, we'll match any price from authorized retailers for identical products.\n",
      "Q3: What is your warranty policy?\n",
      "A3: All electronics come with a standard 1-year manufacturer warranty.\n",
      "\n",
      "Example Output:\n",
      "\n",
      "# Frequently Asked Questions\n",
      "\n",
      "## [1. What are your store hours?](#1-What are your store hours?)\n",
      "\n",
      "We're open **Monday through Friday** from **9am to 9pm**, and **weekends** from **10am to 7pm**.\n",
      "\n",
      "## [2. Do you offer price matching?](#2-Do you offer price matching?)\n",
      "\n",
      "Yes, we'll match any price from **authorized retailers** for **identical products**.\n",
      "\n",
      "## [3. What is your warranty policy?](#3-What is your warranty policy?)\n",
      "\n",
      "All electronics come with a standard **1-year manufacturer warranty**.\n",
      "\n",
      "---\n",
      "\n",
      "\n",
      "Example input:\n",
      "Q1: How do I contact customer service?\n",
      "A1: You can reach us at support@example.com or call 555-123-4567.\n",
      "Q2: Do you offer same-day delivery?\n",
      "A2: Yes, for orders placed before 2pm in selected metro areas.\n",
      "Q3: How do I cancel an order?\n",
      "A3: Log into your account and cancel within 1 hour of placing the order.\n",
      "\n",
      "Example Output:\n",
      "\n",
      "# Frequently Asked Questions\n",
      "\n",
      "## [1. How do I contact customer service?](#1-How do I contact customer service?)\n",
      "\n",
      "You can reach us at **support@example.com** or call **555-123-4567**.\n",
      "\n",
      "## [2. Do you offer same-day delivery?](#2-Do you offer same-day delivery?)\n",
      "\n",
      "Yes, for orders placed before **2pm** in selected **metro areas**.\n",
      "\n",
      "## [3. How do I cancel an order?](#3-How do I cancel an order?)\n",
      "\n",
      "Log into your account and cancel within **1 hour** of placing the order.\n",
      "\n",
      "---\n",
      "\n",
      "\n",
      "Now generate the FAQ section for this data:\n",
      "Q1: What payment methods do you accept?\n",
      "A1: We accept Visa, Mastercard, PayPal, and Apple Pay.\n",
      "Q2: Can I change my shipping address after ordering?\n",
      "A2: Only if your order hasn't shipped yet. Contact support ASAP.\n",
      "Q3: Do you offer gift wrapping?\n",
      "A3: Yes! You can select gift wrapping during checkout.\n",
      "\n"
     ]
    }
   ],
   "source": [
    "print(formatted_prompt)"
   ]
  },
  {
   "cell_type": "markdown",
   "metadata": {},
   "source": [
    "Here is the response we get when we use this prompt with the LLM."
   ]
  },
  {
   "cell_type": "code",
   "execution_count": 49,
   "metadata": {},
   "outputs": [
    {
     "data": {
      "text/markdown": [
       "# Frequently Asked Questions\n",
       "\n",
       "## [1. What payment methods do you accept?](#1-What payment methods do you accept?)\n",
       "\n",
       "We accept **Visa**, **Mastercard**, **PayPal**, and **Apple Pay**.\n",
       "\n",
       "## [2. Can I change my shipping address after ordering?](#2-Can I change my shipping address after ordering?)\n",
       "\n",
       "Only if your order hasn't shipped yet. Contact support **ASAP**.\n",
       "\n",
       "## [3. Do you offer gift wrapping?](#3-Do you offer gift wrapping?)\n",
       "\n",
       "Yes! You can select **gift wrapping** during checkout."
      ],
      "text/plain": [
       "<IPython.core.display.Markdown object>"
      ]
     },
     "execution_count": 49,
     "metadata": {},
     "output_type": "execute_result"
    }
   ],
   "source": [
    "respond = openai.invoke(\n",
    "    formatted_prompt\n",
    ")\n",
    "Markdown(respond.content)"
   ]
  },
  {
   "attachments": {},
   "cell_type": "markdown",
   "metadata": {},
   "source": [
    "However, what if the user inputs are much longer, using more off the availabel context window?"
   ]
  },
  {
   "cell_type": "code",
   "execution_count": 51,
   "metadata": {},
   "outputs": [],
   "source": [
    "# Using a dictionary of inputs with very long questions and answers\n",
    "user_inputs = {\n",
    "    \"question1\": \"What are all the different payment methods that you accept for online purchases, including credit cards, digital wallets, bank transfers, and any special financing options that might be available for customers?\",\n",
    "    \"input_answer1\": \"We accept a comprehensive range of payment methods to accommodate all our customers' preferences and needs. For credit cards, we accept Visa, Mastercard, American Express, and Discover. We also support digital wallet payments through PayPal, Apple Pay, Google Pay, Samsung Pay, and Amazon Pay. Additionally, we offer bank transfer options including ACH transfers, wire transfers, and direct debit for customers who prefer traditional banking methods. For larger purchases, we provide financing options through Affirm, Klarna, and our own in-house financing program with flexible payment plans ranging from 6 to 36 months. We also accept cryptocurrency payments including Bitcoin, Ethereum, and several other major cryptocurrencies for tech-savvy customers.\",\n",
    "    \"question2\": \"Is it possible for me to modify or completely change my shipping address after I have already placed and confirmed my order, and if so, what are the specific conditions, timeframes, and procedures that I need to follow?\",\n",
    "    \"input_answer2\": \"Yes, it is possible to modify your shipping address, but this depends entirely on the current status of your order in our fulfillment process. If your order has not yet been processed by our warehouse team and is still in 'pending' or 'confirmed' status, you can easily change the shipping address by logging into your account and accessing the order management section. However, once your order enters the 'processing' phase and our warehouse team begins preparing your items for shipment, address changes become much more complicated and may not be possible. If your order has already shipped, unfortunately we cannot redirect the package to a different address, but you can contact the shipping carrier directly to arrange for package interception or redirection services, though additional fees may apply. For the best chance of successful address modification, we strongly recommend contacting our customer support team immediately at support@company.com or calling our toll-free number.\",\n",
    "    \"question3\": \"Do you provide gift wrapping services for the items that I purchase, and if you do, what are the different options available, what are the costs involved, and can I include personalized messages or special requests?\",\n",
    "    \"input_answer3\": \"Absolutely! We offer comprehensive gift wrapping services to make your purchases extra special for any occasion. We have several gift wrapping options available: our standard gift wrap features elegant wrapping paper in various colors and patterns with matching ribbon and a bow for an additional $4.99 per item. Our premium gift wrap option includes luxury wrapping paper, silk ribbon, and decorative embellishments for $9.99 per item. For special occasions, we offer themed wrapping for holidays, birthdays, weddings, and baby showers at $7.99 per item. You can also add personalized gift messages up to 250 characters at no additional cost, and we'll include them on beautiful greeting cards. For an extra $2.99, you can upload custom messages or even photos to be printed on special cards. All gift-wrapped items are carefully packaged to ensure they arrive in perfect condition, and we offer discrete packaging options if you're sending gifts directly to recipients.\"\n",
    "}"
   ]
  },
  {
   "cell_type": "markdown",
   "metadata": {},
   "source": [
    "Noice that the number of examples used is reduced, as more of the context is taken up by the user input, and less remains for examples."
   ]
  },
  {
   "cell_type": "code",
   "execution_count": 52,
   "metadata": {},
   "outputs": [
    {
     "name": "stdout",
     "output_type": "stream",
     "text": [
      "Create a structured Markdown FAQ with anchor links, headers, and formatting conventions for readability.\n",
      "Make sure to bold key terms and important information in the answers.\n",
      "\n",
      "**Example:**\n",
      "\n",
      "\n",
      "Example input:\n",
      "Q1: What is your return policy?\n",
      "A1: We accept returns within 30 days with the original receipt.\n",
      "Q2: Do you ship internationally?\n",
      "A2: Yes, we ship to over 50 countries worldwide.\n",
      "Q3: How can I track my order?\n",
      "A3: After your order is shipped, you'll receive a tracking link via email.\n",
      "\n",
      "Example Output:\n",
      "\n",
      "# Frequently Asked Questions\n",
      "\n",
      "## [1. What is your return policy?](#1-What is your return policy?)\n",
      "\n",
      "We accept returns within **30 days** with the original **receipt**.\n",
      "\n",
      "## [2. Do you ship internationally?](#2-Do you ship internationally?)\n",
      "\n",
      "Yes, we ship to over **50 countries** worldwide.\n",
      "\n",
      "## [3. How can I track my order?](#3-How can I track my order?)\n",
      "\n",
      "After your order is shipped, you'll receive a **tracking link** via email.\n",
      "\n",
      "---\n",
      "\n",
      "\n",
      "Now generate the FAQ section for this data:\n",
      "Q1: What are all the different payment methods that you accept for online purchases, including credit cards, digital wallets, bank transfers, and any special financing options that might be available for customers?\n",
      "A1: We accept a comprehensive range of payment methods to accommodate all our customers' preferences and needs. For credit cards, we accept Visa, Mastercard, American Express, and Discover. We also support digital wallet payments through PayPal, Apple Pay, Google Pay, Samsung Pay, and Amazon Pay. Additionally, we offer bank transfer options including ACH transfers, wire transfers, and direct debit for customers who prefer traditional banking methods. For larger purchases, we provide financing options through Affirm, Klarna, and our own in-house financing program with flexible payment plans ranging from 6 to 36 months. We also accept cryptocurrency payments including Bitcoin, Ethereum, and several other major cryptocurrencies for tech-savvy customers.\n",
      "Q2: Is it possible for me to modify or completely change my shipping address after I have already placed and confirmed my order, and if so, what are the specific conditions, timeframes, and procedures that I need to follow?\n",
      "A2: Yes, it is possible to modify your shipping address, but this depends entirely on the current status of your order in our fulfillment process. If your order has not yet been processed by our warehouse team and is still in 'pending' or 'confirmed' status, you can easily change the shipping address by logging into your account and accessing the order management section. However, once your order enters the 'processing' phase and our warehouse team begins preparing your items for shipment, address changes become much more complicated and may not be possible. If your order has already shipped, unfortunately we cannot redirect the package to a different address, but you can contact the shipping carrier directly to arrange for package interception or redirection services, though additional fees may apply. For the best chance of successful address modification, we strongly recommend contacting our customer support team immediately at support@company.com or calling our toll-free number.\n",
      "Q3: Do you provide gift wrapping services for the items that I purchase, and if you do, what are the different options available, what are the costs involved, and can I include personalized messages or special requests?\n",
      "A3: Absolutely! We offer comprehensive gift wrapping services to make your purchases extra special for any occasion. We have several gift wrapping options available: our standard gift wrap features elegant wrapping paper in various colors and patterns with matching ribbon and a bow for an additional $4.99 per item. Our premium gift wrap option includes luxury wrapping paper, silk ribbon, and decorative embellishments for $9.99 per item. For special occasions, we offer themed wrapping for holidays, birthdays, weddings, and baby showers at $7.99 per item. You can also add personalized gift messages up to 250 characters at no additional cost, and we'll include them on beautiful greeting cards. For an extra $2.99, you can upload custom messages or even photos to be printed on special cards. All gift-wrapped items are carefully packaged to ensure they arrive in perfect condition, and we offer discrete packaging options if you're sending gifts directly to recipients.\n",
      "\n"
     ]
    }
   ],
   "source": [
    "formatted_prompt = dynamic_faq_prompt.format(**user_inputs)\n",
    "print(formatted_prompt)"
   ]
  },
  {
   "cell_type": "markdown",
   "metadata": {},
   "source": [
    "The above shows that the `LengthBasedExampleSelector` class dynamically selects the examples without cutting any off halfway through. Now let's see what response this dynamically generated prompt gives."
   ]
  },
  {
   "cell_type": "code",
   "execution_count": 53,
   "metadata": {},
   "outputs": [
    {
     "data": {
      "text/markdown": [
       "# Frequently Asked Questions\n",
       "\n",
       "## [1. What payment methods do you accept for online purchases?](#1-What-payment-methods-do-you-accept-for-online-purchases)\n",
       "\n",
       "We accept a comprehensive range of payment methods to accommodate all our customers' preferences and needs. For **credit cards**, we accept Visa, Mastercard, American Express, and Discover. We also support **digital wallet** payments through PayPal, Apple Pay, Google Pay, Samsung Pay, and Amazon Pay. Additionally, we offer **bank transfer** options including ACH transfers, wire transfers, and direct debit. For larger purchases, we provide financing options through Affirm, Klarna, and our own in-house financing program with flexible payment plans ranging from 6 to 36 months. We also accept **cryptocurrency payments** including Bitcoin, Ethereum, and other major cryptocurrencies.\n",
       "\n",
       "## [2. Can I modify my shipping address after placing an order?](#2-Can-I-modify-my-shipping-address-after-placing-an-order)\n",
       "\n",
       "Yes, it is possible to modify your shipping address depending on the current status of your order. If your order has not yet been processed by our warehouse team, you can change the shipping address by accessing the order management section in your account. Once the order enters the 'processing' phase, address changes may be more complicated. If your order has already shipped, contact the shipping carrier for services like package interception or redirection, though additional fees may apply. For address modifications, contact our customer support team immediately at support@company.com or call our toll-free number.\n",
       "\n",
       "## [3. Do you offer gift wrapping services?](#3-Do-you-offer-gift-wrapping-services)\n",
       "\n",
       "Absolutely! We offer comprehensive **gift wrapping** services for any occasion. Our options include standard gift wrap for $4.99 per item, premium gift wrap for $9.99 per item, and themed wrapping for holidays and special occasions at $7.99 per item. You can add personalized gift messages up to 250 characters at no additional cost, or opt for custom messages or photos on special cards for $2.99 extra. All gift-wrapped items are carefully packaged to ensure they arrive in perfect condition, with discrete packaging options available for direct gifts."
      ],
      "text/plain": [
       "<IPython.core.display.Markdown object>"
      ]
     },
     "execution_count": 53,
     "metadata": {},
     "output_type": "execute_result"
    }
   ],
   "source": [
    "respond = openai.invoke(\n",
    "    formatted_prompt\n",
    ")\n",
    "Markdown(respond.content)"
   ]
  },
  {
   "attachments": {},
   "cell_type": "markdown",
   "metadata": {},
   "source": [
    "With this we've limited the number of examples being given within the prompt. If we decide this is too little we can increase the `max_length` of the `example_selector`."
   ]
  },
  {
   "cell_type": "code",
   "execution_count": 56,
   "metadata": {},
   "outputs": [
    {
     "name": "stdout",
     "output_type": "stream",
     "text": [
      "Create a structured Markdown FAQ with anchor links, headers, and formatting conventions for readability.\n",
      "Make sure to bold key terms and important information in the answers.\n",
      "\n",
      "**Example:**\n",
      "\n",
      "\n",
      "Example input:\n",
      "Q1: What is your return policy?\n",
      "A1: We accept returns within 30 days with the original receipt.\n",
      "Q2: Do you ship internationally?\n",
      "A2: Yes, we ship to over 50 countries worldwide.\n",
      "Q3: How can I track my order?\n",
      "A3: After your order is shipped, you'll receive a tracking link via email.\n",
      "\n",
      "Example Output:\n",
      "\n",
      "# Frequently Asked Questions\n",
      "\n",
      "## [1. What is your return policy?](#1-What is your return policy?)\n",
      "\n",
      "We accept returns within **30 days** with the original **receipt**.\n",
      "\n",
      "## [2. Do you ship internationally?](#2-Do you ship internationally?)\n",
      "\n",
      "Yes, we ship to over **50 countries** worldwide.\n",
      "\n",
      "## [3. How can I track my order?](#3-How can I track my order?)\n",
      "\n",
      "After your order is shipped, you'll receive a **tracking link** via email.\n",
      "\n",
      "---\n",
      "\n",
      "\n",
      "Example input:\n",
      "Q1: What payment methods do you accept?\n",
      "A1: We accept Visa, Mastercard, PayPal, and Apple Pay.\n",
      "Q2: Can I change my shipping address after ordering?\n",
      "A2: Only if your order hasn't shipped yet. Contact support ASAP.\n",
      "Q3: Do you offer gift wrapping?\n",
      "A3: Yes! You can select gift wrapping during checkout.\n",
      "\n",
      "Example Output:\n",
      "\n",
      "# Frequently Asked Questions\n",
      "\n",
      "## [1. What payment methods do you accept?](#1-What payment methods do you accept?)\n",
      "\n",
      "We accept **Visa**, **Mastercard**, **PayPal**, and **Apple Pay**.\n",
      "\n",
      "## [2. Can I change my shipping address after ordering?](#2-Can I change my shipping address after ordering?)\n",
      "\n",
      "Only if your order hasn't shipped yet. Contact support **ASAP**.\n",
      "\n",
      "## [3. Do you offer gift wrapping?](#3-Do you offer gift wrapping?)\n",
      "\n",
      "Yes! You can select **gift wrapping** during checkout.\n",
      "\n",
      "---\n",
      "\n",
      "\n",
      "Example input:\n",
      "Q1: What are your store hours?\n",
      "A1: We're open Monday through Friday from 9am to 9pm, and weekends from 10am to 7pm.\n",
      "Q2: Do you offer price matching?\n",
      "A2: Yes, we'll match any price from authorized retailers for identical products.\n",
      "Q3: What is your warranty policy?\n",
      "A3: All electronics come with a standard 1-year manufacturer warranty.\n",
      "\n",
      "Example Output:\n",
      "\n",
      "# Frequently Asked Questions\n",
      "\n",
      "## [1. What are your store hours?](#1-What are your store hours?)\n",
      "\n",
      "We're open **Monday through Friday** from **9am to 9pm**, and **weekends** from **10am to 7pm**.\n",
      "\n",
      "## [2. Do you offer price matching?](#2-Do you offer price matching?)\n",
      "\n",
      "Yes, we'll match any price from **authorized retailers** for **identical products**.\n",
      "\n",
      "## [3. What is your warranty policy?](#3-What is your warranty policy?)\n",
      "\n",
      "All electronics come with a standard **1-year manufacturer warranty**.\n",
      "\n",
      "---\n",
      "\n",
      "\n",
      "Now generate the FAQ section for this data:\n",
      "Q1: What are all the different payment methods that you accept for online purchases, including credit cards, digital wallets, bank transfers, and any special financing options that might be available for customers?\n",
      "A1: We accept a comprehensive range of payment methods to accommodate all our customers' preferences and needs. For credit cards, we accept Visa, Mastercard, American Express, and Discover. We also support digital wallet payments through PayPal, Apple Pay, Google Pay, Samsung Pay, and Amazon Pay. Additionally, we offer bank transfer options including ACH transfers, wire transfers, and direct debit for customers who prefer traditional banking methods. For larger purchases, we provide financing options through Affirm, Klarna, and our own in-house financing program with flexible payment plans ranging from 6 to 36 months. We also accept cryptocurrency payments including Bitcoin, Ethereum, and several other major cryptocurrencies for tech-savvy customers.\n",
      "Q2: Is it possible for me to modify or completely change my shipping address after I have already placed and confirmed my order, and if so, what are the specific conditions, timeframes, and procedures that I need to follow?\n",
      "A2: Yes, it is possible to modify your shipping address, but this depends entirely on the current status of your order in our fulfillment process. If your order has not yet been processed by our warehouse team and is still in 'pending' or 'confirmed' status, you can easily change the shipping address by logging into your account and accessing the order management section. However, once your order enters the 'processing' phase and our warehouse team begins preparing your items for shipment, address changes become much more complicated and may not be possible. If your order has already shipped, unfortunately we cannot redirect the package to a different address, but you can contact the shipping carrier directly to arrange for package interception or redirection services, though additional fees may apply. For the best chance of successful address modification, we strongly recommend contacting our customer support team immediately at support@company.com or calling our toll-free number.\n",
      "Q3: Do you provide gift wrapping services for the items that I purchase, and if you do, what are the different options available, what are the costs involved, and can I include personalized messages or special requests?\n",
      "A3: Absolutely! We offer comprehensive gift wrapping services to make your purchases extra special for any occasion. We have several gift wrapping options available: our standard gift wrap features elegant wrapping paper in various colors and patterns with matching ribbon and a bow for an additional $4.99 per item. Our premium gift wrap option includes luxury wrapping paper, silk ribbon, and decorative embellishments for $9.99 per item. For special occasions, we offer themed wrapping for holidays, birthdays, weddings, and baby showers at $7.99 per item. You can also add personalized gift messages up to 250 characters at no additional cost, and we'll include them on beautiful greeting cards. For an extra $2.99, you can upload custom messages or even photos to be printed on special cards. All gift-wrapped items are carefully packaged to ensure they arrive in perfect condition, and we offer discrete packaging options if you're sending gifts directly to recipients.\n",
      "\n"
     ]
    }
   ],
   "source": [
    "dynamic_faq_prompt.example_selector.max_length = 1000\n",
    "formatted_prompt = dynamic_faq_prompt.format(**user_inputs)\n",
    "print(formatted_prompt)"
   ]
  },
  {
   "attachments": {},
   "cell_type": "markdown",
   "metadata": {},
   "source": [
    "These are just a few examples of the prompt tooling available in LangChain. For example, there is actually an entire other set of example selectors beyond the `LengthBasedExampleSelector`. We'll cover them in detail in upcoming notebooks, or you can read about them in the [LangChain docs](https://langchain-cn.readthedocs.io/en/latest/modules/prompts/example_selectors.html)."
   ]
  },
  {
   "cell_type": "markdown",
   "metadata": {},
   "source": []
  }
 ],
 "metadata": {
  "kernelspec": {
   "display_name": "pinecone1",
   "language": "python",
   "name": "python3"
  },
  "language_info": {
   "codemirror_mode": {
    "name": "ipython",
    "version": 3
   },
   "file_extension": ".py",
   "mimetype": "text/x-python",
   "name": "python",
   "nbconvert_exporter": "python",
   "pygments_lexer": "ipython3",
   "version": "3.11.4"
  },
  "orig_nbformat": 4
 },
 "nbformat": 4,
 "nbformat_minor": 2
}
