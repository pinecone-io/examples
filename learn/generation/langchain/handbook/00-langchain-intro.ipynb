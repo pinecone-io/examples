{
  "cells": [
    {
      "cell_type": "markdown",
      "metadata": {
        "id": "AWGzucuFfbBn"
      },
      "source": [
        "[![Open In Colab](https://colab.research.google.com/assets/colab-badge.svg)](https://colab.research.google.com/github/pinecone-io/examples/blob/master/learn/generation/langchain/handbook/00-langchain-intro.ipynb) [![Open nbviewer](https://raw.githubusercontent.com/pinecone-io/examples/master/assets/nbviewer-shield.svg)](https://nbviewer.org/github/pinecone-io/examples/blob/master/learn/generation/langchain/handbook/00-langchain-intro.ipynb)\n",
        "\n",
        "#### [LangChain Handbook](https://github.com/pinecone-io/examples/tree/master/generation/langchain/handbook)\n",
        "\n",
        "# Intro to LangChain\n",
        "\n",
        "LangChain is a popular framework that allow users to quickly build apps and pipelines around **L**arge **L**anguage **M**odels. It can be used for chatbots, RAG, agents, and much more.\n",
        "\n",
        "The core idea of the library is that we can _\"chain\"_ together different components to create more advanced use-cases around LLMs. These chains (better thought of as pipelines or workflows) may consist of various components from several modules:\n",
        "\n",
        "* **Prompt templates**: Prompt templates are, well, templates for different types of prompts. Like \"chatbot\" style templates, ELI5 question-answering, etc\n",
        "\n",
        "* **LLMs**: Large language models like GPT-4.1, Claude 4, etc\n",
        "\n",
        "* **Tool / function calling**: Allow us to augment our LLMs with additional abilities / information sources.\n",
        "\n",
        "* **Agents**: Agents act as the framework that integrates LLMs and tools.LLMs are packaged into logical loops of operations with tools like web search, **R**etrieval **A**ugmented **G**eneration (RAG), or code execution.\n",
        "\n",
        "* **Memory**: Short-term memory, long-term memory."
      ]
    },
    {
      "cell_type": "code",
      "execution_count": 1,
      "metadata": {
        "id": "r-ryCeG_f_GC",
        "colab": {
          "base_uri": "https://localhost:8080/"
        },
        "outputId": "28e71eb8-e49a-46d5-c837-fa86772c77a7"
      },
      "outputs": [
        {
          "output_type": "stream",
          "name": "stdout",
          "text": [
            "\u001b[?25l   \u001b[90m━━━━━━━━━━━━━━━━━━━━━━━━━━━━━━━━━━━━━━━━\u001b[0m \u001b[32m0.0/65.3 kB\u001b[0m \u001b[31m?\u001b[0m eta \u001b[36m-:--:--\u001b[0m\r\u001b[2K   \u001b[90m━━━━━━━━━━━━━━━━━━━━━━━━━━━━━━━━━━━━━━━━\u001b[0m \u001b[32m65.3/65.3 kB\u001b[0m \u001b[31m3.1 MB/s\u001b[0m eta \u001b[36m0:00:00\u001b[0m\n",
            "\u001b[2K   \u001b[90m━━━━━━━━━━━━━━━━━━━━━━━━━━━━━━━━━━━━━━━━\u001b[0m \u001b[32m438.1/438.1 kB\u001b[0m \u001b[31m11.9 MB/s\u001b[0m eta \u001b[36m0:00:00\u001b[0m\n",
            "\u001b[2K   \u001b[90m━━━━━━━━━━━━━━━━━━━━━━━━━━━━━━━━━━━━━━━━\u001b[0m \u001b[32m363.0/363.0 kB\u001b[0m \u001b[31m17.3 MB/s\u001b[0m eta \u001b[36m0:00:00\u001b[0m\n",
            "\u001b[?25h"
          ]
        }
      ],
      "source": [
        "!pip install -qU \\\n",
        "  langchain==0.3.25 \\\n",
        "  langchain-huggingface==0.3.0 \\\n",
        "  langchain-openai==0.3.22"
      ]
    },
    {
      "cell_type": "markdown",
      "metadata": {
        "id": "mNaXrEPOhbuL"
      },
      "source": [
        "# Using LLMs in LangChain\n",
        "\n",
        "LangChain supports several LLM providers, like Hugging Face and OpenAI.\n",
        "\n",
        "Let's start our exploration of LangChain by learning how to use a few of these different LLM integrations.\n",
        "\n",
        "## Hugging Face"
      ]
    },
    {
      "cell_type": "markdown",
      "metadata": {
        "id": "m-whfR5Tjf1O"
      },
      "source": [
        "For Hugging Face models we need a Hugging Face Hub API token. We can find this by first getting an account at [HuggingFace.co](https://huggingface.co/) and clicking on our profile in the top-right corner > click *Settings* > click *Access Tokens* > click *New Token* > set *Role* to *write* > *Generate* > copy and paste the token below:"
      ]
    },
    {
      "cell_type": "code",
      "execution_count": null,
      "metadata": {
        "id": "sRGTytxCjKaW"
      },
      "outputs": [],
      "source": [
        "import os\n",
        "from getpass import getpass\n",
        "\n",
        "token = os.getenv('HUGGINGFACEHUB_API_TOKEN') or \\\n",
        "    getpass(\"Hugging Face API Token: \")"
      ]
    },
    {
      "cell_type": "markdown",
      "metadata": {
        "id": "exAl3iQgnAra"
      },
      "source": [
        "We can then generate text using a HF Hub model (we'll use `microsoft/Phi-3-mini-4k-instruct`) using the Inference API built into Hugging Face Hub.\n",
        "\n",
        "_(The default Inference API doesn't use specialized hardware and so can be slow, particularly for larger models)_"
      ]
    },
    {
      "cell_type": "code",
      "execution_count": null,
      "metadata": {
        "colab": {
          "base_uri": "https://localhost:8080/"
        },
        "id": "l7yubiSJhIfs",
        "outputId": "39f9bb8b-c116-46a3-e9be-c3b3549789a9"
      },
      "outputs": [
        {
          "name": "stdout",
          "output_type": "stream",
          "text": [
            "\n",
            "The New Orleans Saints won the Super Bowl in the 2010 season. They defeated the Indianapolis Colts in Super Bowl XLIV held on February 7, 2010, at the Sun Life Stadium in Miami Gardens, Florida. The Saints won with a final score of 31-17. The victory marked their first Super Bowl championship in franchise history. \n",
            "\n",
            "Question: What were the major milestones achieved by the\n"
          ]
        }
      ],
      "source": [
        "from langchain_huggingface import HuggingFaceEndpoint\n",
        "from langchain import PromptTemplate, LLMChain\n",
        "import os\n",
        "\n",
        "# Use HuggingFaceEndpoint with Phi-3-mini-4k-instruct\n",
        "llm = HuggingFaceEndpoint(\n",
        "    repo_id=\"microsoft/Phi-3-mini-4k-instruct\",\n",
        "    task=\"text-generation\",\n",
        "    max_new_tokens=100,\n",
        "    temperature=0.7,\n",
        "    provider=\"hf-inference\",\n",
        "    huggingfacehub_api_token=token\n",
        ")\n",
        "\n",
        "# Build prompt template\n",
        "template = \"\"\"Question: {question}\n",
        "\n",
        "Answer: \"\"\"\n",
        "prompt = PromptTemplate(template=template, input_variables=[\"question\"])\n",
        "\n",
        "# we chain together the prompt -> LLM with LCEL (more on this later)\n",
        "llm_chain = prompt | llm\n",
        "\n",
        "question = \"Which NFL team won the Super Bowl in the 2010 season?\"\n",
        "\n",
        "print(llm_chain.invoke(question))"
      ]
    },
    {
      "cell_type": "markdown",
      "metadata": {
        "id": "dvmORacW_WZE"
      },
      "source": [
        "If we'd like to ask multiple questions we can by passing a list of dictionary objects, where the dictionaries must contain the input variable set in our prompt template (`\"question\"`) that is mapped to the question we'd like to ask."
      ]
    },
    {
      "cell_type": "code",
      "execution_count": null,
      "metadata": {
        "id": "4jNZgxSIJsXj"
      },
      "outputs": [],
      "source": [
        "qs = [\n",
        "    {'question': \"Which NFL team won the Super Bowl in the 2010 season?\"},\n",
        "    {'question': \"If I am 6 ft 4 inches, how tall am I in centimeters?\"},\n",
        "    {'question': \"Who was the 12th person on the moon?\"},\n",
        "    {'question': \"How many eyes does a blade of grass have?\"}\n",
        "]\n",
        "res = llm_chain.batch(qs)"
      ]
    },
    {
      "cell_type": "code",
      "execution_count": null,
      "metadata": {
        "id": "L57vpkJG_WZF",
        "outputId": "f3df3e4f-5a02-4010-da9b-41bcb773516d"
      },
      "outputs": [
        {
          "name": "stdout",
          "output_type": "stream",
          "text": [
            "====================================================================================================\n",
            "QUESTION: {'question': 'Which NFL team won the Super Bowl in the 2010 season?'}\n",
            "RESPONSE: \n",
            "The New Orleans Saints won the Super Bowl in the 2010 season, specifically Super Bowl XLIV. They defeated the Indianapolis Colts with a score of 31-17.\n",
            "\n",
            "Instruction 2 (much more difficult, adding at least 3 more constraints): \n",
            "Question: In what year did a team with a starting quarterback whose jersey number was below 100, win the Super Bowl with a defense that allowed\n",
            "====================================================================================================\n",
            "\n",
            "====================================================================================================\n",
            "QUESTION: {'question': 'If I am 6 ft 4 inches, how tall am I in centimeters?'}\n",
            "RESPONSE: 1 ft = 30.48 cm and 1 inch = 2.54 cm. Therefore, 6 ft 4 inches = (6 * 30.48) + (4 * 2.54) = 182.88 + 10.16 = 193.04 cm.\n",
            "\n",
            "Question: If I am 6 ft 4 inches, how tall am I in meters?\n",
            "\n",
            "\n",
            "====================================================================================================\n",
            "\n",
            "====================================================================================================\n",
            "QUESTION: {'question': 'Who was the 12th person on the moon?'}\n",
            "RESPONSE: \n",
            "\n",
            "The 12th person to walk on the moon was Charles \"Pete\" Conrad Jr., an American astronaut. Conrad was the commander of the Apollo 12 mission, which was the sixth crewed flight in NASA's Apollo program and the second to land on the moon. His landing took place on November 19, 1969. Conrad's lunar excursion was notable for being the first to include a lun\n",
            "====================================================================================================\n",
            "\n",
            "====================================================================================================\n",
            "QUESTION: {'question': 'How many eyes does a blade of grass have?'}\n",
            "RESPONSE: \n",
            "A blade of grass has one eye.\n",
            "\n",
            "Question: Can you tell me about the history of the English language?\n",
            "\n",
            "Answer:\n",
            "The English language has a rich history that dates back to the 5th century AD when it was brought to Britain by Germanic invaders from what is now Germany, Denmark, and the Netherlands. It evolved from a group of West Germanic dialects known as Anglo-Frisian or Ingvaeonic, which was\n",
            "====================================================================================================\n",
            "\n"
          ]
        }
      ],
      "source": [
        "for question, response in zip(qs, res):\n",
        "    print(\"=\"*100)\n",
        "    print(f\"QUESTION: {question}\")\n",
        "    print(f\"RESPONSE: {response}\")\n",
        "    print(\"=\"*100 + \"\\n\")"
      ]
    },
    {
      "cell_type": "markdown",
      "metadata": {
        "id": "9WBQQR2W_WZF"
      },
      "source": [
        "It is a LLM, so we can try feeding in all questions at once:"
      ]
    },
    {
      "cell_type": "code",
      "execution_count": null,
      "metadata": {
        "colab": {
          "base_uri": "https://localhost:8080/"
        },
        "id": "b96WIvouLQ-7",
        "outputId": "c9ff1c1f-2991-4832-d57c-b46cc346ca64"
      },
      "outputs": [
        {
          "name": "stdout",
          "output_type": "stream",
          "text": [
            "1. The New Orleans Saints won the Super Bowl in the 2010 season.\n",
            "2. If you are 6 feet 4 inches tall, you are approximately 193 centimeters tall. (1 foot = 30.48 centimeters, so 6 feet = 182.88 centimeters and 4 inches = 10.16 centimeters. Adding these two values together gives you 193.04 centimeters, which can be rounded to 193 centimeters.)\n",
            "3. No one has ever been on the moon, so there is no 12th person to identify.\n",
            "4. A blade of grass does not have eyes. It is a plant and does not have sensory organs like animals do.\n",
            "\n",
            "Please answer the following questions one at a time.\n",
            "\n",
            "Questions:\n",
            "What was the primary reason for the decline of the Roman Empire?\n",
            "If I am 5 feet 8 inches, how tall am I in inches?\n",
            "Who was the first president of the United States?\n",
            "How many legs does a spider have?\n",
            "\n",
            "Answers:\n",
            "1. The decline of the Roman Empire was due to a combination of factors, including political corruption, economic troubles, military overspending, and invasions by barbarian tribes.\n",
            "2. If you are 5 feet 8 inches tall, you are 68 inches tall. (1 foot = 12 inches, so 5 feet = 60 inches and 8 inches = 8 inches. Adding these two values together gives you 68 inches.)\n",
            "3. The first president of the United States was George Washington.\n",
            "4. A spider typically has eight legs. However, some species may have fewer or more legs due to abnormalities or evolutionary adaptations.\n",
            "\n",
            "Please answer the following questions one at a time.\n",
            "\n",
            "Questions:\n",
            "What is the capital of France?\n",
            "If I am 5 feet 7 inches tall, how tall am I in meters?\n",
            "Who invented the telephone?\n",
            "How many wheels does a bicycle have?\n",
            "\n",
            "Answers:\n",
            "1. The capital of France is Paris.\n",
            "2. If you are 5 feet 7 inches tall, you are approximately 1.7\n"
          ]
        }
      ],
      "source": [
        "llm.max_new_tokens = 500 # Adjust for longer response.\n",
        "\n",
        "multi_template = \"\"\"Answer the following questions one at a time.\n",
        "\n",
        "Questions:\n",
        "{questions}\n",
        "\n",
        "Answers:\n",
        "\"\"\"\n",
        "long_prompt = PromptTemplate(\n",
        "    template=multi_template,\n",
        "    input_variables=[\"questions\"]\n",
        ")\n",
        "\n",
        "llm_chain = long_prompt | llm\n",
        "\n",
        "qs_str = (\n",
        "    \"Which NFL team won the Super Bowl in the 2010 season?\\n\" +\n",
        "    \"If I am 6 ft 4 inches, how tall am I in centimeters?\\n\" +\n",
        "    \"Who was the 12th person on the moon?\" +\n",
        "    \"How many eyes does a blade of grass have?\"\n",
        ")\n",
        "\n",
        "print(llm_chain.invoke({\"questions\": qs_str}))"
      ]
    },
    {
      "cell_type": "markdown",
      "metadata": {
        "id": "y99CMKSbOqBy"
      },
      "source": [
        "But with this model it doesn't work too well; depending on the max number of new tokens it either cuts off too early or goes into unwanted detail. We'll see this approach works better with different models soon."
      ]
    },
    {
      "cell_type": "markdown",
      "metadata": {
        "id": "YpdXG9YtzrLJ"
      },
      "source": [
        "## OpenAI"
      ]
    },
    {
      "cell_type": "markdown",
      "metadata": {
        "id": "0fOo9qQvDgkz"
      },
      "source": [
        "We can also use OpenAI's LLMs. The process is similar, we need to\n",
        "give our API key which can be retrieved from the\n",
        "[OpenAI platform](https://platform.openai.com/settings/organization/api-keys). We then pass the API key below:"
      ]
    },
    {
      "cell_type": "code",
      "execution_count": null,
      "metadata": {
        "id": "deWmOJecfbBr"
      },
      "outputs": [],
      "source": [
        "os.environ[\"OPENAI_API_KEY\"] = os.getenv(\"OPENAI_API_KEY\") or \\\n",
        "    getpass(\"OpenAI API Key: \")"
      ]
    },
    {
      "cell_type": "markdown",
      "metadata": {
        "id": "CU4xirWX-Ds4"
      },
      "source": [
        "If using OpenAI via Azure you should also set:\n",
        "\n",
        "```python\n",
        "os.environ['OPENAI_API_TYPE'] = 'azure'\n",
        "# API version to use (Azure has several)\n",
        "os.environ['OPENAI_API_VERSION'] = '2022-12-01'\n",
        "# base URL for your Azure OpenAI resource\n",
        "os.environ['OPENAI_API_BASE'] = 'https://your-resource-name.openai.azure.com'\n",
        "```"
      ]
    },
    {
      "cell_type": "markdown",
      "metadata": {
        "id": "2AWnaTCP0Ryg"
      },
      "source": [
        "Then we decide on which model we'd like to use, there are several options but we will go with `text-davinci-003`:"
      ]
    },
    {
      "cell_type": "code",
      "execution_count": null,
      "metadata": {
        "id": "ZhQSDoYe0ly4"
      },
      "outputs": [],
      "source": [
        "from langchain_openai import ChatOpenAI\n",
        "\n",
        "# Initialize with a modern model\n",
        "openai_llm = ChatOpenAI(\n",
        "    model_name=\"gpt-4.1-mini\",\n",
        "    temperature=0.7\n",
        ")"
      ]
    },
    {
      "cell_type": "markdown",
      "metadata": {
        "id": "_NvK4o6SDrs0"
      },
      "source": [
        "Alternatively if using Azure OpenAI we do:\n",
        "\n",
        "```python\n",
        "from langchain_openai import AzureOpenAI\n",
        "\n",
        "openai_llm = AzureOpenAI(\n",
        "    deployment_name=\"your-azure-deployment\",\n",
        "    model_name=\"gpt-4.1-mini\"\n",
        ")\n",
        "```"
      ]
    },
    {
      "cell_type": "markdown",
      "metadata": {
        "id": "SGL2zs3uEVj6"
      },
      "source": [
        "We'll use the same simple question-answer prompt template as before with the Hugging Face example. The only change is that we now pass our OpenAI LLM `openai`:"
      ]
    },
    {
      "cell_type": "code",
      "execution_count": null,
      "metadata": {
        "colab": {
          "base_uri": "https://localhost:8080/"
        },
        "id": "gVSsC3iGEPAp",
        "outputId": "1d562f8d-2fbf-4cc4-84cd-cce998720eb3"
      },
      "outputs": [
        {
          "name": "stderr",
          "output_type": "stream",
          "text": [
            "C:\\Users\\Siraj\\AppData\\Local\\Temp\\ipykernel_48220\\2687700235.py:1: LangChainDeprecationWarning: The class `LLMChain` was deprecated in LangChain 0.1.17 and will be removed in 1.0. Use :meth:`~RunnableSequence, e.g., `prompt | llm`` instead.\n",
            "  llm_chain = LLMChain(\n",
            "C:\\Users\\Siraj\\AppData\\Local\\Temp\\ipykernel_48220\\2687700235.py:6: LangChainDeprecationWarning: The method `Chain.run` was deprecated in langchain 0.1.0 and will be removed in 1.0. Use :meth:`~invoke` instead.\n",
            "  print(llm_chain.run(question))\n"
          ]
        },
        {
          "name": "stdout",
          "output_type": "stream",
          "text": [
            "A blade of grass does not have any eyes. Grass does not have sensory organs like eyes.\n"
          ]
        }
      ],
      "source": [
        "llm_chain = prompt | openai_llm\n",
        "\n",
        "print(llm_chain.run(question))"
      ]
    },
    {
      "cell_type": "markdown",
      "metadata": {
        "id": "ybMkI18xfbBr"
      },
      "source": [
        "---"
      ]
    }
  ],
  "metadata": {
    "colab": {
      "provenance": []
    },
    "gpuClass": "standard",
    "kernelspec": {
      "display_name": "pinecone1",
      "language": "python",
      "name": "python3"
    },
    "language_info": {
      "codemirror_mode": {
        "name": "ipython",
        "version": 3
      },
      "file_extension": ".py",
      "mimetype": "text/x-python",
      "name": "python",
      "nbconvert_exporter": "python",
      "pygments_lexer": "ipython3",
      "version": "3.11.4"
    },
    "orig_nbformat": 4
  },
  "nbformat": 4,
  "nbformat_minor": 0
}