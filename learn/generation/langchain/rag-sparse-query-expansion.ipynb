{
  "cells": [
    {
      "cell_type": "markdown",
      "id": "9abb5eee-b493-42f2-84c4-2615286cfeb5",
      "metadata": {
        "id": "9abb5eee-b493-42f2-84c4-2615286cfeb5"
      },
      "source": [
        "# Leveraging Sparse Embeddings for Financial Reddit Analysis\n",
        "\n",
        "In this example, we'll build an agent that can search through Reddit posts about stocks and financial markets\n",
        "using sparse embeddings. Unlike dense embeddings that capture overall semantic meaning, sparse embeddings excel at\n",
        "capturing specific keywords and rare terms - perfect for financial contexts where stock tickers (like AAPL, TSLA)\n",
        "and company names need to be precisely matched.\n",
        "\n",
        "## Why Sparse Embeddings for Financial Data?\n",
        "\n",
        "Financial discussions on platforms like Reddit often contain:\n",
        "1. Stock tickers (PLTR, NVDA) that need exact matching\n",
        "2. Company names that might be misspelled (Palanteer vs. Palantir)\n",
        "3. Industry-specific jargon that dense embeddings might miss\n",
        "\n",
        "Sparse embeddings shine here because they:\n",
        "- Maintain high precision for exact term matches (crucial for tickers)\n",
        "- Preserve term frequency information (how often a stock is mentioned)\n",
        "- Allow for better retrieval of documents with rare but important terms\n",
        "\n",
        "Let's see how we can implement this approach with Pinecone's sparse vector database."
      ]
    },
    {
      "cell_type": "markdown",
      "source": [
        "First, we install the prerequisites:"
      ],
      "metadata": {
        "id": "R6GUuNTJZK99"
      },
      "id": "R6GUuNTJZK99"
    },
    {
      "cell_type": "code",
      "source": [
        "!pip install -qU \\\n",
        "  langchain==0.3.25 \\\n",
        "  langchain-community==0.3.24 \\\n",
        "  langchain-pinecone==0.2.6 \\\n",
        "  langchain-openai==0.3.18 \\\n",
        "  datasets==3.6.0"
      ],
      "metadata": {
        "colab": {
          "base_uri": "https://localhost:8080/"
        },
        "id": "HVd0kPOmZKZq",
        "outputId": "f0b2d800-cdb2-4c10-e40d-3e656321cf5c"
      },
      "id": "HVd0kPOmZKZq",
      "execution_count": 1,
      "outputs": [
        {
          "output_type": "stream",
          "name": "stdout",
          "text": [
            "\u001b[33mWARNING: pinecone 6.0.2 does not provide the extra 'async'\u001b[0m\u001b[33m\n",
            "\u001b[0m"
          ]
        }
      ]
    },
    {
      "cell_type": "markdown",
      "source": [
        "## Data Prep"
      ],
      "metadata": {
        "id": "m3CCZqZkZFjP"
      },
      "id": "m3CCZqZkZFjP"
    },
    {
      "cell_type": "markdown",
      "source": [
        "We will use a dataset of posts from various finances subreddits, like `r/stocks`, `r/finance`, `r/pennystocks`, and `r/wallstreetbets`."
      ],
      "metadata": {
        "id": "yvaBFRp1ZSnX"
      },
      "id": "yvaBFRp1ZSnX"
    },
    {
      "cell_type": "code",
      "source": [
        "from datasets import load_dataset\n",
        "\n",
        "posts = load_dataset(\"aurelio-ai/reddit-finance\", split=\"train\")\n",
        "posts"
      ],
      "metadata": {
        "colab": {
          "base_uri": "https://localhost:8080/"
        },
        "id": "3xFpVByF64SG",
        "outputId": "c5ab1248-171c-4b88-843b-0c7c598b145e"
      },
      "id": "3xFpVByF64SG",
      "execution_count": 1,
      "outputs": [
        {
          "output_type": "stream",
          "name": "stderr",
          "text": [
            "/usr/local/lib/python3.11/dist-packages/huggingface_hub/utils/_auth.py:94: UserWarning: \n",
            "The secret `HF_TOKEN` does not exist in your Colab secrets.\n",
            "To authenticate with the Hugging Face Hub, create a token in your settings tab (https://huggingface.co/settings/tokens), set it as secret in your Google Colab and restart your session.\n",
            "You will be able to reuse this secret in all of your notebooks.\n",
            "Please note that authentication is recommended but still optional to access public models or datasets.\n",
            "  warnings.warn(\n"
          ]
        },
        {
          "output_type": "execute_result",
          "data": {
            "text/plain": [
              "Dataset({\n",
              "    features: ['id', 'subreddit', 'title', 'selftext'],\n",
              "    num_rows: 107\n",
              "})"
            ]
          },
          "metadata": {},
          "execution_count": 1
        }
      ]
    },
    {
      "cell_type": "code",
      "source": [
        "posts[0]"
      ],
      "metadata": {
        "colab": {
          "base_uri": "https://localhost:8080/"
        },
        "id": "P5xPYZ9h_CqH",
        "outputId": "17088ad6-91be-4b63-9ed7-5e67fecde646"
      },
      "id": "P5xPYZ9h_CqH",
      "execution_count": 2,
      "outputs": [
        {
          "output_type": "execute_result",
          "data": {
            "text/plain": [
              "{'id': '1j0w73o',\n",
              " 'subreddit': 'stocks',\n",
              " 'title': 'Rate My Portfolio - r/Stocks Quarterly Thread March 2025',\n",
              " 'selftext': \"Please use this thread to discuss your portfolio, learn of other stock tickers &amp; portfolios like [Warren Buffet's](https://buffett.online/en/portfolio/), and help out users by giving constructive criticism.\\n\\nWhy quarterly?  Public companies report earnings quarterly; many investors take this as an opportunity to rebalance their portfolios.  We highly recommend you do some reading:  Check out our wiki's list of [relevant posts &amp; book recommendations.](https://www.reddit.com/r/stocks/wiki/index/#wiki_relevant_posts.2C_books.2C_wiki_recommendations)\\n\\nYou can find stocks on your own by using a scanner like your broker's or [Finviz.](https://finviz.com/screener.ashx)  To help further, here's a list of [relevant websites.](https://www.reddit.com/r/stocks/wiki/index/#wiki_relevant_websites.2Fapps)\\n\\nIf you don't have a broker yet, see our [list of brokers](https://www.reddit.com/r/stocks/wiki/index/#wiki_brokers_for_investing) or search old posts.  If you haven't started investing or trading yet, then setup your [paper trading to learn basics like market orders vs limit orders.](https://www.reddit.com/r/stocks/wiki/index/#wiki_is_there_a_way_to_practice.3F)\\n\\nBe aware of [Business Cycle Investing](https://eresearch.fidelity.com/eresearch/markets_sectors/sectors/si_business_cycle.jhtml?tab=sibusiness) which Fidelity issues updates to the state of global business cycles every 1 to 3 months (note: Fidelity changes their links often, so search for it since their take on it is enlightening).  [Investopedia's take on the Business Cycle](https://www.investopedia.com/articles/investing/061316/business-cycle-investing-ratios-use-each-cycle.asp).\\n\\nIf you need help with a falling stock price, check out Investopedia's [The Art of Selling A Losing Position](https://www.investopedia.com/articles/02/022002.asp) and their [list of biases.](https://www.investopedia.com/articles/stocks/08/capital-losses.asp)\\n\\nHere's a list of all the [previous portfolio stickies.](https://www.reddit.com/r/stocks/search?q=author%3Aautomoderator+title%3A%22Rate+My+Portfolio%22&amp;restrict_sr=on&amp;sort=new&amp;t=all)\"}"
            ]
          },
          "metadata": {},
          "execution_count": 2
        }
      ]
    },
    {
      "cell_type": "markdown",
      "source": [
        "We add the post links like so:"
      ],
      "metadata": {
        "id": "dqhwvp_dC2kD"
      },
      "id": "dqhwvp_dC2kD"
    },
    {
      "cell_type": "code",
      "source": [
        "def add_permalink(x):\n",
        "    x[\"permalink\"] = f\"https://reddit.com/r/{x['subreddit']}/comments/{x['id']}\"\n",
        "    return x\n",
        "\n",
        "posts = posts.map(add_permalink)"
      ],
      "metadata": {
        "id": "YIlyiC_XC4zP"
      },
      "id": "YIlyiC_XC4zP",
      "execution_count": 3,
      "outputs": []
    },
    {
      "cell_type": "markdown",
      "id": "1ebf0466-0349-4d54-bbcc-c4b820680b16",
      "metadata": {
        "id": "1ebf0466-0349-4d54-bbcc-c4b820680b16"
      },
      "source": [
        "## Sparse Vector Index Setup\n",
        "\n",
        "For our Reddit stocks analysis, we need a specialized vector index that supports sparse vectors.\n",
        "Unlike dense vectors (which might be 1024 dimensions with most values being non-zero),\n",
        "sparse vectors can have millions of dimensions but only a few non-zero values.\n",
        "\n",
        "This sparse representation is perfect for capturing the presence of specific terms like \"NVDA\" or \"earnings call\"\n",
        "without diluting their importance in a dense representation.\n",
        "\n",
        "## Sparse Embeddings Model\n",
        "\n",
        "We'll use Pinecone's specialized sparse embedding model that's designed to:\n",
        "1. Identify important financial terms and stock tickers\n",
        "2. Create sparse vector representations that emphasize these key terms\n",
        "3. Enable high-precision matching for financial queries"
      ]
    },
    {
      "cell_type": "code",
      "execution_count": 4,
      "id": "6d16992c-c709-468d-8bcb-fcb8ba82a76a",
      "metadata": {
        "colab": {
          "base_uri": "https://localhost:8080/"
        },
        "id": "6d16992c-c709-468d-8bcb-fcb8ba82a76a",
        "outputId": "d9996f0f-c0f8-4dd4-c4e0-75cc3660ec87"
      },
      "outputs": [
        {
          "name": "stdout",
          "output_type": "stream",
          "text": [
            "Enter your Pinecone API key: ··········\n"
          ]
        }
      ],
      "source": [
        "import os\n",
        "from getpass import getpass\n",
        "from pinecone import Pinecone\n",
        "\n",
        "os.environ[\"PINECONE_API_KEY\"] = os.getenv(\"PINECONE_API_KEY\") \\\n",
        "    or getpass(\"Enter your Pinecone API key: \")\n",
        "\n",
        "pc = Pinecone()"
      ]
    },
    {
      "cell_type": "code",
      "source": [
        "from pinecone import ServerlessSpec, CloudProvider, AwsRegion, Metric\n",
        "\n",
        "index_name = \"rag-sparse-query-expansion\"\n",
        "\n",
        "if not pc.has_index(name=index_name):\n",
        "    pc.create_index(\n",
        "        name=index_name,\n",
        "        metric=Metric.DOTPRODUCT,\n",
        "        dimension=None,\n",
        "        spec=ServerlessSpec(\n",
        "            cloud=CloudProvider.AWS,\n",
        "            region=AwsRegion.US_EAST_1\n",
        "        ),\n",
        "        vector_type=\"sparse\",\n",
        "    )\n",
        "\n",
        "index = pc.Index(name=index_name)"
      ],
      "metadata": {
        "id": "UGproNmdjUV0"
      },
      "id": "UGproNmdjUV0",
      "execution_count": 5,
      "outputs": []
    },
    {
      "cell_type": "markdown",
      "source": [
        "Now we initialize our sparse embedding model:"
      ],
      "metadata": {
        "id": "umjIfc9ojnxP"
      },
      "id": "umjIfc9ojnxP"
    },
    {
      "cell_type": "code",
      "source": [
        "from langchain_pinecone.embeddings import PineconeSparseEmbeddings\n",
        "\n",
        "sparse_embeddings = PineconeSparseEmbeddings(\n",
        "    model=\"pinecone-sparse-english-v0\", show_progress_bar=True\n",
        ")"
      ],
      "metadata": {
        "id": "Ru1-rcPUb0Qe"
      },
      "id": "Ru1-rcPUb0Qe",
      "execution_count": 6,
      "outputs": []
    },
    {
      "cell_type": "markdown",
      "source": [
        "We bring these together to initialize our LangChain `PineconeSparseVectorStore` object."
      ],
      "metadata": {
        "id": "PIyAuk7-juIC"
      },
      "id": "PIyAuk7-juIC"
    },
    {
      "cell_type": "code",
      "source": [
        "from langchain_pinecone import PineconeSparseVectorStore\n",
        "\n",
        "vector_store = PineconeSparseVectorStore(\n",
        "    index=index, embedding=sparse_embeddings\n",
        ")"
      ],
      "metadata": {
        "id": "RvkFu8TTj0vg"
      },
      "id": "RvkFu8TTj0vg",
      "execution_count": 7,
      "outputs": []
    },
    {
      "cell_type": "markdown",
      "source": [
        "Now we index everything. We will be embedding both the post title and text content, this helps us capture greater context than just embedding one or the other."
      ],
      "metadata": {
        "id": "AcxARty_j9ss"
      },
      "id": "AcxARty_j9ss"
    },
    {
      "cell_type": "code",
      "execution_count": 9,
      "id": "fa3c17f7-f1f9-4ddb-a14a-af7cf2c4e8a8",
      "metadata": {
        "colab": {
          "base_uri": "https://localhost:8080/",
          "height": 113,
          "referenced_widgets": [
            "ab5798124e5c421a998f1f285ac38ef8",
            "9256d3d011ab4e3ab779e7a88e69a8a8",
            "808652df357f4c12854d5b7e140c6c05",
            "068d93be438b416397c28fb4a31ea912",
            "5ec7b30aa7b54996b69b6fa7d6b516f6",
            "29ef401bddd74acab16ba66af300f3bd",
            "b8bc69bd0b06422297944f3f774c2a11",
            "d66a88df68bf4da6bb1ce05bc249de80",
            "fbd53c93cb1f440c98c87e2ee5a34b30",
            "cd4004d5e0fa4e3ba579231d477ef327",
            "625a78ed240a48ca9c6f55e1354bacb4",
            "13432a4f843e4d888fb9f14e13aaf915",
            "51650d4e637d4b38b989e33f677dd898",
            "20994324a0434cebad91cdbe71270d1e",
            "d1b153c844ee444ababc61f0329596fd",
            "e28c7db4684c4d0fb2c3c763ba8f0f9f",
            "0e076e25d01a43df92162ac1e2ee9a5d",
            "7f39350c013a4b01b1a9ffa6c27c1b62",
            "72bb8e675917445c8b420eb178f32175",
            "99d09d29f62242c2a462875d80477199",
            "b886e6f072af44e2baf1991e9effa9b8",
            "39fe8a041296438d900c94f95721f32f",
            "d6cf728a78d74455a8eb4cce0a585c17",
            "52e313cbdeb546ef9a7e2cf2fb623ec2",
            "fde929b5349244d68e4df684372134e5",
            "d0201bc3433f434594d80ee441cf788d",
            "669ff442315c479e978d2d1f26f454bb",
            "de66b60101924cba87592d549133a562",
            "0089d52337834455b7594fc308b38107",
            "ec337c8d9a994a5693b1968d084b197e",
            "30f2106e88cc46ef9f4d5aebf7150300",
            "2b1f4c73a9f145c0abab89ce03458bec",
            "99e5c895751541ae985642a5ee3089f7"
          ]
        },
        "id": "fa3c17f7-f1f9-4ddb-a14a-af7cf2c4e8a8",
        "outputId": "4a0ed3b4-af42-4e10-fe87-07172763f6cf"
      },
      "outputs": [
        {
          "output_type": "display_data",
          "data": {
            "text/plain": [
              "  0%|          | 0/2 [00:00<?, ?it/s]"
            ],
            "application/vnd.jupyter.widget-view+json": {
              "version_major": 2,
              "version_minor": 0,
              "model_id": "ab5798124e5c421a998f1f285ac38ef8"
            }
          },
          "metadata": {}
        },
        {
          "output_type": "display_data",
          "data": {
            "text/plain": [
              "  0%|          | 0/2 [00:00<?, ?it/s]"
            ],
            "application/vnd.jupyter.widget-view+json": {
              "version_major": 2,
              "version_minor": 0,
              "model_id": "13432a4f843e4d888fb9f14e13aaf915"
            }
          },
          "metadata": {}
        },
        {
          "output_type": "display_data",
          "data": {
            "text/plain": [
              "  0%|          | 0/1 [00:00<?, ?it/s]"
            ],
            "application/vnd.jupyter.widget-view+json": {
              "version_major": 2,
              "version_minor": 0,
              "model_id": "d6cf728a78d74455a8eb4cce0a585c17"
            }
          },
          "metadata": {}
        }
      ],
      "source": [
        "from tqdm.auto import tqdm\n",
        "\n",
        "# we add records in batches of 100 - for large datasets this is essential to\n",
        "# avoid excessively large requests or out-of-memory errors\n",
        "batch_size = 100\n",
        "\n",
        "for i in tqdm(range(0, len(posts), batch_size)):\n",
        "    # grab batch\n",
        "    end_idx = min(i + batch_size, len(posts))\n",
        "    batch = posts.select(range(i, end_idx))\n",
        "    # merge title and content before embedding\n",
        "    title_and_content = [\n",
        "        f\"## {post['title']}\\n\\n{post['selftext']}\" for post in batch\n",
        "    ]\n",
        "    # prep our metadata\n",
        "    metadata_batch = [\n",
        "        {\n",
        "            \"subreddit\": post[\"subreddit\"],\n",
        "            \"permalink\": post[\"permalink\"]\n",
        "        } for post in batch\n",
        "    ]\n",
        "    # add our data to the vec store\n",
        "    vector_store.add_texts(\n",
        "        texts=title_and_content,\n",
        "        metadatas=metadata_batch[i:end_idx]\n",
        "    )"
      ]
    },
    {
      "cell_type": "markdown",
      "id": "efa317a4-bf9e-45c1-bcd4-3384838a7437",
      "metadata": {
        "id": "efa317a4-bf9e-45c1-bcd4-3384838a7437"
      },
      "source": [
        "## Query Expansion: Bridging ticker and company names for financial search\n",
        "\n",
        "One of the biggest challenges in financial search is the vocabulary mismatch problem:\n",
        "- Users might search for \"Palanteer\" when they mean \"Palantir\" (PLTR)\n",
        "- They might use \"NVDA stock drop\" when relevant posts mention \"Nvidia shares plummeting\"\n",
        "- They might search for a company name when Reddit posts use only the ticker symbol\n",
        "\n",
        "To solve this, we'll implement query expansion - a technique that transforms a single query\n",
        "into multiple alternative queries that capture the same intent but with different terminology.\n",
        "\n",
        "We'll be using OpenAI for this part, for which we need an [API key](https://platform.openai.com) which we enter below:"
      ]
    },
    {
      "cell_type": "code",
      "source": [
        "os.environ[\"OPENAI_API_KEY\"] = os.getenv(\"OPENAI_API_KEY\") \\\n",
        "    or getpass(\"Enter your OpenAI API key: \")"
      ],
      "metadata": {
        "colab": {
          "base_uri": "https://localhost:8080/"
        },
        "id": "kyNhQKn2j-Si",
        "outputId": "96b6e0fb-fa93-4e50-9393-01514af7a90f"
      },
      "id": "kyNhQKn2j-Si",
      "execution_count": 10,
      "outputs": [
        {
          "name": "stdout",
          "output_type": "stream",
          "text": [
            "Enter your OpenAI API key: ··········\n"
          ]
        }
      ]
    },
    {
      "cell_type": "markdown",
      "source": [
        "Now we define our LLM that will be used _within_ our query expansion tool to create our expanded queries. We can use `with_structured_output` to force a particular output format."
      ],
      "metadata": {
        "id": "NbcYqQb3mWm9"
      },
      "id": "NbcYqQb3mWm9"
    },
    {
      "cell_type": "code",
      "source": [
        "from pydantic import BaseModel\n",
        "from langchain_openai import ChatOpenAI\n",
        "\n",
        "# the pydantic BaseModel defines the schema we want for our LLM output\n",
        "class QueryArray(BaseModel):\n",
        "    queries: list[str]\n",
        "\n",
        "# LLM for query expansion with high temp for increased \"creativity\"\n",
        "# and structured output\n",
        "expansion_llm = ChatOpenAI(\n",
        "    name=\"gpt-4.1-mini\", temperature=0.7\n",
        ").with_structured_output(QueryArray)"
      ],
      "metadata": {
        "colab": {
          "base_uri": "https://localhost:8080/"
        },
        "id": "Kj5QbI4qmnDF",
        "outputId": "821f0724-ceb4-481a-b573-bc97dcf1588a"
      },
      "id": "Kj5QbI4qmnDF",
      "execution_count": 11,
      "outputs": [
        {
          "output_type": "stream",
          "name": "stderr",
          "text": [
            "/usr/local/lib/python3.11/dist-packages/langchain_openai/chat_models/base.py:1669: UserWarning: Cannot use method='json_schema' with model gpt-3.5-turbo since it doesn't support OpenAI's Structured Output API. You can see supported models here: https://platform.openai.com/docs/guides/structured-outputs#supported-models. To fix this warning, set `method='function_calling'. Overriding to method='function_calling'.\n",
            "  warnings.warn(\n"
          ]
        }
      ]
    },
    {
      "cell_type": "markdown",
      "source": [
        "Next we define the prompt that explains to our `expansion_llm` what it's purpose is and how it should tackle it's query expansion task."
      ],
      "metadata": {
        "id": "fcD7uNAsm_LS"
      },
      "id": "fcD7uNAsm_LS"
    },
    {
      "cell_type": "code",
      "execution_count": 12,
      "id": "edbb98e2-e58e-49a3-a995-4570e1733e52",
      "metadata": {
        "id": "edbb98e2-e58e-49a3-a995-4570e1733e52"
      },
      "outputs": [],
      "source": [
        "expand_query_prompt = (\n",
        "    \"You are an expert at expanding search queries to improve search \"\n",
        "    \"results. Given a query about stocks, companies, or financial \"\n",
        "    \"markets, generate {num_expansions} alternative queries that \"\n",
        "    \"capture the same intent but use different wording, synonyms, or \"\n",
        "    \"related concepts.\\n\"\n",
        "    \"For company names, include both the company name and ticker \"\n",
        "    \"symbol when possible. For misspelled company names, include the \"\n",
        "    \"correct spelling in the alternatives. For general topics, i.e. \"\n",
        "    '\"tech company performance\", expand these queries to specific '\n",
        "    'companies you know of, like \"Google\", \"Apple\", \"Nvidia\".\\n'\n",
        "    'For example, a query about Google could expand to: [\"GOOGL\", '\n",
        "    '\"Alphabet\"].\\n'\n",
        "    \"Another example, a query about FAANG company performance could \"\n",
        "    'expand to: [\"META performance\", \"GOOGL performance\", \"AAPL '\n",
        "    'performance\"] and so on.\\n\"'\n",
        "    \"Original query: {query}\"\n",
        ")"
      ]
    },
    {
      "cell_type": "markdown",
      "source": [
        "We can run the LLM directly like so:"
      ],
      "metadata": {
        "id": "8psXxSmNnZtL"
      },
      "id": "8psXxSmNnZtL"
    },
    {
      "cell_type": "code",
      "source": [
        "# get response from LLM\n",
        "response = expansion_llm.invoke(expand_query_prompt.format(\n",
        "    query=\"nvidia stonks\",\n",
        "    num_expansions=5\n",
        "))\n",
        "response"
      ],
      "metadata": {
        "colab": {
          "base_uri": "https://localhost:8080/"
        },
        "id": "fKcygmwEjn1k",
        "outputId": "9fb1810a-35f8-4548-f34b-e87b86db8680"
      },
      "id": "fKcygmwEjn1k",
      "execution_count": 13,
      "outputs": [
        {
          "output_type": "execute_result",
          "data": {
            "text/plain": [
              "QueryArray(queries=['NVIDIA stocks', 'NVDA stonks', 'NVIDIA stock performance', 'NVIDIA ticker symbol', 'NVIDIA financial performance'])"
            ]
          },
          "metadata": {},
          "execution_count": 13
        }
      ]
    },
    {
      "cell_type": "markdown",
      "source": [
        "However, we'd like this query expansion functionality to be an optional _tool_ that our main agent can call. For this, we define the `expand_query` tool. The main agent will decide whether to use this tool (or not) based on the instructions we provide in the function docstring below:"
      ],
      "metadata": {
        "id": "pRtdc3u-nJMy"
      },
      "id": "pRtdc3u-nJMy"
    },
    {
      "cell_type": "code",
      "source": [
        "from langchain_core.tools import tool\n",
        "\n",
        "@tool\n",
        "def expand_query(query: str, num_expansions: int = 5) -> list[str]:\n",
        "    \"\"\"\n",
        "    Expand a search query into multiple alternative queries to improve search\n",
        "    results. Ideally you must capture the broader scope of queries beyond the\n",
        "    provided query.\n",
        "    This is useful when:\n",
        "    - The original query is vague or ambiguous\n",
        "    - You need to find synonyms or related terms\n",
        "    - You want to cover broader aspects of the topic\n",
        "    - The query contains misspelled company names or stock tickers\n",
        "\n",
        "    For example, a query like \"Tesla stock drop\" could be expanded to:\n",
        "    - \"TSLA share price decrease\"\n",
        "    - \"Tesla Motors stock market decline\"\n",
        "    - \"EV companies market decline\"\n",
        "    - \"BYD stock performance\"\n",
        "    - \"Elon Musk company stock performance\"\n",
        "    To get a broader yet relevant scope of results. Diversity of results are\n",
        "    important.\n",
        "\n",
        "    Args:\n",
        "        query: The original query that needs to be expanded\n",
        "        num_expansions: Number of alternative queries to generate\n",
        "\n",
        "    Returns:\n",
        "        A list of expanded queries including the original query\n",
        "    \"\"\"\n",
        "    try:\n",
        "        # get response from LLM\n",
        "        response = expansion_llm.invoke(expand_query_prompt.format(\n",
        "            query=query,\n",
        "            num_expansions=num_expansions\n",
        "        ))\n",
        "        # return the expanded queries\n",
        "        return response.queries\n",
        "    except Exception as e:\n",
        "        return [f\"Error expanding query: {str(e)}\"]"
      ],
      "metadata": {
        "id": "1kio5FvWnJga"
      },
      "id": "1kio5FvWnJga",
      "execution_count": 37,
      "outputs": []
    },
    {
      "cell_type": "markdown",
      "id": "16277004-c1a1-4916-a396-cf4237e88fbc",
      "metadata": {
        "id": "16277004-c1a1-4916-a396-cf4237e88fbc"
      },
      "source": [
        "## Searching Reddit with Sparse Vectors\n",
        "\n",
        "Now that we have our query expansion mechanism, let's create a tool that leverages both\n",
        "sparse embeddings and query expansion to search through Reddit posts about stocks.\n",
        "\n",
        "The magic happens in the combination:\n",
        "1. Query expansion generates multiple versions of the search query\n",
        "2. Each expanded query is converted to a sparse vector representation\n",
        "3. Pinecone's sparse similarity search finds the most relevant posts\n",
        "4. Results are deduplicated and ranked by relevance"
      ]
    },
    {
      "cell_type": "code",
      "execution_count": 57,
      "id": "883d6054-144a-499d-b56d-716bc4803e2a",
      "metadata": {
        "id": "883d6054-144a-499d-b56d-716bc4803e2a"
      },
      "outputs": [],
      "source": [
        "from typing import Any\n",
        "from langchain_core.documents import Document\n",
        "\n",
        "@tool\n",
        "def reddit_stock_mentions(\n",
        "    queries: list[str], max_results: int = 10, **kwargs\n",
        ") -> list[dict[str, Any]]:\n",
        "    \"\"\"\n",
        "    Search through Reddit posts from finance subreddits like r/wallstreetbets,\n",
        "    r/investing, and r/pennystocks to find mentions of stocks, companies, or\n",
        "    market trends.\n",
        "\n",
        "    When using this tool:\n",
        "    - For company searches, include both the company name and ticker symbol if\n",
        "      known (e.g., \"Tesla TSLA\")\n",
        "    - For misspelled company names, provide the correct spelling\n",
        "    - Consider alternative terms that might be used on Reddit (e.g., \"$PLTR\"\n",
        "      instead of just \"Palantir\")\n",
        "    - Be specific about the type of information you're looking for (e.g.,\n",
        "      \"NVIDIA earnings reaction\")\n",
        "\n",
        "    Args:\n",
        "        query: search query to find relevant posts about stocks or companies\n",
        "        max_results: how many posts to return\n",
        "\n",
        "    Returns:\n",
        "        A list of relevant Reddit posts with metadata\n",
        "    \"\"\"\n",
        "    try:\n",
        "        seen_docs = set()  # To track unique documents\n",
        "        docs: list[tuple[Document, float]] = []\n",
        "\n",
        "        # Perform the search using sparse vectors\n",
        "        # This is where the magic happens - sparse vectors excel at matching\n",
        "        # specific terms like stock tickers and company names\n",
        "        for query in queries:\n",
        "            docs.extend(\n",
        "                vector_store.similarity_search_with_score(\n",
        "                    query=query, k=max_results\n",
        "                )\n",
        "            )\n",
        "\n",
        "        unique_docs: list[dict] = []\n",
        "\n",
        "        # Add unique results\n",
        "        for doc, score in docs:\n",
        "            # Create a unique identifier for the document\n",
        "            doc_id = f\"{doc.metadata.get('permalink', '')}\"\n",
        "\n",
        "            # Only add if we haven't seen this document before\n",
        "            if doc_id not in seen_docs:\n",
        "                seen_docs.add(doc_id)\n",
        "                unique_docs.append({\n",
        "                    \"content\": doc.page_content,\n",
        "                    \"subreddit\": doc.metadata.get(\"subreddit\", \"unknown\"),\n",
        "                    \"score\": score,\n",
        "                    \"url\": doc.metadata.get(\"permalink\", \"\"),\n",
        "                    \"matched_query\": query,\n",
        "                })\n",
        "\n",
        "        # Sort by score (if available) and limit to max_results\n",
        "        unique_docs.sort(key=lambda x: x.get(\"score\", 0), reverse=True)\n",
        "        return unique_docs[:max_results]\n",
        "\n",
        "    except Exception as e:\n",
        "        return [{\"error\": f\"Error searching Reddit mentions: {str(e)}\"}]\n"
      ]
    },
    {
      "cell_type": "markdown",
      "id": "dad7bcd9-be7a-4896-81c1-17193d273073",
      "metadata": {
        "id": "dad7bcd9-be7a-4896-81c1-17193d273073"
      },
      "source": [
        "## Putting It All Together: The Reddit Stocks Agent\n",
        "\n",
        "Now we'll create an agent that orchestrates our tools to help users find and analyze\n",
        "what Reddit is saying about stocks and companies. The agent will:\n",
        "\n",
        "1. Use query expansion to handle misspellings and terminology variations\n",
        "2. Leverage sparse embeddings for precise matching of financial terms\n",
        "3. Analyze and summarize the Reddit sentiment about stocks\n",
        "\n",
        "This approach combines the best of both worlds:\n",
        "- LLMs for understanding user intent and generating alternative queries\n",
        "- Sparse vector search for high-precision retrieval of financial discussions\n",
        "\n",
        "We start with setting up our system prompt and chat prompt template, which will include placeholders for chat history _and_ intermediate steps where the agent will be able to store information returned from it's various tools before responding to the user."
      ]
    },
    {
      "cell_type": "code",
      "execution_count": 58,
      "id": "1d6a9b44-087f-4d57-a215-cd4d8b79e62b",
      "metadata": {
        "id": "1d6a9b44-087f-4d57-a215-cd4d8b79e62b"
      },
      "outputs": [],
      "source": [
        "from langchain_core.prompts import ChatPromptTemplate, MessagesPlaceholder\n",
        "\n",
        "# Define a system prompt that emphasizes using query expansion\n",
        "system_prompt = (\n",
        "    \"You are a financial research assistant that helps users find information \"\n",
        "    \"about stocks and companies from Reddit discussions.\\n\\n\"\n",
        "    \"ALWAYS use the expand_query tool first when searching for information. \"\n",
        "    \"This is critical because:\\n\"\n",
        "    \"1. It helps find alt terms and synonyms that Reddit users might use\\n\"\n",
        "    \"2. It corrects misspelled company names or stock tickers\\n\"\n",
        "    \"3. It improves search coverage by generating multiple related queries\\n\\n\"\n",
        "    \"After expanding the query, use the reddit_stock_mentions tool with the \"\n",
        "    \"expanded queries to find relevant posts.\\n\"\n",
        "    \"Remember to analyze the results and provide a comprehensive summary of \"\n",
        "    \"what Reddit users are saying about the stock or company in question.\"\n",
        ")\n",
        "\n",
        "# Create the prompt template with message history\n",
        "prompt = ChatPromptTemplate.from_messages([\n",
        "    (\"system\", system_prompt),\n",
        "    MessagesPlaceholder(variable_name=\"chat_history\"),\n",
        "    (\"human\", \"{input}\"),\n",
        "    MessagesPlaceholder(variable_name=\"agent_scratchpad\")\n",
        "])"
      ]
    },
    {
      "cell_type": "markdown",
      "source": [
        "Now we setup chat memory, we'll use a simple conversation buffer (ie save everything)."
      ],
      "metadata": {
        "id": "nByN7tPrEqvd"
      },
      "id": "nByN7tPrEqvd"
    },
    {
      "cell_type": "code",
      "source": [
        "from langchain.memory import ConversationBufferMemory\n",
        "\n",
        "memory = ConversationBufferMemory(\n",
        "    memory_key=\"chat_history\",\n",
        "    return_messages=True\n",
        ")"
      ],
      "metadata": {
        "id": "4BQM_8mPErAk"
      },
      "id": "4BQM_8mPErAk",
      "execution_count": 59,
      "outputs": []
    },
    {
      "cell_type": "markdown",
      "source": [
        "Now bring all of this together to create our agent:"
      ],
      "metadata": {
        "id": "BZPMNIaXE4V2"
      },
      "id": "BZPMNIaXE4V2"
    },
    {
      "cell_type": "code",
      "source": [
        "from langchain_core.runnables.base import RunnableSerializable\n",
        "from langchain.agents import create_openai_tools_agent, AgentExecutor\n",
        "\n",
        "llm = ChatOpenAI()\n",
        "tools = [expand_query, reddit_stock_mentions]\n",
        "\n",
        "agent = create_openai_tools_agent(\n",
        "    llm=llm, tools=tools, prompt=prompt\n",
        ")\n",
        "\n",
        "# package into an agent executor\n",
        "agent_executor = AgentExecutor(\n",
        "    agent=agent,\n",
        "    tools=tools,\n",
        "    memory=memory,\n",
        "    verbose=True,\n",
        ")"
      ],
      "metadata": {
        "id": "M9j50dH2E4qd"
      },
      "id": "M9j50dH2E4qd",
      "execution_count": 60,
      "outputs": []
    },
    {
      "cell_type": "markdown",
      "id": "4828013a-cfd7-47c1-b1fb-8820f7f54947",
      "metadata": {
        "id": "4828013a-cfd7-47c1-b1fb-8820f7f54947"
      },
      "source": [
        "## Testing Our Agent with Real-World Queries\n",
        "\n",
        "Let's put our agent to the test with some realistic queries that demonstrate its capabilities:\n",
        "1. Handling misspelled company names (Palanteer → Palantir)\n",
        "2. Finding discussions about specific events (NVIDIA earnings)\n",
        "3. Exploring broader topics (biotech companies)\n",
        "\n",
        "The agent will:\n",
        "- Expand each query to cover different terminology\n",
        "- Search using sparse vectors for precise matching\n",
        "- Analyze and summarize the Reddit sentiment"
      ]
    },
    {
      "cell_type": "code",
      "execution_count": 61,
      "id": "e01483f6-a92c-446f-bd8a-7048d8a5bf82",
      "metadata": {
        "colab": {
          "base_uri": "https://localhost:8080/",
          "height": 905
        },
        "id": "e01483f6-a92c-446f-bd8a-7048d8a5bf82",
        "outputId": "867545e0-ff9b-4a24-9a0a-058120f3f5c4"
      },
      "outputs": [
        {
          "output_type": "stream",
          "name": "stdout",
          "text": [
            "\n",
            "\n",
            "\u001b[1m> Entering new AgentExecutor chain...\u001b[0m\n",
            "\u001b[32;1m\u001b[1;3m\n",
            "Invoking: `expand_query` with `{'query': 'semiconductor companies stock recent news'}`\n",
            "\n",
            "\n",
            "\u001b[0m\u001b[36;1m\u001b[1;3m['semiconductor companies stock recent news', 'semiconductor industry stock updates', 'latest news on semiconductor companies', 'semiconductor sector stock news', 'chipmakers stock recent developments']\u001b[0m\u001b[32;1m\u001b[1;3m\n",
            "Invoking: `reddit_stock_mentions` with `{'queries': ['semiconductor companies stock recent news', 'semiconductor industry stock updates', 'latest news on semiconductor companies', 'semiconductor sector stock news', 'chipmakers stock recent developments'], 'max_results': 10}`\n",
            "\n",
            "\n",
            "\u001b[0m\u001b[33;1m\u001b[1;3m[{'content': \"## RHCO big news out today.. Finalized ACQUISITION of Morrich Lottery Limited and secured LOTTERY, SPORTSBOOK, and CASINO LICENSES\\n\\nThis stock has very little volume and its a small float. But looks good with their current financials and this recent completed acquisition to add more to the books.\\n\\nHere's a quick look at their financials from last quarter:\\n\\n•$5.7M in revenue last quarter\\n\\n•Net profitable\\n\\n•$12.9M in assets\\n\\n•No convertible notes\\n\\n•Small float, 24M shares held at DTC (The held at DTC number is the public tradable float)\\n\\n•Completed acquisition news today, (Finalized ACQUISITION of Morrich Lottery Limited and secured lottery, sportsbook and casino licenses)\", 'subreddit': 'unknown', 'score': 7.85546875, 'url': '', 'matched_query': 'chipmakers stock recent developments'}, {'content': '## SS Innovations to Uplist to Nasdaq\\n\\nNews Link: [https://www.globenewswire.com/news-release/2025/04/24/3067417/0/en/SS-Innovations-to-Uplist-to-Nasdaq.html](https://www.globenewswire.com/news-release/2025/04/24/3067417/0/en/SS-Innovations-to-Uplist-to-Nasdaq.html)\\n\\n  \\nFORT LAUDERDALE, Fla., April 24, 2025 (GLOBE NEWSWIRE) -- [**SS Innovations International, Inc.**](https://www.globenewswire.com/Tracker?data=2JGWgvztYvzBB6B3hP2PuBqN2NwaTepB3EDTsNwuIZ7S0SD2APsUcHFyoqtgBd6hYfIC81SZpVJgixhFUK0HfJD6rd27QvAXsztAmpH14tELe5ANn3jSu_JFE2o8CCco) (the “Company” or “SS Innovations”) (OTC: SSII), a developer of innovative surgical robotic technologies dedicated to making robotic surgery affordable and accessible to a global population, today announced that the Company’s common stock has been approved for listing on The Nasdaq Capital Market® (“Nasdaq”). Trading on Nasdaq is expected to commence on April 25, 2025, and the Company’s shares will continue to be listed under the ticker symbol “SSII”.\\n\\nDr. Sudhir Srivastava, Chairman of the Board and Chief Executive Officer of SS Innovations, commented, “Uplisting to Nasdaq marks an exciting milestone for SS Innovations and reflects our team’s achievements in building a world-class robotic surgery technology platform that is designed to offer top-tier quality, safety, efficiency and affordability, enabling cutting-edge robotic surgical procedures for a wider range of patients globally.\\n\\n“The timing of our uplisting coincides with the beginning of our global expansion beyond India – into Nepal, Ecuador, Guatemala, the Philippines, Indonesia, Sri Lanka and Ukraine – and our planned strategic entry into Europe and the United States. We are pursuing EU CE Mark and U.S. FDA approval for our SSi Mantra surgical robotic system, which we anticipate in late 2025 and early 2026, respectively. We believe that the Nasdaq uplisting will enhance market awareness of our growth story, improve transparency, expand our audience of potential investors, and ultimately increase share liquidity.”\\n\\nDr. Srivastava also highlighted the Company’s recent achievements in advancing its clinically validated, patented surgical robotic system, the “SSi Mantra,” including:\\n\\n* Installing 80 SSi Mantra systems in 75 hospitals across India and other countries;\\n* 3,500+ surgeries performed using the SSi Mantra, including over 195 robotic cardiac surgeries with zero reported device-related mortality, injuries, or complications;\\n* Becoming the first and only company in India to receive Central Drugs Standard Control Organization (CDSCO, India’s equivalent of the U.S. FDA) regulatory approval for use of a robotic surgical system in the performance of telesurgery and tele-proctoring procedures. Since receiving such approvals, the Company has performed 16 telesurgeries using SSi Mantra, including the world’s first robotic cardiac telesurgeries over distances up to 1,200 miles; and\\n* Reporting revenue for the year ended December 31, 2024 of $20.6 million, an approximately 251% increase from 2023 revenue of $5.9 million, and gross margin of 40.9%, an increase from 12.3% in 2023.', 'subreddit': 'pennystocks', 'score': 6.98730469, 'url': 'https://reddit.com/r/pennystocks/comments/1k6rzos', 'matched_query': 'chipmakers stock recent developments'}, {'content': \"## Everything about Google's earnings tonight\\n\\nAlphabet reports first-quarter earnings after today's closing bell. They're the second earnings report among the Magnificent Seven stocks which I'll be posting about on each of their earning days. Alphabet is following Tesla, which, despite disappointing results, gained after news of Elon Musk's increased involvement in the company's operations. \\n\\nSo for GOOG, are we going in on calls or puts? I figured we'd at least need to be informed with what's in the know before deciding. In light of the widespread weakness among leading Big Tech companies (all of these companies have experienced higher declines than the broader US market since the beginning of the year), today's Alphabet earnings will be a significant test of how the company operates in a new environment dominated by uncertainty. I'm not only going to be interested in the financial data but I wanna see the message from the management indicating to investors whether Alphabet is navigating safely through our currently uncertain market.\\n\\n**The Chart**\\n\\nFrom a [TA perspective](https://i.imgur.com/uE3nJVz.png) a double bottom pattern may be forming on Alphabet's chart. If today's earnings results turn out to be a positive surprise and the stock price climbs above the $160.77 level, it could signal a reversal of the downward trend that has been affecting the tech giant's shares since the beginning of 2025. \\n\\n**Earnings**\\n\\nFor Q1, it looks like the market is expecting Alphabet to report revenue of $89.1 billion (+11% y/y). From what I've read, operating income is expected to reach $28.58 billion (+12% y/y). This stronger profit growth implies a slight margin improvement to above 32.08% (+0.45 pp). Tbh, it looks like effective cost management will be one of the biggest challenges for Alphabet in this environment. While sustaining strong revenue growth seems less at risk, managing expenses (especially given capital-intensive AI development plans) will be challenging.\\n\\n**Cloud Services**\\n\\nFor those who are aware, Google Cloud is a thing and is driving massive growth for the company. With rivals signaling a slowdown in data center expansion amid rising uncertainty, Alphabet may either follow a cautious strategy (likely dampening growth) or seize the opportunity to gain market share by acting aggressively.\\n\\nThe second approach would be riskier and more costly, potentially causing erosion in the segment’s operating margin. It would, however, be an investment in the better future market position.\\n\\nI'm going to be watching not just the quarterly results but also the forward outlook and management’s tone regarding the Cloud business. It looks like the Forecasted Cloud segment has a revenue of $12.32 billion for Q1 2025. This would be the h[ighest quarterly result in Alphabet's history](https://i.imgur.com/9uWUntD.png). However, operating income is expected to slightly decline versus the prior quarter, but at $1.94 billion it would still be over twice the result from Q1 2024.\\n\\n**Tariffs** \\n\\nOne of the key topics that I'll especially be closely watching tonight is the impact of tariffs and macroeconomic uncertainty on the company’s operations. Among the major Big Tech companies, Alphabet has shown the greatest resilience to potential geopolitical turmoil and has often demonstrated the fastest recovery following periods of uncertainty.\\n\\nAt this point, they do not appear to be in significantly better shape than its peers, with its stock down approximately 17% year-to-date, placing it squarely in the middle of the Magnificent Seven stocks.\\n\\nI think the first step toward rebuilding investor confidence will be outlining the scope and impact of tariffs and overall geopolitical uncertainty on the company’s operations. As such, the types of questions I expect during today’s conference about how strongly tariffs will affect Alphabet’s business. It is worth noting that this isn’t necessarily about the direct impact (which is likely to be limited) but rather the indirect effect of uncertainty on the willingness of Alphabet’s clients to spend on advertising, which constitutes a significant portion of the company’s revenue.\\n\\n**Price Targets**\\n\\nAmid these earnings expectations, analysts have been revising Alphabet's price targets downward. Over the past few weeks, [several top analysts have revised their 12-month price targets for Alphabet](https://www.tipranks.com/stocks/goog/forecast?utm_source=theglobeandmail.com&amp;utm_medium=referral). TD Cowen lowered its target from $210 to $195. UBS cut its target from $209 to $173. Even Scotiabank lowered its target from $232 to $200. Despite that, they all still rate GOOG stock as a Buy, showing they believe in its long-term value.\\n\\nGuggenheim lowered its target from $215 to $190, while Jefferies adjusted its target from $235 to $200, both maintaining a Buy rating. Piper Sandler and Citi followed suit, reducing their targets to $185 and $195 respectively, citing uncertainties in the advertising landscape and macroeconomic pressures.\\n\\nI mean. With all things considered, the stock is down 19% in 2025 so far. Combine that with rising legal risks (mentioned later here) and an uncertain economy, and you have a good reason to reframe expectations. Analysts aren’t necessarily predicting more downside; they’re just being more realistic about the upside, especially in the near term.\\n\\nIf we’re to simplify the analysts’ overall message, it’s that Alphabet’s fundamentals are strong, but the road ahead could be bumpy.\\n\\n**In the news**\\n\\nA federal court recently ruled that Google violated antitrust laws by monopolizing specific digital advertising markets. The court plans to determine suitable remedies soon. Some analysts believe the ruling could eventually lead to the divestiture of certain Google ad segments, though the financial impact on Alphabet is expected to be modest.\\n\\nThere’s also the bigger picture. Between global tariffs, economic uncertainty, and shifts in labor and costs across the tech industry, Alphabet has a lot on its plate. Investors will want to hear how the company manages expenses, hiring, and regional exposure.\\n\\n**Mergers and Acquisitions**\\n\\nAlphabet announced a $32 billion all-cash deal to acquire cloud security platform Wiz. This acquisition aims to enhance Google Cloud’s security capabilities and multi-cloud operations. Analysts are projecting long-term benefits from this acquisition, despite potential short-term market pressures on other cloud service providers.\\n\\nSeparately, Google has decided to maintain its current approach to offering third-party cookie choices in its Chrome browser, emphasizing the importance of online privacy and user control. This decision is part of Google's ongoing Privacy Sandbox initiative, which aims to strengthen online privacy while supporting a sustainable ad-driven internet environment.\\n\\n**What now?**\\n\\nAlphabet’s stock may be down, but most analysts still believe it’s a long-term winner. That’s why Buy ratings remain steady, even if price targets are down. Q1 earnings could be the reset moment Alphabet needs to win back momentum. I'm thinking short term puts for earnings but holding long term shares. Could even sell covered calls for earnings for some extra income, if you already have the shares. Avg price target is $204.\", 'subreddit': 'wallstreetbets', 'score': 6.03613281, 'url': 'https://reddit.com/r/wallstreetbets/comments/1k70ero', 'matched_query': 'chipmakers stock recent developments'}, {'content': \"## A Very Rapid' Drop In Domestic Demand Is Hitting Airlines\\n\\n\\nComplement to a former post. \\nAny jump in airlines stock price is just dancing around for now\\n\\nThe Travel crisis that is emerging will affect other industries that profit from tourism, like real estate and Banks\\n\\nhttps://finance.yahoo.com/news/very-rapid-drop-domestic-demand-182820043.html\\n\\nhttps://www.reddit.com/r/wallstreetbets/s/7nEvEsNjpp\\n\\nhttps://sherwood.news/business/us-airlines-in-a-recession-southwest-ceo/\\n\\nOn the international front, for majors Airlines, Chinese and other Asian international tourists are crucial to their long-haul operations. Shanghai Pudong round trip to Dallas-Fort Worth is a common route that is seing drastic decrease for AAL.\\n\\nA downturn in both leisure and business tourism leads to reduced hotel occupancy rates, lower room pricing, and decreased revenue, particularly in tourist-centric cities like Las Vegas, Orlando, and New York City.\\n\\nCompanies/stock potentially affected: Host Hotels &amp; Resorts Inc., Park Hotels &amp; Resorts Inc. \\n\\nTenet Healthcare (THC) – Dallas, TX maybe affcted too. They owns hospitals and medical centers, some of which attract foreign patients for medical tourism.\\n\\nCarnival Corporation (CCL) – Miami, FL, world’s largest cruise line, heavily dependent on international tourists, including Chinese travelers.\\n\\nRoyal Caribbean Group (RCL) – Miami, FL, same as Carnival, with an even more aggressive focus on Asia-Pacific expansion, including China-based cruise itineraries.\\n\\nMany Buffalo/NY small businesses rely on Canadian spending. If revenue drop, they cant pay rent, if they cant pay rent, landlords cant service mortage debt. More businesses will close like in covid or after covid.\\n\\nLennar Corporation (LEN) – Miami, FL, one of the largest homebuilders in the U.S has lot of Chinese buyers: Florida (and Texas) have been targets for foreign real estate investment, particularly by Chinese nationals seeking EB-5 visas or U.S. property. So real estate may be affected too, in this case, may be it will relieve pressure on prices, not sure. But for REITS (real estate investment trusts) that owns properties leased to Hotels and restaurants or Malls or international student housing that depends on international travellers or Transit/transcient business, trouble are ahead in all major US Cities. \\n\\nEvent Spaces &amp; Convention Centers: A reduction in MICE (Meetings, Incentives, Conferences, Exhibitions) activities weakens demand for event spaces and the surrounding businesses that support them. ALL major hotels brand affected.\\n\\nDiversified REITs: These entities, with portfolios spanning retail, hotel, and mixed-use developments in major gateway cities, face indirect impacts from the downturn in tourism and international student presence: Vornado Realty Trust (VNO), BXP, Inc. (BXP)\\n\\nThe third financed asset in size for all major banks after government bonds and other bank is real estate ( commercial and residential)\\n\\nalso, if all foreign countries keep rejecting boeing planes delivery like china, it is the whole aerospace sector that is going down with all of the small industries and SMEs that their business model feeds. \\n\\nhttps://fortune.com/article/boeing-ceo-trump-china-tariff-trade-war-planes-economy/\\n\\nWell no wonder T is saying now: we are discussing with China, but they said: heuuu, no we are not discussing yet. remove all tariffs first, holder of negotiation power is obvious. So until all of this is fixed and factoring at least few months of starring, the crash is coming.\\n\\nAnd we have not even talked about the soccer world cup being potentially cancelled in a year by the US, by FiFa or by implicit boycott by countries outside of Usa because not safe and impact on existing contracts with airlines, hotels and hosting cities that have spent millions\\n\\n\\nI won’t hold a high position when shorting airlines, since they are highly volatile and already close to 52 weeks low. but I will average up a short position. Should back test Covid trading range volatility to see how low it can get\", 'subreddit': 'wallstreetbets', 'score': 5.8125, 'url': 'https://reddit.com/r/wallstreetbets/comments/1k71daq', 'matched_query': 'chipmakers stock recent developments'}, {'content': \"## Why I think LXRX will be bought out\\n\\nI have been going back and forth on this for weeks now, but recently came across an addition to the 10K that was made effective on March 4th, 2025. That has pushed me from uncertain, to fairly convinced (at least enough to share this) that LXRX is in negotiations for a buyout.\\n\\nThis is a list of things that have been pointing to an M&amp;A in my view, with the recent discovery included and linked at the bottom:\\n\\n* New CEO in July, 2024\\n* ‘Strategic repositioning’ in August 2024, with a roughly 50% reduction in headcount following the failed marketing launch of their lead drug, Inpefa\\n* Licensing of Inpefa to Ex US, Ex EU markets only\\n* COO stepped down and nobody new has been appointed\\n* New CFO in January who has processed M&amp;As before\\n* Apparent disinterest in their lead asset, Inpefa, while news articles have been cheering its potential\\n* Management severance plan: A fairly generous golden parachute, was adopted and put into effect on the 4th of March, 2025.\\n* Deal for Exclusive licensing rights with NVO for their least developed drug, which is M&amp;A neutral in my opinion, however they used the $45 million upfront to immediately pay down debt- Cleaning up their balance sheet\\n\\nThere are other things, like lack of insider open market buys and sells, m&amp;a rumours, otm options contracts, recent fda appeals, and the like that could add extra support to the case, but these aren't as definitive in my opinion as the ones listed above.\\n\\nRun it through your favorite AI and see what it see what it says about these breadcrumbs\\n\\n**Disclosure. I am long stock and options on the ticker**\\n\\nLink to golden parachute in 10K: Crtl+f and search “march 4”\\n\\n[https://www.sec.gov/ix?doc=/Archives/edgar/data/0001062822/000106282225000013/lxrx-20241231.htm](https://www.sec.gov/ix?doc=/Archives/edgar/data/0001062822/000106282225000013/lxrx-20241231.htm)\\n\\nm&amp;a rumour:\\n\\n[https://markets.businessinsider.com/news/stocks/lexicon-rumor-highlighted-in-betaville-alert-1034284419](https://markets.businessinsider.com/news/stocks/lexicon-rumor-highlighted-in-betaville-alert-1034284419)\", 'subreddit': 'pennystocks', 'score': 5.77441406, 'url': 'https://reddit.com/r/pennystocks/comments/1k6vjpa', 'matched_query': 'chipmakers stock recent developments'}, {'content': '## Retail buys the dip, and the top, again!\\n\\nThis Bloomberg article succinctly describes how the smart and big investors manipulate the market by selling their stock to the retail investors like you and me, in a bear market. \\nhttps://www.bloomberg.com/news/articles/2025-04-23/retail-traders-see-epic-buying-opportunity-in-s-p-s-wild-swings\\n\\n\"It is indeed true that the major equity benchmarks in the US rise in the long term. However, it is also true that there are windows within that trajectory where holding stocks over periods even for several years would still not let an investor break even on the initial investment. A recent example was in the dotcom bubble, when someone who bought into the S&amp;P 500 at the top in early 2000 did not see any return until mid-2007\"\\n\\nThis initial volatility continues for a few months, when retail investors run out of steam. That\\'s when the real \\'bear market\\' starts. \\n\\nAnyone who\\'s bullish right now should really, really do some more research. \\n', 'subreddit': 'stocks', 'score': 5.5625, 'url': 'https://reddit.com/r/stocks/comments/1k6fmg0', 'matched_query': 'chipmakers stock recent developments'}, {'content': '## Supernova Metals (SUPR): From Lithium Explorer to Offshore Oil Contender?\\n\\nSupernova Metals (CSE: SUPR | OTC: SUPRF) is a Canadian-based exploration company evolving beyond its roots in lithium and silver. Now, it’s making headlines for its venture into Namibia’s Orange Basin—one of the hottest emerging oil frontiers globally. With significant discoveries nearby by Shell and TotalEnergies, Supernova’s latest moves are putting it back on speculators’ radars.\\n\\n**Recent Developments**\\n\\n**Stake in Namibia’s Orange Basin**  \\nSupernova has secured an\\xa0**8.75% indirect working interest**\\xa0in Block 2712A, a massive 5,484 km² offshore license in Namibia’s Orange Basin. This region is no stranger to attention—recent discoveries by Shell (Graff, La Rona) and TotalEnergies (Venus) have transformed it into a focal point for oil majors. Any success here could represent a transformational moment for SUPR.\\n\\n**Leadership Boost**  \\nIn April 2025, the company announced the appointment of\\xa0**Stuart Munro**\\xa0as VP of Exploration. Munro is known for his role in the Graff discovery and brings over 50 years of global exploration experience to the table. His presence adds major credibility to the team and signals that Supernova is taking its oil exploration ambitions seriously.\\n\\n**Stock Snapshot**\\n\\nAs of April 21, 2025:\\n\\n* **CSE (SUPR)**: CAD 0.49\\n* **OTC (SUPRF)**: USD 0.04\\n* **Market Cap**: \\\\~CAD 15.7 million\\n\\nVolume is still relatively light, but with oil speculation heating up in Namibia, SUPR could attract more attention fast if drilling news or JV announcements drop.\\n\\n**The Bull Case**\\n\\n* Exposure to\\xa0**world-class offshore oil assets**\\xa0in Namibia.\\n* Recently enhanced\\xa0**leadership with proven track record**.\\n* Very low current valuation relative to project size and nearby success.\\n* Operates in a\\xa0**jurisdiction gaining major international attention**.\\n\\n**The Bear Case**\\n\\n* Still a\\xa0**pre-drill play**, which means high risk.\\n* **No revenue**, exploration phase only.\\n* Potential future dilution if capital is needed for operations.\\n\\n**Final Thoughts**\\n\\nFor risk-tolerant investors looking for an early-stage energy play with asymmetric upside, Supernova Metals could be worth keeping an eye on. With a stake in Namibia’s oil-rich Orange Basin and credible leadership onboard, this microcap stock might have the right ingredients to punch above its weight—if all goes well.', 'subreddit': 'pennystocks', 'score': 5.49121094, 'url': 'https://reddit.com/r/pennystocks/comments/1k6vcte', 'matched_query': 'chipmakers stock recent developments'}, {'content': '## r/Stocks Daily Discussion &amp; Options Trading Thursday - Apr 24, 2025\\n\\nThis is the daily discussion, so anything stocks related is fine, but the theme for today is on stock options, but if options aren\\'t your thing then just ignore the theme.\\n\\nSome helpful day to day links, including news:\\n\\n* [Finviz](https://finviz.com/quote.ashx?t=spy) for charts, fundamentals, and aggregated news on individual stocks\\n* [Bloomberg market news](https://www.bloomberg.com/markets)\\n* StreetInsider news:\\n  * [Market Check](https://www.streetinsider.com/Market+Check) - Possibly why the market is doing what it\\'s doing including sudden spikes/dips\\n  * [Reuters aggregated](https://www.streetinsider.com/Reuters) - Global news\\n\\n-----\\n\\nRequired info to start understanding options:\\n\\n* [Call option Investopedia video](https://www.investopedia.com/terms/c/calloption.asp) basically a call option allows you to buy 100 shares of a stock at a certain price (strike price), but without the obligation to buy\\n* [Put option Investopedia video](https://www.investopedia.com/terms/p/putoption.asp) a put option allows you to sell 100 shares of a stock at a certain price (strike price), but without the obligation to sell\\n* Writing options switches the obligation to you and you\\'ll be forced to buy someone else\\'s shares (writing puts) or sell your shares (writing calls)\\n\\nSee the following word cloud and click through for the wiki:\\n\\n[Call option - Put option - Exercising an option - Strike price - ITM - OTM - ATM - Long options - Short options - Combo - Debit - Credit or Premium - Covered call - Naked - Debit call spread - Credit call spread - Strangle - Iron condor - Vertical debit spreads - Iron Fly](https://www.reddit.com/r/stocks/wiki/options-themed-post)\\n\\nIf you have a basic question, for example \"what is delta,\" then google \"investopedia delta\" and click the investopedia article on it; do this for everything until you have a more in depth question or just want to share what you learned.\\n\\nSee our past [daily discussions here.](https://www.reddit.com/r/stocks/search?q=author%3Aautomoderator+%22r%2Fstocks+daily+discussion%22&amp;restrict_sr=on&amp;sort=new&amp;t=all)  Also links for:  [Technicals](https://www.reddit.com/r/stocks/search?q=author%3Aautomoderator+title%3Atechnicals&amp;restrict_sr=on&amp;include_over_18=on&amp;sort=new&amp;t=all) Tuesday, [Options Trading](https://www.reddit.com/r/stocks/search?q=author%3Aautomoderator+title%3Aoptions&amp;restrict_sr=on&amp;include_over_18=on&amp;sort=new&amp;t=all) Thursday, and [Fundamentals](https://www.reddit.com/r/stocks/search?q=author%3Aautomoderator+title%3Afundamentals&amp;restrict_sr=on&amp;include_over_18=on&amp;sort=new&amp;t=all) Friday.', 'subreddit': 'stocks', 'score': 5.03515625, 'url': 'https://reddit.com/r/stocks/comments/1k6o0i8', 'matched_query': 'chipmakers stock recent developments'}, {'content': \"## Southwest to cut flights this year, pulls guidance, citing 'macroeconomic uncertainty'. Airlines is a fixed cost industry\\n\\nlike jetblue, southwest usually relies on its canadian customer base for some destinations; not that it is very important, but small variations can make big differences. Macroeconomic uncertainties means, We don’t really know sh…t about where we are going. Well, thank you pilot! Full effect of tariffs and bullying will kick in Q3 earnings release\\n\\nhttps://www.cnbc.com/2025/04/23/southwest-airlines-luv-earnings-q1-2025.html\\n\\nhttps://finance.yahoo.com/news/very-rapid-drop-domestic-demand-182820043.html\\n\\n\\nhttps://sherwood.news/business/us-airlines-in-a-recession-southwest-ceo/\\n\\nAirlines and Hospitality are high fixed cost Industries( the one you still incur with or without revenue); unless you are operating on a very limited service business model, Low contribution margin and high fixed cost are bad for even small variations in load factor and occupancy rates. Break even point is around 60 to 65 percent annualized load factor or occupancy rates for low cost, higher for middle to upper scale. Airlines flagship survive only because of national pride and government involvement . Also, These industries are good proxies to assess if we are in recession, the depth and if we are recovering. By all adjacent metrics ( skilled/quality mix, the one that pay high price, i.e business customers and meeting incentive conference exhibitions) and leisure customer ( low paying) we are already in recession. It will fully show in other hospitality companies, airlines and other industries in Q2 earnings. You may want to check the latest Management discussion and analysis of these companies ( and possible that they stay silent or conservative to avoid stock beating) we are going for a bumpy ride, tariffs or not tariffs unless the US customer can survive with The USA in isolation. Inflation up because of tariffs and unemployment up soon; where is monetary policy going? Stock market, for all stocks may be except nvidia, not enough sustainable catalyst to go in the middle of the 52 weeks range, overall more downside than upside. Stock are going up? sure, option cleaning, just dancing .Update after q2 and q3 earnings release..for full impact. \\nOverall, from the Top, a very very bigly bad chess, where the second piece moved was the king, and the king hasn’t stopped moving since in all direction, and the dragon is secretly smiling \\n\\nfor the redditor challenging the statement that airlines operate in mainly fixed cost industry ( you still have to pay aircraft lease, airport fees, routine maintenance and maintenance capex, air route rights, craft parking and tarmac fees, some salaries lines will stay fixed), do your due diligence, this link is for you https://www.spsairbuz.com/story/?id=964 \\n post updated here : \\n\\nhttps://www.reddit.com/r/wallstreetbets/s/6U6MnuzJsr\", 'subreddit': 'wallstreetbets', 'score': 4.91699219, 'url': 'https://reddit.com/r/wallstreetbets/comments/1k6e5bf', 'matched_query': 'chipmakers stock recent developments'}, {'content': \"## Gold stocks hitting $3,300/oz\\n\\nBack in early January, I saw a note saying gold might finally have its moment in 2025. At the time, gold was around $2,600 an ounce, and most people were still focused on tech and AI stocks. Honestly, I didn’t think much of it.\\n\\nNow it’s April, and gold just crossed $3,330. That’s a 27% jump in four months. And suddenly, fund managers are calling gold the most crowded trade on Wall Street beating out tech for the first time in two years.\\n\\nA lot happened, Inflation hasn’t cooled down as much as people hoped. There’s still a ton of uncertainty around interest rates. And global tensions whether it’s Ukraine, the Middle East, or China have pushed a lot of people toward what they see as “safer” investments.\\n\\nInstead of buying physical gold or a gold ETF, I started looking into gold mining companies. The basic idea is this: when gold prices go up, mining profits usually go up even faster. That’s because their costs stay fairly flat while the value of what they’re digging up increases. So you get more upside though more risk too.\\n\\nAccording to my research there are three types of gold stocks I’ve been looking at:\\n\\n1. Major producers — big mining companies with steady operations.\\n2. Junior miners — smaller companies that might hit it big with a new discovery, but come with more risk.\\n3. Streaming companies — these guys don’t mine gold themselves. They give money to miners upfront and get a portion of the gold in return. Less risk, but less reward too.\\n\\n  \\nHere's what I've been tracking:\\n\\nWheaton Precious Metals (WPM)  \\nThis one is a streaming company, so it doesn’t operate mines—it collects a share of gold from others. It’s a lower-risk model and still benefits from rising gold prices. Production is up, and they’re projecting long-term growth. The stock’s up over 50%.\\n\\nAgnico Eagle (AEM)  \\nSolid company with operations in Canada, Australia, and a few other places. They’ve been steadily growing reserves and investing in new exploration projects. Up nearly 90% this year.\\n\\nKinross Gold (KGC)  \\nIt’s up over 120% so far this year. They’ve been selling off riskier assets and doubling down on stable regions like the U.S., Canada, and Brazil. They’re also using AI and automation to cut costs. It’s starting to pay off.\\n\\nGold stocks have clearly run up. Valuations on some names especially the streaming companies are looking expensive. But at the same time, demand is still strong, and a lot of people see gold as a safe bet if things get worse economically or politically.\\n\\n  \\nWould it be safer to just buy a gold ETF instead? Something like GLD or IAU?\\n\\n\\n\\n  \\n\", 'subreddit': 'investing', 'score': 4.69824219, 'url': 'https://reddit.com/r/investing/comments/1k7e847', 'matched_query': 'chipmakers stock recent developments'}]\u001b[0m\u001b[32;1m\u001b[1;3mReddit users have discussed various topics related to recent developments in the semiconductor industry, as follows:\n",
            "\n",
            "1. **RHCO Acquisition News:** There was a mention of RHCO finalizing the acquisition of Morrich Lottery Limited and securing lottery, sportsbook, and casino licenses. The stock has low volume and a small float, but its financials seem promising, with $5.7 million in revenue last quarter and other positive aspects.\n",
            "\n",
            "2. **SS Innovations Uplisting to Nasdaq:** SS Innovations, a developer of surgical robotic technologies, announced its uplisting to the Nasdaq Capital Market. The company's recent achievements in the robotic surgery field were highlighted, including revenue growth and global expansion plans.\n",
            "\n",
            "3. **Google's Earnings and Cloud Services:** Reddit users discussed Alphabet's (Google's parent company) upcoming earnings report and the focus on the company's cloud services. There was anticipation of strong revenue growth, cost management challenges, and the impact of tariffs and geopolitical uncertainty on Alphabet's operations.\n",
            "\n",
            "4. **Airlines and Tourism Impact:** Posts also talked about the impact of a rapid drop in domestic demand on airlines and related industries like real estate, banks, and healthcare. The discussion highlighted how the travel crisis and reduced tourism could affect various companies and sectors.\n",
            "\n",
            "5. **M&A Speculation on LXRX:** There was a discussion on why Reddit users believed that LXRX might be in negotiations for a buyout. Various indicators, such as changes in leadership, strategic moves, and licensing agreements, pointed towards a potential acquisition.\n",
            "\n",
            "6. **Gold Stocks Performance:** Users discussed the recent increase in gold prices, reaching $3,300 per ounce, and how this has led to a surge in interest in gold mining companies. Different types of gold stocks, including major producers, junior miners, and streaming companies, were analyzed for their performance and potential.\n",
            "\n",
            "Overall, Reddit discussions covered a range of topics including company acquisitions, stock uplistings, earnings reports, industry impacts, M&A speculation, and gold stocks performance in relation to recent developments in the semiconductor sector.\u001b[0m\n",
            "\n",
            "\u001b[1m> Finished chain.\u001b[0m\n"
          ]
        },
        {
          "output_type": "display_data",
          "data": {
            "text/plain": [
              "<IPython.core.display.Markdown object>"
            ],
            "text/markdown": "Reddit users have discussed various topics related to recent developments in the semiconductor industry, as follows:\n\n1. **RHCO Acquisition News:** There was a mention of RHCO finalizing the acquisition of Morrich Lottery Limited and securing lottery, sportsbook, and casino licenses. The stock has low volume and a small float, but its financials seem promising, with $5.7 million in revenue last quarter and other positive aspects.\n\n2. **SS Innovations Uplisting to Nasdaq:** SS Innovations, a developer of surgical robotic technologies, announced its uplisting to the Nasdaq Capital Market. The company's recent achievements in the robotic surgery field were highlighted, including revenue growth and global expansion plans.\n\n3. **Google's Earnings and Cloud Services:** Reddit users discussed Alphabet's (Google's parent company) upcoming earnings report and the focus on the company's cloud services. There was anticipation of strong revenue growth, cost management challenges, and the impact of tariffs and geopolitical uncertainty on Alphabet's operations.\n\n4. **Airlines and Tourism Impact:** Posts also talked about the impact of a rapid drop in domestic demand on airlines and related industries like real estate, banks, and healthcare. The discussion highlighted how the travel crisis and reduced tourism could affect various companies and sectors.\n\n5. **M&A Speculation on LXRX:** There was a discussion on why Reddit users believed that LXRX might be in negotiations for a buyout. Various indicators, such as changes in leadership, strategic moves, and licensing agreements, pointed towards a potential acquisition.\n\n6. **Gold Stocks Performance:** Users discussed the recent increase in gold prices, reaching $3,300 per ounce, and how this has led to a surge in interest in gold mining companies. Different types of gold stocks, including major producers, junior miners, and streaming companies, were analyzed for their performance and potential.\n\nOverall, Reddit discussions covered a range of topics including company acquisitions, stock uplistings, earnings reports, industry impacts, M&A speculation, and gold stocks performance in relation to recent developments in the semiconductor sector."
          },
          "metadata": {}
        }
      ],
      "source": [
        "from IPython.display import Markdown, display\n",
        "\n",
        "query = \"What happened to semiconductor companies' stock recently?\"\n",
        "\n",
        "# run the agent with the query\n",
        "result = agent_executor.invoke({\"input\": query})\n",
        "\n",
        "display(Markdown(result['output']))"
      ]
    },
    {
      "cell_type": "markdown",
      "id": "6cfa133a-7a71-4a3c-a8b0-ad6ce4720e3d",
      "metadata": {
        "id": "6cfa133a-7a71-4a3c-a8b0-ad6ce4720e3d"
      },
      "source": [
        "## How does our search perform without query expansion?\n",
        "\n",
        "Let's see what we'd be missing out on if we weren't using query expansion in our search.\n",
        "\n",
        "We'll set up another agent that doesn't have access to the query expansion tool."
      ]
    },
    {
      "cell_type": "code",
      "source": [
        "memory2 = ConversationBufferMemory(\n",
        "    memory_key=\"chat_history\",\n",
        "    return_messages=True\n",
        ")\n",
        "\n",
        "# this time initialize with ONLY the reddit_stock_mentions\n",
        "agent_wo_expansion = create_openai_tools_agent(\n",
        "    llm=llm, tools=[reddit_stock_mentions], prompt=prompt\n",
        ")\n",
        "\n",
        "# package into another agent executor\n",
        "agent_executor = AgentExecutor(\n",
        "    agent=agent_wo_expansion,\n",
        "    tools=tools,\n",
        "    memory=memory2,\n",
        "    verbose=True,\n",
        ")"
      ],
      "metadata": {
        "id": "OroMJSv_GOjN"
      },
      "id": "OroMJSv_GOjN",
      "execution_count": 62,
      "outputs": []
    },
    {
      "cell_type": "markdown",
      "source": [
        "Now let's try the same query:"
      ],
      "metadata": {
        "id": "in0Mo8v1YRAz"
      },
      "id": "in0Mo8v1YRAz"
    },
    {
      "cell_type": "code",
      "source": [
        "result = agent_executor.invoke({\"input\": query})\n",
        "\n",
        "display(Markdown(result['output']))"
      ],
      "metadata": {
        "colab": {
          "base_uri": "https://localhost:8080/",
          "height": 726
        },
        "id": "yavX917bGfCr",
        "outputId": "f61377d9-85a2-4225-b512-fffdc89ffe89"
      },
      "id": "yavX917bGfCr",
      "execution_count": 63,
      "outputs": [
        {
          "output_type": "stream",
          "name": "stdout",
          "text": [
            "\n",
            "\n",
            "\u001b[1m> Entering new AgentExecutor chain...\u001b[0m\n",
            "\u001b[32;1m\u001b[1;3m\n",
            "Invoking: `reddit_stock_mentions` with `{'queries': ['semiconductor companies stock recent', 'semiconductor stocks recent', 'semiconductor market update'], 'max_results': 10}`\n",
            "\n",
            "\n",
            "\u001b[0m\u001b[33;1m\u001b[1;3m[{'content': \"## RHCO big news out today.. Finalized ACQUISITION of Morrich Lottery Limited and secured LOTTERY, SPORTSBOOK, and CASINO LICENSES\\n\\nThis stock has very little volume and its a small float. But looks good with their current financials and this recent completed acquisition to add more to the books.\\n\\nHere's a quick look at their financials from last quarter:\\n\\n•$5.7M in revenue last quarter\\n\\n•Net profitable\\n\\n•$12.9M in assets\\n\\n•No convertible notes\\n\\n•Small float, 24M shares held at DTC (The held at DTC number is the public tradable float)\\n\\n•Completed acquisition news today, (Finalized ACQUISITION of Morrich Lottery Limited and secured lottery, sportsbook and casino licenses)\", 'subreddit': 'unknown', 'score': 4.8203125, 'url': '', 'matched_query': 'semiconductor market update'}, {'content': \"## Gold stocks hitting $3,300/oz\\n\\nBack in early January, I saw a note saying gold might finally have its moment in 2025. At the time, gold was around $2,600 an ounce, and most people were still focused on tech and AI stocks. Honestly, I didn’t think much of it.\\n\\nNow it’s April, and gold just crossed $3,330. That’s a 27% jump in four months. And suddenly, fund managers are calling gold the most crowded trade on Wall Street beating out tech for the first time in two years.\\n\\nA lot happened, Inflation hasn’t cooled down as much as people hoped. There’s still a ton of uncertainty around interest rates. And global tensions whether it’s Ukraine, the Middle East, or China have pushed a lot of people toward what they see as “safer” investments.\\n\\nInstead of buying physical gold or a gold ETF, I started looking into gold mining companies. The basic idea is this: when gold prices go up, mining profits usually go up even faster. That’s because their costs stay fairly flat while the value of what they’re digging up increases. So you get more upside though more risk too.\\n\\nAccording to my research there are three types of gold stocks I’ve been looking at:\\n\\n1. Major producers — big mining companies with steady operations.\\n2. Junior miners — smaller companies that might hit it big with a new discovery, but come with more risk.\\n3. Streaming companies — these guys don’t mine gold themselves. They give money to miners upfront and get a portion of the gold in return. Less risk, but less reward too.\\n\\n  \\nHere's what I've been tracking:\\n\\nWheaton Precious Metals (WPM)  \\nThis one is a streaming company, so it doesn’t operate mines—it collects a share of gold from others. It’s a lower-risk model and still benefits from rising gold prices. Production is up, and they’re projecting long-term growth. The stock’s up over 50%.\\n\\nAgnico Eagle (AEM)  \\nSolid company with operations in Canada, Australia, and a few other places. They’ve been steadily growing reserves and investing in new exploration projects. Up nearly 90% this year.\\n\\nKinross Gold (KGC)  \\nIt’s up over 120% so far this year. They’ve been selling off riskier assets and doubling down on stable regions like the U.S., Canada, and Brazil. They’re also using AI and automation to cut costs. It’s starting to pay off.\\n\\nGold stocks have clearly run up. Valuations on some names especially the streaming companies are looking expensive. But at the same time, demand is still strong, and a lot of people see gold as a safe bet if things get worse economically or politically.\\n\\n  \\nWould it be safer to just buy a gold ETF instead? Something like GLD or IAU?\\n\\n\\n\\n  \\n\", 'subreddit': 'investing', 'score': 4.69824219, 'url': 'https://reddit.com/r/investing/comments/1k7e847', 'matched_query': 'semiconductor market update'}, {'content': \"## Don't Sleep on Damon (DMN)\\n\\nThis two-wheel electric vehicle company could make for a quick return. Currently, the stock price sits at $0.0035 (as I type this), but they have $100 million in pre-orders for their two motorcycle models, which include safety and accessibility tech you'd find in newer four-wheel vehicles. They're also big on data intelligence, and are open to working with other companies to share info, such as supporting ICE (internal combustion engine) companies to transition. They presented at the Planet MicroCap Showcase just yesterday, which is available online: [https://event.summitcast.com/view/YNz6mnmEsXyrdRxb78w2nX/9WosXgUD44wqvJunNd982Y](https://event.summitcast.com/view/YNz6mnmEsXyrdRxb78w2nX/9WosXgUD44wqvJunNd982Y) (Or just Google it if you don't trust links.) Among other things, they state the global market for electric bikes is forecasted to reach $40 billion by 2030. While the US may have an administration trying to move in the opposite direction of electrification, the world thinks otherwise!\", 'subreddit': 'pennystocks', 'score': 4.69433594, 'url': 'https://reddit.com/r/pennystocks/comments/1k70v8k', 'matched_query': 'semiconductor market update'}, {'content': '## Warrants—USARW, CRMLW\\n\\nI am a newbie to investing and trading, and I’m very interested in materials mining companies, specifically rare earths. Today I was noticing USAR and CRML have warrant stocks (USARW and CRMLW, respectively).\\n\\nIf I want to buy USARW through my brokerage account, how do I figure out the conversion ratio to common stock? And how would I go about converting it in the future if the common stock goes up?', 'subreddit': 'pennystocks', 'score': 4.5390625, 'url': 'https://reddit.com/r/pennystocks/comments/1k7a03r', 'matched_query': 'semiconductor market update'}, {'content': \"## Why I think LXRX will be bought out\\n\\nI have been going back and forth on this for weeks now, but recently came across an addition to the 10K that was made effective on March 4th, 2025. That has pushed me from uncertain, to fairly convinced (at least enough to share this) that LXRX is in negotiations for a buyout.\\n\\nThis is a list of things that have been pointing to an M&amp;A in my view, with the recent discovery included and linked at the bottom:\\n\\n* New CEO in July, 2024\\n* ‘Strategic repositioning’ in August 2024, with a roughly 50% reduction in headcount following the failed marketing launch of their lead drug, Inpefa\\n* Licensing of Inpefa to Ex US, Ex EU markets only\\n* COO stepped down and nobody new has been appointed\\n* New CFO in January who has processed M&amp;As before\\n* Apparent disinterest in their lead asset, Inpefa, while news articles have been cheering its potential\\n* Management severance plan: A fairly generous golden parachute, was adopted and put into effect on the 4th of March, 2025.\\n* Deal for Exclusive licensing rights with NVO for their least developed drug, which is M&amp;A neutral in my opinion, however they used the $45 million upfront to immediately pay down debt- Cleaning up their balance sheet\\n\\nThere are other things, like lack of insider open market buys and sells, m&amp;a rumours, otm options contracts, recent fda appeals, and the like that could add extra support to the case, but these aren't as definitive in my opinion as the ones listed above.\\n\\nRun it through your favorite AI and see what it see what it says about these breadcrumbs\\n\\n**Disclosure. I am long stock and options on the ticker**\\n\\nLink to golden parachute in 10K: Crtl+f and search “march 4”\\n\\n[https://www.sec.gov/ix?doc=/Archives/edgar/data/0001062822/000106282225000013/lxrx-20241231.htm](https://www.sec.gov/ix?doc=/Archives/edgar/data/0001062822/000106282225000013/lxrx-20241231.htm)\\n\\nm&amp;a rumour:\\n\\n[https://markets.businessinsider.com/news/stocks/lexicon-rumor-highlighted-in-betaville-alert-1034284419](https://markets.businessinsider.com/news/stocks/lexicon-rumor-highlighted-in-betaville-alert-1034284419)\", 'subreddit': 'pennystocks', 'score': 4.12792969, 'url': 'https://reddit.com/r/pennystocks/comments/1k6vjpa', 'matched_query': 'semiconductor market update'}, {'content': '## $NB - NioCorp: Unlocking U.S. Critical Minerals - 20x Potential 🚀\\n\\nNioCorp Developments ($NB) controls the **only permitted niobium-scandium-titanium deposit in the United States**. The 2022 feasibility study pegs the Elk Creek project at an **after-tax NPV of US $2.35 billion** versus a sub-US $120 million market cap today - a &gt;20× valuation gap. Financing due-diligence is underway (EXIM Bank review of up to US $800 million) and fresh drilling is upgrading reserves. If capital comes through, NB flips from optionality play to the first U.S. producer of these critical minerals.\\n\\n# 1. Near-term catalysts\\n\\n|Date / Stage|Why it matters|\\n|:-|:-|\\n|**Apr ’25** – 9-hole infill drilling|Converts Indicated ➜ Measured, derisking before lenders sign.|\\n|**Apr 29 ’25** – Company webcast|Management to outline financing timeline.|\\n|**EXIM Bank TRC-2 review (ongoing)**|Up to **US $800 M** low-rate debt could cover \\\\~70 % of CAPEX.|\\n|**US $20.8 M equity raise (Apr ’25)**|Funds drilling + FS update without toxic converts.|\\n\\n# 2. Macro tail-winds\\n\\n* **Supply squeeze:** 95 % of world niobium comes from one Brazilian complex. Washington wants redundancy.\\n* **Demand ramp:** Niobium demand CAGR  \\\\~10 % (2024-29) on HSLA steel, EV battery anodes, superconductors.\\n* **Policy muscle:** IRA, CHIPS and DoD Title III offer tax credits, loan guarantees and priority offtakes for U.S. critical-mineral projects.\\n* **China export controls:** Fresh REE / scandium restrictions amplify U.S. urgency for domestic supply.\\n\\n# 3. Valuation math (back-of-napkin)\\n\\n* After-tax NPV (US $2.35 B) / 41 M shares -&gt; **≈ US $57 per share** vs. \\\\~US $2.6 today.\\n* Haircut NPV by 60 % for financing &amp; execution risk: fair value still &gt;US $23 -&gt; **\\\\~9× upside**.\\n\\n# 4. Risks to watch\\n\\n1. **Financing risk** \\\\- Elk Creek only happens if debt + offtake packages close.\\n2. **Dilution** \\\\- More equity likely before final investment decision.\\n3. **Commodity prices** \\\\- Niobium &amp; scandium trade thinly; price swings can hammer cash flow.\\n4. **Execution** \\\\- Underground mine + hydromet plant are complex; delays kill IRR.\\n\\n# Bottom line\\n\\nIf you bet that Washington will bankroll a domestic critical-minerals supply chain - and you can stomach mining-sector volatility - $NB offers asymmetric upside: tiny market cap, world-class orebody, a clear (if fragile) path to funding. **I’m loading while the market prices Elk Creek like it’ll never be built.**', 'subreddit': 'pennystocks', 'score': 4.07910156, 'url': 'https://reddit.com/r/pennystocks/comments/1k6yid8', 'matched_query': 'semiconductor market update'}, {'content': '## SS Innovations to Uplist to Nasdaq\\n\\nNews Link: [https://www.globenewswire.com/news-release/2025/04/24/3067417/0/en/SS-Innovations-to-Uplist-to-Nasdaq.html](https://www.globenewswire.com/news-release/2025/04/24/3067417/0/en/SS-Innovations-to-Uplist-to-Nasdaq.html)\\n\\n  \\nFORT LAUDERDALE, Fla., April 24, 2025 (GLOBE NEWSWIRE) -- [**SS Innovations International, Inc.**](https://www.globenewswire.com/Tracker?data=2JGWgvztYvzBB6B3hP2PuBqN2NwaTepB3EDTsNwuIZ7S0SD2APsUcHFyoqtgBd6hYfIC81SZpVJgixhFUK0HfJD6rd27QvAXsztAmpH14tELe5ANn3jSu_JFE2o8CCco) (the “Company” or “SS Innovations”) (OTC: SSII), a developer of innovative surgical robotic technologies dedicated to making robotic surgery affordable and accessible to a global population, today announced that the Company’s common stock has been approved for listing on The Nasdaq Capital Market® (“Nasdaq”). Trading on Nasdaq is expected to commence on April 25, 2025, and the Company’s shares will continue to be listed under the ticker symbol “SSII”.\\n\\nDr. Sudhir Srivastava, Chairman of the Board and Chief Executive Officer of SS Innovations, commented, “Uplisting to Nasdaq marks an exciting milestone for SS Innovations and reflects our team’s achievements in building a world-class robotic surgery technology platform that is designed to offer top-tier quality, safety, efficiency and affordability, enabling cutting-edge robotic surgical procedures for a wider range of patients globally.\\n\\n“The timing of our uplisting coincides with the beginning of our global expansion beyond India – into Nepal, Ecuador, Guatemala, the Philippines, Indonesia, Sri Lanka and Ukraine – and our planned strategic entry into Europe and the United States. We are pursuing EU CE Mark and U.S. FDA approval for our SSi Mantra surgical robotic system, which we anticipate in late 2025 and early 2026, respectively. We believe that the Nasdaq uplisting will enhance market awareness of our growth story, improve transparency, expand our audience of potential investors, and ultimately increase share liquidity.”\\n\\nDr. Srivastava also highlighted the Company’s recent achievements in advancing its clinically validated, patented surgical robotic system, the “SSi Mantra,” including:\\n\\n* Installing 80 SSi Mantra systems in 75 hospitals across India and other countries;\\n* 3,500+ surgeries performed using the SSi Mantra, including over 195 robotic cardiac surgeries with zero reported device-related mortality, injuries, or complications;\\n* Becoming the first and only company in India to receive Central Drugs Standard Control Organization (CDSCO, India’s equivalent of the U.S. FDA) regulatory approval for use of a robotic surgical system in the performance of telesurgery and tele-proctoring procedures. Since receiving such approvals, the Company has performed 16 telesurgeries using SSi Mantra, including the world’s first robotic cardiac telesurgeries over distances up to 1,200 miles; and\\n* Reporting revenue for the year ended December 31, 2024 of $20.6 million, an approximately 251% increase from 2023 revenue of $5.9 million, and gross margin of 40.9%, an increase from 12.3% in 2023.', 'subreddit': 'pennystocks', 'score': 4.05371094, 'url': 'https://reddit.com/r/pennystocks/comments/1k6rzos', 'matched_query': 'semiconductor market update'}, {'content': '## USAS : Q1 Earnings Estimate for Americas Silver Issued By Cormark\\n\\nAmericas Silver Corp ([NYSEAMERICAN:USAS](https://www.marketbeat.com/stocks/NYSEAMERICAN/USAS/)\\xa0–\\xa0[Free Report](https://www.marketbeat.com/arnreports/ReportTickerOptin.aspx?RegistrationCode=TickerHyperlink&amp;Prefix=NYSEAMERICAN&amp;Symbol=USAS)) – Investment analysts at Cormark issued their Q1 2025 earnings per share (EPS) estimates for shares of Americas Silver in a research report issued to clients and investors on Tuesday, April 22nd. Cormark analyst N. Dion expects that the company will post earnings per share of $0.00 for the quarter. Cormark currently has a “Moderate Buy” rating on the stock. The consensus estimate for Americas Silver’s current full-year earnings is ($0.11) per share.\\xa0\\n\\nSeparately, HC Wainwright boosted their price target on shares of Americas Silver from $0.90 to $1.00 and gave the stock a “buy” rating in a research report on Friday, March 28th.\\n\\n# Americas Silver Price Performance\\n\\nShares of\\xa0[USAS stock](https://www.marketbeat.com/stocks/NYSEAMERICAN/USAS/earnings/)\\xa0opened at $0.62 on Wednesday. The stock has a market cap of $153.43 million, a PE ratio of -3.44 and a beta of 1.20. Americas Silver has a 12 month low of $0.21 and a 12 month high of $0.65. The company has a current ratio of 0.42, a quick ratio of 0.28 and a debt-to-equity ratio of 0.18.\\n\\n# Institutional Trading of Americas Silver\\n\\nHedge funds have recently added to or reduced their stakes in the stock. HighTower Advisors LLC bought a new stake in Americas Silver in the 4th quarter valued at about $47,000. American Century Companies Inc. bought a new stake in shares of Americas Silver in the fourth quarter valued at approximately $73,000. Bank of America Corp DE raised its position in shares of Americas Silver by 273,321.1% in the fourth quarter. Bank of America Corp DE now owns 207,800 shares of the company’s stock valued at $78,000 after purchasing an additional 207,724 shares during the period. JPMorgan Chase &amp; Co. purchased a new stake in shares of Americas Silver during the 4th quarter valued at approximately $94,000. Finally, Cetera Investment Advisers boosted its holdings in Americas Silver by 4.8% in the 4th quarter. Cetera Investment Advisers now owns 428,844 shares of the company’s stock worth $167,000 after buying an additional 19,696 shares during the period. Institutional investors own 13.38% of the company’s stock.\\xa0\\n\\n# About Americas Silver\\n\\nAmericas Gold and Silver Corporation engages in the acquisition, evaluation, exploration, development, and operation of mineral properties. The company explores for silver, lead, zinc and copper. It principally owns 100% interests in the Cosalá Operations consisting of 67 mining concessions that cover approximately 19,385 hectares located in the state of Sinaloa, Mexico; and Galena Complex situated near the town of Wallace in the state of Idaho, the United States.\\n\\n[https://www.defenseworld.net/2025/04/24/q1-earnings-estimate-for-americas-silver-issued-by-cormark.html](https://www.defenseworld.net/2025/04/24/q1-earnings-estimate-for-americas-silver-issued-by-cormark.html)', 'subreddit': 'pennystocks', 'score': 3.95898438, 'url': 'https://reddit.com/r/pennystocks/comments/1k6sd43', 'matched_query': 'semiconductor market update'}, {'content': \"## Everything about Google's earnings tonight\\n\\nAlphabet reports first-quarter earnings after today's closing bell. They're the second earnings report among the Magnificent Seven stocks which I'll be posting about on each of their earning days. Alphabet is following Tesla, which, despite disappointing results, gained after news of Elon Musk's increased involvement in the company's operations. \\n\\nSo for GOOG, are we going in on calls or puts? I figured we'd at least need to be informed with what's in the know before deciding. In light of the widespread weakness among leading Big Tech companies (all of these companies have experienced higher declines than the broader US market since the beginning of the year), today's Alphabet earnings will be a significant test of how the company operates in a new environment dominated by uncertainty. I'm not only going to be interested in the financial data but I wanna see the message from the management indicating to investors whether Alphabet is navigating safely through our currently uncertain market.\\n\\n**The Chart**\\n\\nFrom a [TA perspective](https://i.imgur.com/uE3nJVz.png) a double bottom pattern may be forming on Alphabet's chart. If today's earnings results turn out to be a positive surprise and the stock price climbs above the $160.77 level, it could signal a reversal of the downward trend that has been affecting the tech giant's shares since the beginning of 2025. \\n\\n**Earnings**\\n\\nFor Q1, it looks like the market is expecting Alphabet to report revenue of $89.1 billion (+11% y/y). From what I've read, operating income is expected to reach $28.58 billion (+12% y/y). This stronger profit growth implies a slight margin improvement to above 32.08% (+0.45 pp). Tbh, it looks like effective cost management will be one of the biggest challenges for Alphabet in this environment. While sustaining strong revenue growth seems less at risk, managing expenses (especially given capital-intensive AI development plans) will be challenging.\\n\\n**Cloud Services**\\n\\nFor those who are aware, Google Cloud is a thing and is driving massive growth for the company. With rivals signaling a slowdown in data center expansion amid rising uncertainty, Alphabet may either follow a cautious strategy (likely dampening growth) or seize the opportunity to gain market share by acting aggressively.\\n\\nThe second approach would be riskier and more costly, potentially causing erosion in the segment’s operating margin. It would, however, be an investment in the better future market position.\\n\\nI'm going to be watching not just the quarterly results but also the forward outlook and management’s tone regarding the Cloud business. It looks like the Forecasted Cloud segment has a revenue of $12.32 billion for Q1 2025. This would be the h[ighest quarterly result in Alphabet's history](https://i.imgur.com/9uWUntD.png). However, operating income is expected to slightly decline versus the prior quarter, but at $1.94 billion it would still be over twice the result from Q1 2024.\\n\\n**Tariffs** \\n\\nOne of the key topics that I'll especially be closely watching tonight is the impact of tariffs and macroeconomic uncertainty on the company’s operations. Among the major Big Tech companies, Alphabet has shown the greatest resilience to potential geopolitical turmoil and has often demonstrated the fastest recovery following periods of uncertainty.\\n\\nAt this point, they do not appear to be in significantly better shape than its peers, with its stock down approximately 17% year-to-date, placing it squarely in the middle of the Magnificent Seven stocks.\\n\\nI think the first step toward rebuilding investor confidence will be outlining the scope and impact of tariffs and overall geopolitical uncertainty on the company’s operations. As such, the types of questions I expect during today’s conference about how strongly tariffs will affect Alphabet’s business. It is worth noting that this isn’t necessarily about the direct impact (which is likely to be limited) but rather the indirect effect of uncertainty on the willingness of Alphabet’s clients to spend on advertising, which constitutes a significant portion of the company’s revenue.\\n\\n**Price Targets**\\n\\nAmid these earnings expectations, analysts have been revising Alphabet's price targets downward. Over the past few weeks, [several top analysts have revised their 12-month price targets for Alphabet](https://www.tipranks.com/stocks/goog/forecast?utm_source=theglobeandmail.com&amp;utm_medium=referral). TD Cowen lowered its target from $210 to $195. UBS cut its target from $209 to $173. Even Scotiabank lowered its target from $232 to $200. Despite that, they all still rate GOOG stock as a Buy, showing they believe in its long-term value.\\n\\nGuggenheim lowered its target from $215 to $190, while Jefferies adjusted its target from $235 to $200, both maintaining a Buy rating. Piper Sandler and Citi followed suit, reducing their targets to $185 and $195 respectively, citing uncertainties in the advertising landscape and macroeconomic pressures.\\n\\nI mean. With all things considered, the stock is down 19% in 2025 so far. Combine that with rising legal risks (mentioned later here) and an uncertain economy, and you have a good reason to reframe expectations. Analysts aren’t necessarily predicting more downside; they’re just being more realistic about the upside, especially in the near term.\\n\\nIf we’re to simplify the analysts’ overall message, it’s that Alphabet’s fundamentals are strong, but the road ahead could be bumpy.\\n\\n**In the news**\\n\\nA federal court recently ruled that Google violated antitrust laws by monopolizing specific digital advertising markets. The court plans to determine suitable remedies soon. Some analysts believe the ruling could eventually lead to the divestiture of certain Google ad segments, though the financial impact on Alphabet is expected to be modest.\\n\\nThere’s also the bigger picture. Between global tariffs, economic uncertainty, and shifts in labor and costs across the tech industry, Alphabet has a lot on its plate. Investors will want to hear how the company manages expenses, hiring, and regional exposure.\\n\\n**Mergers and Acquisitions**\\n\\nAlphabet announced a $32 billion all-cash deal to acquire cloud security platform Wiz. This acquisition aims to enhance Google Cloud’s security capabilities and multi-cloud operations. Analysts are projecting long-term benefits from this acquisition, despite potential short-term market pressures on other cloud service providers.\\n\\nSeparately, Google has decided to maintain its current approach to offering third-party cookie choices in its Chrome browser, emphasizing the importance of online privacy and user control. This decision is part of Google's ongoing Privacy Sandbox initiative, which aims to strengthen online privacy while supporting a sustainable ad-driven internet environment.\\n\\n**What now?**\\n\\nAlphabet’s stock may be down, but most analysts still believe it’s a long-term winner. That’s why Buy ratings remain steady, even if price targets are down. Q1 earnings could be the reset moment Alphabet needs to win back momentum. I'm thinking short term puts for earnings but holding long term shares. Could even sell covered calls for earnings for some extra income, if you already have the shares. Avg price target is $204.\", 'subreddit': 'wallstreetbets', 'score': 3.78222656, 'url': 'https://reddit.com/r/wallstreetbets/comments/1k70ero', 'matched_query': 'semiconductor market update'}, {'content': \"## Rate My Portfolio - r/Stocks Quarterly Thread March 2025\\n\\nPlease use this thread to discuss your portfolio, learn of other stock tickers &amp; portfolios like [Warren Buffet's](https://buffett.online/en/portfolio/), and help out users by giving constructive criticism.\\n\\nWhy quarterly?  Public companies report earnings quarterly; many investors take this as an opportunity to rebalance their portfolios.  We highly recommend you do some reading:  Check out our wiki's list of [relevant posts &amp; book recommendations.](https://www.reddit.com/r/stocks/wiki/index/#wiki_relevant_posts.2C_books.2C_wiki_recommendations)\\n\\nYou can find stocks on your own by using a scanner like your broker's or [Finviz.](https://finviz.com/screener.ashx)  To help further, here's a list of [relevant websites.](https://www.reddit.com/r/stocks/wiki/index/#wiki_relevant_websites.2Fapps)\\n\\nIf you don't have a broker yet, see our [list of brokers](https://www.reddit.com/r/stocks/wiki/index/#wiki_brokers_for_investing) or search old posts.  If you haven't started investing or trading yet, then setup your [paper trading to learn basics like market orders vs limit orders.](https://www.reddit.com/r/stocks/wiki/index/#wiki_is_there_a_way_to_practice.3F)\\n\\nBe aware of [Business Cycle Investing](https://eresearch.fidelity.com/eresearch/markets_sectors/sectors/si_business_cycle.jhtml?tab=sibusiness) which Fidelity issues updates to the state of global business cycles every 1 to 3 months (note: Fidelity changes their links often, so search for it since their take on it is enlightening).  [Investopedia's take on the Business Cycle](https://www.investopedia.com/articles/investing/061316/business-cycle-investing-ratios-use-each-cycle.asp).\\n\\nIf you need help with a falling stock price, check out Investopedia's [The Art of Selling A Losing Position](https://www.investopedia.com/articles/02/022002.asp) and their [list of biases.](https://www.investopedia.com/articles/stocks/08/capital-losses.asp)\\n\\nHere's a list of all the [previous portfolio stickies.](https://www.reddit.com/r/stocks/search?q=author%3Aautomoderator+title%3A%22Rate+My+Portfolio%22&amp;restrict_sr=on&amp;sort=new&amp;t=all)\", 'subreddit': 'stocks', 'score': 3.7265625, 'url': 'https://reddit.com/r/stocks/comments/1j0w73o', 'matched_query': 'semiconductor market update'}]\u001b[0m\u001b[32;1m\u001b[1;3mRecent Reddit discussions regarding semiconductor companies' stock are a bit varied and not directly focused on specific updates or events related to the semiconductor industry. Here is a brief summary of the discussions found:\n",
            "\n",
            "1. **RHCO Acquisition News**: There was a discussion about RHCO (a small-cap stock) finalizing the acquisition of Morrich Lottery Limited and securing lottery, sportsbook, and casino licenses. This news highlighted the potential growth and positive financials of the company.\n",
            "\n",
            "2. **Gold Stocks Performance**: A post discussed the surge in gold prices and the shift in focus towards gold mining companies due to global tensions and economic uncertainties. It outlined different types of gold stocks and their recent performances.\n",
            "\n",
            "3. **Electric Vehicle Company**: A mention of Damon (DMN), an electric vehicle company, with significant pre-orders for their two-wheel electric vehicles. The post highlighted the company's focus on safety, accessibility tech, and data intelligence in the electric vehicle market.\n",
            "\n",
            "4. **Investing in Materials Mining Companies**: A newbie investor's interest in warrant stocks of materials mining companies, specifically rare earths. The post inquired about the conversion ratio to common stock and future conversions.\n",
            "\n",
            "5. **Potential Buyout of LXRX**: A discussion speculating on the potential buyout of LXRX based on various indicators such as management changes, licensing agreements, and golden parachute adoption.\n",
            "\n",
            "It seems that the discussions on semiconductor companies specifically were not prominent in the recent Reddit posts analyzed. If you are looking for more specific updates on semiconductor stocks, you may need to explore further or provide additional queries for a more targeted search.\u001b[0m\n",
            "\n",
            "\u001b[1m> Finished chain.\u001b[0m\n"
          ]
        },
        {
          "output_type": "display_data",
          "data": {
            "text/plain": [
              "<IPython.core.display.Markdown object>"
            ],
            "text/markdown": "Recent Reddit discussions regarding semiconductor companies' stock are a bit varied and not directly focused on specific updates or events related to the semiconductor industry. Here is a brief summary of the discussions found:\n\n1. **RHCO Acquisition News**: There was a discussion about RHCO (a small-cap stock) finalizing the acquisition of Morrich Lottery Limited and securing lottery, sportsbook, and casino licenses. This news highlighted the potential growth and positive financials of the company.\n\n2. **Gold Stocks Performance**: A post discussed the surge in gold prices and the shift in focus towards gold mining companies due to global tensions and economic uncertainties. It outlined different types of gold stocks and their recent performances.\n\n3. **Electric Vehicle Company**: A mention of Damon (DMN), an electric vehicle company, with significant pre-orders for their two-wheel electric vehicles. The post highlighted the company's focus on safety, accessibility tech, and data intelligence in the electric vehicle market.\n\n4. **Investing in Materials Mining Companies**: A newbie investor's interest in warrant stocks of materials mining companies, specifically rare earths. The post inquired about the conversion ratio to common stock and future conversions.\n\n5. **Potential Buyout of LXRX**: A discussion speculating on the potential buyout of LXRX based on various indicators such as management changes, licensing agreements, and golden parachute adoption.\n\nIt seems that the discussions on semiconductor companies specifically were not prominent in the recent Reddit posts analyzed. If you are looking for more specific updates on semiconductor stocks, you may need to explore further or provide additional queries for a more targeted search."
          },
          "metadata": {}
        }
      ]
    },
    {
      "cell_type": "markdown",
      "source": [
        "Once we're done, we can delete the index to save resources:"
      ],
      "metadata": {
        "id": "WM9Lz0eZXHQW"
      },
      "id": "WM9Lz0eZXHQW"
    },
    {
      "cell_type": "code",
      "execution_count": 33,
      "id": "12206f75-c8f6-474c-903f-582a5ec03709",
      "metadata": {
        "colab": {
          "base_uri": "https://localhost:8080/"
        },
        "id": "12206f75-c8f6-474c-903f-582a5ec03709",
        "outputId": "575b4cb3-8370-436e-853e-52f67b43fe09"
      },
      "outputs": [
        {
          "output_type": "execute_result",
          "data": {
            "text/plain": [
              "{}"
            ]
          },
          "metadata": {},
          "execution_count": 33
        }
      ],
      "source": [
        "index.delete(delete_all=True)"
      ]
    },
    {
      "cell_type": "markdown",
      "source": [
        "---"
      ],
      "metadata": {
        "id": "0bLLVQWoYA5I"
      },
      "id": "0bLLVQWoYA5I"
    }
  ],
  "metadata": {
    "kernelspec": {
      "display_name": "Python 3 (ipykernel)",
      "language": "python",
      "name": "python3"
    },
    "language_info": {
      "codemirror_mode": {
        "name": "ipython",
        "version": 3
      },
      "file_extension": ".py",
      "mimetype": "text/x-python",
      "name": "python",
      "nbconvert_exporter": "python",
      "pygments_lexer": "ipython3",
      "version": "3.11.4"
    },
    "colab": {
      "provenance": []
    },
    "widgets": {
      "application/vnd.jupyter.widget-state+json": {
        "ab5798124e5c421a998f1f285ac38ef8": {
          "model_module": "@jupyter-widgets/controls",
          "model_name": "HBoxModel",
          "model_module_version": "1.5.0",
          "state": {
            "_dom_classes": [],
            "_model_module": "@jupyter-widgets/controls",
            "_model_module_version": "1.5.0",
            "_model_name": "HBoxModel",
            "_view_count": null,
            "_view_module": "@jupyter-widgets/controls",
            "_view_module_version": "1.5.0",
            "_view_name": "HBoxView",
            "box_style": "",
            "children": [
              "IPY_MODEL_9256d3d011ab4e3ab779e7a88e69a8a8",
              "IPY_MODEL_808652df357f4c12854d5b7e140c6c05",
              "IPY_MODEL_068d93be438b416397c28fb4a31ea912"
            ],
            "layout": "IPY_MODEL_5ec7b30aa7b54996b69b6fa7d6b516f6"
          }
        },
        "9256d3d011ab4e3ab779e7a88e69a8a8": {
          "model_module": "@jupyter-widgets/controls",
          "model_name": "HTMLModel",
          "model_module_version": "1.5.0",
          "state": {
            "_dom_classes": [],
            "_model_module": "@jupyter-widgets/controls",
            "_model_module_version": "1.5.0",
            "_model_name": "HTMLModel",
            "_view_count": null,
            "_view_module": "@jupyter-widgets/controls",
            "_view_module_version": "1.5.0",
            "_view_name": "HTMLView",
            "description": "",
            "description_tooltip": null,
            "layout": "IPY_MODEL_29ef401bddd74acab16ba66af300f3bd",
            "placeholder": "​",
            "style": "IPY_MODEL_b8bc69bd0b06422297944f3f774c2a11",
            "value": "100%"
          }
        },
        "808652df357f4c12854d5b7e140c6c05": {
          "model_module": "@jupyter-widgets/controls",
          "model_name": "FloatProgressModel",
          "model_module_version": "1.5.0",
          "state": {
            "_dom_classes": [],
            "_model_module": "@jupyter-widgets/controls",
            "_model_module_version": "1.5.0",
            "_model_name": "FloatProgressModel",
            "_view_count": null,
            "_view_module": "@jupyter-widgets/controls",
            "_view_module_version": "1.5.0",
            "_view_name": "ProgressView",
            "bar_style": "success",
            "description": "",
            "description_tooltip": null,
            "layout": "IPY_MODEL_d66a88df68bf4da6bb1ce05bc249de80",
            "max": 2,
            "min": 0,
            "orientation": "horizontal",
            "style": "IPY_MODEL_fbd53c93cb1f440c98c87e2ee5a34b30",
            "value": 2
          }
        },
        "068d93be438b416397c28fb4a31ea912": {
          "model_module": "@jupyter-widgets/controls",
          "model_name": "HTMLModel",
          "model_module_version": "1.5.0",
          "state": {
            "_dom_classes": [],
            "_model_module": "@jupyter-widgets/controls",
            "_model_module_version": "1.5.0",
            "_model_name": "HTMLModel",
            "_view_count": null,
            "_view_module": "@jupyter-widgets/controls",
            "_view_module_version": "1.5.0",
            "_view_name": "HTMLView",
            "description": "",
            "description_tooltip": null,
            "layout": "IPY_MODEL_cd4004d5e0fa4e3ba579231d477ef327",
            "placeholder": "​",
            "style": "IPY_MODEL_625a78ed240a48ca9c6f55e1354bacb4",
            "value": " 2/2 [00:02&lt;00:00,  1.07it/s]"
          }
        },
        "5ec7b30aa7b54996b69b6fa7d6b516f6": {
          "model_module": "@jupyter-widgets/base",
          "model_name": "LayoutModel",
          "model_module_version": "1.2.0",
          "state": {
            "_model_module": "@jupyter-widgets/base",
            "_model_module_version": "1.2.0",
            "_model_name": "LayoutModel",
            "_view_count": null,
            "_view_module": "@jupyter-widgets/base",
            "_view_module_version": "1.2.0",
            "_view_name": "LayoutView",
            "align_content": null,
            "align_items": null,
            "align_self": null,
            "border": null,
            "bottom": null,
            "display": null,
            "flex": null,
            "flex_flow": null,
            "grid_area": null,
            "grid_auto_columns": null,
            "grid_auto_flow": null,
            "grid_auto_rows": null,
            "grid_column": null,
            "grid_gap": null,
            "grid_row": null,
            "grid_template_areas": null,
            "grid_template_columns": null,
            "grid_template_rows": null,
            "height": null,
            "justify_content": null,
            "justify_items": null,
            "left": null,
            "margin": null,
            "max_height": null,
            "max_width": null,
            "min_height": null,
            "min_width": null,
            "object_fit": null,
            "object_position": null,
            "order": null,
            "overflow": null,
            "overflow_x": null,
            "overflow_y": null,
            "padding": null,
            "right": null,
            "top": null,
            "visibility": null,
            "width": null
          }
        },
        "29ef401bddd74acab16ba66af300f3bd": {
          "model_module": "@jupyter-widgets/base",
          "model_name": "LayoutModel",
          "model_module_version": "1.2.0",
          "state": {
            "_model_module": "@jupyter-widgets/base",
            "_model_module_version": "1.2.0",
            "_model_name": "LayoutModel",
            "_view_count": null,
            "_view_module": "@jupyter-widgets/base",
            "_view_module_version": "1.2.0",
            "_view_name": "LayoutView",
            "align_content": null,
            "align_items": null,
            "align_self": null,
            "border": null,
            "bottom": null,
            "display": null,
            "flex": null,
            "flex_flow": null,
            "grid_area": null,
            "grid_auto_columns": null,
            "grid_auto_flow": null,
            "grid_auto_rows": null,
            "grid_column": null,
            "grid_gap": null,
            "grid_row": null,
            "grid_template_areas": null,
            "grid_template_columns": null,
            "grid_template_rows": null,
            "height": null,
            "justify_content": null,
            "justify_items": null,
            "left": null,
            "margin": null,
            "max_height": null,
            "max_width": null,
            "min_height": null,
            "min_width": null,
            "object_fit": null,
            "object_position": null,
            "order": null,
            "overflow": null,
            "overflow_x": null,
            "overflow_y": null,
            "padding": null,
            "right": null,
            "top": null,
            "visibility": null,
            "width": null
          }
        },
        "b8bc69bd0b06422297944f3f774c2a11": {
          "model_module": "@jupyter-widgets/controls",
          "model_name": "DescriptionStyleModel",
          "model_module_version": "1.5.0",
          "state": {
            "_model_module": "@jupyter-widgets/controls",
            "_model_module_version": "1.5.0",
            "_model_name": "DescriptionStyleModel",
            "_view_count": null,
            "_view_module": "@jupyter-widgets/base",
            "_view_module_version": "1.2.0",
            "_view_name": "StyleView",
            "description_width": ""
          }
        },
        "d66a88df68bf4da6bb1ce05bc249de80": {
          "model_module": "@jupyter-widgets/base",
          "model_name": "LayoutModel",
          "model_module_version": "1.2.0",
          "state": {
            "_model_module": "@jupyter-widgets/base",
            "_model_module_version": "1.2.0",
            "_model_name": "LayoutModel",
            "_view_count": null,
            "_view_module": "@jupyter-widgets/base",
            "_view_module_version": "1.2.0",
            "_view_name": "LayoutView",
            "align_content": null,
            "align_items": null,
            "align_self": null,
            "border": null,
            "bottom": null,
            "display": null,
            "flex": null,
            "flex_flow": null,
            "grid_area": null,
            "grid_auto_columns": null,
            "grid_auto_flow": null,
            "grid_auto_rows": null,
            "grid_column": null,
            "grid_gap": null,
            "grid_row": null,
            "grid_template_areas": null,
            "grid_template_columns": null,
            "grid_template_rows": null,
            "height": null,
            "justify_content": null,
            "justify_items": null,
            "left": null,
            "margin": null,
            "max_height": null,
            "max_width": null,
            "min_height": null,
            "min_width": null,
            "object_fit": null,
            "object_position": null,
            "order": null,
            "overflow": null,
            "overflow_x": null,
            "overflow_y": null,
            "padding": null,
            "right": null,
            "top": null,
            "visibility": null,
            "width": null
          }
        },
        "fbd53c93cb1f440c98c87e2ee5a34b30": {
          "model_module": "@jupyter-widgets/controls",
          "model_name": "ProgressStyleModel",
          "model_module_version": "1.5.0",
          "state": {
            "_model_module": "@jupyter-widgets/controls",
            "_model_module_version": "1.5.0",
            "_model_name": "ProgressStyleModel",
            "_view_count": null,
            "_view_module": "@jupyter-widgets/base",
            "_view_module_version": "1.2.0",
            "_view_name": "StyleView",
            "bar_color": null,
            "description_width": ""
          }
        },
        "cd4004d5e0fa4e3ba579231d477ef327": {
          "model_module": "@jupyter-widgets/base",
          "model_name": "LayoutModel",
          "model_module_version": "1.2.0",
          "state": {
            "_model_module": "@jupyter-widgets/base",
            "_model_module_version": "1.2.0",
            "_model_name": "LayoutModel",
            "_view_count": null,
            "_view_module": "@jupyter-widgets/base",
            "_view_module_version": "1.2.0",
            "_view_name": "LayoutView",
            "align_content": null,
            "align_items": null,
            "align_self": null,
            "border": null,
            "bottom": null,
            "display": null,
            "flex": null,
            "flex_flow": null,
            "grid_area": null,
            "grid_auto_columns": null,
            "grid_auto_flow": null,
            "grid_auto_rows": null,
            "grid_column": null,
            "grid_gap": null,
            "grid_row": null,
            "grid_template_areas": null,
            "grid_template_columns": null,
            "grid_template_rows": null,
            "height": null,
            "justify_content": null,
            "justify_items": null,
            "left": null,
            "margin": null,
            "max_height": null,
            "max_width": null,
            "min_height": null,
            "min_width": null,
            "object_fit": null,
            "object_position": null,
            "order": null,
            "overflow": null,
            "overflow_x": null,
            "overflow_y": null,
            "padding": null,
            "right": null,
            "top": null,
            "visibility": null,
            "width": null
          }
        },
        "625a78ed240a48ca9c6f55e1354bacb4": {
          "model_module": "@jupyter-widgets/controls",
          "model_name": "DescriptionStyleModel",
          "model_module_version": "1.5.0",
          "state": {
            "_model_module": "@jupyter-widgets/controls",
            "_model_module_version": "1.5.0",
            "_model_name": "DescriptionStyleModel",
            "_view_count": null,
            "_view_module": "@jupyter-widgets/base",
            "_view_module_version": "1.2.0",
            "_view_name": "StyleView",
            "description_width": ""
          }
        },
        "13432a4f843e4d888fb9f14e13aaf915": {
          "model_module": "@jupyter-widgets/controls",
          "model_name": "HBoxModel",
          "model_module_version": "1.5.0",
          "state": {
            "_dom_classes": [],
            "_model_module": "@jupyter-widgets/controls",
            "_model_module_version": "1.5.0",
            "_model_name": "HBoxModel",
            "_view_count": null,
            "_view_module": "@jupyter-widgets/controls",
            "_view_module_version": "1.5.0",
            "_view_name": "HBoxView",
            "box_style": "",
            "children": [
              "IPY_MODEL_51650d4e637d4b38b989e33f677dd898",
              "IPY_MODEL_20994324a0434cebad91cdbe71270d1e",
              "IPY_MODEL_d1b153c844ee444ababc61f0329596fd"
            ],
            "layout": "IPY_MODEL_e28c7db4684c4d0fb2c3c763ba8f0f9f"
          }
        },
        "51650d4e637d4b38b989e33f677dd898": {
          "model_module": "@jupyter-widgets/controls",
          "model_name": "HTMLModel",
          "model_module_version": "1.5.0",
          "state": {
            "_dom_classes": [],
            "_model_module": "@jupyter-widgets/controls",
            "_model_module_version": "1.5.0",
            "_model_name": "HTMLModel",
            "_view_count": null,
            "_view_module": "@jupyter-widgets/controls",
            "_view_module_version": "1.5.0",
            "_view_name": "HTMLView",
            "description": "",
            "description_tooltip": null,
            "layout": "IPY_MODEL_0e076e25d01a43df92162ac1e2ee9a5d",
            "placeholder": "​",
            "style": "IPY_MODEL_7f39350c013a4b01b1a9ffa6c27c1b62",
            "value": "100%"
          }
        },
        "20994324a0434cebad91cdbe71270d1e": {
          "model_module": "@jupyter-widgets/controls",
          "model_name": "FloatProgressModel",
          "model_module_version": "1.5.0",
          "state": {
            "_dom_classes": [],
            "_model_module": "@jupyter-widgets/controls",
            "_model_module_version": "1.5.0",
            "_model_name": "FloatProgressModel",
            "_view_count": null,
            "_view_module": "@jupyter-widgets/controls",
            "_view_module_version": "1.5.0",
            "_view_name": "ProgressView",
            "bar_style": "success",
            "description": "",
            "description_tooltip": null,
            "layout": "IPY_MODEL_72bb8e675917445c8b420eb178f32175",
            "max": 2,
            "min": 0,
            "orientation": "horizontal",
            "style": "IPY_MODEL_99d09d29f62242c2a462875d80477199",
            "value": 2
          }
        },
        "d1b153c844ee444ababc61f0329596fd": {
          "model_module": "@jupyter-widgets/controls",
          "model_name": "HTMLModel",
          "model_module_version": "1.5.0",
          "state": {
            "_dom_classes": [],
            "_model_module": "@jupyter-widgets/controls",
            "_model_module_version": "1.5.0",
            "_model_name": "HTMLModel",
            "_view_count": null,
            "_view_module": "@jupyter-widgets/controls",
            "_view_module_version": "1.5.0",
            "_view_name": "HTMLView",
            "description": "",
            "description_tooltip": null,
            "layout": "IPY_MODEL_b886e6f072af44e2baf1991e9effa9b8",
            "placeholder": "​",
            "style": "IPY_MODEL_39fe8a041296438d900c94f95721f32f",
            "value": " 2/2 [00:00&lt;00:00,  2.33it/s]"
          }
        },
        "e28c7db4684c4d0fb2c3c763ba8f0f9f": {
          "model_module": "@jupyter-widgets/base",
          "model_name": "LayoutModel",
          "model_module_version": "1.2.0",
          "state": {
            "_model_module": "@jupyter-widgets/base",
            "_model_module_version": "1.2.0",
            "_model_name": "LayoutModel",
            "_view_count": null,
            "_view_module": "@jupyter-widgets/base",
            "_view_module_version": "1.2.0",
            "_view_name": "LayoutView",
            "align_content": null,
            "align_items": null,
            "align_self": null,
            "border": null,
            "bottom": null,
            "display": null,
            "flex": null,
            "flex_flow": null,
            "grid_area": null,
            "grid_auto_columns": null,
            "grid_auto_flow": null,
            "grid_auto_rows": null,
            "grid_column": null,
            "grid_gap": null,
            "grid_row": null,
            "grid_template_areas": null,
            "grid_template_columns": null,
            "grid_template_rows": null,
            "height": null,
            "justify_content": null,
            "justify_items": null,
            "left": null,
            "margin": null,
            "max_height": null,
            "max_width": null,
            "min_height": null,
            "min_width": null,
            "object_fit": null,
            "object_position": null,
            "order": null,
            "overflow": null,
            "overflow_x": null,
            "overflow_y": null,
            "padding": null,
            "right": null,
            "top": null,
            "visibility": null,
            "width": null
          }
        },
        "0e076e25d01a43df92162ac1e2ee9a5d": {
          "model_module": "@jupyter-widgets/base",
          "model_name": "LayoutModel",
          "model_module_version": "1.2.0",
          "state": {
            "_model_module": "@jupyter-widgets/base",
            "_model_module_version": "1.2.0",
            "_model_name": "LayoutModel",
            "_view_count": null,
            "_view_module": "@jupyter-widgets/base",
            "_view_module_version": "1.2.0",
            "_view_name": "LayoutView",
            "align_content": null,
            "align_items": null,
            "align_self": null,
            "border": null,
            "bottom": null,
            "display": null,
            "flex": null,
            "flex_flow": null,
            "grid_area": null,
            "grid_auto_columns": null,
            "grid_auto_flow": null,
            "grid_auto_rows": null,
            "grid_column": null,
            "grid_gap": null,
            "grid_row": null,
            "grid_template_areas": null,
            "grid_template_columns": null,
            "grid_template_rows": null,
            "height": null,
            "justify_content": null,
            "justify_items": null,
            "left": null,
            "margin": null,
            "max_height": null,
            "max_width": null,
            "min_height": null,
            "min_width": null,
            "object_fit": null,
            "object_position": null,
            "order": null,
            "overflow": null,
            "overflow_x": null,
            "overflow_y": null,
            "padding": null,
            "right": null,
            "top": null,
            "visibility": null,
            "width": null
          }
        },
        "7f39350c013a4b01b1a9ffa6c27c1b62": {
          "model_module": "@jupyter-widgets/controls",
          "model_name": "DescriptionStyleModel",
          "model_module_version": "1.5.0",
          "state": {
            "_model_module": "@jupyter-widgets/controls",
            "_model_module_version": "1.5.0",
            "_model_name": "DescriptionStyleModel",
            "_view_count": null,
            "_view_module": "@jupyter-widgets/base",
            "_view_module_version": "1.2.0",
            "_view_name": "StyleView",
            "description_width": ""
          }
        },
        "72bb8e675917445c8b420eb178f32175": {
          "model_module": "@jupyter-widgets/base",
          "model_name": "LayoutModel",
          "model_module_version": "1.2.0",
          "state": {
            "_model_module": "@jupyter-widgets/base",
            "_model_module_version": "1.2.0",
            "_model_name": "LayoutModel",
            "_view_count": null,
            "_view_module": "@jupyter-widgets/base",
            "_view_module_version": "1.2.0",
            "_view_name": "LayoutView",
            "align_content": null,
            "align_items": null,
            "align_self": null,
            "border": null,
            "bottom": null,
            "display": null,
            "flex": null,
            "flex_flow": null,
            "grid_area": null,
            "grid_auto_columns": null,
            "grid_auto_flow": null,
            "grid_auto_rows": null,
            "grid_column": null,
            "grid_gap": null,
            "grid_row": null,
            "grid_template_areas": null,
            "grid_template_columns": null,
            "grid_template_rows": null,
            "height": null,
            "justify_content": null,
            "justify_items": null,
            "left": null,
            "margin": null,
            "max_height": null,
            "max_width": null,
            "min_height": null,
            "min_width": null,
            "object_fit": null,
            "object_position": null,
            "order": null,
            "overflow": null,
            "overflow_x": null,
            "overflow_y": null,
            "padding": null,
            "right": null,
            "top": null,
            "visibility": null,
            "width": null
          }
        },
        "99d09d29f62242c2a462875d80477199": {
          "model_module": "@jupyter-widgets/controls",
          "model_name": "ProgressStyleModel",
          "model_module_version": "1.5.0",
          "state": {
            "_model_module": "@jupyter-widgets/controls",
            "_model_module_version": "1.5.0",
            "_model_name": "ProgressStyleModel",
            "_view_count": null,
            "_view_module": "@jupyter-widgets/base",
            "_view_module_version": "1.2.0",
            "_view_name": "StyleView",
            "bar_color": null,
            "description_width": ""
          }
        },
        "b886e6f072af44e2baf1991e9effa9b8": {
          "model_module": "@jupyter-widgets/base",
          "model_name": "LayoutModel",
          "model_module_version": "1.2.0",
          "state": {
            "_model_module": "@jupyter-widgets/base",
            "_model_module_version": "1.2.0",
            "_model_name": "LayoutModel",
            "_view_count": null,
            "_view_module": "@jupyter-widgets/base",
            "_view_module_version": "1.2.0",
            "_view_name": "LayoutView",
            "align_content": null,
            "align_items": null,
            "align_self": null,
            "border": null,
            "bottom": null,
            "display": null,
            "flex": null,
            "flex_flow": null,
            "grid_area": null,
            "grid_auto_columns": null,
            "grid_auto_flow": null,
            "grid_auto_rows": null,
            "grid_column": null,
            "grid_gap": null,
            "grid_row": null,
            "grid_template_areas": null,
            "grid_template_columns": null,
            "grid_template_rows": null,
            "height": null,
            "justify_content": null,
            "justify_items": null,
            "left": null,
            "margin": null,
            "max_height": null,
            "max_width": null,
            "min_height": null,
            "min_width": null,
            "object_fit": null,
            "object_position": null,
            "order": null,
            "overflow": null,
            "overflow_x": null,
            "overflow_y": null,
            "padding": null,
            "right": null,
            "top": null,
            "visibility": null,
            "width": null
          }
        },
        "39fe8a041296438d900c94f95721f32f": {
          "model_module": "@jupyter-widgets/controls",
          "model_name": "DescriptionStyleModel",
          "model_module_version": "1.5.0",
          "state": {
            "_model_module": "@jupyter-widgets/controls",
            "_model_module_version": "1.5.0",
            "_model_name": "DescriptionStyleModel",
            "_view_count": null,
            "_view_module": "@jupyter-widgets/base",
            "_view_module_version": "1.2.0",
            "_view_name": "StyleView",
            "description_width": ""
          }
        },
        "d6cf728a78d74455a8eb4cce0a585c17": {
          "model_module": "@jupyter-widgets/controls",
          "model_name": "HBoxModel",
          "model_module_version": "1.5.0",
          "state": {
            "_dom_classes": [],
            "_model_module": "@jupyter-widgets/controls",
            "_model_module_version": "1.5.0",
            "_model_name": "HBoxModel",
            "_view_count": null,
            "_view_module": "@jupyter-widgets/controls",
            "_view_module_version": "1.5.0",
            "_view_name": "HBoxView",
            "box_style": "",
            "children": [
              "IPY_MODEL_52e313cbdeb546ef9a7e2cf2fb623ec2",
              "IPY_MODEL_fde929b5349244d68e4df684372134e5",
              "IPY_MODEL_d0201bc3433f434594d80ee441cf788d"
            ],
            "layout": "IPY_MODEL_669ff442315c479e978d2d1f26f454bb"
          }
        },
        "52e313cbdeb546ef9a7e2cf2fb623ec2": {
          "model_module": "@jupyter-widgets/controls",
          "model_name": "HTMLModel",
          "model_module_version": "1.5.0",
          "state": {
            "_dom_classes": [],
            "_model_module": "@jupyter-widgets/controls",
            "_model_module_version": "1.5.0",
            "_model_name": "HTMLModel",
            "_view_count": null,
            "_view_module": "@jupyter-widgets/controls",
            "_view_module_version": "1.5.0",
            "_view_name": "HTMLView",
            "description": "",
            "description_tooltip": null,
            "layout": "IPY_MODEL_de66b60101924cba87592d549133a562",
            "placeholder": "​",
            "style": "IPY_MODEL_0089d52337834455b7594fc308b38107",
            "value": "100%"
          }
        },
        "fde929b5349244d68e4df684372134e5": {
          "model_module": "@jupyter-widgets/controls",
          "model_name": "FloatProgressModel",
          "model_module_version": "1.5.0",
          "state": {
            "_dom_classes": [],
            "_model_module": "@jupyter-widgets/controls",
            "_model_module_version": "1.5.0",
            "_model_name": "FloatProgressModel",
            "_view_count": null,
            "_view_module": "@jupyter-widgets/controls",
            "_view_module_version": "1.5.0",
            "_view_name": "ProgressView",
            "bar_style": "success",
            "description": "",
            "description_tooltip": null,
            "layout": "IPY_MODEL_ec337c8d9a994a5693b1968d084b197e",
            "max": 1,
            "min": 0,
            "orientation": "horizontal",
            "style": "IPY_MODEL_30f2106e88cc46ef9f4d5aebf7150300",
            "value": 1
          }
        },
        "d0201bc3433f434594d80ee441cf788d": {
          "model_module": "@jupyter-widgets/controls",
          "model_name": "HTMLModel",
          "model_module_version": "1.5.0",
          "state": {
            "_dom_classes": [],
            "_model_module": "@jupyter-widgets/controls",
            "_model_module_version": "1.5.0",
            "_model_name": "HTMLModel",
            "_view_count": null,
            "_view_module": "@jupyter-widgets/controls",
            "_view_module_version": "1.5.0",
            "_view_name": "HTMLView",
            "description": "",
            "description_tooltip": null,
            "layout": "IPY_MODEL_2b1f4c73a9f145c0abab89ce03458bec",
            "placeholder": "​",
            "style": "IPY_MODEL_99e5c895751541ae985642a5ee3089f7",
            "value": " 1/1 [00:00&lt;00:00,  5.06it/s]"
          }
        },
        "669ff442315c479e978d2d1f26f454bb": {
          "model_module": "@jupyter-widgets/base",
          "model_name": "LayoutModel",
          "model_module_version": "1.2.0",
          "state": {
            "_model_module": "@jupyter-widgets/base",
            "_model_module_version": "1.2.0",
            "_model_name": "LayoutModel",
            "_view_count": null,
            "_view_module": "@jupyter-widgets/base",
            "_view_module_version": "1.2.0",
            "_view_name": "LayoutView",
            "align_content": null,
            "align_items": null,
            "align_self": null,
            "border": null,
            "bottom": null,
            "display": null,
            "flex": null,
            "flex_flow": null,
            "grid_area": null,
            "grid_auto_columns": null,
            "grid_auto_flow": null,
            "grid_auto_rows": null,
            "grid_column": null,
            "grid_gap": null,
            "grid_row": null,
            "grid_template_areas": null,
            "grid_template_columns": null,
            "grid_template_rows": null,
            "height": null,
            "justify_content": null,
            "justify_items": null,
            "left": null,
            "margin": null,
            "max_height": null,
            "max_width": null,
            "min_height": null,
            "min_width": null,
            "object_fit": null,
            "object_position": null,
            "order": null,
            "overflow": null,
            "overflow_x": null,
            "overflow_y": null,
            "padding": null,
            "right": null,
            "top": null,
            "visibility": null,
            "width": null
          }
        },
        "de66b60101924cba87592d549133a562": {
          "model_module": "@jupyter-widgets/base",
          "model_name": "LayoutModel",
          "model_module_version": "1.2.0",
          "state": {
            "_model_module": "@jupyter-widgets/base",
            "_model_module_version": "1.2.0",
            "_model_name": "LayoutModel",
            "_view_count": null,
            "_view_module": "@jupyter-widgets/base",
            "_view_module_version": "1.2.0",
            "_view_name": "LayoutView",
            "align_content": null,
            "align_items": null,
            "align_self": null,
            "border": null,
            "bottom": null,
            "display": null,
            "flex": null,
            "flex_flow": null,
            "grid_area": null,
            "grid_auto_columns": null,
            "grid_auto_flow": null,
            "grid_auto_rows": null,
            "grid_column": null,
            "grid_gap": null,
            "grid_row": null,
            "grid_template_areas": null,
            "grid_template_columns": null,
            "grid_template_rows": null,
            "height": null,
            "justify_content": null,
            "justify_items": null,
            "left": null,
            "margin": null,
            "max_height": null,
            "max_width": null,
            "min_height": null,
            "min_width": null,
            "object_fit": null,
            "object_position": null,
            "order": null,
            "overflow": null,
            "overflow_x": null,
            "overflow_y": null,
            "padding": null,
            "right": null,
            "top": null,
            "visibility": null,
            "width": null
          }
        },
        "0089d52337834455b7594fc308b38107": {
          "model_module": "@jupyter-widgets/controls",
          "model_name": "DescriptionStyleModel",
          "model_module_version": "1.5.0",
          "state": {
            "_model_module": "@jupyter-widgets/controls",
            "_model_module_version": "1.5.0",
            "_model_name": "DescriptionStyleModel",
            "_view_count": null,
            "_view_module": "@jupyter-widgets/base",
            "_view_module_version": "1.2.0",
            "_view_name": "StyleView",
            "description_width": ""
          }
        },
        "ec337c8d9a994a5693b1968d084b197e": {
          "model_module": "@jupyter-widgets/base",
          "model_name": "LayoutModel",
          "model_module_version": "1.2.0",
          "state": {
            "_model_module": "@jupyter-widgets/base",
            "_model_module_version": "1.2.0",
            "_model_name": "LayoutModel",
            "_view_count": null,
            "_view_module": "@jupyter-widgets/base",
            "_view_module_version": "1.2.0",
            "_view_name": "LayoutView",
            "align_content": null,
            "align_items": null,
            "align_self": null,
            "border": null,
            "bottom": null,
            "display": null,
            "flex": null,
            "flex_flow": null,
            "grid_area": null,
            "grid_auto_columns": null,
            "grid_auto_flow": null,
            "grid_auto_rows": null,
            "grid_column": null,
            "grid_gap": null,
            "grid_row": null,
            "grid_template_areas": null,
            "grid_template_columns": null,
            "grid_template_rows": null,
            "height": null,
            "justify_content": null,
            "justify_items": null,
            "left": null,
            "margin": null,
            "max_height": null,
            "max_width": null,
            "min_height": null,
            "min_width": null,
            "object_fit": null,
            "object_position": null,
            "order": null,
            "overflow": null,
            "overflow_x": null,
            "overflow_y": null,
            "padding": null,
            "right": null,
            "top": null,
            "visibility": null,
            "width": null
          }
        },
        "30f2106e88cc46ef9f4d5aebf7150300": {
          "model_module": "@jupyter-widgets/controls",
          "model_name": "ProgressStyleModel",
          "model_module_version": "1.5.0",
          "state": {
            "_model_module": "@jupyter-widgets/controls",
            "_model_module_version": "1.5.0",
            "_model_name": "ProgressStyleModel",
            "_view_count": null,
            "_view_module": "@jupyter-widgets/base",
            "_view_module_version": "1.2.0",
            "_view_name": "StyleView",
            "bar_color": null,
            "description_width": ""
          }
        },
        "2b1f4c73a9f145c0abab89ce03458bec": {
          "model_module": "@jupyter-widgets/base",
          "model_name": "LayoutModel",
          "model_module_version": "1.2.0",
          "state": {
            "_model_module": "@jupyter-widgets/base",
            "_model_module_version": "1.2.0",
            "_model_name": "LayoutModel",
            "_view_count": null,
            "_view_module": "@jupyter-widgets/base",
            "_view_module_version": "1.2.0",
            "_view_name": "LayoutView",
            "align_content": null,
            "align_items": null,
            "align_self": null,
            "border": null,
            "bottom": null,
            "display": null,
            "flex": null,
            "flex_flow": null,
            "grid_area": null,
            "grid_auto_columns": null,
            "grid_auto_flow": null,
            "grid_auto_rows": null,
            "grid_column": null,
            "grid_gap": null,
            "grid_row": null,
            "grid_template_areas": null,
            "grid_template_columns": null,
            "grid_template_rows": null,
            "height": null,
            "justify_content": null,
            "justify_items": null,
            "left": null,
            "margin": null,
            "max_height": null,
            "max_width": null,
            "min_height": null,
            "min_width": null,
            "object_fit": null,
            "object_position": null,
            "order": null,
            "overflow": null,
            "overflow_x": null,
            "overflow_y": null,
            "padding": null,
            "right": null,
            "top": null,
            "visibility": null,
            "width": null
          }
        },
        "99e5c895751541ae985642a5ee3089f7": {
          "model_module": "@jupyter-widgets/controls",
          "model_name": "DescriptionStyleModel",
          "model_module_version": "1.5.0",
          "state": {
            "_model_module": "@jupyter-widgets/controls",
            "_model_module_version": "1.5.0",
            "_model_name": "DescriptionStyleModel",
            "_view_count": null,
            "_view_module": "@jupyter-widgets/base",
            "_view_module_version": "1.2.0",
            "_view_name": "StyleView",
            "description_width": ""
          }
        }
      }
    }
  },
  "nbformat": 4,
  "nbformat_minor": 5
}