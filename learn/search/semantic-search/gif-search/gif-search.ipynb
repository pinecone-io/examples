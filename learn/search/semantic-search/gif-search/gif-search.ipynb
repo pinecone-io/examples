{
 "cells": [
  {
   "attachments": {},
   "cell_type": "markdown",
   "metadata": {},
   "source": [
    "[![Open In Colab](https://colab.research.google.com/assets/colab-badge.svg)](https://colab.research.google.com/github/pinecone-io/examples/blob/master/learn/search/semantic-search/gif-search/gif-search.ipynb) [![Open nbviewer](https://raw.githubusercontent.com/pinecone-io/examples/master/assets/nbviewer-shield.svg)](https://nbviewer.org/github/pinecone-io/examples/blob/master/learn/search/semantic-search/gif-search/gif-search.ipynb)\n",
    "\n",
    "# NLP Powered GIF search"
   ]
  },
  {
   "cell_type": "markdown",
   "metadata": {},
   "source": [
    "We will use the [Tumblr GIF Description Dataset](http://raingo.github.io/TGIF-Release/), which contains over 100k animated GIFs and 120K sentences describing its visual content. Using this data with a *vector database* and *retriever* we are able to create an NLP-powered GIF search tool.\n",
    "\n",
    "There are a few packages that must be installed for this notebook to run:"
   ]
  },
  {
   "cell_type": "code",
   "execution_count": null,
   "metadata": {},
   "outputs": [],
   "source": [
    "pip install -U pandas pinecone-client sentence-transformers tqdm"
   ]
  },
  {
   "cell_type": "markdown",
   "metadata": {},
   "source": [
    "We must also set the following notebook parameters to display the GIF images we will be working with."
   ]
  },
  {
   "cell_type": "code",
   "execution_count": 1,
   "metadata": {
    "id": "r8KN-iWWdwby"
   },
   "outputs": [],
   "source": [
    "from IPython.display import HTML\n",
    "from IPython.core.interactiveshell import InteractiveShell\n",
    "InteractiveShell.ast_node_interactivity = \"all\""
   ]
  },
  {
   "cell_type": "markdown",
   "metadata": {
    "id": "KFIZrga-6Jq_"
   },
   "source": [
    "## Download and Extract Dataset"
   ]
  },
  {
   "cell_type": "markdown",
   "metadata": {},
   "source": [
    "First let's download and extract the dataset. The dataset is available [here](https://github.com/raingo/TGIF-Release) on GitHub. We can use the link below to download the dataset directly. We can also access the link from a browser to directly download the files."
   ]
  },
  {
   "cell_type": "code",
   "execution_count": null,
   "metadata": {
    "colab": {
     "base_uri": "https://localhost:8080/"
    },
    "id": "ZD4gusO9YB1-",
    "outputId": "2d69fa61-f67a-45c8-ecc4-4d1c9b06f7cf"
   },
   "outputs": [],
   "source": [
    "# Use wget to download the master.zip file which contains the dataset\n",
    "!wget https://github.com/raingo/TGIF-Release/archive/master.zip"
   ]
  },
  {
   "cell_type": "code",
   "execution_count": null,
   "metadata": {
    "id": "qLvXp0RtYTTz"
   },
   "outputs": [],
   "source": [
    "# Use unzip to extract the master.zip file\n",
    "!unzip master.zip"
   ]
  },
  {
   "cell_type": "markdown",
   "metadata": {
    "id": "7agJKFkZ6UGB"
   },
   "source": [
    "## Explore the Dataset"
   ]
  },
  {
   "cell_type": "markdown",
   "metadata": {},
   "source": [
    "Now let's explore the downloaded files. The data we want is in *tgif-v1.0.tsv* file in the *data* folder. We can use *pandas* library to open the file. We need to set delimiter as `\\t` as the file contains tab separated values."
   ]
  },
  {
   "cell_type": "code",
   "execution_count": 2,
   "metadata": {
    "id": "1rwBQ3I2Ye7c"
   },
   "outputs": [],
   "source": [
    "import pandas as pd"
   ]
  },
  {
   "cell_type": "code",
   "execution_count": 3,
   "metadata": {
    "id": "K8RvBSYSbvUb"
   },
   "outputs": [
    {
     "data": {
      "text/html": [
       "<div>\n",
       "<style scoped>\n",
       "    .dataframe tbody tr th:only-of-type {\n",
       "        vertical-align: middle;\n",
       "    }\n",
       "\n",
       "    .dataframe tbody tr th {\n",
       "        vertical-align: top;\n",
       "    }\n",
       "\n",
       "    .dataframe thead th {\n",
       "        text-align: right;\n",
       "    }\n",
       "</style>\n",
       "<table border=\"1\" class=\"dataframe\">\n",
       "  <thead>\n",
       "    <tr style=\"text-align: right;\">\n",
       "      <th></th>\n",
       "      <th>url</th>\n",
       "      <th>description</th>\n",
       "    </tr>\n",
       "  </thead>\n",
       "  <tbody>\n",
       "    <tr>\n",
       "      <th>0</th>\n",
       "      <td>https://38.media.tumblr.com/9f6c25cc350f12aa74...</td>\n",
       "      <td>a man is glaring, and someone with sunglasses ...</td>\n",
       "    </tr>\n",
       "    <tr>\n",
       "      <th>1</th>\n",
       "      <td>https://38.media.tumblr.com/9ead028ef62004ef6a...</td>\n",
       "      <td>a cat tries to catch a mouse on a tablet</td>\n",
       "    </tr>\n",
       "    <tr>\n",
       "      <th>2</th>\n",
       "      <td>https://38.media.tumblr.com/9f43dc410be85b1159...</td>\n",
       "      <td>a man dressed in red is dancing.</td>\n",
       "    </tr>\n",
       "    <tr>\n",
       "      <th>3</th>\n",
       "      <td>https://38.media.tumblr.com/9f659499c8754e40cf...</td>\n",
       "      <td>an animal comes close to another in the jungle</td>\n",
       "    </tr>\n",
       "    <tr>\n",
       "      <th>4</th>\n",
       "      <td>https://38.media.tumblr.com/9ed1c99afa7d714118...</td>\n",
       "      <td>a man in a hat adjusts his tie and makes a wei...</td>\n",
       "    </tr>\n",
       "  </tbody>\n",
       "</table>\n",
       "</div>"
      ],
      "text/plain": [
       "                                                 url  \\\n",
       "0  https://38.media.tumblr.com/9f6c25cc350f12aa74...   \n",
       "1  https://38.media.tumblr.com/9ead028ef62004ef6a...   \n",
       "2  https://38.media.tumblr.com/9f43dc410be85b1159...   \n",
       "3  https://38.media.tumblr.com/9f659499c8754e40cf...   \n",
       "4  https://38.media.tumblr.com/9ed1c99afa7d714118...   \n",
       "\n",
       "                                         description  \n",
       "0  a man is glaring, and someone with sunglasses ...  \n",
       "1           a cat tries to catch a mouse on a tablet  \n",
       "2                   a man dressed in red is dancing.  \n",
       "3     an animal comes close to another in the jungle  \n",
       "4  a man in a hat adjusts his tie and makes a wei...  "
      ]
     },
     "execution_count": 3,
     "metadata": {},
     "output_type": "execute_result"
    }
   ],
   "source": [
    "# Load dataset to a pandas dataframe\n",
    "df = pd.read_csv(\n",
    "    \"./TGIF-Release-master/data/tgif-v1.0.tsv\",\n",
    "    delimiter=\"\\t\",\n",
    "    names=['url', 'description']\n",
    ")\n",
    "df.head()"
   ]
  },
  {
   "cell_type": "markdown",
   "metadata": {},
   "source": [
    "*Note the dataset does not contain the actual GIF files. But it has URLs we can use to download/access the GIF files. This is great as we do not need to store/download all the GIF files. We can directly load the required GIF files using the URL when displaying the search results.*\n",
    "\n",
    "There are some duplicate descriptions in the dataset."
   ]
  },
  {
   "cell_type": "code",
   "execution_count": 4,
   "metadata": {},
   "outputs": [
    {
     "data": {
      "text/plain": [
       "125782"
      ]
     },
     "execution_count": 4,
     "metadata": {},
     "output_type": "execute_result"
    }
   ],
   "source": [
    "len(df)"
   ]
  },
  {
   "cell_type": "code",
   "execution_count": 5,
   "metadata": {},
   "outputs": [
    {
     "data": {
      "text/plain": [
       "102068"
      ]
     },
     "execution_count": 5,
     "metadata": {},
     "output_type": "execute_result"
    }
   ],
   "source": [
    "# Number of *unique* GIFs in the dataset\n",
    "len(df[\"url\"].unique())"
   ]
  },
  {
   "cell_type": "code",
   "execution_count": 6,
   "metadata": {},
   "outputs": [
    {
     "data": {
      "text/plain": [
       "https://38.media.tumblr.com/ddbfe51aff57fd8446f49546bc027bd7/tumblr_nowv0v6oWj1uwbrato1_500.gif    4\n",
       "https://33.media.tumblr.com/46c873a60bb8bd97bdc253b826d1d7a1/tumblr_nh7vnlXEvL1u6fg3no1_500.gif    4\n",
       "https://38.media.tumblr.com/b544f3c87cbf26462dc267740bb1c842/tumblr_n98uooxl0K1thiyb6o1_250.gif    4\n",
       "https://33.media.tumblr.com/88235b43b48e9823eeb3e7890f3d46ef/tumblr_nkg5leY4e21sof15vo1_500.gif    4\n",
       "https://31.media.tumblr.com/69bca8520e1f03b4148dde2ac78469ec/tumblr_npvi0kW4OD1urqm0mo1_400.gif    4\n",
       "Name: url, dtype: int64"
      ]
     },
     "execution_count": 6,
     "metadata": {},
     "output_type": "execute_result"
    }
   ],
   "source": [
    "dupes = df['url'].value_counts().sort_values(ascending=False)\n",
    "dupes.head()"
   ]
  },
  {
   "cell_type": "markdown",
   "metadata": {},
   "source": [
    "Let's take a look at one of these duplicated URLs and it's descriptions."
   ]
  },
  {
   "cell_type": "code",
   "execution_count": 7,
   "metadata": {},
   "outputs": [
    {
     "data": {
      "text/html": [
       "<img src=https://33.media.tumblr.com/88235b43b48e9823eeb3e7890f3d46ef/tumblr_nkg5leY4e21sof15vo1_500.gif style='width:120px; height:90px'>"
      ],
      "text/plain": [
       "<IPython.core.display.HTML object>"
      ]
     },
     "execution_count": 7,
     "metadata": {},
     "output_type": "execute_result"
    },
    {
     "name": "stdout",
     "output_type": "stream",
     "text": [
      "two girls are singing music pop in a concert\n"
     ]
    },
    {
     "data": {
      "text/html": [
       "<img src=https://33.media.tumblr.com/88235b43b48e9823eeb3e7890f3d46ef/tumblr_nkg5leY4e21sof15vo1_500.gif style='width:120px; height:90px'>"
      ],
      "text/plain": [
       "<IPython.core.display.HTML object>"
      ]
     },
     "execution_count": 7,
     "metadata": {},
     "output_type": "execute_result"
    },
    {
     "name": "stdout",
     "output_type": "stream",
     "text": [
      "a woman sings sang girl on a stage singing\n"
     ]
    },
    {
     "data": {
      "text/html": [
       "<img src=https://33.media.tumblr.com/88235b43b48e9823eeb3e7890f3d46ef/tumblr_nkg5leY4e21sof15vo1_500.gif style='width:120px; height:90px'>"
      ],
      "text/plain": [
       "<IPython.core.display.HTML object>"
      ]
     },
     "execution_count": 7,
     "metadata": {},
     "output_type": "execute_result"
    },
    {
     "name": "stdout",
     "output_type": "stream",
     "text": [
      "two girls on a stage sing into microphones.\n"
     ]
    },
    {
     "data": {
      "text/html": [
       "<img src=https://33.media.tumblr.com/88235b43b48e9823eeb3e7890f3d46ef/tumblr_nkg5leY4e21sof15vo1_500.gif style='width:120px; height:90px'>"
      ],
      "text/plain": [
       "<IPython.core.display.HTML object>"
      ]
     },
     "execution_count": 7,
     "metadata": {},
     "output_type": "execute_result"
    },
    {
     "name": "stdout",
     "output_type": "stream",
     "text": [
      "two girls dressed in black are singing.\n"
     ]
    }
   ],
   "source": [
    "dupe_url = \"https://33.media.tumblr.com/88235b43b48e9823eeb3e7890f3d46ef/tumblr_nkg5leY4e21sof15vo1_500.gif\"\n",
    "dupe_df = df[df['url'] == dupe_url]\n",
    "\n",
    "# let's take a look at this GIF and it's duplicated descriptions\n",
    "for _, gif in dupe_df.iterrows():\n",
    "    HTML(f\"<img src={gif['url']} style='width:120px; height:90px'>\")\n",
    "    print(gif[\"description\"])"
   ]
  },
  {
   "cell_type": "markdown",
   "metadata": {},
   "source": [
    "There is no reason for us to remove these duplicates, as shown here, every description is accurate. You can spot check a few of the other URLs but they all seem to be the same where we have several *accurate* descriptions for a single GIF."
   ]
  },
  {
   "cell_type": "markdown",
   "metadata": {},
   "source": [
    "That leaves us with 125,781 descriptions for 102,067 GIFs. We will use these descriptions to create *context* vectors that will be indexed in a vector database to create our GIF search tool. Let's take a look at a few more examples of GIFs and their descriptions."
   ]
  },
  {
   "cell_type": "code",
   "execution_count": 55,
   "metadata": {
    "colab": {
     "base_uri": "https://localhost:8080/",
     "height": 577
    },
    "id": "m0_jfDW6hl4C",
    "outputId": "bcfb0ae3-4c44-4354-e42d-93a3ee35ff2d"
   },
   "outputs": [
    {
     "data": {
      "text/html": [
       "<img src=https://38.media.tumblr.com/9f6c25cc350f12aa74a7dc386a5c4985/tumblr_mevmyaKtDf1rgvhr8o1_500.gif style='width:120px; height:90px'>"
      ],
      "text/plain": [
       "<IPython.core.display.HTML object>"
      ]
     },
     "execution_count": 55,
     "metadata": {},
     "output_type": "execute_result"
    },
    {
     "name": "stdout",
     "output_type": "stream",
     "text": [
      "a man is glaring, and someone with sunglasses appears.\n"
     ]
    },
    {
     "data": {
      "text/html": [
       "<img src=https://38.media.tumblr.com/9ead028ef62004ef6ac2b92e52edd210/tumblr_nok4eeONTv1s2yegdo1_400.gif style='width:120px; height:90px'>"
      ],
      "text/plain": [
       "<IPython.core.display.HTML object>"
      ]
     },
     "execution_count": 55,
     "metadata": {},
     "output_type": "execute_result"
    },
    {
     "name": "stdout",
     "output_type": "stream",
     "text": [
      "a cat tries to catch a mouse on a tablet\n"
     ]
    },
    {
     "data": {
      "text/html": [
       "<img src=https://38.media.tumblr.com/9f43dc410be85b1159d1f42663d811d7/tumblr_mllh01J96X1s9npefo1_250.gif style='width:120px; height:90px'>"
      ],
      "text/plain": [
       "<IPython.core.display.HTML object>"
      ]
     },
     "execution_count": 55,
     "metadata": {},
     "output_type": "execute_result"
    },
    {
     "name": "stdout",
     "output_type": "stream",
     "text": [
      "a man dressed in red is dancing.\n"
     ]
    },
    {
     "data": {
      "text/html": [
       "<img src=https://38.media.tumblr.com/9f659499c8754e40cf3f7ac21d08dae6/tumblr_nqlr0rn8ox1r2r0koo1_400.gif style='width:120px; height:90px'>"
      ],
      "text/plain": [
       "<IPython.core.display.HTML object>"
      ]
     },
     "execution_count": 55,
     "metadata": {},
     "output_type": "execute_result"
    },
    {
     "name": "stdout",
     "output_type": "stream",
     "text": [
      "an animal comes close to another in the jungle\n"
     ]
    },
    {
     "data": {
      "text/html": [
       "<img src=https://38.media.tumblr.com/9ed1c99afa7d71411884101cb054f35f/tumblr_mvtuwlhSkE1qbnleeo1_500.gif style='width:120px; height:90px'>"
      ],
      "text/plain": [
       "<IPython.core.display.HTML object>"
      ]
     },
     "execution_count": 55,
     "metadata": {},
     "output_type": "execute_result"
    },
    {
     "name": "stdout",
     "output_type": "stream",
     "text": [
      "a man in a hat adjusts his tie and makes a weird face.\n"
     ]
    }
   ],
   "source": [
    "for _, gif in df[:5].iterrows():\n",
    "  HTML(f\"<img src={gif['url']} style='width:120px; height:90px'>\")\n",
    "  print(gif[\"description\"])"
   ]
  },
  {
   "cell_type": "markdown",
   "metadata": {},
   "source": [
    "We can see that the description of the GIF accurately describes what is happening in the GIF, we can use these descriptions to search through our GIFs."
   ]
  },
  {
   "cell_type": "markdown",
   "metadata": {},
   "source": [
    "Using this data, we can build the GIF search tool with just *two* components:\n",
    "\n",
    "* a **retriever** to embed GIF descriptions\n",
    "* a **vector database** to store GIF description embeddings and retrieve relevant GIFs"
   ]
  },
  {
   "cell_type": "markdown",
   "metadata": {
    "id": "zrKIRGeo6ehR"
   },
   "source": [
    "## Initialize Pinecone Index"
   ]
  },
  {
   "cell_type": "markdown",
   "metadata": {},
   "source": [
    "The vector database stores vector representations of our GIF descriptions which we can retrieve using another vector (query vector). We will use the Pinecone vector database, a fully managed vector database that can store and search through billions of records in milliseconds. You could use any other vector database such as FAISS to build this tool. But you may need to manage the database yourself.\n",
    "\n",
    "To initialize the database, we sign up for a [free Pinecone API key](https://app.pinecone.io/) and `pip install pinecone-client`. Once ready, we initialize our index with:"
   ]
  },
  {
   "cell_type": "code",
   "execution_count": 38,
   "metadata": {
    "id": "Ngbs8wQQoePL"
   },
   "outputs": [],
   "source": [
    "from pinecone import Pinecone\n",
    "\n",
    "# Connect to pinecone environment\n",
    "pinecone.init(\n",
    "    api_key=\"<<YOUR_API_KEY>>\",\n",
    "    environment=\"us-west1-gcp\"\n",
    ")\n",
    "\n",
    "index_name = 'gif-search'\n",
    "\n",
    "# check if the gif-search exists\n",
    "if index_name not in pinecone.list_indexes().names():\n",
    "    # create the index if it does not exist\n",
    "    pinecone.create_index(\n",
    "        index_name,\n",
    "        dimension=384,\n",
    "        metric=\"cosine\"\n",
    "    )\n",
    "\n",
    "# Connect to gif-search index we created\n",
    "index = pinecone.Index(index_name)"
   ]
  },
  {
   "cell_type": "markdown",
   "metadata": {},
   "source": [
    "Here we specify the name of the index where we will store our GIF descriptions and their URLs, the similarity metric, and the embedding dimension of the vectors. The similarity metric and embedding dimension can change depending on the embedding model used. However, most retrievers use \"cosine\" and 768."
   ]
  },
  {
   "cell_type": "markdown",
   "metadata": {
    "id": "D5mGU3ub6kkb"
   },
   "source": [
    "## Initialize Retriever"
   ]
  },
  {
   "cell_type": "markdown",
   "metadata": {},
   "source": [
    "Next, we need to initialize our retriever. The retriever will mainly do two things:\n",
    "\n",
    "1.\tGenerate embeddings for all the GIF descriptions (context vectors/embeddings)\n",
    "2.\tGenerate embeddings for the query (query vector/embedding)\n",
    "\n",
    "The retriever will generate the embeddings in a way that the queries and GIF descriptions with similar meanings are in a similar vector space. Then we can use cosine similarity to calculate this similarity between the query and context embeddings and find the most relevant GIF to our query.\n",
    "\n",
    "We will use a `SentenceTransformer` model trained based on Microsoft's MPNet as our retriever. This model performs well out-of-the-box when searching based on generic semantic similarity. "
   ]
  },
  {
   "cell_type": "code",
   "execution_count": 10,
   "metadata": {
    "id": "jtqu5O9Y6q8x"
   },
   "outputs": [],
   "source": [
    "from sentence_transformers import SentenceTransformer"
   ]
  },
  {
   "cell_type": "code",
   "execution_count": 11,
   "metadata": {
    "colab": {
     "base_uri": "https://localhost:8080/",
     "height": 465,
     "referenced_widgets": [
      "3bbdb7ac9ddb4e61acbf10e0e322b464",
      "425825b26a384e158608f34c327e7be7",
      "9df1cc108ad74d84a52b25ca0e835197",
      "d9e3f2ddbf5e47ebb86fb20c39079354",
      "fe02dbbb561147198c3278388cb40d04",
      "02851f413fa34d12b412e036d785d38e",
      "1215630e8b53423390353cd56a044c6e",
      "beeffeb083574f0a8c702b6035474073",
      "a40d7b1c14944323937291f6a834061b",
      "2063122bcf15496987749c8cca733a8b",
      "02796d5819bd4b77b56c6f9cab93c908",
      "b69d8608edce436c826f87e269a3b1ec",
      "5e30b575e33843e9b68bc34a84c6e6b2",
      "a6941924044b4956afa6c9b458141007",
      "a2d42ce089df49b896ba9223f6df2ac2",
      "b329d7774a1a4817a4e9cea7adfb288d",
      "4bfd979f8e1a4bd889b846d6affb6d3f",
      "d2088a6432ed4403b9602c5fecb09246",
      "071f6d3e71694ddab08360cabf5e7ecd",
      "f8c2899ce8264b7fa7d5552783c71ad3",
      "850040d37e2b45ecaa53c82958dd9d6a",
      "08779212fc3c46629ea7b5ae778b282b",
      "97b11b05410f4b0682a223efd6eeb570",
      "b5732b4221f448a8b8ae2363849214eb",
      "c7c897d4905f4af28a4e0e8e72897f74",
      "9066e6a9f5384ceaba6d58353c3e0a6a",
      "5085c2de59b34ffe8902285e42f32401",
      "8387420e74e94768893a7415243d4a12",
      "b3fa9e20d0524f0bbbe65575ccd75126",
      "24d25ddd24084a49b47f02138db4b592",
      "b4e62b032b884838b46bcc6b62c0c3ca",
      "a54f0fc3dc184e20bf7660ddbf890a76",
      "b66d0aedfb414d4c8cac45e0f8d157ac",
      "d6e028d4612241fba005c9dd3fe12d30",
      "a765f4490ae44f959bc594bb3b3b719a",
      "0496b4ff5eec45f08c5a1fa1ef106777",
      "976ba55ccfc0419d9b357d83eb4e4ab9",
      "de5a4a6c3495413fa200ab92d876f509",
      "4fb7a30442f94068bdb7c9e434cd03b6",
      "242c1203c62b42b9ae32af653267f8c7",
      "780b68a97f184b8cb7a04e3412d050ab",
      "f6685ce8e5a843f0b856c64a5b71c7ee",
      "6d8f66edc20543b9baae3b474201861e",
      "7d4faf89e1a34c3592a8d8b5c332cf9a",
      "aaff54fb4ed64fbba356616ebad675c3",
      "1b85eb15f8584fd5afceddd1ea3ea2e0",
      "ba4b82c10e804d3ea76592f2d2a3832c",
      "6d2b705a90a447579864e91618f70676",
      "a0d67c99dee248f280cbe34fc3de48a6",
      "42ca2987c03f46e9985a98b4a137f95a",
      "3d044c94cbd741adbf826306bd882971",
      "9a612735a6b94182bafe9a0b42648455",
      "3965cf39aef641dbb2d0b2a362e1c8c2",
      "369f1ee2f1844327b3074a31c0e12519",
      "0e1839f9d1fc43b18f84d0f554a54cc2",
      "272faddd67724961a8bdcccba6b196b0",
      "922e13c3b6944e65a04d96147dd3c9ad",
      "aac3d96ceb444486b6f7f760b43ffc79",
      "04a7db113b11418ab275879f0f8bf162",
      "fd337d66d3a14867ae76908cd58e313b",
      "462563ff268e47d5a8c9efffe09604ed",
      "abbefd5572204fb4b3c0bf7c5597eb8e",
      "69e75d6d62494209b2ee828d1710a59e",
      "45240e5ad3a6426bbfc5e3c1880ac781",
      "67dfd1d8ff4043239f31bb3a53ce4ccc",
      "6aa46bc05e6b4a139009a4124b0f80ec",
      "9ab75ac0bf404362ab25e898b172110c",
      "005d8360dc824d1f869d0eca3b3ec9fd",
      "aa556238d9174c8e83187d079f229b97",
      "65e7a017905442ae98c6415bcdfe0bb4",
      "97302900f6604d7991df8c9854d95728",
      "0ebe49597de647a5a4da64d03c471b76",
      "40e00bdafe664e6082d5fc4392cbc4bc",
      "32719d55aa0e49d7bb65e7755fc2f572",
      "24eb84536c324805bf159da81d8ad509",
      "6565c0393fee4725abb04e245a9a6fb0",
      "2fe6b2e1c56b48fe9b056ee8d0d3697c",
      "e6e9f5860acc4fdda68eafe6abbc99db",
      "7f84fd3a40bb40dbb742101403e671c9",
      "48e79feebdc043adae21f571319493db",
      "2d07707632dc4c60bca7afbbeb928ca6",
      "71600400fa14406bb81e2e410d116681",
      "2540fac951cd4883833b586558c9081e",
      "759f82584cc84eedbbf8fb6142b0d657",
      "693abe44ba9a463ca9d08e1b6c54673b",
      "024be013b90d4a309b2f54d979f1269a",
      "0097b88603d8424f8fc1696b17bd165e",
      "a1d9893a7c7345a49cd336610e0ba3f5",
      "fefd20a4306b4dad840a79038db4c0a3",
      "c985a33ed0064c589e78a72080c382e7",
      "4e37e65238634a97a91e8449e24a99c2",
      "0bb8029a6b2e49de98586fa091033387",
      "fd631c1a5515475a873dceb33e21ac7f",
      "2b86f4f2dbf34220ab607cb010ad3ef7",
      "8da6bd57b0f44a65be01086f33313f2a",
      "24f2ae769e2c4d829dffa14ca8928d3b",
      "1e64de324773474d994258dbe9ed736f",
      "c7f564bd62324a048511ff82b8d4c369",
      "71e6d768200b48ddab9375d0266c6756",
      "fbd414ab7af64c2f840d19d1315085c4",
      "f2983bd01cab40469306b9bdea3b3b19",
      "825ae4cc8891473f8feb1b2820b0c0aa",
      "8d8f963d9b6c409d8c21e307958013d8",
      "8f2d54ebde5341808e65a705f15ba036",
      "1f7356b83d474a0f8ed49a4a5fae5d22",
      "55e099fba0fb41f999f690884f80843a",
      "2f0edbcbec1d44378f4bc17535a87b76",
      "6c709e1a7d174633b603df7bf0804756",
      "8b88e836a5884b3db7748d5971463e62",
      "9cb993dbaa5746249fed2df7d8db677c",
      "87b1f938065644cba745c0b0952526b5",
      "9d46acccbf1347c1bfd7b61e84591812",
      "8f240b5dc5274d63bb23ba9979d47163",
      "783b444819ab4454bceb16578c71df39",
      "b1c876108e6b4150bf3638fad1a56157",
      "6afdd5eede004470a8c7eb8709f6182b",
      "f4ae6887074f443299e95e6cebf971ce",
      "b3fbdd74fd764c65a25817690c961de6",
      "d141eee9a0f14702a82cfe1b194f9d89",
      "eeffd24564624122afc795be6bd1131b",
      "8075cad347314feabdb19d6902752b27",
      "b3c2f3d5b805460496a74f2009aaf81c",
      "4247478ac3b742a7a9407bc69ed179e6",
      "d3abd49739b2493b8d52a062e90ae3d6",
      "af1cdb5fdb31467aa54bc5b9c1ec255d",
      "4124c49ef7d9497187b8e29af694d54f",
      "1e7f1c9aa28e4dcd80f6b9c6b9c06fd6",
      "73c159f67bec448aa102470f1abd0ca7",
      "393b7df64cbd4072acf090f3dee2108c",
      "f2c52012dfd84e39851e297d56669213",
      "665cc77211d0466cbb2d4a2a95547547",
      "70ca64c48bad4c42ba0208eecfc3e40e",
      "176a01c7622143c38482371fe2f6cfaf",
      "3bf92cfae4b547ce9f91e6b4dd94f25a",
      "493c065a83ad48fc921b5b11c59c8fed",
      "c0b2ebd2a44845e885863ee18a4e121e",
      "c070c05c63ef48908126fac009b33ea4",
      "33c35634d79f4848a32e6bd46cb1a75b",
      "c0caab84bfcb4bb69ed70c73e5d20b59",
      "95fa10da3a1742ea9fb3ae3bf948618a",
      "00ba06783c7b484f91aceefd8be27782",
      "8b9224015a1a466f982f6d51e1a8591d",
      "e71eff0e7d2d4e6a9949c29395ac947d",
      "a05a15c5b5a34a5cbc7a0647a01826fb",
      "b4f4e484c3c94424a37f6746a590fffd",
      "e993d4821d984becbb06458f62252f1d",
      "93ba13309f954c669989147c0823c06b",
      "4c5388f0293f4bf384332ba0bc775b1c",
      "4d2d0d8ce7594980aef48885259dafef",
      "da474d5e97ef4947936ca0dd34a30126",
      "d0f5166f81f141a88d282b4eb322ec4c",
      "98bd1a3b82e74f8ab86645815d8ca526",
      "8a06eaff96f94f2fb8f95fc92ef87651",
      "123ad9cff4a74609a452474d73c6738c"
     ]
    },
    "id": "UB0rVxmppnkm",
    "outputId": "cd8ed4e8-69a0-4ce9-c974-cda0dca998a8",
    "scrolled": true
   },
   "outputs": [
    {
     "data": {
      "text/plain": [
       "SentenceTransformer(\n",
       "  (0): Transformer({'max_seq_length': 256, 'do_lower_case': False}) with Transformer model: BertModel \n",
       "  (1): Pooling({'word_embedding_dimension': 384, 'pooling_mode_cls_token': False, 'pooling_mode_mean_tokens': True, 'pooling_mode_max_tokens': False, 'pooling_mode_mean_sqrt_len_tokens': False})\n",
       "  (2): Normalize()\n",
       ")"
      ]
     },
     "execution_count": 11,
     "metadata": {},
     "output_type": "execute_result"
    }
   ],
   "source": [
    "import torch\n",
    "\n",
    "device = 'cuda' if torch.cuda.is_available() else 'cpu'\n",
    "\n",
    "# Initialize retriever with SentenceTransformer model \n",
    "retriever = SentenceTransformer('sentence-transformers/all-MiniLM-L6-v2')\n",
    "retriever.to(device)"
   ]
  },
  {
   "cell_type": "markdown",
   "metadata": {
    "id": "0l5JHT4K6xH9"
   },
   "source": [
    "## Generate Embeddings and Upsert"
   ]
  },
  {
   "cell_type": "markdown",
   "metadata": {},
   "source": [
    "Now our retriever and the pinecone index are initialized. Next, we need to generate embeddings for the GIF descriptions. We will do this in batches to help us more quickly generate embeddings. This means our retriever will generate embeddings for 64 GIF descriptions at once instead of generating them individually (much faster) and send a single API call for each batch of 64 (also much faster).\n",
    "\n",
    "When passing the documents to pinecone, we need an id (a unique value), embedding (embeddings for the GIF descriptions we have generated earlier), and metadata for each document representing GIFs in the dataset. The metadata is a dictionary containing data relevant to our embeddings. For the GIF search tool, we only need the URL and description."
   ]
  },
  {
   "cell_type": "code",
   "execution_count": 18,
   "metadata": {
    "colab": {
     "base_uri": "https://localhost:8080/",
     "height": 49,
     "referenced_widgets": [
      "fd9832ba430449d6aefdf4f56603751a",
      "f18bf9eeb43f4dbcb3ad0a237da6308b",
      "8493032e71ed4437b1f221c6fcaac709",
      "702ec6e219d74d99a6c929dd65f549ec",
      "94843930b2ab44438afe2875c44fff96",
      "304c08deba6248da82971665e0caa20b",
      "10e79e8c05db4b36b5103116d1210587",
      "3cc568020c5a4f34992eec0d195ae4f9",
      "08d4c47abb954cc7b277769cb86bb9a9",
      "ef45e711623c4f9ba27743de2db32e07",
      "9752dafd1edb478fba9060f29882c47b"
     ]
    },
    "id": "TdwtDfIxw7Ik",
    "outputId": "32811e16-1934-474d-bd82-a12fccf29cf9"
   },
   "outputs": [
    {
     "data": {
      "application/vnd.jupyter.widget-view+json": {
       "model_id": "e1de609cb50e40cf953d312813e3c9d0",
       "version_major": 2,
       "version_minor": 0
      },
      "text/plain": [
       "  0%|          | 0/1966 [00:00<?, ?it/s]"
      ]
     },
     "metadata": {},
     "output_type": "display_data"
    },
    {
     "data": {
      "text/plain": [
       "{'dimension': 384,\n",
       " 'index_fullness': 0.05,\n",
       " 'namespaces': {'': {'vector_count': 125782}}}"
      ]
     },
     "execution_count": 18,
     "metadata": {},
     "output_type": "execute_result"
    }
   ],
   "source": [
    "from tqdm.auto import tqdm\n",
    "\n",
    "# we will use batches of 64\n",
    "batch_size = 64\n",
    "\n",
    "for i in tqdm(range(0, len(df), batch_size)):\n",
    "    # find end of batch\n",
    "    i_end = min(i+batch_size, len(df))\n",
    "    # extract batch\n",
    "    batch = df.iloc[i:i_end]\n",
    "    # generate embeddings for batch\n",
    "    emb = retriever.encode(batch['description'].tolist()).tolist()\n",
    "    # get metadata\n",
    "    meta = batch.to_dict(orient='records')\n",
    "    # create IDs\n",
    "    ids = [f\"{idx}\" for idx in range(i, i_end)]\n",
    "    # add all to upsert list\n",
    "    to_upsert = list(zip(ids, emb, meta))\n",
    "    # upsert/insert these records to pinecone\n",
    "    _ = index.upsert(vectors=to_upsert)\n",
    "\n",
    "    \n",
    "# check that we have all vectors in index\n",
    "index.describe_index_stats()"
   ]
  },
  {
   "cell_type": "markdown",
   "metadata": {},
   "source": [
    "We can see all our documents are now in the pinecone index. Let's run some queries to test our GIF search tool."
   ]
  },
  {
   "cell_type": "markdown",
   "metadata": {
    "id": "nR5wJ9Ba59_Z"
   },
   "source": [
    "## Querying"
   ]
  },
  {
   "cell_type": "markdown",
   "metadata": {},
   "source": [
    "We have two functions, `search_gif`, to handle our search query, and `display_gif`, to display the search results.\n",
    "\n",
    "The `search_gif` function generates vector embedding for the search query using the retriever model and then runs the query on the pinecone index. `index.query` will compute the cosine similarity between the query embedding and the GIF description embeddings as we set the metric type as \"cosine\" when we initialize the pinecone index. The function will return the URL of the top 10 most relevant GIFs to our search query."
   ]
  },
  {
   "cell_type": "code",
   "execution_count": 33,
   "metadata": {
    "id": "FdHTSCo-6ElT"
   },
   "outputs": [],
   "source": [
    "def search_gif(query):\n",
    "    # Generate embeddings for the query\n",
    "    xq = retriever.encode(query).tolist()\n",
    "    # Compute cosine similarity between query and embeddings vectors and return top 10 URls\n",
    "    xc = index.query(vector=xq, top_k=10,\n",
    "                    include_metadata=True)\n",
    "    result = []\n",
    "    for context in xc['matches']:\n",
    "        url = context['metadata']['url']\n",
    "        result.append(url)\n",
    "    return result"
   ]
  },
  {
   "cell_type": "markdown",
   "metadata": {},
   "source": [
    "The `display_gif` can display multiple GIFs using its URLs in the jupyter notebook in a grid style. We use this function to display the top 10 GIFs returned by the `search_gif` function."
   ]
  },
  {
   "cell_type": "code",
   "execution_count": 34,
   "metadata": {
    "id": "PCi0cwnW7Y07"
   },
   "outputs": [],
   "source": [
    "def display_gif(urls):\n",
    "    figures = []\n",
    "    for url in urls:\n",
    "        figures.append(f'''\n",
    "            <figure style=\"margin: 5px !important;\">\n",
    "              <img src=\"{url}\" style=\"width: 120px; height: 90px\" >\n",
    "            </figure>\n",
    "        ''')\n",
    "    return HTML(data=f'''\n",
    "        <div style=\"display: flex; flex-flow: row wrap; text-align: center;\">\n",
    "        {''.join(figures)}\n",
    "        </div>\n",
    "    ''')"
   ]
  },
  {
   "cell_type": "markdown",
   "metadata": {},
   "source": [
    "Let's begin testing some queries."
   ]
  },
  {
   "cell_type": "code",
   "execution_count": 52,
   "metadata": {},
   "outputs": [
    {
     "data": {
      "text/html": [
       "\n",
       "        <div style=\"display: flex; flex-flow: row wrap; text-align: center;\">\n",
       "        \n",
       "            <figure style=\"margin: 5px !important;\">\n",
       "              <img src=\"https://38.media.tumblr.com/af53df8d946bbca23be97691db0ecd5e/tumblr_nq3l305zdF1s71nvbo1_400.gif\" style=\"width: 120px; height: 90px\" >\n",
       "            </figure>\n",
       "        \n",
       "            <figure style=\"margin: 5px !important;\">\n",
       "              <img src=\"https://33.media.tumblr.com/a574ab035e7edc7708db423ee67f3ac4/tumblr_nq1zodZJNx1uoke7ao1_400.gif\" style=\"width: 120px; height: 90px\" >\n",
       "            </figure>\n",
       "        \n",
       "            <figure style=\"margin: 5px !important;\">\n",
       "              <img src=\"https://38.media.tumblr.com/94703ea885174ffc97c44d57487d7ee9/tumblr_na6oo2PKSC1silsr6o1_400.gif\" style=\"width: 120px; height: 90px\" >\n",
       "            </figure>\n",
       "        \n",
       "            <figure style=\"margin: 5px !important;\">\n",
       "              <img src=\"https://38.media.tumblr.com/fa6a31e326066bb27776066150c8c810/tumblr_np38ipgJPd1tkkgpso1_250.gif\" style=\"width: 120px; height: 90px\" >\n",
       "            </figure>\n",
       "        \n",
       "            <figure style=\"margin: 5px !important;\">\n",
       "              <img src=\"https://38.media.tumblr.com/241d89939a5714c2db4566d9108245fe/tumblr_n9xv6aqQ5A1qmgppeo1_250.gif\" style=\"width: 120px; height: 90px\" >\n",
       "            </figure>\n",
       "        \n",
       "            <figure style=\"margin: 5px !important;\">\n",
       "              <img src=\"https://31.media.tumblr.com/a00ae69f826dbe89a5bdabad567ac88d/tumblr_n8x5e6ZcFW1sjpl9lo1_400.gif\" style=\"width: 120px; height: 90px\" >\n",
       "            </figure>\n",
       "        \n",
       "            <figure style=\"margin: 5px !important;\">\n",
       "              <img src=\"https://31.media.tumblr.com/28a9aac3c21941e1c61dd9ab4390c3f5/tumblr_nhdr3clKDa1sntw1mo1_400.gif\" style=\"width: 120px; height: 90px\" >\n",
       "            </figure>\n",
       "        \n",
       "            <figure style=\"margin: 5px !important;\">\n",
       "              <img src=\"https://31.media.tumblr.com/5cbd531e1d8cc7fefffdb8a68ec62b1d/tumblr_naysx8YTzn1tzl1owo1_400.gif\" style=\"width: 120px; height: 90px\" >\n",
       "            </figure>\n",
       "        \n",
       "            <figure style=\"margin: 5px !important;\">\n",
       "              <img src=\"https://38.media.tumblr.com/bc300fcbae8e4eb65c3901a246f46e4c/tumblr_niu5dzNP7G1u62tooo1_400.gif\" style=\"width: 120px; height: 90px\" >\n",
       "            </figure>\n",
       "        \n",
       "            <figure style=\"margin: 5px !important;\">\n",
       "              <img src=\"https://38.media.tumblr.com/1c3edb33951b52020b9271185942b2b2/tumblr_nflm4phy0P1u4txqeo1_250.gif\" style=\"width: 120px; height: 90px\" >\n",
       "            </figure>\n",
       "        \n",
       "        </div>\n",
       "    "
      ],
      "text/plain": [
       "<IPython.core.display.HTML object>"
      ]
     },
     "execution_count": 52,
     "metadata": {},
     "output_type": "execute_result"
    }
   ],
   "source": [
    "gifs = search_gif(\"a dog being confused\")\n",
    "display_gif(gifs)"
   ]
  },
  {
   "cell_type": "code",
   "execution_count": 40,
   "metadata": {},
   "outputs": [
    {
     "data": {
      "text/html": [
       "\n",
       "        <div style=\"display: flex; flex-flow: row wrap; text-align: center;\">\n",
       "        \n",
       "            <figure style=\"margin: 5px !important;\">\n",
       "              <img src=\"https://33.media.tumblr.com/73841eb3b37ad5277b324359a83bb19e/tumblr_ngnz25VQpD1twctp1o1_400.gif\" style=\"width: 120px; height: 90px\" >\n",
       "            </figure>\n",
       "        \n",
       "            <figure style=\"margin: 5px !important;\">\n",
       "              <img src=\"https://38.media.tumblr.com/7b8ebff7051b8a7d0502294465559861/tumblr_na8n60gCmT1tiamw8o1_500.gif\" style=\"width: 120px; height: 90px\" >\n",
       "            </figure>\n",
       "        \n",
       "            <figure style=\"margin: 5px !important;\">\n",
       "              <img src=\"https://38.media.tumblr.com/49223a5564c8d7dfafe115063ba88c8a/tumblr_nnrps82EvG1sxvevjo1_400.gif\" style=\"width: 120px; height: 90px\" >\n",
       "            </figure>\n",
       "        \n",
       "            <figure style=\"margin: 5px !important;\">\n",
       "              <img src=\"https://31.media.tumblr.com/aa9c98f92f06cc3484ae395194db6d7f/tumblr_naeyc6yQWy1tahfdeo1_250.gif\" style=\"width: 120px; height: 90px\" >\n",
       "            </figure>\n",
       "        \n",
       "            <figure style=\"margin: 5px !important;\">\n",
       "              <img src=\"https://38.media.tumblr.com/e7a1d7ed5f2289db13e1812a91c0eedf/tumblr_nf8r2nWajt1s236zjo1_400.gif\" style=\"width: 120px; height: 90px\" >\n",
       "            </figure>\n",
       "        \n",
       "            <figure style=\"margin: 5px !important;\">\n",
       "              <img src=\"https://38.media.tumblr.com/7d8f9cac33b4fc76908a37bf28ab6fca/tumblr_noswtqDMKC1tyncywo1_400.gif\" style=\"width: 120px; height: 90px\" >\n",
       "            </figure>\n",
       "        \n",
       "            <figure style=\"margin: 5px !important;\">\n",
       "              <img src=\"https://38.media.tumblr.com/136d1d103edf3a82c2332bf8ef28d6d3/tumblr_nhm8rleyTk1u333yco2_400.gif\" style=\"width: 120px; height: 90px\" >\n",
       "            </figure>\n",
       "        \n",
       "            <figure style=\"margin: 5px !important;\">\n",
       "              <img src=\"https://33.media.tumblr.com/0f97de4f3cc8dca408ca4ab036460412/tumblr_njmp6tj53K1thqmhto1_400.gif\" style=\"width: 120px; height: 90px\" >\n",
       "            </figure>\n",
       "        \n",
       "            <figure style=\"margin: 5px !important;\">\n",
       "              <img src=\"https://31.media.tumblr.com/be2b34de9ff751da15cbde3144d25007/tumblr_nh4oj86LJO1slj978o1_400.gif\" style=\"width: 120px; height: 90px\" >\n",
       "            </figure>\n",
       "        \n",
       "            <figure style=\"margin: 5px !important;\">\n",
       "              <img src=\"https://38.media.tumblr.com/5f45e9a56121b070ddceca58b37e9ace/tumblr_njaggwVmdn1un7vpco1_400.gif\" style=\"width: 120px; height: 90px\" >\n",
       "            </figure>\n",
       "        \n",
       "        </div>\n",
       "    "
      ],
      "text/plain": [
       "<IPython.core.display.HTML object>"
      ]
     },
     "execution_count": 40,
     "metadata": {},
     "output_type": "execute_result"
    }
   ],
   "source": [
    "gifs = search_gif(\"animals being cute\")\n",
    "display_gif(gifs)"
   ]
  },
  {
   "cell_type": "code",
   "execution_count": 41,
   "metadata": {},
   "outputs": [
    {
     "data": {
      "text/html": [
       "\n",
       "        <div style=\"display: flex; flex-flow: row wrap; text-align: center;\">\n",
       "        \n",
       "            <figure style=\"margin: 5px !important;\">\n",
       "              <img src=\"https://38.media.tumblr.com/f15089751a2f2ac54db50f2cc0659fb0/tumblr_naenf9skQT1rggk0bo1_400.gif\" style=\"width: 120px; height: 90px\" >\n",
       "            </figure>\n",
       "        \n",
       "            <figure style=\"margin: 5px !important;\">\n",
       "              <img src=\"https://38.media.tumblr.com/f9aaae6f9d2e2af17cb6deeb6ad15713/tumblr_n9lt3cvvy61trvs7go1_400.gif\" style=\"width: 120px; height: 90px\" >\n",
       "            </figure>\n",
       "        \n",
       "            <figure style=\"margin: 5px !important;\">\n",
       "              <img src=\"https://33.media.tumblr.com/61cf2e6af0e63d431cea07f1bf5c3fce/tumblr_nbm4g6rTLS1tl5a9oo1_400.gif\" style=\"width: 120px; height: 90px\" >\n",
       "            </figure>\n",
       "        \n",
       "            <figure style=\"margin: 5px !important;\">\n",
       "              <img src=\"https://38.media.tumblr.com/d44de105f1b276baac01eb1c7715b9a0/tumblr_nf24sk7MDS1qkibgzo1_500.gif\" style=\"width: 120px; height: 90px\" >\n",
       "            </figure>\n",
       "        \n",
       "            <figure style=\"margin: 5px !important;\">\n",
       "              <img src=\"https://33.media.tumblr.com/97b9db062d617a6b909d5642374f44b9/tumblr_n92iyqDqO91s1eq7yo1_250.gif\" style=\"width: 120px; height: 90px\" >\n",
       "            </figure>\n",
       "        \n",
       "            <figure style=\"margin: 5px !important;\">\n",
       "              <img src=\"https://31.media.tumblr.com/ee35386edeec1ff5f67faf89f2bb5a11/tumblr_nk1p5c17tS1ssdnnbo1_400.gif\" style=\"width: 120px; height: 90px\" >\n",
       "            </figure>\n",
       "        \n",
       "            <figure style=\"margin: 5px !important;\">\n",
       "              <img src=\"https://33.media.tumblr.com/0c0ae10c9fc60b1bf2a204f16afcbd81/tumblr_ncaftzIchN1tg281go1_400.gif\" style=\"width: 120px; height: 90px\" >\n",
       "            </figure>\n",
       "        \n",
       "            <figure style=\"margin: 5px !important;\">\n",
       "              <img src=\"https://33.media.tumblr.com/1ed5b68ec5933ede5b2f9200256237c5/tumblr_niua9uhldr1u93r6so1_400.gif\" style=\"width: 120px; height: 90px\" >\n",
       "            </figure>\n",
       "        \n",
       "            <figure style=\"margin: 5px !important;\">\n",
       "              <img src=\"https://38.media.tumblr.com/e5d4347eb533aa06fd20238d8b326b1c/tumblr_nff7ifHJnr1solzopo1_500.gif\" style=\"width: 120px; height: 90px\" >\n",
       "            </figure>\n",
       "        \n",
       "            <figure style=\"margin: 5px !important;\">\n",
       "              <img src=\"https://37.media.tumblr.com/6d87ff4dc55ab7d2d31f1b40997f64d7/tumblr_n952rocZdV1t1o9tno1_400.gif\" style=\"width: 120px; height: 90px\" >\n",
       "            </figure>\n",
       "        \n",
       "        </div>\n",
       "    "
      ],
      "text/plain": [
       "<IPython.core.display.HTML object>"
      ]
     },
     "execution_count": 41,
     "metadata": {},
     "output_type": "execute_result"
    }
   ],
   "source": [
    "gifs = search_gif(\"people being angry\")\n",
    "display_gif(gifs)"
   ]
  },
  {
   "cell_type": "code",
   "execution_count": 42,
   "metadata": {},
   "outputs": [
    {
     "data": {
      "text/html": [
       "\n",
       "        <div style=\"display: flex; flex-flow: row wrap; text-align: center;\">\n",
       "        \n",
       "            <figure style=\"margin: 5px !important;\">\n",
       "              <img src=\"https://31.media.tumblr.com/2a42598230ce78b14c1e010b1b8bc1bf/tumblr_newfs5f3b21thysnvo1_250.gif\" style=\"width: 120px; height: 90px\" >\n",
       "            </figure>\n",
       "        \n",
       "            <figure style=\"margin: 5px !important;\">\n",
       "              <img src=\"https://33.media.tumblr.com/b7d88c296436ce74217547853ecedfaf/tumblr_nqgr3t03ae1rk9zcyo1_1280.gif\" style=\"width: 120px; height: 90px\" >\n",
       "            </figure>\n",
       "        \n",
       "            <figure style=\"margin: 5px !important;\">\n",
       "              <img src=\"https://33.media.tumblr.com/3a567e5793b3c13efb7f7c4e4b359610/tumblr_nog7wyzRDQ1ty5qoho1_250.gif\" style=\"width: 120px; height: 90px\" >\n",
       "            </figure>\n",
       "        \n",
       "            <figure style=\"margin: 5px !important;\">\n",
       "              <img src=\"https://38.media.tumblr.com/66a2a7acc8ce515d58992bc0788b4540/tumblr_nee16ggWbQ1taytvao1_400.gif\" style=\"width: 120px; height: 90px\" >\n",
       "            </figure>\n",
       "        \n",
       "            <figure style=\"margin: 5px !important;\">\n",
       "              <img src=\"https://31.media.tumblr.com/88574dc6cf526445652dd569e5061b63/tumblr_n9izv8bCK31titpn6o1_250.gif\" style=\"width: 120px; height: 90px\" >\n",
       "            </figure>\n",
       "        \n",
       "            <figure style=\"margin: 5px !important;\">\n",
       "              <img src=\"https://38.media.tumblr.com/53d81b25b6b2e339084f194aa273babb/tumblr_mtxi16Fm3z1qzcey8o1_400.gif\" style=\"width: 120px; height: 90px\" >\n",
       "            </figure>\n",
       "        \n",
       "            <figure style=\"margin: 5px !important;\">\n",
       "              <img src=\"https://33.media.tumblr.com/29eb4fdc45054e612b3b255fcc039cde/tumblr_nhki44Aivl1u7qbdlo1_250.gif\" style=\"width: 120px; height: 90px\" >\n",
       "            </figure>\n",
       "        \n",
       "            <figure style=\"margin: 5px !important;\">\n",
       "              <img src=\"https://38.media.tumblr.com/504c94419a234c58b5f303b90d3dfae7/tumblr_nqpxss53VY1uus8ugo1_250.gif\" style=\"width: 120px; height: 90px\" >\n",
       "            </figure>\n",
       "        \n",
       "            <figure style=\"margin: 5px !important;\">\n",
       "              <img src=\"https://38.media.tumblr.com/0aa084e3ec85f8b5f7936b576b431283/tumblr_no98qtaRMd1uvqm8go1_250.gif\" style=\"width: 120px; height: 90px\" >\n",
       "            </figure>\n",
       "        \n",
       "            <figure style=\"margin: 5px !important;\">\n",
       "              <img src=\"https://38.media.tumblr.com/80d5c2a1fd1fa51d2daea2cc4c8cbed6/tumblr_nerwreUW0p1tjon47o1_400.gif\" style=\"width: 120px; height: 90px\" >\n",
       "            </figure>\n",
       "        \n",
       "        </div>\n",
       "    "
      ],
      "text/plain": [
       "<IPython.core.display.HTML object>"
      ]
     },
     "execution_count": 42,
     "metadata": {},
     "output_type": "execute_result"
    }
   ],
   "source": [
    "gifs = search_gif(\"a man dancing\")\n",
    "display_gif(gifs)"
   ]
  },
  {
   "cell_type": "code",
   "execution_count": 43,
   "metadata": {
    "colab": {
     "base_uri": "https://localhost:8080/",
     "height": 122
    },
    "id": "DGHLvLLQBizb",
    "outputId": "e92aa493-d3a4-4f76-f1b8-41313acd8100"
   },
   "outputs": [
    {
     "data": {
      "text/html": [
       "\n",
       "        <div style=\"display: flex; flex-flow: row wrap; text-align: center;\">\n",
       "        \n",
       "            <figure style=\"margin: 5px !important;\">\n",
       "              <img src=\"https://33.media.tumblr.com/b27107ead2c85c7adcdccd1581d5fcdb/tumblr_no8ub0S6pC1r09o0mo1_250.gif\" style=\"width: 120px; height: 90px\" >\n",
       "            </figure>\n",
       "        \n",
       "            <figure style=\"margin: 5px !important;\">\n",
       "              <img src=\"https://33.media.tumblr.com/526aa008711e8a10b42f35a7f01723f1/tumblr_nfutjdMpTZ1r0kw6ko1_250.gif\" style=\"width: 120px; height: 90px\" >\n",
       "            </figure>\n",
       "        \n",
       "            <figure style=\"margin: 5px !important;\">\n",
       "              <img src=\"https://33.media.tumblr.com/3c4a71fcf5ab0c858253d26e433e51ea/tumblr_nbdszk9TUX1rik13to1_500.gif\" style=\"width: 120px; height: 90px\" >\n",
       "            </figure>\n",
       "        \n",
       "            <figure style=\"margin: 5px !important;\">\n",
       "              <img src=\"https://38.media.tumblr.com/697655681e81e048324104cee4ce91ae/tumblr_na83gnZpD71sohc0oo1_250.gif\" style=\"width: 120px; height: 90px\" >\n",
       "            </figure>\n",
       "        \n",
       "            <figure style=\"margin: 5px !important;\">\n",
       "              <img src=\"https://33.media.tumblr.com/c45ddcedbd27c05e9b161ee728724b9e/tumblr_nowe9hyCN41s0uaixo1_400.gif\" style=\"width: 120px; height: 90px\" >\n",
       "            </figure>\n",
       "        \n",
       "            <figure style=\"margin: 5px !important;\">\n",
       "              <img src=\"https://38.media.tumblr.com/9de2be73fb5b767092b5738fda438ed0/tumblr_noctf0galn1rqr3rbo1_500.gif\" style=\"width: 120px; height: 90px\" >\n",
       "            </figure>\n",
       "        \n",
       "            <figure style=\"margin: 5px !important;\">\n",
       "              <img src=\"https://38.media.tumblr.com/74cff22186ed3c906a6694d5820eec82/tumblr_nh2hjhz4Qs1tl5e30o1_400.gif\" style=\"width: 120px; height: 90px\" >\n",
       "            </figure>\n",
       "        \n",
       "            <figure style=\"margin: 5px !important;\">\n",
       "              <img src=\"https://33.media.tumblr.com/13cff9f144a16121e8fb2506e0a9ae99/tumblr_n4p5c5LSZs1sqxmy5o1_500.gif\" style=\"width: 120px; height: 90px\" >\n",
       "            </figure>\n",
       "        \n",
       "            <figure style=\"margin: 5px !important;\">\n",
       "              <img src=\"https://38.media.tumblr.com/8f816d5f3e0ce4a29a3a52b183606eda/tumblr_n9bq3uQdab1tpa2reo1_250.gif\" style=\"width: 120px; height: 90px\" >\n",
       "            </figure>\n",
       "        \n",
       "            <figure style=\"margin: 5px !important;\">\n",
       "              <img src=\"https://38.media.tumblr.com/6a1fb846930ded5339e93f3d93ed3d9e/tumblr_nasq1kuyzk1qew089o1_400.gif\" style=\"width: 120px; height: 90px\" >\n",
       "            </figure>\n",
       "        \n",
       "        </div>\n",
       "    "
      ],
      "text/plain": [
       "<IPython.core.display.HTML object>"
      ]
     },
     "execution_count": 43,
     "metadata": {},
     "output_type": "execute_result"
    }
   ],
   "source": [
    "gifs = search_gif(\"a woman dancing\")\n",
    "display_gif(gifs)"
   ]
  },
  {
   "cell_type": "code",
   "execution_count": 48,
   "metadata": {
    "colab": {
     "base_uri": "https://localhost:8080/",
     "height": 122
    },
    "id": "4VTSoj8xL_u_",
    "outputId": "1c942c5e-7a21-4789-8ff4-ccbb3ffd0eb7"
   },
   "outputs": [
    {
     "data": {
      "text/html": [
       "\n",
       "        <div style=\"display: flex; flex-flow: row wrap; text-align: center;\">\n",
       "        \n",
       "            <figure style=\"margin: 5px !important;\">\n",
       "              <img src=\"https://33.media.tumblr.com/7ada83ae354be1d83ea4407fea789ab8/tumblr_na0e6razjV1s71nvbo1_250.gif\" style=\"width: 120px; height: 90px\" >\n",
       "            </figure>\n",
       "        \n",
       "            <figure style=\"margin: 5px !important;\">\n",
       "              <img src=\"https://33.media.tumblr.com/3be31f4531ed041ff9b80465b56d810e/tumblr_nr0dycLuRO1useffdo1_400.gif\" style=\"width: 120px; height: 90px\" >\n",
       "            </figure>\n",
       "        \n",
       "            <figure style=\"margin: 5px !important;\">\n",
       "              <img src=\"https://33.media.tumblr.com/f0edc38b8dacce783bebcdf41db55a93/tumblr_npapb2c4Wz1uolkubo1_250.gif\" style=\"width: 120px; height: 90px\" >\n",
       "            </figure>\n",
       "        \n",
       "            <figure style=\"margin: 5px !important;\">\n",
       "              <img src=\"https://33.media.tumblr.com/2bf0f300d9ecfbcedf2dd3ba2b40b5e5/tumblr_ne5p2oTuCj1tdmffyo1_250.gif\" style=\"width: 120px; height: 90px\" >\n",
       "            </figure>\n",
       "        \n",
       "            <figure style=\"margin: 5px !important;\">\n",
       "              <img src=\"https://38.media.tumblr.com/3e1f37fea789bb1508d40e8c30f791ae/tumblr_na3xfcUdnK1tiamx1o1_400.gif\" style=\"width: 120px; height: 90px\" >\n",
       "            </figure>\n",
       "        \n",
       "            <figure style=\"margin: 5px !important;\">\n",
       "              <img src=\"https://38.media.tumblr.com/0b04187cb51a8889b0f41e5fbe390df2/tumblr_nbcltiDvcq1s7ri4yo1_400.gif\" style=\"width: 120px; height: 90px\" >\n",
       "            </figure>\n",
       "        \n",
       "            <figure style=\"margin: 5px !important;\">\n",
       "              <img src=\"https://38.media.tumblr.com/e52a1d77dc0a679840a715c02035e5da/tumblr_nfbeo6Qqr91tl8fnfo1_400.gif\" style=\"width: 120px; height: 90px\" >\n",
       "            </figure>\n",
       "        \n",
       "            <figure style=\"margin: 5px !important;\">\n",
       "              <img src=\"https://38.media.tumblr.com/a67f2f007b9881080aa3fe3584847bc5/tumblr_nc1wzyMaJP1tzj4j8o1_250.gif\" style=\"width: 120px; height: 90px\" >\n",
       "            </figure>\n",
       "        \n",
       "            <figure style=\"margin: 5px !important;\">\n",
       "              <img src=\"https://38.media.tumblr.com/61e9abf3681eeacea18dae288f084d62/tumblr_nbw9gwXM0e1tk2ngvo1_400.gif\" style=\"width: 120px; height: 90px\" >\n",
       "            </figure>\n",
       "        \n",
       "            <figure style=\"margin: 5px !important;\">\n",
       "              <img src=\"https://31.media.tumblr.com/78355496a2ed41f0aa9fe855f9460bc3/tumblr_nais3s7sWa1s3att3o1_400.gif\" style=\"width: 120px; height: 90px\" >\n",
       "            </figure>\n",
       "        \n",
       "        </div>\n",
       "    "
      ],
      "text/plain": [
       "<IPython.core.display.HTML object>"
      ]
     },
     "execution_count": 48,
     "metadata": {},
     "output_type": "execute_result"
    }
   ],
   "source": [
    "gifs = search_gif(\"an animal dancing\")\n",
    "display_gif(gifs)"
   ]
  },
  {
   "cell_type": "markdown",
   "metadata": {},
   "source": [
    "Let's describe the third GIF with the ginger dog dancing on his hind legs."
   ]
  },
  {
   "cell_type": "code",
   "execution_count": 49,
   "metadata": {},
   "outputs": [
    {
     "data": {
      "text/html": [
       "\n",
       "        <div style=\"display: flex; flex-flow: row wrap; text-align: center;\">\n",
       "        \n",
       "            <figure style=\"margin: 5px !important;\">\n",
       "              <img src=\"https://38.media.tumblr.com/a67f2f007b9881080aa3fe3584847bc5/tumblr_nc1wzyMaJP1tzj4j8o1_250.gif\" style=\"width: 120px; height: 90px\" >\n",
       "            </figure>\n",
       "        \n",
       "            <figure style=\"margin: 5px !important;\">\n",
       "              <img src=\"https://33.media.tumblr.com/2bf0f300d9ecfbcedf2dd3ba2b40b5e5/tumblr_ne5p2oTuCj1tdmffyo1_250.gif\" style=\"width: 120px; height: 90px\" >\n",
       "            </figure>\n",
       "        \n",
       "            <figure style=\"margin: 5px !important;\">\n",
       "              <img src=\"https://33.media.tumblr.com/ec768e8a6f881fbc0f329932c8591a88/tumblr_mpqwb14Fsq1rjcfxro1_250.gif\" style=\"width: 120px; height: 90px\" >\n",
       "            </figure>\n",
       "        \n",
       "            <figure style=\"margin: 5px !important;\">\n",
       "              <img src=\"https://33.media.tumblr.com/7ada83ae354be1d83ea4407fea789ab8/tumblr_na0e6razjV1s71nvbo1_250.gif\" style=\"width: 120px; height: 90px\" >\n",
       "            </figure>\n",
       "        \n",
       "            <figure style=\"margin: 5px !important;\">\n",
       "              <img src=\"https://38.media.tumblr.com/f8b6d3d79b59462019c2daf2ba8b4148/tumblr_np762bxBYV1t7jda2o1_400.gif\" style=\"width: 120px; height: 90px\" >\n",
       "            </figure>\n",
       "        \n",
       "            <figure style=\"margin: 5px !important;\">\n",
       "              <img src=\"https://38.media.tumblr.com/a5ae79c2d62c592d7565684a72af8f2c/tumblr_nageslBNqC1tstoffo1_500.gif\" style=\"width: 120px; height: 90px\" >\n",
       "            </figure>\n",
       "        \n",
       "            <figure style=\"margin: 5px !important;\">\n",
       "              <img src=\"https://38.media.tumblr.com/3e1f37fea789bb1508d40e8c30f791ae/tumblr_na3xfcUdnK1tiamx1o1_400.gif\" style=\"width: 120px; height: 90px\" >\n",
       "            </figure>\n",
       "        \n",
       "            <figure style=\"margin: 5px !important;\">\n",
       "              <img src=\"https://33.media.tumblr.com/aec9cbbdf826f98307e6d5f3d544a4c2/tumblr_mmlrbhGDAO1qaqutao1_500.gif\" style=\"width: 120px; height: 90px\" >\n",
       "            </figure>\n",
       "        \n",
       "            <figure style=\"margin: 5px !important;\">\n",
       "              <img src=\"https://38.media.tumblr.com/0b04187cb51a8889b0f41e5fbe390df2/tumblr_nbcltiDvcq1s7ri4yo1_400.gif\" style=\"width: 120px; height: 90px\" >\n",
       "            </figure>\n",
       "        \n",
       "            <figure style=\"margin: 5px !important;\">\n",
       "              <img src=\"https://33.media.tumblr.com/14f9b213a7355096c14b0af3a7768f5d/tumblr_npexfuFU2K1ti77bgo1_400.gif\" style=\"width: 120px; height: 90px\" >\n",
       "            </figure>\n",
       "        \n",
       "        </div>\n",
       "    "
      ],
      "text/plain": [
       "<IPython.core.display.HTML object>"
      ]
     },
     "execution_count": 49,
     "metadata": {},
     "output_type": "execute_result"
    }
   ],
   "source": [
    "gifs = search_gif(\"a fluffy dog being cute and dancing like a person\")\n",
    "display_gif(gifs)"
   ]
  },
  {
   "cell_type": "markdown",
   "metadata": {},
   "source": [
    "These look like pretty cool results.\n",
    "\n",
    "---"
   ]
  },
  {
   "attachments": {},
   "cell_type": "markdown",
   "metadata": {
    "id": "1YY3hiL3xNQ5"
   },
   "source": [
    "# Delete the Index\n",
    "\n",
    "If you're done with the index, we delete it to save resources."
   ]
  },
  {
   "cell_type": "code",
   "execution_count": null,
   "metadata": {
    "id": "DnGtG5iaUArB"
   },
   "outputs": [],
   "source": [
    "pinecone.delete_index(index_name)"
   ]
  },
  {
   "attachments": {},
   "cell_type": "markdown",
   "metadata": {},
   "source": [
    "---"
   ]
  }
 ],
 "metadata": {
  "accelerator": "GPU",
  "colab": {
   "collapsed_sections": [],
   "name": "gif_search.ipynb",
   "provenance": []
  },
  "kernelspec": {
   "display_name": "base",
   "language": "python",
   "name": "python3"
  },
  "language_info": {
   "codemirror_mode": {
    "name": "ipython",
    "version": 3
   },
   "file_extension": ".py",
   "mimetype": "text/x-python",
   "name": "python",
   "nbconvert_exporter": "python",
   "pygments_lexer": "ipython3",
   "version": "3.8.13 (default, Mar 28 2022, 06:59:08) [MSC v.1916 64 bit (AMD64)]"
  },
  "vscode": {
   "interpreter": {
    "hash": "5fe10bf018ef3e697f9035d60bf60847932a12bface18908407fd371fe880db9"
   }
  },
  "widgets": {}
 },
 "nbformat": 4,
 "nbformat_minor": 1
}
