{
  "cells": [
    {
      "attachments": {},
      "cell_type": "markdown",
      "metadata": {},
      "source": [
        "[![Open In Colab](https://colab.research.google.com/assets/colab-badge.svg)](https://colab.research.google.com/github/pinecone-io/examples/blob/master/learn/search/image/facial-similarity-search/facial-similarity-search.ipynb) [![Open nbviewer](https://raw.githubusercontent.com/pinecone-io/examples/master/assets/nbviewer-shield.svg)](https://nbviewer.org/github/pinecone-io/examples/blob/master/learn/search/image/facial-similarity-search/facial-similarity-search.ipynb)"
      ]
    },
    {
      "attachments": {},
      "cell_type": "markdown",
      "metadata": {
        "id": "f83llYiUV_dV"
      },
      "source": [
        "# Facial Similarity Search with Pinecone"
      ]
    },
    {
      "cell_type": "markdown",
      "metadata": {
        "id": "zZE1bVj1KnUu"
      },
      "source": [
        "In this notebook, we will demonstrate how to use Pinecone to build an image-based vector search application to discover people with similar facial features. We will:\n",
        "\n",
        "1. Extract faces from a celebrity image dataset\n",
        "2. Convert the faces to embeddings and store them in a Pinecone index (alongside metadata related to the celebrities)\n",
        "3. Query the Pinecone index with an image of a person and find the most similar celebrities\n"
      ]
    },
    {
      "cell_type": "markdown",
      "metadata": {
        "id": "xSPqEfWUSquF"
      },
      "source": [
        "# Install Dependencies"
      ]
    },
    {
      "cell_type": "code",
      "execution_count": null,
      "metadata": {
        "id": "56CDiDnjFF7m"
      },
      "outputs": [],
      "source": [
        "!pip install datasets pinecone-client[grpc] facenet-pytorch requests Pillow"
      ]
    },
    {
      "cell_type": "markdown",
      "metadata": {
        "id": "fGA4gi6bFC-t"
      },
      "source": [
        "# Load Dataset"
      ]
    },
    {
      "cell_type": "markdown",
      "metadata": {
        "id": "JB2BCyrCSwwM"
      },
      "source": [
        "We will use a dataset containing photos of ~115K most popular people on The Movie Database (TMDB). This dataset can be loaded from Huggingface as follows:"
      ]
    },
    {
      "cell_type": "code",
      "execution_count": 2,
      "metadata": {
        "colab": {
          "base_uri": "https://localhost:8080/",
          "height": 641,
          "referenced_widgets": [
            "e7ecc69560c04ee9aa8ca38966e88446",
            "2f2c45e5e6c44d85a2b87e49c9e66893",
            "b7e6f9fab77a4db598e27f79cb38305b",
            "0b3e8fcf0ad34035907d1382ba53b995",
            "bfe1c1c158614537a238235eef3b2232",
            "e19755b325604608adfcd63ef62a8567",
            "2df224c60384490280c34ab4c6676376",
            "cda0d377637d4f45be920bc9881619a3",
            "1f7f8f8d25e442c2bc238384318081df",
            "d549cef7c84a48c18b0f291978ace54f",
            "ec82dbadade048839b527c21d8222c63",
            "befa9b2c5d7d4d00b061458d7d30e755",
            "99ab11ab9557431ebe0525406df8279f",
            "0bede93f94f545358e8f6d3efcb53657",
            "69d2e576d31a47a2aa1e271c31948e4e",
            "85387eb4f03e4d829edab0e05c22de87",
            "6f767f5952fa43349a7715452fb21ad7",
            "e4caae1814f4432cb2cb070c12098882",
            "81e7241cdfcc46eba5e194844d0de417",
            "a70c22a40d33495bb33a268bfeb51dcd",
            "30082ca665f048eba9c6f7d387c99f44",
            "0dbfe553172d46c091ca40215a051a0d",
            "f633eec643f74bbba07f5ac18643470f",
            "e4f8c5d21626491bb24258d46600b9df",
            "1b45129acd5948828df0950c6a93668e",
            "796000c283f64a6184bff22e626e3a0f",
            "6f342e5c08bf48e7ab67cfff12d7d8ab",
            "689812d8bffa4a87802f03a963698030",
            "b51a647d00084080a1ed9548dab44396",
            "66e621543a304197b41ea2d957c0a691",
            "3fcdd76075c94bd9b678e4a270016ec5",
            "e363d49412bf4a42ba35b93074a02a4a",
            "ea39a49049124b8897da56ba0423b8ba",
            "55224e6e6b9a420ea229ab1f57e9b6f5",
            "595115f2cf174aab969cf15e724bed49",
            "7e416ba6db20434fa03ee20b2095284c",
            "f2c131cc692b46cf99ca99150c2cb37f",
            "02c8f885b0b3402dbb9e2d4cb877d911",
            "a04d0ef5557147cfb8f098edf217b050",
            "cec27c3bb29f44df82fd236a0d5a0976",
            "5f3fb1d5758443ada3778882453d028b",
            "5a664b443c314d2a9a5a3733c848ec58",
            "bf054d68d2bd469ab15212c05114a023",
            "24ac31ce7ce44d8ea5a8014ba0a9731b",
            "a856a9411a2e476cb6994d900979fa43",
            "b9120b20fe77445ea216a08f659d7ca5",
            "3c3f93a0dc4443a99c665127023121c3",
            "a2e3382d44984a4eb6a43d790bb45320",
            "223268a021614544b727e8baab1e4c46",
            "5e69213c3322467cb4979280f995f78b",
            "46d36b3771a04077b44d9e29d689a4a3",
            "ccfee996bbe0434588d5b2217fc04dcd",
            "84191869a2e046138ccecef2192eaa88",
            "d350db6cf77f40848b61762bcc8cf505",
            "638c0a069bdd4857954ed384db6da3d6",
            "dfdb84dd9d77416bbd2b4e45e132efd1",
            "a6a831d2f1494a9ab793c8d4786bc02b",
            "3354a2296125478c958fbf7a0905626d",
            "8b2e1222b7124daf913e8d6317fe41a3",
            "bd4b96db1a0947fcb71ab610f8e1fb75",
            "a1e930ef8b514f8aae6259b712719a43",
            "fdab039f166043488f35bce9968f0199",
            "51c5860b03334113b81187695e693dee",
            "9aa59be43b5b401da28fda4e168bce4c",
            "e1d004ea89a44c17ad87ae5634b01369",
            "44b2d18b9aa44a8ba6c41e64f603eff5",
            "f4df9095ee674a16a9de189f7d8bdf17",
            "9eeea9557c9f4f4eb0970d40a11e8fcd",
            "50708f670c1447f1b8d15fe1262ac821",
            "42eb5aa1201e46c5a23929614a440f7e",
            "caf9e3e46dbe4e97bf585caf20a8c842",
            "3d9c4e250d9b4d9a889e787c56d34d46",
            "d1a566c4827a4a5fb2fe08bd04fa5443",
            "33fa5596e26f489694be62ff4a1b5767",
            "4321cb104c5c4be8bbf2ac262784835a",
            "ebdb98998d724ece81f555399e5893d6",
            "83adca8d9d984daa84556a4bb2c0efe2",
            "8676e4469b65438e883657182da5d984",
            "46cd121ea17844b5ba06460e7c696016",
            "ba950b378256460db5dd36372458fc9d",
            "ac230de8d09242aabe28f5e861cb6282",
            "714252d08aea43bd99e4e778d216db2e",
            "e07d3200d4064849838517293bf06133",
            "1614f7338b384c69b6312c788e1d0f5e",
            "bf835a1ab64141c2a3b1dc58f2012942",
            "802fc20426784db28d2384b4f969ba48",
            "df6fb91b35cb45ffad8ae4df55599e96",
            "691dcc8c159448fd959100ffc5d4f64a",
            "e0e97113b74f46ac932c2c52590183c4",
            "639a78320ee24f29afcbff3b8a220c54",
            "239f29236a114c83baf36b5d665f751c",
            "d1c2a34f88054bc6a3e49f31eafe6e3b",
            "2e28d4e23a7e426caa84a241ed8e256a",
            "d70afb399516480aa811959aa9d0e73f",
            "fcb4b1afe78148fdb83afb3cd701261a",
            "482e8f26bb20499e83ce777e742fc4f4",
            "6872debf8479497a8aa508c983321aa2",
            "9e9154321d9345f59fd968ad248b3dec",
            "b713878a37a6455d8ea6f9d6b255db6c",
            "9440ed6b22cc41ea8fbe27f12a19ce55",
            "694d0ebd404c436d8d267efefd5b0e45",
            "1530531c9ee44941b9d64c4de2b66ace",
            "52ecb044fcc64a40a9ae9d768fdd2239",
            "79e4dc2ed3a64d379240bcb20cbe7b64",
            "42bce9562c15415b8ba2832f38cf3a93",
            "3f4c8373af4c4c3688b2675691a7086f",
            "114e197b8cb1468986643675a7acb48c",
            "831dc8c08bac4a0b8171df8cea718390",
            "05a5ba7fb62a48928f27a91aa244184f",
            "19a87250f7f241e3885156521a858d11",
            "e91ee7ba181743a08f057f3277d9f564",
            "5bf3c03e04ae4c20835a342f4b2af308",
            "f8eaada99fd54f22b8f2ab237ef14d95",
            "c36c1233c65b467abaaf80633191ba0d",
            "9e236c1e08d942878de09da0ba2a5602",
            "36a9017aafe3474a8a3e8603d4e0c82b",
            "dd55732bb8924370afec93dc39a5dfc8",
            "ee7a9349fa9746c1be06fa99bf3659bf",
            "fa06c31ae28f4e74bf8ba8a76b3a19ae",
            "379dd63ae08b486484fd553591368757",
            "b58e16ae6c66430f901407f44c44c0ee",
            "b306386ac3254e47aa17d21fa5ab17e8",
            "d936aadc64a3452dbed2ff0a95212a1d",
            "34c8a74c96aa4e8f80df5bb99afca5fe",
            "e79d57755adc44c99881879e1664717b",
            "016e83d4b3624a85b9ca2b5230ff9727",
            "403221c957f440b3a96e5ddd1483c865",
            "869b9e33230c4f529308cefc95f83e7a",
            "9c705d50635b423f80d4f6d7201d59af",
            "a24d6c5f1f6f428e8f9978795043c92a",
            "d1c0ed04027d46008acb733797c3de60",
            "8c78711c6a7c44ca9faac2dc9bc35f79",
            "bc6ed26f111d44fbbc651389b0758e45",
            "80aadaaa85064f819d1c62c9d3bef67a",
            "4d6bbfe52c554d658eff218a6c132877",
            "13506237ea944187b9402a9572c39869",
            "e62b24a12b5c4f0e89e70cef4e5f5e22",
            "51e72b19ecd549c9aa5efd84f8f50958",
            "4411f37e676a496181f1c1ea11c58f36",
            "af01d46b343342778cd49594ce672c62",
            "e982ab40f3ac4e229f8b2ddcc69ee061",
            "5e0f3c95c85449a8a397496209271ee2",
            "0cc592bdbbd94b13b2ce05c754d7e9e5",
            "57d2b718c52d4213a4bf2d561f3b24dd",
            "53c3a6161e4e4fb792e131df0c4a1bce",
            "6e1a6e709eb348398403e67e7aa367f5",
            "d9d4bb329d8a40dbbba8c4b9d79da84e",
            "443473a66b2048b8b8ad8af11a23edaf",
            "bfdd3c7c52cf400c96d99f8b4067a18c",
            "bd172ded4c1a46f5a71003d0ba784e51",
            "7a5095b699c04b8ea3b559bba1fcd2a3",
            "9d3d11b998a446af9133c03f5bbea11e",
            "40f4db0c497c4e8093d059bb8d259b8a",
            "52253a6ab0cb4b69900c68c01b630db8"
          ]
        },
        "id": "kXObUWb1FPgO",
        "outputId": "06c6e341-8c49-49b8-ac0d-48fb0808255f"
      },
      "outputs": [
        {
          "data": {
            "application/vnd.jupyter.widget-view+json": {
              "model_id": "e7ecc69560c04ee9aa8ca38966e88446",
              "version_major": 2,
              "version_minor": 0
            },
            "text/plain": [
              "Downloading metadata:   0%|          | 0.00/1.48k [00:00<?, ?B/s]"
            ]
          },
          "metadata": {},
          "output_type": "display_data"
        },
        {
          "name": "stderr",
          "output_type": "stream",
          "text": [
            "WARNING:datasets.builder:Using custom data configuration ashraq--tmdb-people-image-e6aad5cbcdeb9255\n"
          ]
        },
        {
          "name": "stdout",
          "output_type": "stream",
          "text": [
            "Downloading and preparing dataset None/None (download: 3.48 GiB, generated: 3.84 GiB, post-processed: Unknown size, total: 7.31 GiB) to /root/.cache/huggingface/datasets/ashraq___parquet/ashraq--tmdb-people-image-e6aad5cbcdeb9255/0.0.0/2a3b91fbd88a2c90d1dbbb32b460cf621d31bd5b05b934492fdef7d8d6f236ec...\n"
          ]
        },
        {
          "data": {
            "application/vnd.jupyter.widget-view+json": {
              "model_id": "befa9b2c5d7d4d00b061458d7d30e755",
              "version_major": 2,
              "version_minor": 0
            },
            "text/plain": [
              "Downloading data files:   0%|          | 0/1 [00:00<?, ?it/s]"
            ]
          },
          "metadata": {},
          "output_type": "display_data"
        },
        {
          "data": {
            "application/vnd.jupyter.widget-view+json": {
              "model_id": "f633eec643f74bbba07f5ac18643470f",
              "version_major": 2,
              "version_minor": 0
            },
            "text/plain": [
              "Downloading data:   0%|          | 0.00/449M [00:00<?, ?B/s]"
            ]
          },
          "metadata": {},
          "output_type": "display_data"
        },
        {
          "data": {
            "application/vnd.jupyter.widget-view+json": {
              "model_id": "55224e6e6b9a420ea229ab1f57e9b6f5",
              "version_major": 2,
              "version_minor": 0
            },
            "text/plain": [
              "Downloading data:   0%|          | 0.00/429M [00:00<?, ?B/s]"
            ]
          },
          "metadata": {},
          "output_type": "display_data"
        },
        {
          "data": {
            "application/vnd.jupyter.widget-view+json": {
              "model_id": "a856a9411a2e476cb6994d900979fa43",
              "version_major": 2,
              "version_minor": 0
            },
            "text/plain": [
              "Downloading data:   0%|          | 0.00/420M [00:00<?, ?B/s]"
            ]
          },
          "metadata": {},
          "output_type": "display_data"
        },
        {
          "data": {
            "application/vnd.jupyter.widget-view+json": {
              "model_id": "dfdb84dd9d77416bbd2b4e45e132efd1",
              "version_major": 2,
              "version_minor": 0
            },
            "text/plain": [
              "Downloading data:   0%|          | 0.00/411M [00:00<?, ?B/s]"
            ]
          },
          "metadata": {},
          "output_type": "display_data"
        },
        {
          "data": {
            "application/vnd.jupyter.widget-view+json": {
              "model_id": "f4df9095ee674a16a9de189f7d8bdf17",
              "version_major": 2,
              "version_minor": 0
            },
            "text/plain": [
              "Downloading data:   0%|          | 0.00/410M [00:00<?, ?B/s]"
            ]
          },
          "metadata": {},
          "output_type": "display_data"
        },
        {
          "data": {
            "application/vnd.jupyter.widget-view+json": {
              "model_id": "8676e4469b65438e883657182da5d984",
              "version_major": 2,
              "version_minor": 0
            },
            "text/plain": [
              "Downloading data:   0%|          | 0.00/405M [00:00<?, ?B/s]"
            ]
          },
          "metadata": {},
          "output_type": "display_data"
        },
        {
          "data": {
            "application/vnd.jupyter.widget-view+json": {
              "model_id": "e0e97113b74f46ac932c2c52590183c4",
              "version_major": 2,
              "version_minor": 0
            },
            "text/plain": [
              "Downloading data:   0%|          | 0.00/406M [00:00<?, ?B/s]"
            ]
          },
          "metadata": {},
          "output_type": "display_data"
        },
        {
          "data": {
            "application/vnd.jupyter.widget-view+json": {
              "model_id": "9440ed6b22cc41ea8fbe27f12a19ce55",
              "version_major": 2,
              "version_minor": 0
            },
            "text/plain": [
              "Downloading data:   0%|          | 0.00/401M [00:00<?, ?B/s]"
            ]
          },
          "metadata": {},
          "output_type": "display_data"
        },
        {
          "data": {
            "application/vnd.jupyter.widget-view+json": {
              "model_id": "e91ee7ba181743a08f057f3277d9f564",
              "version_major": 2,
              "version_minor": 0
            },
            "text/plain": [
              "Downloading data:   0%|          | 0.00/402M [00:00<?, ?B/s]"
            ]
          },
          "metadata": {},
          "output_type": "display_data"
        },
        {
          "name": "stderr",
          "output_type": "stream",
          "text": [
            "WARNING:datasets.download.download_manager:Computing checksums of downloaded files. They can be used for integrity verification. You can disable this by passing ignore_verifications=True to load_dataset\n"
          ]
        },
        {
          "data": {
            "application/vnd.jupyter.widget-view+json": {
              "model_id": "b306386ac3254e47aa17d21fa5ab17e8",
              "version_major": 2,
              "version_minor": 0
            },
            "text/plain": [
              "Computing checksums:  44%|####4     | 4/9 [00:06<00:07,  1.54s/it]"
            ]
          },
          "metadata": {},
          "output_type": "display_data"
        },
        {
          "data": {
            "application/vnd.jupyter.widget-view+json": {
              "model_id": "bc6ed26f111d44fbbc651389b0758e45",
              "version_major": 2,
              "version_minor": 0
            },
            "text/plain": [
              "Extracting data files:   0%|          | 0/1 [00:00<?, ?it/s]"
            ]
          },
          "metadata": {},
          "output_type": "display_data"
        },
        {
          "data": {
            "application/vnd.jupyter.widget-view+json": {
              "model_id": "57d2b718c52d4213a4bf2d561f3b24dd",
              "version_major": 2,
              "version_minor": 0
            },
            "text/plain": [
              "Generating train split:   0%|          | 0/116404 [00:00<?, ? examples/s]"
            ]
          },
          "metadata": {},
          "output_type": "display_data"
        },
        {
          "name": "stdout",
          "output_type": "stream",
          "text": [
            "Dataset parquet downloaded and prepared to /root/.cache/huggingface/datasets/ashraq___parquet/ashraq--tmdb-people-image-e6aad5cbcdeb9255/0.0.0/2a3b91fbd88a2c90d1dbbb32b460cf621d31bd5b05b934492fdef7d8d6f236ec. Subsequent calls will reuse this data.\n"
          ]
        },
        {
          "data": {
            "text/plain": [
              "Dataset({\n",
              "    features: ['adult', 'also_known_as', 'biography', 'birthday', 'deathday', 'gender', 'homepage', 'id', 'imdb_id', 'known_for_department', 'name', 'place_of_birth', 'popularity', 'profile_path', 'image'],\n",
              "    num_rows: 116404\n",
              "})"
            ]
          },
          "execution_count": 2,
          "metadata": {},
          "output_type": "execute_result"
        }
      ],
      "source": [
        "from datasets import load_dataset\n",
        "\n",
        "# load the dataset\n",
        "celeb_faces = load_dataset(\"ashraq/tmdb-people-image\", split=\"train\")\n",
        "celeb_faces"
      ]
    },
    {
      "cell_type": "markdown",
      "metadata": {
        "id": "vtYJse20veQB"
      },
      "source": [
        "We have got few metadata about the people and their image in the dataset. Let's take a look:"
      ]
    },
    {
      "cell_type": "code",
      "execution_count": 3,
      "metadata": {
        "colab": {
          "base_uri": "https://localhost:8080/",
          "height": 347
        },
        "id": "V6c_aUsuvdoS",
        "outputId": "d7f2c907-94d5-4595-c7a9-1e6ff1eed9cb"
      },
      "outputs": [
        {
          "data": {
            "text/plain": [
              "{'adult': False,\n",
              " 'also_known_as': \"['Thomas Stanley Holland', 'Том Холланд', 'トム・ホランド', '톰 홀랜드', 'توم هولاند', 'ทอม ฮอลแลนด์', '汤姆·赫兰德', 'Τομ Χόλαντ', 'Том Голланд', '湯姆·霍蘭德', 'טום הולנד', 'תומאס סטנלי הולנד', 'Nhện Đệ Tam', 'ტომ ჰოლანდი']\",\n",
              " 'biography': 'Thomas \"Tom\" Stanley Holland is an English actor and dancer. He is best known for playing Peter Parker / Spider-Man in the Marvel Cinematic Universe and has appeared as the character in six films: Captain America: Civil War (2016), Spider-Man: Homecoming (2017), Avengers: Infinity War (2018), Avengers: Endgame (2019), Spider-Man: Far From Home (2019), and Spider-Man: No Way Home (2021). He is also known for playing the title role in Billy Elliot the Musical at the Victoria Palace Theatre, London, as well as for starring in the 2012 film The Impossible.',\n",
              " 'birthday': '1996-06-01',\n",
              " 'deathday': None,\n",
              " 'gender': 2,\n",
              " 'homepage': None,\n",
              " 'id': 1136406,\n",
              " 'imdb_id': 'nm4043618',\n",
              " 'known_for_department': 'Acting',\n",
              " 'name': 'Tom Holland',\n",
              " 'place_of_birth': 'Surrey, England, UK',\n",
              " 'popularity': 104.302,\n",
              " 'profile_path': 'bBRlrpJm9XkNSg0YT5LCaxqoFMX.jpg',\n",
              " 'image': <PIL.JpegImagePlugin.JpegImageFile image mode=RGB size=421x632 at 0x7FA4FC04CB50>}"
            ]
          },
          "execution_count": 3,
          "metadata": {},
          "output_type": "execute_result"
        }
      ],
      "source": [
        "celeb = celeb_faces[10]\n",
        "celeb"
      ]
    },
    {
      "cell_type": "code",
      "execution_count": 4,
      "metadata": {
        "colab": {
          "base_uri": "https://localhost:8080/",
          "height": 317
        },
        "id": "OUcSTzU5KRVT",
        "outputId": "6d549d98-802c-4c97-c186-e6bd22bd241b"
      },
      "outputs": [
        {
          "data": {
            "image/png": "[encoded data removed]",
            "text/plain": [
              "<PIL.Image.Image image mode=RGB size=200x300 at 0x7FA509E8F790>"
            ]
          },
          "execution_count": 4,
          "metadata": {},
          "output_type": "execute_result"
        }
      ],
      "source": [
        "celeb[\"image\"].resize((200, 300))"
      ]
    },
    {
      "cell_type": "markdown",
      "metadata": {
        "id": "Z7sLirOBv_Hw"
      },
      "source": [
        "We do not need all these metadata fields. So we will remove the ones we do not need and convert the rest into a pandas dataframe."
      ]
    },
    {
      "cell_type": "code",
      "execution_count": 5,
      "metadata": {
        "id": "OQlCNVRiB61s"
      },
      "outputs": [],
      "source": [
        "# remove metadata fields not needed, convert into a pandas dataframe\n",
        "metadata = celeb_faces.remove_columns(['adult', 'also_known_as', 'biography', 'deathday', 'gender', 'homepage', 'id', 'imdb_id', 'known_for_department', 'image']).to_pandas()\n",
        "# replace any empty fields with None\n",
        "metadata = metadata.fillna(\"None\")"
      ]
    },
    {
      "cell_type": "markdown",
      "metadata": {
        "id": "GA8TVwYzz0tp"
      },
      "source": [
        "# Embedding Model"
      ]
    },
    {
      "cell_type": "markdown",
      "metadata": {
        "id": "aOC4Fli21cFk"
      },
      "source": [
        "We will use two models: one for extracting faces and another for generating vector embeddings of the face. We're focusing on faces only because using full images would introduce too much noise and result in poor results.\n",
        "\n",
        "For face extraction, we will use MTCNN, which is a popular choice due to its ability to accurately detect and align faces in images despite variations in pose and appearance. We can use a Pytorch implementation of MTCNN with the ``facenet-pytorch`` package. Since the images in our dataset are already in PIL format, we can directly test the MTCNN model, which expects PIL image objects as inputs, as shown below:"
      ]
    },
    {
      "cell_type": "code",
      "execution_count": 6,
      "metadata": {
        "colab": {
          "base_uri": "https://localhost:8080/"
        },
        "id": "FsUUpW09IvW-",
        "outputId": "656fb8de-dc4d-4a32-9cee-dac24de4bddf"
      },
      "outputs": [
        {
          "data": {
            "text/plain": [
              "(array([[ 91.4824  , 112.335335, 316.80338 , 409.37723 ]], dtype=float32),\n",
              " array([0.9999924], dtype=float32))"
            ]
          },
          "execution_count": 6,
          "metadata": {},
          "output_type": "execute_result"
        }
      ],
      "source": [
        "from facenet_pytorch import MTCNN\n",
        "\n",
        "# initialize the MTCNN model\n",
        "mtcnn = MTCNN()\n",
        "# create a copy of the face\n",
        "img = celeb[\"image\"].copy()\n",
        "# detect face and get coordinates of the face with probability\n",
        "boxes, prob = mtcnn.detect(img)\n",
        "boxes, prob"
      ]
    },
    {
      "cell_type": "markdown",
      "metadata": {
        "id": "gNIgDhS5i2EW"
      },
      "source": [
        "The detect method in MTCNN gives us the coordinates of the face and how confident it was in detecting the face, in this case, with 99% accuracy. Let's draw a rectangle on the image using these coordinates to see if it correctly detected the face."
      ]
    },
    {
      "cell_type": "code",
      "execution_count": 7,
      "metadata": {
        "colab": {
          "base_uri": "https://localhost:8080/",
          "height": 307
        },
        "id": "GXb_0R6xUNcd",
        "outputId": "a428dd8b-ba2d-4ca9-d61b-1826f2642db5"
      },
      "outputs": [
        {
          "data": {
            "image/png": "[encoded data removed]",
            "text/plain": [
              "<PIL.Image.Image image mode=RGB size=200x290 at 0x7FA509E8FC40>"
            ]
          },
          "execution_count": 7,
          "metadata": {},
          "output_type": "execute_result"
        }
      ],
      "source": [
        "from PIL import Image, ImageDraw\n",
        "\n",
        "# draw a rectangle on the image using coordinates returned by the MTCNN model\n",
        "draw = ImageDraw.Draw(img)\n",
        "draw.rectangle(boxes.reshape((2,2)), width=3)\n",
        "# resize the image to display a smaller size\n",
        "img.resize((200, 290))"
      ]
    },
    {
      "cell_type": "markdown",
      "metadata": {
        "id": "shDTpuYcncPk"
      },
      "source": [
        "As we can see, the model has successfully identified the face. To extract the face, we can crop the image to only include the area within the rectangle, using either ``opencv`` or another package. Alternatively, the ``facenet-pytorch`` package has a function that does this for us and returns the result as Pytorch tensors that can be used as input for the embedding model directly. This can be done as follows:"
      ]
    },
    {
      "cell_type": "code",
      "execution_count": 8,
      "metadata": {
        "colab": {
          "base_uri": "https://localhost:8080/"
        },
        "id": "BrRO8cXqk-y7",
        "outputId": "0631d084-a026-4866-b79f-aa6bd3776eca"
      },
      "outputs": [
        {
          "data": {
            "text/plain": [
              "torch.Size([3, 160, 160])"
            ]
          },
          "execution_count": 8,
          "metadata": {},
          "output_type": "execute_result"
        }
      ],
      "source": [
        "# pass the image or batch of images directly through mtcnn model\n",
        "face = mtcnn(img)\n",
        "face.shape"
      ]
    },
    {
      "cell_type": "markdown",
      "metadata": {
        "id": "IXHefc8KqmsC"
      },
      "source": [
        "To generate embeddings, we will use VGGFace2, which is a deep learning model for facial recognition that was trained on the VGGFace2 dataset, which includes more than 3 million images of over 9000 people. The model can be loaded and used as follows:"
      ]
    },
    {
      "cell_type": "code",
      "execution_count": 9,
      "metadata": {
        "colab": {
          "base_uri": "https://localhost:8080/",
          "height": 66,
          "referenced_widgets": [
            "e55aba251a8c463387cf4bd4ecc2b02a",
            "4c2c98d692cc4a1697dac6b4693e9ead",
            "3c4445f3aca845bbbe4b04732f107afa",
            "aab824d2551a4dfabb1758435ace8811",
            "01d7576c81f947e2b161ff191b90e4e9",
            "78fc391583694f79909a361bd5d2e49c",
            "fd103e6123aa4eb09e502368c4ba1494",
            "31f48c2152b74696b05d1c31d14b5d75",
            "314e19b7a06040a1b77a770ec6aaded9",
            "4d2718f065e94e189e99e510ba2db092",
            "b6d66b0ee96b41b39dd80026ef4dc845"
          ]
        },
        "id": "Rb5Uv8QnpNpy",
        "outputId": "54afd3c1-4dfa-4bc2-88ba-8ae2a19a43e3"
      },
      "outputs": [
        {
          "data": {
            "application/vnd.jupyter.widget-view+json": {
              "model_id": "e55aba251a8c463387cf4bd4ecc2b02a",
              "version_major": 2,
              "version_minor": 0
            },
            "text/plain": [
              "  0%|          | 0.00/107M [00:00<?, ?B/s]"
            ]
          },
          "metadata": {},
          "output_type": "display_data"
        },
        {
          "data": {
            "text/plain": [
              "torch.Size([1, 512])"
            ]
          },
          "execution_count": 9,
          "metadata": {},
          "output_type": "execute_result"
        }
      ],
      "source": [
        "from facenet_pytorch import InceptionResnetV1\n",
        "import torch\n",
        "\n",
        "# initialize VGGFace2 model\n",
        "resnet = InceptionResnetV1(pretrained=\"vggface2\").eval()\n",
        "# generate embedding for the face extracted using mtcnn above\n",
        "embedding = resnet(torch.stack([face]))\n",
        "embedding.shape"
      ]
    },
    {
      "cell_type": "markdown",
      "metadata": {
        "id": "c2KCAshuxOoh"
      },
      "source": [
        "We can now generated vector embedding for the face. Let's write a pipeline to easy do all of this in batches."
      ]
    },
    {
      "cell_type": "code",
      "execution_count": 10,
      "metadata": {
        "id": "2Zg-KniPzzso"
      },
      "outputs": [],
      "source": [
        "import numpy as np\n",
        "\n",
        "\n",
        "class FacenetEmbedder:\n",
        "    def __init__(self):\n",
        "        # set device to use GPU if available\n",
        "        self.device = torch.device('cuda:0' if torch.cuda.is_available() else 'cpu')\n",
        "        # initialize MTCNN model\n",
        "        self.mtcnn = MTCNN(device=self.device)\n",
        "        # initialize VGGFace2 model\n",
        "        self.resnet = InceptionResnetV1(pretrained='vggface2', device=self.device).eval()\n",
        "\n",
        "    def detect_face(self, batch):\n",
        "        # get coordinates of the face\n",
        "        faces = self.mtcnn.detect(batch)\n",
        "        return faces\n",
        "\n",
        "    def encode(self, batch):\n",
        "        # pass the batch of images directly through mtcnn model\n",
        "        face_batch = self.mtcnn(batch)\n",
        "        # remove any images that does not contain a face\n",
        "        face_batch = [i for i in face_batch if i is not None]\n",
        "        # concatenate face batch to form a single tensor\n",
        "        aligned = torch.stack(face_batch)\n",
        "        # if using gpu move the input batch to gpu\n",
        "        if self.device.type == \"cuda\": \n",
        "            aligned = aligned.to(self.device)\n",
        "        # generate embedding\n",
        "        embeddings = self.resnet(aligned).detach().cpu()\n",
        "        return embeddings.tolist()"
      ]
    },
    {
      "cell_type": "code",
      "execution_count": 11,
      "metadata": {
        "id": "oB8fVx21z7EB"
      },
      "outputs": [],
      "source": [
        "# initialize the embedding pipeline\n",
        "facenet = FacenetEmbedder()"
      ]
    },
    {
      "cell_type": "code",
      "execution_count": 12,
      "metadata": {
        "colab": {
          "base_uri": "https://localhost:8080/"
        },
        "id": "ioaH60AjvenM",
        "outputId": "32b2e2bb-532c-4c0b-9191-0a41dc11082a"
      },
      "outputs": [
        {
          "data": {
            "text/plain": [
              "10"
            ]
          },
          "execution_count": 12,
          "metadata": {},
          "output_type": "execute_result"
        }
      ],
      "source": [
        "# test the pipeline using a small image batch\n",
        "batch = celeb_faces[10:20][\"image\"]\n",
        "len(facenet.encode(batch))"
      ]
    },
    {
      "cell_type": "markdown",
      "metadata": {
        "id": "dIBGZQiRzeEh"
      },
      "source": [
        "We can now simply call the ``encode`` method in the ``FacenetEmbedder`` with a batch of PIL images and it would extract the faces and generate embedding for us. Keep in mind that batch encoding only works if all the images in the batch have the same shape. We can use the following function to reshape a batch of PIL images to ensure it always works."
      ]
    },
    {
      "cell_type": "code",
      "execution_count": 13,
      "metadata": {
        "id": "swqI6d2Oy-J8"
      },
      "outputs": [],
      "source": [
        "def reshape(batch):\n",
        "    batch = [image.convert(\"RGB\").resize((421, 632)) for image in batch]\n",
        "    return batch"
      ]
    },
    {
      "cell_type": "markdown",
      "metadata": {
        "id": "n-x5KqESLgxv"
      },
      "source": [
        "# Initialize Pinecone Index"
      ]
    },
    {
      "attachments": {},
      "cell_type": "markdown",
      "metadata": {
        "id": "RR9Vj1MoxjRo"
      },
      "source": [
        "Now we need to set up the Pinecone index, which stores vector representations of our images that can be retrieved using the embedding of another image (called the query vector). Before we can do this, we have to establish a connection to Pinecone using an API key. You can find your environment in the [Pinecone console](https://app.pinecone.io) under **API Keys**. This connection is initialized as follows:"
      ]
    },
    {
      "cell_type": "code",
      "execution_count": 14,
      "metadata": {
        "id": "clJx9NraLi7Z"
      },
      "outputs": [],
      "source": [
        "from pinecone import Pinecone\n",
        "\n",
        "# connect to pinecone environment\n",
        "pinecone.init(\n",
        "    api_key=\"YOUR_API_KEY\",\n",
        "    environment=\"YOUR_ENV\"  # find next to API key in console\n",
        ")"
      ]
    },
    {
      "cell_type": "markdown",
      "metadata": {
        "id": "pW9upZZXyZz1"
      },
      "source": [
        "Now, we can create our vector index and name it \"tmdb-people\" (although you can choose any name you like). We specify the metric type as cosine and the dimension as 512, as these are the vector space and dimensionality of the vectors produced by the embedding model we use."
      ]
    },
    {
      "cell_type": "code",
      "execution_count": 15,
      "metadata": {
        "id": "8Lhjfa7mLmCA"
      },
      "outputs": [],
      "source": [
        "index_name = \"tmdb-people\"\n",
        "\n",
        "# check if the tmdb-people index exists\n",
        "if index_name not in pinecone.list_indexes().names():\n",
        "    # create the index if it does not exist\n",
        "    pinecone.create_index(\n",
        "        index_name,\n",
        "        dimension=512,\n",
        "        metric=\"cosine\"\n",
        "    )\n",
        "\n",
        "# connect to tmdb-people index we created\n",
        "index = pinecone.Index(index_name)"
      ]
    },
    {
      "cell_type": "markdown",
      "metadata": {
        "id": "EfggPk_BLdUL"
      },
      "source": [
        "# Generate Embeddings and Upsert"
      ]
    },
    {
      "cell_type": "markdown",
      "metadata": {
        "id": "TOplgoC8B9F1"
      },
      "source": [
        "Next, we need to generate embeddings for the celebrity faces and upload them into the Pinecone index. To do this efficiently, we will process them in batches and upload the resulting embeddings to the Pinecone index. For each celebrity in the dataset, we need to provide Pinecone with a unique id, the corresponding embedding, and metadata. The metadata is a collection of information related to the celebrities, including their name, profile image url, date of birth, etc."
      ]
    },
    {
      "cell_type": "code",
      "execution_count": null,
      "metadata": {
        "id": "n9VpUnF9DzRb"
      },
      "outputs": [],
      "source": [
        "from tqdm.auto import tqdm\n",
        "\n",
        "# we will use batches of 64\n",
        "batch_size = 64\n",
        "\n",
        "for i in tqdm(range(0, len(celeb_faces), batch_size)):\n",
        "    # find end of batch\n",
        "    i_end = min(i+batch_size, len(celeb_faces))\n",
        "    # extract batch\n",
        "    batch = celeb_faces[i:i_end][\"image\"]\n",
        "    # reshape the images to ensure they all have same shape\n",
        "    batch = reshape(batch)\n",
        "    # generate embeddings for batch\n",
        "    emb = facenet.encode(batch)\n",
        "    # create unique IDs\n",
        "    ids = [f\"{idx}\" for idx in range(i, i_end)]\n",
        "    # add metadata\n",
        "    meta = metadata[i:i_end].to_dict(orient=\"records\")\n",
        "    # add all to upsert list\n",
        "    to_upsert = list(zip(ids, emb, meta))\n",
        "    # upsert/insert these records to pinecone\n",
        "    _ = index.upsert(vectors=to_upsert)\n",
        "\n",
        "# # check that we have all vectors in index\n",
        "index.describe_index_stats()"
      ]
    },
    {
      "cell_type": "markdown",
      "metadata": {
        "id": "3J8dkZ-Y3MDy"
      },
      "source": [
        "We have successfully added everything we need to the Pinecone index."
      ]
    },
    {
      "cell_type": "markdown",
      "metadata": {
        "id": "wqcpAO2pXBUq"
      },
      "source": [
        "# Find Similar Celebrities"
      ]
    },
    {
      "cell_type": "markdown",
      "metadata": {
        "id": "FovEQb_x3hRk"
      },
      "source": [
        "Now we can query the Pinecone index with an embedding of a face and instantly get the celebrities that are most similar. First, let's write a helper functions to query pinecone and display the results."
      ]
    },
    {
      "cell_type": "code",
      "execution_count": 16,
      "metadata": {
        "id": "RJrVG80Pr8xn"
      },
      "outputs": [],
      "source": [
        "from IPython.core.display import HTML\n",
        "\n",
        "\n",
        "def display_result(metadata):\n",
        "    figures = []\n",
        "    for m in metadata:\n",
        "        figures.append(f'''\n",
        "            <figure style=\"margin: 5px !important;\">\n",
        "                <img src=\"https://image.tmdb.org/t/p/h632/{m[\"profile_path\"]}\" style=\"width: 190px; height: 240px; border-radius: 10px;\" >\n",
        "                <figcaption>{m[\"name\"]}</figcaption>\n",
        "            </figure>\n",
        "        ''')\n",
        "    return HTML(data=f'''\n",
        "        <div style=\"display: flex; flex-flow: row wrap; text-align: center;\">\n",
        "        {''.join(figures)}\n",
        "        </div>\n",
        "    ''')"
      ]
    },
    {
      "cell_type": "code",
      "execution_count": 17,
      "metadata": {
        "id": "mTA8I6B4I8fh"
      },
      "outputs": [],
      "source": [
        "def find_similar_faces(face, top_k=10):\n",
        "    # pass the image through the embedding pipeline\n",
        "    emb = facenet.encode([face])\n",
        "    # query pinecone with the face embedding\n",
        "    result = index.query(vector=emb[0], top_k=6, include_metadata=True)\n",
        "    # extract metadata from the search results and display results \n",
        "    r = [x[\"metadata\"] for x in result[\"matches\"]]\n",
        "    return display_result(r)"
      ]
    },
    {
      "cell_type": "markdown",
      "metadata": {
        "id": "3cYdH_u7EM2G"
      },
      "source": [
        "Let's run some test queries using celebrity images from the dataset to find other celebrities who look alike."
      ]
    },
    {
      "cell_type": "code",
      "execution_count": 19,
      "metadata": {
        "colab": {
          "base_uri": "https://localhost:8080/",
          "height": 257
        },
        "id": "tsoTIR2VIe4b",
        "outputId": "140123cd-58f3-4fa5-d732-0f23175a4a69"
      },
      "outputs": [
        {
          "data": {
            "image/png": "[encoded data removed]",
            "text/plain": [
              "<PIL.Image.Image image mode=RGB size=190x240 at 0x7FA29AF022E0>"
            ]
          },
          "execution_count": 19,
          "metadata": {},
          "output_type": "execute_result"
        }
      ],
      "source": [
        "celeb = celeb_faces[40][\"image\"]\n",
        "celeb.resize((190,240))"
      ]
    },
    {
      "cell_type": "code",
      "execution_count": 20,
      "metadata": {
        "colab": {
          "base_uri": "https://localhost:8080/",
          "height": 289
        },
        "id": "eYyZf9WI4A2z",
        "outputId": "b236d132-a85a-4421-fa5d-6679aa8d7682"
      },
      "outputs": [
        {
          "data": {
            "text/html": [
              "\n",
              "        <div style=\"display: flex; flex-flow: row wrap; text-align: center;\">\n",
              "        \n",
              "            <figure style=\"margin: 5px !important;\">\n",
              "                <img src=\"https://image.tmdb.org/t/p/h632/dSK2BBupETZYcsO0DfP2OD1AMnT.jpg\" style=\"width: 190px; height: 240px; border-radius: 10px;\" >\n",
              "                <figcaption>Claudia Harrison</figcaption>\n",
              "            </figure>\n",
              "        \n",
              "            <figure style=\"margin: 5px !important;\">\n",
              "                <img src=\"https://image.tmdb.org/t/p/h632/bHGtm29qlx6OYsgwOq84xd6MRpF.jpg\" style=\"width: 190px; height: 240px; border-radius: 10px;\" >\n",
              "                <figcaption>Sonya Walger</figcaption>\n",
              "            </figure>\n",
              "        \n",
              "            <figure style=\"margin: 5px !important;\">\n",
              "                <img src=\"https://image.tmdb.org/t/p/h632/6TSe26ctGPvmZRKDgul1Gos6old.jpg\" style=\"width: 190px; height: 240px; border-radius: 10px;\" >\n",
              "                <figcaption>Bettina Mittendorfer</figcaption>\n",
              "            </figure>\n",
              "        \n",
              "            <figure style=\"margin: 5px !important;\">\n",
              "                <img src=\"https://image.tmdb.org/t/p/h632/2RJ30pPSQQxteuoMjhN1FWTwxlZ.jpg\" style=\"width: 190px; height: 240px; border-radius: 10px;\" >\n",
              "                <figcaption>Julianne Nicholson</figcaption>\n",
              "            </figure>\n",
              "        \n",
              "            <figure style=\"margin: 5px !important;\">\n",
              "                <img src=\"https://image.tmdb.org/t/p/h632/8Jju93UvSPszRzZ9Glvjp9z2anF.jpg\" style=\"width: 190px; height: 240px; border-radius: 10px;\" >\n",
              "                <figcaption>Aglaia Szyszkowitz</figcaption>\n",
              "            </figure>\n",
              "        \n",
              "            <figure style=\"margin: 5px !important;\">\n",
              "                <img src=\"https://image.tmdb.org/t/p/h632/duMdWlldESIqFYDpaJNAcLFzTTq.jpg\" style=\"width: 190px; height: 240px; border-radius: 10px;\" >\n",
              "                <figcaption>Hannah Barefoot</figcaption>\n",
              "            </figure>\n",
              "        \n",
              "        </div>\n",
              "    "
            ],
            "text/plain": [
              "<IPython.core.display.HTML object>"
            ]
          },
          "execution_count": 20,
          "metadata": {},
          "output_type": "execute_result"
        }
      ],
      "source": [
        "find_similar_faces(celeb)"
      ]
    },
    {
      "cell_type": "markdown",
      "metadata": {
        "id": "2qr6osr7I4lu"
      },
      "source": [
        "The search result looks good as we can definately see some celebrities with similar facial features. Let's run more queries."
      ]
    },
    {
      "cell_type": "code",
      "execution_count": 21,
      "metadata": {
        "colab": {
          "base_uri": "https://localhost:8080/",
          "height": 289
        },
        "id": "PC98o_no8U8Y",
        "outputId": "e32b6f11-1e7b-4cc3-ed60-942e61d544f3"
      },
      "outputs": [
        {
          "data": {
            "text/html": [
              "\n",
              "        <div style=\"display: flex; flex-flow: row wrap; text-align: center;\">\n",
              "        \n",
              "            <figure style=\"margin: 5px !important;\">\n",
              "                <img src=\"https://image.tmdb.org/t/p/h632/jpurJ9jAcLCYjgHHfYF32m3zJYm.jpg\" style=\"width: 190px; height: 240px; border-radius: 10px;\" >\n",
              "                <figcaption>Chris Hemsworth</figcaption>\n",
              "            </figure>\n",
              "        \n",
              "            <figure style=\"margin: 5px !important;\">\n",
              "                <img src=\"https://image.tmdb.org/t/p/h632/As5ujeSSJRQN4TE3odg3kDk0b5o.jpg\" style=\"width: 190px; height: 240px; border-radius: 10px;\" >\n",
              "                <figcaption>Liam Hemsworth</figcaption>\n",
              "            </figure>\n",
              "        \n",
              "            <figure style=\"margin: 5px !important;\">\n",
              "                <img src=\"https://image.tmdb.org/t/p/h632/jcDCpX5WiH0AkLDpR6ELreIn2Ta.jpg\" style=\"width: 190px; height: 240px; border-radius: 10px;\" >\n",
              "                <figcaption>Ed Hendrik</figcaption>\n",
              "            </figure>\n",
              "        \n",
              "            <figure style=\"margin: 5px !important;\">\n",
              "                <img src=\"https://image.tmdb.org/t/p/h632/yvo81AU4zUKbcNtWEQjaSTvLTPS.jpg\" style=\"width: 190px; height: 240px; border-radius: 10px;\" >\n",
              "                <figcaption>Chris Reid</figcaption>\n",
              "            </figure>\n",
              "        \n",
              "            <figure style=\"margin: 5px !important;\">\n",
              "                <img src=\"https://image.tmdb.org/t/p/h632/lLsbZLO0JQPIiaRZTcVYbVxfv4m.jpg\" style=\"width: 190px; height: 240px; border-radius: 10px;\" >\n",
              "                <figcaption>Kenny Doughty</figcaption>\n",
              "            </figure>\n",
              "        \n",
              "            <figure style=\"margin: 5px !important;\">\n",
              "                <img src=\"https://image.tmdb.org/t/p/h632/6lqQsR2Ot7nYthCGxfKBzmPzyV3.jpg\" style=\"width: 190px; height: 240px; border-radius: 10px;\" >\n",
              "                <figcaption>Christopher Russell</figcaption>\n",
              "            </figure>\n",
              "        \n",
              "        </div>\n",
              "    "
            ],
            "text/plain": [
              "<IPython.core.display.HTML object>"
            ]
          },
          "execution_count": 21,
          "metadata": {},
          "output_type": "execute_result"
        }
      ],
      "source": [
        "celeb = celeb_faces[35][\"image\"]\n",
        "find_similar_faces(celeb)"
      ]
    },
    {
      "cell_type": "code",
      "execution_count": 22,
      "metadata": {
        "colab": {
          "base_uri": "https://localhost:8080/",
          "height": 289
        },
        "id": "iydMJm9e6vqB",
        "outputId": "96839e3a-1df1-4ddc-82a3-90d18218556a"
      },
      "outputs": [
        {
          "data": {
            "text/html": [
              "\n",
              "        <div style=\"display: flex; flex-flow: row wrap; text-align: center;\">\n",
              "        \n",
              "            <figure style=\"margin: 5px !important;\">\n",
              "                <img src=\"https://image.tmdb.org/t/p/h632/8dCFK8FDFQbYFZvzAE9IIeaDMKo.jpg\" style=\"width: 190px; height: 240px; border-radius: 10px;\" >\n",
              "                <figcaption>Seung Ha</figcaption>\n",
              "            </figure>\n",
              "        \n",
              "            <figure style=\"margin: 5px !important;\">\n",
              "                <img src=\"https://image.tmdb.org/t/p/h632/bsSM5aG1T5oXwpcL3glOf0ViNy4.jpg\" style=\"width: 190px; height: 240px; border-radius: 10px;\" >\n",
              "                <figcaption>Shara Lin</figcaption>\n",
              "            </figure>\n",
              "        \n",
              "            <figure style=\"margin: 5px !important;\">\n",
              "                <img src=\"https://image.tmdb.org/t/p/h632/cVA40E5Pus66fLzq2mWLJDNNtNh.jpg\" style=\"width: 190px; height: 240px; border-radius: 10px;\" >\n",
              "                <figcaption>Yura</figcaption>\n",
              "            </figure>\n",
              "        \n",
              "            <figure style=\"margin: 5px !important;\">\n",
              "                <img src=\"https://image.tmdb.org/t/p/h632/3JTUzCh3PrbamSBf5M5yxMqbxGY.jpg\" style=\"width: 190px; height: 240px; border-radius: 10px;\" >\n",
              "                <figcaption>Napasorn Weerayuttwilai</figcaption>\n",
              "            </figure>\n",
              "        \n",
              "            <figure style=\"margin: 5px !important;\">\n",
              "                <img src=\"https://image.tmdb.org/t/p/h632/ksilFsztYt9Ojp2cbMk75nxumOS.jpg\" style=\"width: 190px; height: 240px; border-radius: 10px;\" >\n",
              "                <figcaption>Go Joon-hee</figcaption>\n",
              "            </figure>\n",
              "        \n",
              "            <figure style=\"margin: 5px !important;\">\n",
              "                <img src=\"https://image.tmdb.org/t/p/h632/kpwv7ozzwUmBaCCgx412CmHqofb.jpg\" style=\"width: 190px; height: 240px; border-radius: 10px;\" >\n",
              "                <figcaption>An Danwei</figcaption>\n",
              "            </figure>\n",
              "        \n",
              "        </div>\n",
              "    "
            ],
            "text/plain": [
              "<IPython.core.display.HTML object>"
            ]
          },
          "execution_count": 22,
          "metadata": {},
          "output_type": "execute_result"
        }
      ],
      "source": [
        "celeb = celeb_faces[1][\"image\"]\n",
        "find_similar_faces(celeb)"
      ]
    },
    {
      "cell_type": "code",
      "execution_count": 23,
      "metadata": {
        "colab": {
          "base_uri": "https://localhost:8080/",
          "height": 289
        },
        "id": "2BiJ8LDL67C-",
        "outputId": "e97a4231-0b60-4aea-aa62-a0158ca79516"
      },
      "outputs": [
        {
          "data": {
            "text/html": [
              "\n",
              "        <div style=\"display: flex; flex-flow: row wrap; text-align: center;\">\n",
              "        \n",
              "            <figure style=\"margin: 5px !important;\">\n",
              "                <img src=\"https://image.tmdb.org/t/p/h632/whNwkEQYWLFJA8ij0WyOOAD5xhQ.jpg\" style=\"width: 190px; height: 240px; border-radius: 10px;\" >\n",
              "                <figcaption>Jason Statham</figcaption>\n",
              "            </figure>\n",
              "        \n",
              "            <figure style=\"margin: 5px !important;\">\n",
              "                <img src=\"https://image.tmdb.org/t/p/h632/2v1MXtsjWJHqx0U0ATZ5VrBh2dD.jpg\" style=\"width: 190px; height: 240px; border-radius: 10px;\" >\n",
              "                <figcaption>Vladimir Raiman</figcaption>\n",
              "            </figure>\n",
              "        \n",
              "            <figure style=\"margin: 5px !important;\">\n",
              "                <img src=\"https://image.tmdb.org/t/p/h632/nJXxgwcGdAL5P1KfgcGrjDaCbsY.jpg\" style=\"width: 190px; height: 240px; border-radius: 10px;\" >\n",
              "                <figcaption>Brendan Kelly</figcaption>\n",
              "            </figure>\n",
              "        \n",
              "            <figure style=\"margin: 5px !important;\">\n",
              "                <img src=\"https://image.tmdb.org/t/p/h632/tnDgEU5q47anoWZJDzzudC678m7.jpg\" style=\"width: 190px; height: 240px; border-radius: 10px;\" >\n",
              "                <figcaption>Scott C. Brown</figcaption>\n",
              "            </figure>\n",
              "        \n",
              "            <figure style=\"margin: 5px !important;\">\n",
              "                <img src=\"https://image.tmdb.org/t/p/h632/pAkKjbzxP6Z6Y5zAGpwmWQo1iji.jpg\" style=\"width: 190px; height: 240px; border-radius: 10px;\" >\n",
              "                <figcaption>Michael Chiklis</figcaption>\n",
              "            </figure>\n",
              "        \n",
              "            <figure style=\"margin: 5px !important;\">\n",
              "                <img src=\"https://image.tmdb.org/t/p/h632/8XBU3bsvmPSDTf6d0edNb2eSDpb.jpg\" style=\"width: 190px; height: 240px; border-radius: 10px;\" >\n",
              "                <figcaption>Huw Garmon</figcaption>\n",
              "            </figure>\n",
              "        \n",
              "        </div>\n",
              "    "
            ],
            "text/plain": [
              "<IPython.core.display.HTML object>"
            ]
          },
          "execution_count": 23,
          "metadata": {},
          "output_type": "execute_result"
        }
      ],
      "source": [
        "celeb = celeb_faces[12][\"image\"]\n",
        "find_similar_faces(celeb)"
      ]
    },
    {
      "cell_type": "code",
      "execution_count": 24,
      "metadata": {
        "colab": {
          "base_uri": "https://localhost:8080/",
          "height": 289
        },
        "id": "wFtQLYuc7fpj",
        "outputId": "c7596928-f5e0-4be9-b81b-d59ca04fde11"
      },
      "outputs": [
        {
          "data": {
            "text/html": [
              "\n",
              "        <div style=\"display: flex; flex-flow: row wrap; text-align: center;\">\n",
              "        \n",
              "            <figure style=\"margin: 5px !important;\">\n",
              "                <img src=\"https://image.tmdb.org/t/p/h632/kL0lWLJA6lbvmPM3YL0ISE6rVr6.jpg\" style=\"width: 190px; height: 240px; border-radius: 10px;\" >\n",
              "                <figcaption>Joey King</figcaption>\n",
              "            </figure>\n",
              "        \n",
              "            <figure style=\"margin: 5px !important;\">\n",
              "                <img src=\"https://image.tmdb.org/t/p/h632/gdTcDujkkPIoKtDZrGcbQ2voFI3.jpg\" style=\"width: 190px; height: 240px; border-radius: 10px;\" >\n",
              "                <figcaption>Elva Trill</figcaption>\n",
              "            </figure>\n",
              "        \n",
              "            <figure style=\"margin: 5px !important;\">\n",
              "                <img src=\"https://image.tmdb.org/t/p/h632/iF9rvJzqepJCxzqQC07OG4bTxEf.jpg\" style=\"width: 190px; height: 240px; border-radius: 10px;\" >\n",
              "                <figcaption>Rosalind Halstead</figcaption>\n",
              "            </figure>\n",
              "        \n",
              "            <figure style=\"margin: 5px !important;\">\n",
              "                <img src=\"https://image.tmdb.org/t/p/h632/AeYvjBU8swVC9zKS933fX8YsnKt.jpg\" style=\"width: 190px; height: 240px; border-radius: 10px;\" >\n",
              "                <figcaption>Svetlana Svetlichnaya</figcaption>\n",
              "            </figure>\n",
              "        \n",
              "            <figure style=\"margin: 5px !important;\">\n",
              "                <img src=\"https://image.tmdb.org/t/p/h632/caXilGBPQtpF4nZEPUlDb0UfVnL.jpg\" style=\"width: 190px; height: 240px; border-radius: 10px;\" >\n",
              "                <figcaption>Megan Parkinson</figcaption>\n",
              "            </figure>\n",
              "        \n",
              "            <figure style=\"margin: 5px !important;\">\n",
              "                <img src=\"https://image.tmdb.org/t/p/h632/IgGOiwSg4qq3OEzXG1LROXTsel.jpg\" style=\"width: 190px; height: 240px; border-radius: 10px;\" >\n",
              "                <figcaption>Clara Ponsot</figcaption>\n",
              "            </figure>\n",
              "        \n",
              "        </div>\n",
              "    "
            ],
            "text/plain": [
              "<IPython.core.display.HTML object>"
            ]
          },
          "execution_count": 24,
          "metadata": {},
          "output_type": "execute_result"
        }
      ],
      "source": [
        "celeb = celeb_faces[17][\"image\"]\n",
        "find_similar_faces(celeb)"
      ]
    },
    {
      "cell_type": "code",
      "execution_count": 25,
      "metadata": {
        "colab": {
          "base_uri": "https://localhost:8080/",
          "height": 289
        },
        "id": "RYYuSCQA7thB",
        "outputId": "2583aeac-a0d0-4ea2-a11b-a0977736872b"
      },
      "outputs": [
        {
          "data": {
            "text/html": [
              "\n",
              "        <div style=\"display: flex; flex-flow: row wrap; text-align: center;\">\n",
              "        \n",
              "            <figure style=\"margin: 5px !important;\">\n",
              "                <img src=\"https://image.tmdb.org/t/p/h632/52KsHFCu0LToakebnxqC4VeRixl.jpg\" style=\"width: 190px; height: 240px; border-radius: 10px;\" >\n",
              "                <figcaption>Luke Grimes</figcaption>\n",
              "            </figure>\n",
              "        \n",
              "            <figure style=\"margin: 5px !important;\">\n",
              "                <img src=\"https://image.tmdb.org/t/p/h632/bkAEduLHkQg1AZmempKPLpoqibA.jpg\" style=\"width: 190px; height: 240px; border-radius: 10px;\" >\n",
              "                <figcaption>Philip Ettinger</figcaption>\n",
              "            </figure>\n",
              "        \n",
              "            <figure style=\"margin: 5px !important;\">\n",
              "                <img src=\"https://image.tmdb.org/t/p/h632/aE8WEoNAs2PtgUzF6AcGodwLQvy.jpg\" style=\"width: 190px; height: 240px; border-radius: 10px;\" >\n",
              "                <figcaption>Nick Thune</figcaption>\n",
              "            </figure>\n",
              "        \n",
              "            <figure style=\"margin: 5px !important;\">\n",
              "                <img src=\"https://image.tmdb.org/t/p/h632/fHSGEllSO8O7p5StwFbWr1du7Bw.jpg\" style=\"width: 190px; height: 240px; border-radius: 10px;\" >\n",
              "                <figcaption>Vicente Alves do Ó</figcaption>\n",
              "            </figure>\n",
              "        \n",
              "            <figure style=\"margin: 5px !important;\">\n",
              "                <img src=\"https://image.tmdb.org/t/p/h632/iR0ElrLlagBaGSsOZVphTLbU8TE.jpg\" style=\"width: 190px; height: 240px; border-radius: 10px;\" >\n",
              "                <figcaption>Thomas McDonell</figcaption>\n",
              "            </figure>\n",
              "        \n",
              "            <figure style=\"margin: 5px !important;\">\n",
              "                <img src=\"https://image.tmdb.org/t/p/h632/yxOUD7RXqwp1EokJqslrJgzI38t.jpg\" style=\"width: 190px; height: 240px; border-radius: 10px;\" >\n",
              "                <figcaption>Irhad Mutic</figcaption>\n",
              "            </figure>\n",
              "        \n",
              "        </div>\n",
              "    "
            ],
            "text/plain": [
              "<IPython.core.display.HTML object>"
            ]
          },
          "execution_count": 25,
          "metadata": {},
          "output_type": "execute_result"
        }
      ],
      "source": [
        "celeb = celeb_faces[29][\"image\"]\n",
        "find_similar_faces(celeb)"
      ]
    },
    {
      "cell_type": "code",
      "execution_count": 26,
      "metadata": {
        "colab": {
          "base_uri": "https://localhost:8080/",
          "height": 289
        },
        "id": "AiqeI4vf99kl",
        "outputId": "1f1f8367-bd0c-4469-d279-f3eb31a67277"
      },
      "outputs": [
        {
          "data": {
            "text/html": [
              "\n",
              "        <div style=\"display: flex; flex-flow: row wrap; text-align: center;\">\n",
              "        \n",
              "            <figure style=\"margin: 5px !important;\">\n",
              "                <img src=\"https://image.tmdb.org/t/p/h632/m8bdrmh6ExDCGQ64E83mHg002YV.jpg\" style=\"width: 190px; height: 240px; border-radius: 10px;\" >\n",
              "                <figcaption>Jeffrey Dean Morgan</figcaption>\n",
              "            </figure>\n",
              "        \n",
              "            <figure style=\"margin: 5px !important;\">\n",
              "                <img src=\"https://image.tmdb.org/t/p/h632/5By3t8kAp5Iiu9aULc3qryyTOWO.jpg\" style=\"width: 190px; height: 240px; border-radius: 10px;\" >\n",
              "                <figcaption>Pompeu José</figcaption>\n",
              "            </figure>\n",
              "        \n",
              "            <figure style=\"margin: 5px !important;\">\n",
              "                <img src=\"https://image.tmdb.org/t/p/h632/btBOmL6PvUMzBjmALO9x0R44ncf.jpg\" style=\"width: 190px; height: 240px; border-radius: 10px;\" >\n",
              "                <figcaption>Özcan Varaylı</figcaption>\n",
              "            </figure>\n",
              "        \n",
              "            <figure style=\"margin: 5px !important;\">\n",
              "                <img src=\"https://image.tmdb.org/t/p/h632/j7AFVjuiU0h0K0Bke7FJnZQpcTz.jpg\" style=\"width: 190px; height: 240px; border-radius: 10px;\" >\n",
              "                <figcaption>Selahattin Taşdöğen</figcaption>\n",
              "            </figure>\n",
              "        \n",
              "            <figure style=\"margin: 5px !important;\">\n",
              "                <img src=\"https://image.tmdb.org/t/p/h632/9Shbe0mLDItn2Is7QloNIu3G6x1.jpg\" style=\"width: 190px; height: 240px; border-radius: 10px;\" >\n",
              "                <figcaption>Vagelis Rokos</figcaption>\n",
              "            </figure>\n",
              "        \n",
              "            <figure style=\"margin: 5px !important;\">\n",
              "                <img src=\"https://image.tmdb.org/t/p/h632/nyLa6LmV9iGv4h9Zqbh1xMp7T26.jpg\" style=\"width: 190px; height: 240px; border-radius: 10px;\" >\n",
              "                <figcaption>Darrell D'Silva</figcaption>\n",
              "            </figure>\n",
              "        \n",
              "        </div>\n",
              "    "
            ],
            "text/plain": [
              "<IPython.core.display.HTML object>"
            ]
          },
          "execution_count": 26,
          "metadata": {},
          "output_type": "execute_result"
        }
      ],
      "source": [
        "celeb = celeb_faces[64][\"image\"]\n",
        "find_similar_faces(celeb)"
      ]
    },
    {
      "cell_type": "markdown",
      "metadata": {
        "id": "nilRcFw2KCC1"
      },
      "source": [
        "The search results look excellent. To further test our system, let's try using images that are not in the dataset. The following function, ``get_image``, can be utilized to load an image as a PIL object using a URL:"
      ]
    },
    {
      "cell_type": "code",
      "execution_count": 28,
      "metadata": {
        "id": "Zfug8eOC69vr"
      },
      "outputs": [],
      "source": [
        "from PIL import Image\n",
        "import requests\n",
        "\n",
        "def get_image(url):\n",
        "  img = Image.open(requests.get(url, stream=True).raw)\n",
        "  return img\n",
        "  "
      ]
    },
    {
      "cell_type": "code",
      "execution_count": 41,
      "metadata": {
        "colab": {
          "base_uri": "https://localhost:8080/",
          "height": 257
        },
        "id": "el4E4-xz6mVy",
        "outputId": "bca05cd4-dcbc-4292-9e51-02c32ae7fe16"
      },
      "outputs": [
        {
          "data": {
            "image/png": "[encoded data removed]",
            "text/plain": [
              "<PIL.Image.Image image mode=RGB size=190x240 at 0x7FA298BD32B0>"
            ]
          },
          "execution_count": 41,
          "metadata": {},
          "output_type": "execute_result"
        }
      ],
      "source": [
        "url = \"https://live.staticflickr.com/7442/9509564504_21d2dc42e1_z.jpg\"\n",
        "# load the image as PIL object from url\n",
        "celeb = get_image(url)\n",
        "celeb.resize((190,240))"
      ]
    },
    {
      "cell_type": "code",
      "execution_count": 42,
      "metadata": {
        "colab": {
          "base_uri": "https://localhost:8080/",
          "height": 289
        },
        "id": "AawLTyz01l5f",
        "outputId": "43571907-4c85-4ee3-a303-9eaedbcbe181"
      },
      "outputs": [
        {
          "data": {
            "text/html": [
              "\n",
              "        <div style=\"display: flex; flex-flow: row wrap; text-align: center;\">\n",
              "        \n",
              "            <figure style=\"margin: 5px !important;\">\n",
              "                <img src=\"https://image.tmdb.org/t/p/h632/f7cyXplSWuYFX1e7JxcNMiRfbaH.jpg\" style=\"width: 190px; height: 240px; border-radius: 10px;\" >\n",
              "                <figcaption>Jennifer Lawrence</figcaption>\n",
              "            </figure>\n",
              "        \n",
              "            <figure style=\"margin: 5px !important;\">\n",
              "                <img src=\"https://image.tmdb.org/t/p/h632/qpSUiChjYsgsFhaBNtPRNATkqx3.jpg\" style=\"width: 190px; height: 240px; border-radius: 10px;\" >\n",
              "                <figcaption>Aislyn Watson</figcaption>\n",
              "            </figure>\n",
              "        \n",
              "            <figure style=\"margin: 5px !important;\">\n",
              "                <img src=\"https://image.tmdb.org/t/p/h632/8ZYFDTg7qVripncGatvG7ufxeyx.jpg\" style=\"width: 190px; height: 240px; border-radius: 10px;\" >\n",
              "                <figcaption>Carrie Underwood</figcaption>\n",
              "            </figure>\n",
              "        \n",
              "            <figure style=\"margin: 5px !important;\">\n",
              "                <img src=\"https://image.tmdb.org/t/p/h632/1midcRjbkFrMX3km1290Jlwf6xi.jpg\" style=\"width: 190px; height: 240px; border-radius: 10px;\" >\n",
              "                <figcaption>Carissa Capobianco</figcaption>\n",
              "            </figure>\n",
              "        \n",
              "            <figure style=\"margin: 5px !important;\">\n",
              "                <img src=\"https://image.tmdb.org/t/p/h632/djzcylhUn3FzpKFrwHQbhbZqMpn.jpg\" style=\"width: 190px; height: 240px; border-radius: 10px;\" >\n",
              "                <figcaption>Kimberley Klaver</figcaption>\n",
              "            </figure>\n",
              "        \n",
              "            <figure style=\"margin: 5px !important;\">\n",
              "                <img src=\"https://image.tmdb.org/t/p/h632/l3wEP7cqUYQs9qzbWkx05zTpMnN.jpg\" style=\"width: 190px; height: 240px; border-radius: 10px;\" >\n",
              "                <figcaption>Esti Ginzburg</figcaption>\n",
              "            </figure>\n",
              "        \n",
              "        </div>\n",
              "    "
            ],
            "text/plain": [
              "<IPython.core.display.HTML object>"
            ]
          },
          "execution_count": 42,
          "metadata": {},
          "output_type": "execute_result"
        }
      ],
      "source": [
        "find_similar_faces(celeb)"
      ]
    },
    {
      "cell_type": "code",
      "execution_count": 50,
      "metadata": {
        "colab": {
          "base_uri": "https://localhost:8080/",
          "height": 257
        },
        "id": "_JeTYocVBWIm",
        "outputId": "99933f53-4ef4-4994-f01e-e1ae7cdaf8a3"
      },
      "outputs": [
        {
          "data": {
            "image/png": "[encoded data removed]",
            "text/plain": [
              "<PIL.Image.Image image mode=RGB size=190x240 at 0x7FA298BABEE0>"
            ]
          },
          "execution_count": 50,
          "metadata": {},
          "output_type": "execute_result"
        }
      ],
      "source": [
        "url = \"https://live.staticflickr.com/3563/3304692615_bc67db2606_z.jpg\"\n",
        "# load the image as PIL object from url\n",
        "celeb = get_image(url)\n",
        "celeb.resize((190,240))"
      ]
    },
    {
      "cell_type": "code",
      "execution_count": 51,
      "metadata": {
        "colab": {
          "base_uri": "https://localhost:8080/",
          "height": 289
        },
        "id": "5SCSPdm97iRG",
        "outputId": "bc75637f-e5da-4209-828d-4ad859042964"
      },
      "outputs": [
        {
          "data": {
            "text/html": [
              "\n",
              "        <div style=\"display: flex; flex-flow: row wrap; text-align: center;\">\n",
              "        \n",
              "            <figure style=\"margin: 5px !important;\">\n",
              "                <img src=\"https://image.tmdb.org/t/p/h632/ajNaPmXVVMJFg9GWmu6MJzTaXdV.jpg\" style=\"width: 190px; height: 240px; border-radius: 10px;\" >\n",
              "                <figcaption>Brad Pitt</figcaption>\n",
              "            </figure>\n",
              "        \n",
              "            <figure style=\"margin: 5px !important;\">\n",
              "                <img src=\"https://image.tmdb.org/t/p/h632/boqqxkt8GcjCUmUsGRFzr3rSTDh.jpg\" style=\"width: 190px; height: 240px; border-radius: 10px;\" >\n",
              "                <figcaption>Peter M. Lenkov</figcaption>\n",
              "            </figure>\n",
              "        \n",
              "            <figure style=\"margin: 5px !important;\">\n",
              "                <img src=\"https://image.tmdb.org/t/p/h632/wWRbCMgZnG6ItMBcMHsJ495FrU8.jpg\" style=\"width: 190px; height: 240px; border-radius: 10px;\" >\n",
              "                <figcaption>Michał Lewandowski</figcaption>\n",
              "            </figure>\n",
              "        \n",
              "            <figure style=\"margin: 5px !important;\">\n",
              "                <img src=\"https://image.tmdb.org/t/p/h632/b19aJzhUAfyQXd0mtmDvLAyOth8.jpg\" style=\"width: 190px; height: 240px; border-radius: 10px;\" >\n",
              "                <figcaption>Luke Arnold</figcaption>\n",
              "            </figure>\n",
              "        \n",
              "            <figure style=\"margin: 5px !important;\">\n",
              "                <img src=\"https://image.tmdb.org/t/p/h632/hiuSdXFjI7EIMv8Y83zh2KtGbbk.jpg\" style=\"width: 190px; height: 240px; border-radius: 10px;\" >\n",
              "                <figcaption>David Berry</figcaption>\n",
              "            </figure>\n",
              "        \n",
              "            <figure style=\"margin: 5px !important;\">\n",
              "                <img src=\"https://image.tmdb.org/t/p/h632/w2oRqYtVa8B3ALOrBqajwp72YQf.jpg\" style=\"width: 190px; height: 240px; border-radius: 10px;\" >\n",
              "                <figcaption>Marco Quaglia</figcaption>\n",
              "            </figure>\n",
              "        \n",
              "        </div>\n",
              "    "
            ],
            "text/plain": [
              "<IPython.core.display.HTML object>"
            ]
          },
          "execution_count": 51,
          "metadata": {},
          "output_type": "execute_result"
        }
      ],
      "source": [
        "find_similar_faces(celeb)"
      ]
    },
    {
      "cell_type": "markdown",
      "metadata": {
        "id": "JoyTYb9xPScm"
      },
      "source": [
        "As we can see, the search result correctly identifies the celebrity in the picture as the top match and also finds other celebrities with similar facial features."
      ]
    },
    {
      "cell_type": "markdown",
      "metadata": {
        "id": "YR3ZyvPmP9gt"
      },
      "source": [
        "# Example Application"
      ]
    },
    {
      "cell_type": "markdown",
      "metadata": {
        "id": "Fo_yNO3oQAV4"
      },
      "source": [
        "Are you curious if you share a resemblance with a famous celebrity? Try this [demo app](https://huggingface.co/spaces/pinecone/find-your-celebrity-match), which has been built based on this notebook, to find out."
      ]
    }
  ],
  "metadata": {
    "colab": {
      "provenance": []
    },
    "gpuClass": "standard",
    "kernelspec": {
      "display_name": "base",
      "language": "python",
      "name": "python3"
    },
    "language_info": {
      "name": "python",
      "version": "3.8.13 (default, Mar 28 2022, 06:59:08) [MSC v.1916 64 bit (AMD64)]"
    },
    "vscode": {
      "interpreter": {
        "hash": "5fe10bf018ef3e697f9035d60bf60847932a12bface18908407fd371fe880db9"
      }
    },
    "widgets": {
      "application/vnd.jupyter.widget-state+json": {
        "016e83d4b3624a85b9ca2b5230ff9727": {
          "model_module": "@jupyter-widgets/base",
          "model_module_version": "1.2.0",
          "model_name": "LayoutModel",
          "state": {
            "_model_module": "@jupyter-widgets/base",
            "_model_module_version": "1.2.0",
            "_model_name": "LayoutModel",
            "_view_count": null,
            "_view_module": "@jupyter-widgets/base",
            "_view_module_version": "1.2.0",
            "_view_name": "LayoutView",
            "align_content": null,
            "align_items": null,
            "align_self": null,
            "border": null,
            "bottom": null,
            "display": null,
            "flex": null,
            "flex_flow": null,
            "grid_area": null,
            "grid_auto_columns": null,
            "grid_auto_flow": null,
            "grid_auto_rows": null,
            "grid_column": null,
            "grid_gap": null,
            "grid_row": null,
            "grid_template_areas": null,
            "grid_template_columns": null,
            "grid_template_rows": null,
            "height": null,
            "justify_content": null,
            "justify_items": null,
            "left": null,
            "margin": null,
            "max_height": null,
            "max_width": null,
            "min_height": null,
            "min_width": null,
            "object_fit": null,
            "object_position": null,
            "order": null,
            "overflow": null,
            "overflow_x": null,
            "overflow_y": null,
            "padding": null,
            "right": null,
            "top": null,
            "visibility": null,
            "width": null
          }
        },
        "01d7576c81f947e2b161ff191b90e4e9": {
          "model_module": "@jupyter-widgets/base",
          "model_module_version": "1.2.0",
          "model_name": "LayoutModel",
          "state": {
            "_model_module": "@jupyter-widgets/base",
            "_model_module_version": "1.2.0",
            "_model_name": "LayoutModel",
            "_view_count": null,
            "_view_module": "@jupyter-widgets/base",
            "_view_module_version": "1.2.0",
            "_view_name": "LayoutView",
            "align_content": null,
            "align_items": null,
            "align_self": null,
            "border": null,
            "bottom": null,
            "display": null,
            "flex": null,
            "flex_flow": null,
            "grid_area": null,
            "grid_auto_columns": null,
            "grid_auto_flow": null,
            "grid_auto_rows": null,
            "grid_column": null,
            "grid_gap": null,
            "grid_row": null,
            "grid_template_areas": null,
            "grid_template_columns": null,
            "grid_template_rows": null,
            "height": null,
            "justify_content": null,
            "justify_items": null,
            "left": null,
            "margin": null,
            "max_height": null,
            "max_width": null,
            "min_height": null,
            "min_width": null,
            "object_fit": null,
            "object_position": null,
            "order": null,
            "overflow": null,
            "overflow_x": null,
            "overflow_y": null,
            "padding": null,
            "right": null,
            "top": null,
            "visibility": null,
            "width": null
          }
        },
        "02c8f885b0b3402dbb9e2d4cb877d911": {
          "model_module": "@jupyter-widgets/base",
          "model_module_version": "1.2.0",
          "model_name": "LayoutModel",
          "state": {
            "_model_module": "@jupyter-widgets/base",
            "_model_module_version": "1.2.0",
            "_model_name": "LayoutModel",
            "_view_count": null,
            "_view_module": "@jupyter-widgets/base",
            "_view_module_version": "1.2.0",
            "_view_name": "LayoutView",
            "align_content": null,
            "align_items": null,
            "align_self": null,
            "border": null,
            "bottom": null,
            "display": null,
            "flex": null,
            "flex_flow": null,
            "grid_area": null,
            "grid_auto_columns": null,
            "grid_auto_flow": null,
            "grid_auto_rows": null,
            "grid_column": null,
            "grid_gap": null,
            "grid_row": null,
            "grid_template_areas": null,
            "grid_template_columns": null,
            "grid_template_rows": null,
            "height": null,
            "justify_content": null,
            "justify_items": null,
            "left": null,
            "margin": null,
            "max_height": null,
            "max_width": null,
            "min_height": null,
            "min_width": null,
            "object_fit": null,
            "object_position": null,
            "order": null,
            "overflow": null,
            "overflow_x": null,
            "overflow_y": null,
            "padding": null,
            "right": null,
            "top": null,
            "visibility": null,
            "width": null
          }
        },
        "05a5ba7fb62a48928f27a91aa244184f": {
          "model_module": "@jupyter-widgets/base",
          "model_module_version": "1.2.0",
          "model_name": "LayoutModel",
          "state": {
            "_model_module": "@jupyter-widgets/base",
            "_model_module_version": "1.2.0",
            "_model_name": "LayoutModel",
            "_view_count": null,
            "_view_module": "@jupyter-widgets/base",
            "_view_module_version": "1.2.0",
            "_view_name": "LayoutView",
            "align_content": null,
            "align_items": null,
            "align_self": null,
            "border": null,
            "bottom": null,
            "display": null,
            "flex": null,
            "flex_flow": null,
            "grid_area": null,
            "grid_auto_columns": null,
            "grid_auto_flow": null,
            "grid_auto_rows": null,
            "grid_column": null,
            "grid_gap": null,
            "grid_row": null,
            "grid_template_areas": null,
            "grid_template_columns": null,
            "grid_template_rows": null,
            "height": null,
            "justify_content": null,
            "justify_items": null,
            "left": null,
            "margin": null,
            "max_height": null,
            "max_width": null,
            "min_height": null,
            "min_width": null,
            "object_fit": null,
            "object_position": null,
            "order": null,
            "overflow": null,
            "overflow_x": null,
            "overflow_y": null,
            "padding": null,
            "right": null,
            "top": null,
            "visibility": null,
            "width": null
          }
        },
        "0b3e8fcf0ad34035907d1382ba53b995": {
          "model_module": "@jupyter-widgets/controls",
          "model_module_version": "1.5.0",
          "model_name": "HTMLModel",
          "state": {
            "_dom_classes": [],
            "_model_module": "@jupyter-widgets/controls",
            "_model_module_version": "1.5.0",
            "_model_name": "HTMLModel",
            "_view_count": null,
            "_view_module": "@jupyter-widgets/controls",
            "_view_module_version": "1.5.0",
            "_view_name": "HTMLView",
            "description": "",
            "description_tooltip": null,
            "layout": "IPY_MODEL_d549cef7c84a48c18b0f291978ace54f",
            "placeholder": "​",
            "style": "IPY_MODEL_ec82dbadade048839b527c21d8222c63",
            "value": " 1.48k/1.48k [00:00&lt;00:00, 31.0kB/s]"
          }
        },
        "0bede93f94f545358e8f6d3efcb53657": {
          "model_module": "@jupyter-widgets/controls",
          "model_module_version": "1.5.0",
          "model_name": "FloatProgressModel",
          "state": {
            "_dom_classes": [],
            "_model_module": "@jupyter-widgets/controls",
            "_model_module_version": "1.5.0",
            "_model_name": "FloatProgressModel",
            "_view_count": null,
            "_view_module": "@jupyter-widgets/controls",
            "_view_module_version": "1.5.0",
            "_view_name": "ProgressView",
            "bar_style": "success",
            "description": "",
            "description_tooltip": null,
            "layout": "IPY_MODEL_81e7241cdfcc46eba5e194844d0de417",
            "max": 1,
            "min": 0,
            "orientation": "horizontal",
            "style": "IPY_MODEL_a70c22a40d33495bb33a268bfeb51dcd",
            "value": 1
          }
        },
        "0cc592bdbbd94b13b2ce05c754d7e9e5": {
          "model_module": "@jupyter-widgets/controls",
          "model_module_version": "1.5.0",
          "model_name": "DescriptionStyleModel",
          "state": {
            "_model_module": "@jupyter-widgets/controls",
            "_model_module_version": "1.5.0",
            "_model_name": "DescriptionStyleModel",
            "_view_count": null,
            "_view_module": "@jupyter-widgets/base",
            "_view_module_version": "1.2.0",
            "_view_name": "StyleView",
            "description_width": ""
          }
        },
        "0dbfe553172d46c091ca40215a051a0d": {
          "model_module": "@jupyter-widgets/controls",
          "model_module_version": "1.5.0",
          "model_name": "DescriptionStyleModel",
          "state": {
            "_model_module": "@jupyter-widgets/controls",
            "_model_module_version": "1.5.0",
            "_model_name": "DescriptionStyleModel",
            "_view_count": null,
            "_view_module": "@jupyter-widgets/base",
            "_view_module_version": "1.2.0",
            "_view_name": "StyleView",
            "description_width": ""
          }
        },
        "114e197b8cb1468986643675a7acb48c": {
          "model_module": "@jupyter-widgets/base",
          "model_module_version": "1.2.0",
          "model_name": "LayoutModel",
          "state": {
            "_model_module": "@jupyter-widgets/base",
            "_model_module_version": "1.2.0",
            "_model_name": "LayoutModel",
            "_view_count": null,
            "_view_module": "@jupyter-widgets/base",
            "_view_module_version": "1.2.0",
            "_view_name": "LayoutView",
            "align_content": null,
            "align_items": null,
            "align_self": null,
            "border": null,
            "bottom": null,
            "display": null,
            "flex": null,
            "flex_flow": null,
            "grid_area": null,
            "grid_auto_columns": null,
            "grid_auto_flow": null,
            "grid_auto_rows": null,
            "grid_column": null,
            "grid_gap": null,
            "grid_row": null,
            "grid_template_areas": null,
            "grid_template_columns": null,
            "grid_template_rows": null,
            "height": null,
            "justify_content": null,
            "justify_items": null,
            "left": null,
            "margin": null,
            "max_height": null,
            "max_width": null,
            "min_height": null,
            "min_width": null,
            "object_fit": null,
            "object_position": null,
            "order": null,
            "overflow": null,
            "overflow_x": null,
            "overflow_y": null,
            "padding": null,
            "right": null,
            "top": null,
            "visibility": null,
            "width": null
          }
        },
        "13506237ea944187b9402a9572c39869": {
          "model_module": "@jupyter-widgets/controls",
          "model_module_version": "1.5.0",
          "model_name": "HTMLModel",
          "state": {
            "_dom_classes": [],
            "_model_module": "@jupyter-widgets/controls",
            "_model_module_version": "1.5.0",
            "_model_name": "HTMLModel",
            "_view_count": null,
            "_view_module": "@jupyter-widgets/controls",
            "_view_module_version": "1.5.0",
            "_view_name": "HTMLView",
            "description": "",
            "description_tooltip": null,
            "layout": "IPY_MODEL_5e0f3c95c85449a8a397496209271ee2",
            "placeholder": "​",
            "style": "IPY_MODEL_0cc592bdbbd94b13b2ce05c754d7e9e5",
            "value": " 1/1 [00:00&lt;00:00, 25.75it/s]"
          }
        },
        "1530531c9ee44941b9d64c4de2b66ace": {
          "model_module": "@jupyter-widgets/controls",
          "model_module_version": "1.5.0",
          "model_name": "FloatProgressModel",
          "state": {
            "_dom_classes": [],
            "_model_module": "@jupyter-widgets/controls",
            "_model_module_version": "1.5.0",
            "_model_name": "FloatProgressModel",
            "_view_count": null,
            "_view_module": "@jupyter-widgets/controls",
            "_view_module_version": "1.5.0",
            "_view_name": "ProgressView",
            "bar_style": "success",
            "description": "",
            "description_tooltip": null,
            "layout": "IPY_MODEL_114e197b8cb1468986643675a7acb48c",
            "max": 401078955,
            "min": 0,
            "orientation": "horizontal",
            "style": "IPY_MODEL_831dc8c08bac4a0b8171df8cea718390",
            "value": 401078955
          }
        },
        "1614f7338b384c69b6312c788e1d0f5e": {
          "model_module": "@jupyter-widgets/controls",
          "model_module_version": "1.5.0",
          "model_name": "DescriptionStyleModel",
          "state": {
            "_model_module": "@jupyter-widgets/controls",
            "_model_module_version": "1.5.0",
            "_model_name": "DescriptionStyleModel",
            "_view_count": null,
            "_view_module": "@jupyter-widgets/base",
            "_view_module_version": "1.2.0",
            "_view_name": "StyleView",
            "description_width": ""
          }
        },
        "19a87250f7f241e3885156521a858d11": {
          "model_module": "@jupyter-widgets/controls",
          "model_module_version": "1.5.0",
          "model_name": "DescriptionStyleModel",
          "state": {
            "_model_module": "@jupyter-widgets/controls",
            "_model_module_version": "1.5.0",
            "_model_name": "DescriptionStyleModel",
            "_view_count": null,
            "_view_module": "@jupyter-widgets/base",
            "_view_module_version": "1.2.0",
            "_view_name": "StyleView",
            "description_width": ""
          }
        },
        "1b45129acd5948828df0950c6a93668e": {
          "model_module": "@jupyter-widgets/controls",
          "model_module_version": "1.5.0",
          "model_name": "FloatProgressModel",
          "state": {
            "_dom_classes": [],
            "_model_module": "@jupyter-widgets/controls",
            "_model_module_version": "1.5.0",
            "_model_name": "FloatProgressModel",
            "_view_count": null,
            "_view_module": "@jupyter-widgets/controls",
            "_view_module_version": "1.5.0",
            "_view_name": "ProgressView",
            "bar_style": "success",
            "description": "",
            "description_tooltip": null,
            "layout": "IPY_MODEL_66e621543a304197b41ea2d957c0a691",
            "max": 448721554,
            "min": 0,
            "orientation": "horizontal",
            "style": "IPY_MODEL_3fcdd76075c94bd9b678e4a270016ec5",
            "value": 448721554
          }
        },
        "1f7f8f8d25e442c2bc238384318081df": {
          "model_module": "@jupyter-widgets/controls",
          "model_module_version": "1.5.0",
          "model_name": "ProgressStyleModel",
          "state": {
            "_model_module": "@jupyter-widgets/controls",
            "_model_module_version": "1.5.0",
            "_model_name": "ProgressStyleModel",
            "_view_count": null,
            "_view_module": "@jupyter-widgets/base",
            "_view_module_version": "1.2.0",
            "_view_name": "StyleView",
            "bar_color": null,
            "description_width": ""
          }
        },
        "223268a021614544b727e8baab1e4c46": {
          "model_module": "@jupyter-widgets/base",
          "model_module_version": "1.2.0",
          "model_name": "LayoutModel",
          "state": {
            "_model_module": "@jupyter-widgets/base",
            "_model_module_version": "1.2.0",
            "_model_name": "LayoutModel",
            "_view_count": null,
            "_view_module": "@jupyter-widgets/base",
            "_view_module_version": "1.2.0",
            "_view_name": "LayoutView",
            "align_content": null,
            "align_items": null,
            "align_self": null,
            "border": null,
            "bottom": null,
            "display": null,
            "flex": null,
            "flex_flow": null,
            "grid_area": null,
            "grid_auto_columns": null,
            "grid_auto_flow": null,
            "grid_auto_rows": null,
            "grid_column": null,
            "grid_gap": null,
            "grid_row": null,
            "grid_template_areas": null,
            "grid_template_columns": null,
            "grid_template_rows": null,
            "height": null,
            "justify_content": null,
            "justify_items": null,
            "left": null,
            "margin": null,
            "max_height": null,
            "max_width": null,
            "min_height": null,
            "min_width": null,
            "object_fit": null,
            "object_position": null,
            "order": null,
            "overflow": null,
            "overflow_x": null,
            "overflow_y": null,
            "padding": null,
            "right": null,
            "top": null,
            "visibility": null,
            "width": null
          }
        },
        "239f29236a114c83baf36b5d665f751c": {
          "model_module": "@jupyter-widgets/controls",
          "model_module_version": "1.5.0",
          "model_name": "FloatProgressModel",
          "state": {
            "_dom_classes": [],
            "_model_module": "@jupyter-widgets/controls",
            "_model_module_version": "1.5.0",
            "_model_name": "FloatProgressModel",
            "_view_count": null,
            "_view_module": "@jupyter-widgets/controls",
            "_view_module_version": "1.5.0",
            "_view_name": "ProgressView",
            "bar_style": "success",
            "description": "",
            "description_tooltip": null,
            "layout": "IPY_MODEL_482e8f26bb20499e83ce777e742fc4f4",
            "max": 405786990,
            "min": 0,
            "orientation": "horizontal",
            "style": "IPY_MODEL_6872debf8479497a8aa508c983321aa2",
            "value": 405786990
          }
        },
        "24ac31ce7ce44d8ea5a8014ba0a9731b": {
          "model_module": "@jupyter-widgets/controls",
          "model_module_version": "1.5.0",
          "model_name": "DescriptionStyleModel",
          "state": {
            "_model_module": "@jupyter-widgets/controls",
            "_model_module_version": "1.5.0",
            "_model_name": "DescriptionStyleModel",
            "_view_count": null,
            "_view_module": "@jupyter-widgets/base",
            "_view_module_version": "1.2.0",
            "_view_name": "StyleView",
            "description_width": ""
          }
        },
        "2df224c60384490280c34ab4c6676376": {
          "model_module": "@jupyter-widgets/controls",
          "model_module_version": "1.5.0",
          "model_name": "DescriptionStyleModel",
          "state": {
            "_model_module": "@jupyter-widgets/controls",
            "_model_module_version": "1.5.0",
            "_model_name": "DescriptionStyleModel",
            "_view_count": null,
            "_view_module": "@jupyter-widgets/base",
            "_view_module_version": "1.2.0",
            "_view_name": "StyleView",
            "description_width": ""
          }
        },
        "2e28d4e23a7e426caa84a241ed8e256a": {
          "model_module": "@jupyter-widgets/base",
          "model_module_version": "1.2.0",
          "model_name": "LayoutModel",
          "state": {
            "_model_module": "@jupyter-widgets/base",
            "_model_module_version": "1.2.0",
            "_model_name": "LayoutModel",
            "_view_count": null,
            "_view_module": "@jupyter-widgets/base",
            "_view_module_version": "1.2.0",
            "_view_name": "LayoutView",
            "align_content": null,
            "align_items": null,
            "align_self": null,
            "border": null,
            "bottom": null,
            "display": null,
            "flex": null,
            "flex_flow": null,
            "grid_area": null,
            "grid_auto_columns": null,
            "grid_auto_flow": null,
            "grid_auto_rows": null,
            "grid_column": null,
            "grid_gap": null,
            "grid_row": null,
            "grid_template_areas": null,
            "grid_template_columns": null,
            "grid_template_rows": null,
            "height": null,
            "justify_content": null,
            "justify_items": null,
            "left": null,
            "margin": null,
            "max_height": null,
            "max_width": null,
            "min_height": null,
            "min_width": null,
            "object_fit": null,
            "object_position": null,
            "order": null,
            "overflow": null,
            "overflow_x": null,
            "overflow_y": null,
            "padding": null,
            "right": null,
            "top": null,
            "visibility": null,
            "width": null
          }
        },
        "2f2c45e5e6c44d85a2b87e49c9e66893": {
          "model_module": "@jupyter-widgets/controls",
          "model_module_version": "1.5.0",
          "model_name": "HTMLModel",
          "state": {
            "_dom_classes": [],
            "_model_module": "@jupyter-widgets/controls",
            "_model_module_version": "1.5.0",
            "_model_name": "HTMLModel",
            "_view_count": null,
            "_view_module": "@jupyter-widgets/controls",
            "_view_module_version": "1.5.0",
            "_view_name": "HTMLView",
            "description": "",
            "description_tooltip": null,
            "layout": "IPY_MODEL_e19755b325604608adfcd63ef62a8567",
            "placeholder": "​",
            "style": "IPY_MODEL_2df224c60384490280c34ab4c6676376",
            "value": "Downloading metadata: 100%"
          }
        },
        "30082ca665f048eba9c6f7d387c99f44": {
          "model_module": "@jupyter-widgets/base",
          "model_module_version": "1.2.0",
          "model_name": "LayoutModel",
          "state": {
            "_model_module": "@jupyter-widgets/base",
            "_model_module_version": "1.2.0",
            "_model_name": "LayoutModel",
            "_view_count": null,
            "_view_module": "@jupyter-widgets/base",
            "_view_module_version": "1.2.0",
            "_view_name": "LayoutView",
            "align_content": null,
            "align_items": null,
            "align_self": null,
            "border": null,
            "bottom": null,
            "display": null,
            "flex": null,
            "flex_flow": null,
            "grid_area": null,
            "grid_auto_columns": null,
            "grid_auto_flow": null,
            "grid_auto_rows": null,
            "grid_column": null,
            "grid_gap": null,
            "grid_row": null,
            "grid_template_areas": null,
            "grid_template_columns": null,
            "grid_template_rows": null,
            "height": null,
            "justify_content": null,
            "justify_items": null,
            "left": null,
            "margin": null,
            "max_height": null,
            "max_width": null,
            "min_height": null,
            "min_width": null,
            "object_fit": null,
            "object_position": null,
            "order": null,
            "overflow": null,
            "overflow_x": null,
            "overflow_y": null,
            "padding": null,
            "right": null,
            "top": null,
            "visibility": null,
            "width": null
          }
        },
        "314e19b7a06040a1b77a770ec6aaded9": {
          "model_module": "@jupyter-widgets/controls",
          "model_module_version": "1.5.0",
          "model_name": "ProgressStyleModel",
          "state": {
            "_model_module": "@jupyter-widgets/controls",
            "_model_module_version": "1.5.0",
            "_model_name": "ProgressStyleModel",
            "_view_count": null,
            "_view_module": "@jupyter-widgets/base",
            "_view_module_version": "1.2.0",
            "_view_name": "StyleView",
            "bar_color": null,
            "description_width": ""
          }
        },
        "31f48c2152b74696b05d1c31d14b5d75": {
          "model_module": "@jupyter-widgets/base",
          "model_module_version": "1.2.0",
          "model_name": "LayoutModel",
          "state": {
            "_model_module": "@jupyter-widgets/base",
            "_model_module_version": "1.2.0",
            "_model_name": "LayoutModel",
            "_view_count": null,
            "_view_module": "@jupyter-widgets/base",
            "_view_module_version": "1.2.0",
            "_view_name": "LayoutView",
            "align_content": null,
            "align_items": null,
            "align_self": null,
            "border": null,
            "bottom": null,
            "display": null,
            "flex": null,
            "flex_flow": null,
            "grid_area": null,
            "grid_auto_columns": null,
            "grid_auto_flow": null,
            "grid_auto_rows": null,
            "grid_column": null,
            "grid_gap": null,
            "grid_row": null,
            "grid_template_areas": null,
            "grid_template_columns": null,
            "grid_template_rows": null,
            "height": null,
            "justify_content": null,
            "justify_items": null,
            "left": null,
            "margin": null,
            "max_height": null,
            "max_width": null,
            "min_height": null,
            "min_width": null,
            "object_fit": null,
            "object_position": null,
            "order": null,
            "overflow": null,
            "overflow_x": null,
            "overflow_y": null,
            "padding": null,
            "right": null,
            "top": null,
            "visibility": null,
            "width": null
          }
        },
        "3354a2296125478c958fbf7a0905626d": {
          "model_module": "@jupyter-widgets/controls",
          "model_module_version": "1.5.0",
          "model_name": "FloatProgressModel",
          "state": {
            "_dom_classes": [],
            "_model_module": "@jupyter-widgets/controls",
            "_model_module_version": "1.5.0",
            "_model_name": "FloatProgressModel",
            "_view_count": null,
            "_view_module": "@jupyter-widgets/controls",
            "_view_module_version": "1.5.0",
            "_view_name": "ProgressView",
            "bar_style": "success",
            "description": "",
            "description_tooltip": null,
            "layout": "IPY_MODEL_51c5860b03334113b81187695e693dee",
            "max": 411498559,
            "min": 0,
            "orientation": "horizontal",
            "style": "IPY_MODEL_9aa59be43b5b401da28fda4e168bce4c",
            "value": 411498559
          }
        },
        "33fa5596e26f489694be62ff4a1b5767": {
          "model_module": "@jupyter-widgets/base",
          "model_module_version": "1.2.0",
          "model_name": "LayoutModel",
          "state": {
            "_model_module": "@jupyter-widgets/base",
            "_model_module_version": "1.2.0",
            "_model_name": "LayoutModel",
            "_view_count": null,
            "_view_module": "@jupyter-widgets/base",
            "_view_module_version": "1.2.0",
            "_view_name": "LayoutView",
            "align_content": null,
            "align_items": null,
            "align_self": null,
            "border": null,
            "bottom": null,
            "display": null,
            "flex": null,
            "flex_flow": null,
            "grid_area": null,
            "grid_auto_columns": null,
            "grid_auto_flow": null,
            "grid_auto_rows": null,
            "grid_column": null,
            "grid_gap": null,
            "grid_row": null,
            "grid_template_areas": null,
            "grid_template_columns": null,
            "grid_template_rows": null,
            "height": null,
            "justify_content": null,
            "justify_items": null,
            "left": null,
            "margin": null,
            "max_height": null,
            "max_width": null,
            "min_height": null,
            "min_width": null,
            "object_fit": null,
            "object_position": null,
            "order": null,
            "overflow": null,
            "overflow_x": null,
            "overflow_y": null,
            "padding": null,
            "right": null,
            "top": null,
            "visibility": null,
            "width": null
          }
        },
        "34c8a74c96aa4e8f80df5bb99afca5fe": {
          "model_module": "@jupyter-widgets/controls",
          "model_module_version": "1.5.0",
          "model_name": "FloatProgressModel",
          "state": {
            "_dom_classes": [],
            "_model_module": "@jupyter-widgets/controls",
            "_model_module_version": "1.5.0",
            "_model_name": "FloatProgressModel",
            "_view_count": null,
            "_view_module": "@jupyter-widgets/controls",
            "_view_module_version": "1.5.0",
            "_view_name": "ProgressView",
            "bar_style": "success",
            "description": "",
            "description_tooltip": null,
            "layout": "IPY_MODEL_9c705d50635b423f80d4f6d7201d59af",
            "max": 9,
            "min": 0,
            "orientation": "horizontal",
            "style": "IPY_MODEL_a24d6c5f1f6f428e8f9978795043c92a",
            "value": 9
          }
        },
        "36a9017aafe3474a8a3e8603d4e0c82b": {
          "model_module": "@jupyter-widgets/base",
          "model_module_version": "1.2.0",
          "model_name": "LayoutModel",
          "state": {
            "_model_module": "@jupyter-widgets/base",
            "_model_module_version": "1.2.0",
            "_model_name": "LayoutModel",
            "_view_count": null,
            "_view_module": "@jupyter-widgets/base",
            "_view_module_version": "1.2.0",
            "_view_name": "LayoutView",
            "align_content": null,
            "align_items": null,
            "align_self": null,
            "border": null,
            "bottom": null,
            "display": null,
            "flex": null,
            "flex_flow": null,
            "grid_area": null,
            "grid_auto_columns": null,
            "grid_auto_flow": null,
            "grid_auto_rows": null,
            "grid_column": null,
            "grid_gap": null,
            "grid_row": null,
            "grid_template_areas": null,
            "grid_template_columns": null,
            "grid_template_rows": null,
            "height": null,
            "justify_content": null,
            "justify_items": null,
            "left": null,
            "margin": null,
            "max_height": null,
            "max_width": null,
            "min_height": null,
            "min_width": null,
            "object_fit": null,
            "object_position": null,
            "order": null,
            "overflow": null,
            "overflow_x": null,
            "overflow_y": null,
            "padding": null,
            "right": null,
            "top": null,
            "visibility": null,
            "width": null
          }
        },
        "379dd63ae08b486484fd553591368757": {
          "model_module": "@jupyter-widgets/base",
          "model_module_version": "1.2.0",
          "model_name": "LayoutModel",
          "state": {
            "_model_module": "@jupyter-widgets/base",
            "_model_module_version": "1.2.0",
            "_model_name": "LayoutModel",
            "_view_count": null,
            "_view_module": "@jupyter-widgets/base",
            "_view_module_version": "1.2.0",
            "_view_name": "LayoutView",
            "align_content": null,
            "align_items": null,
            "align_self": null,
            "border": null,
            "bottom": null,
            "display": null,
            "flex": null,
            "flex_flow": null,
            "grid_area": null,
            "grid_auto_columns": null,
            "grid_auto_flow": null,
            "grid_auto_rows": null,
            "grid_column": null,
            "grid_gap": null,
            "grid_row": null,
            "grid_template_areas": null,
            "grid_template_columns": null,
            "grid_template_rows": null,
            "height": null,
            "justify_content": null,
            "justify_items": null,
            "left": null,
            "margin": null,
            "max_height": null,
            "max_width": null,
            "min_height": null,
            "min_width": null,
            "object_fit": null,
            "object_position": null,
            "order": null,
            "overflow": null,
            "overflow_x": null,
            "overflow_y": null,
            "padding": null,
            "right": null,
            "top": null,
            "visibility": null,
            "width": null
          }
        },
        "3c3f93a0dc4443a99c665127023121c3": {
          "model_module": "@jupyter-widgets/controls",
          "model_module_version": "1.5.0",
          "model_name": "FloatProgressModel",
          "state": {
            "_dom_classes": [],
            "_model_module": "@jupyter-widgets/controls",
            "_model_module_version": "1.5.0",
            "_model_name": "FloatProgressModel",
            "_view_count": null,
            "_view_module": "@jupyter-widgets/controls",
            "_view_module_version": "1.5.0",
            "_view_name": "ProgressView",
            "bar_style": "success",
            "description": "",
            "description_tooltip": null,
            "layout": "IPY_MODEL_ccfee996bbe0434588d5b2217fc04dcd",
            "max": 419688442,
            "min": 0,
            "orientation": "horizontal",
            "style": "IPY_MODEL_84191869a2e046138ccecef2192eaa88",
            "value": 419688442
          }
        },
        "3c4445f3aca845bbbe4b04732f107afa": {
          "model_module": "@jupyter-widgets/controls",
          "model_module_version": "1.5.0",
          "model_name": "FloatProgressModel",
          "state": {
            "_dom_classes": [],
            "_model_module": "@jupyter-widgets/controls",
            "_model_module_version": "1.5.0",
            "_model_name": "FloatProgressModel",
            "_view_count": null,
            "_view_module": "@jupyter-widgets/controls",
            "_view_module_version": "1.5.0",
            "_view_name": "ProgressView",
            "bar_style": "success",
            "description": "",
            "description_tooltip": null,
            "layout": "IPY_MODEL_31f48c2152b74696b05d1c31d14b5d75",
            "max": 111898327,
            "min": 0,
            "orientation": "horizontal",
            "style": "IPY_MODEL_314e19b7a06040a1b77a770ec6aaded9",
            "value": 111898327
          }
        },
        "3d9c4e250d9b4d9a889e787c56d34d46": {
          "model_module": "@jupyter-widgets/base",
          "model_module_version": "1.2.0",
          "model_name": "LayoutModel",
          "state": {
            "_model_module": "@jupyter-widgets/base",
            "_model_module_version": "1.2.0",
            "_model_name": "LayoutModel",
            "_view_count": null,
            "_view_module": "@jupyter-widgets/base",
            "_view_module_version": "1.2.0",
            "_view_name": "LayoutView",
            "align_content": null,
            "align_items": null,
            "align_self": null,
            "border": null,
            "bottom": null,
            "display": null,
            "flex": null,
            "flex_flow": null,
            "grid_area": null,
            "grid_auto_columns": null,
            "grid_auto_flow": null,
            "grid_auto_rows": null,
            "grid_column": null,
            "grid_gap": null,
            "grid_row": null,
            "grid_template_areas": null,
            "grid_template_columns": null,
            "grid_template_rows": null,
            "height": null,
            "justify_content": null,
            "justify_items": null,
            "left": null,
            "margin": null,
            "max_height": null,
            "max_width": null,
            "min_height": null,
            "min_width": null,
            "object_fit": null,
            "object_position": null,
            "order": null,
            "overflow": null,
            "overflow_x": null,
            "overflow_y": null,
            "padding": null,
            "right": null,
            "top": null,
            "visibility": null,
            "width": null
          }
        },
        "3f4c8373af4c4c3688b2675691a7086f": {
          "model_module": "@jupyter-widgets/controls",
          "model_module_version": "1.5.0",
          "model_name": "DescriptionStyleModel",
          "state": {
            "_model_module": "@jupyter-widgets/controls",
            "_model_module_version": "1.5.0",
            "_model_name": "DescriptionStyleModel",
            "_view_count": null,
            "_view_module": "@jupyter-widgets/base",
            "_view_module_version": "1.2.0",
            "_view_name": "StyleView",
            "description_width": ""
          }
        },
        "3fcdd76075c94bd9b678e4a270016ec5": {
          "model_module": "@jupyter-widgets/controls",
          "model_module_version": "1.5.0",
          "model_name": "ProgressStyleModel",
          "state": {
            "_model_module": "@jupyter-widgets/controls",
            "_model_module_version": "1.5.0",
            "_model_name": "ProgressStyleModel",
            "_view_count": null,
            "_view_module": "@jupyter-widgets/base",
            "_view_module_version": "1.2.0",
            "_view_name": "StyleView",
            "bar_color": null,
            "description_width": ""
          }
        },
        "403221c957f440b3a96e5ddd1483c865": {
          "model_module": "@jupyter-widgets/base",
          "model_module_version": "1.2.0",
          "model_name": "LayoutModel",
          "state": {
            "_model_module": "@jupyter-widgets/base",
            "_model_module_version": "1.2.0",
            "_model_name": "LayoutModel",
            "_view_count": null,
            "_view_module": "@jupyter-widgets/base",
            "_view_module_version": "1.2.0",
            "_view_name": "LayoutView",
            "align_content": null,
            "align_items": null,
            "align_self": null,
            "border": null,
            "bottom": null,
            "display": null,
            "flex": null,
            "flex_flow": null,
            "grid_area": null,
            "grid_auto_columns": null,
            "grid_auto_flow": null,
            "grid_auto_rows": null,
            "grid_column": null,
            "grid_gap": null,
            "grid_row": null,
            "grid_template_areas": null,
            "grid_template_columns": null,
            "grid_template_rows": null,
            "height": null,
            "justify_content": null,
            "justify_items": null,
            "left": null,
            "margin": null,
            "max_height": null,
            "max_width": null,
            "min_height": null,
            "min_width": null,
            "object_fit": null,
            "object_position": null,
            "order": null,
            "overflow": null,
            "overflow_x": null,
            "overflow_y": null,
            "padding": null,
            "right": null,
            "top": null,
            "visibility": null,
            "width": null
          }
        },
        "40f4db0c497c4e8093d059bb8d259b8a": {
          "model_module": "@jupyter-widgets/base",
          "model_module_version": "1.2.0",
          "model_name": "LayoutModel",
          "state": {
            "_model_module": "@jupyter-widgets/base",
            "_model_module_version": "1.2.0",
            "_model_name": "LayoutModel",
            "_view_count": null,
            "_view_module": "@jupyter-widgets/base",
            "_view_module_version": "1.2.0",
            "_view_name": "LayoutView",
            "align_content": null,
            "align_items": null,
            "align_self": null,
            "border": null,
            "bottom": null,
            "display": null,
            "flex": null,
            "flex_flow": null,
            "grid_area": null,
            "grid_auto_columns": null,
            "grid_auto_flow": null,
            "grid_auto_rows": null,
            "grid_column": null,
            "grid_gap": null,
            "grid_row": null,
            "grid_template_areas": null,
            "grid_template_columns": null,
            "grid_template_rows": null,
            "height": null,
            "justify_content": null,
            "justify_items": null,
            "left": null,
            "margin": null,
            "max_height": null,
            "max_width": null,
            "min_height": null,
            "min_width": null,
            "object_fit": null,
            "object_position": null,
            "order": null,
            "overflow": null,
            "overflow_x": null,
            "overflow_y": null,
            "padding": null,
            "right": null,
            "top": null,
            "visibility": null,
            "width": null
          }
        },
        "42bce9562c15415b8ba2832f38cf3a93": {
          "model_module": "@jupyter-widgets/base",
          "model_module_version": "1.2.0",
          "model_name": "LayoutModel",
          "state": {
            "_model_module": "@jupyter-widgets/base",
            "_model_module_version": "1.2.0",
            "_model_name": "LayoutModel",
            "_view_count": null,
            "_view_module": "@jupyter-widgets/base",
            "_view_module_version": "1.2.0",
            "_view_name": "LayoutView",
            "align_content": null,
            "align_items": null,
            "align_self": null,
            "border": null,
            "bottom": null,
            "display": null,
            "flex": null,
            "flex_flow": null,
            "grid_area": null,
            "grid_auto_columns": null,
            "grid_auto_flow": null,
            "grid_auto_rows": null,
            "grid_column": null,
            "grid_gap": null,
            "grid_row": null,
            "grid_template_areas": null,
            "grid_template_columns": null,
            "grid_template_rows": null,
            "height": null,
            "justify_content": null,
            "justify_items": null,
            "left": null,
            "margin": null,
            "max_height": null,
            "max_width": null,
            "min_height": null,
            "min_width": null,
            "object_fit": null,
            "object_position": null,
            "order": null,
            "overflow": null,
            "overflow_x": null,
            "overflow_y": null,
            "padding": null,
            "right": null,
            "top": null,
            "visibility": null,
            "width": null
          }
        },
        "42eb5aa1201e46c5a23929614a440f7e": {
          "model_module": "@jupyter-widgets/controls",
          "model_module_version": "1.5.0",
          "model_name": "HTMLModel",
          "state": {
            "_dom_classes": [],
            "_model_module": "@jupyter-widgets/controls",
            "_model_module_version": "1.5.0",
            "_model_name": "HTMLModel",
            "_view_count": null,
            "_view_module": "@jupyter-widgets/controls",
            "_view_module_version": "1.5.0",
            "_view_name": "HTMLView",
            "description": "",
            "description_tooltip": null,
            "layout": "IPY_MODEL_ebdb98998d724ece81f555399e5893d6",
            "placeholder": "​",
            "style": "IPY_MODEL_83adca8d9d984daa84556a4bb2c0efe2",
            "value": " 410M/410M [00:08&lt;00:00, 55.6MB/s]"
          }
        },
        "4321cb104c5c4be8bbf2ac262784835a": {
          "model_module": "@jupyter-widgets/controls",
          "model_module_version": "1.5.0",
          "model_name": "ProgressStyleModel",
          "state": {
            "_model_module": "@jupyter-widgets/controls",
            "_model_module_version": "1.5.0",
            "_model_name": "ProgressStyleModel",
            "_view_count": null,
            "_view_module": "@jupyter-widgets/base",
            "_view_module_version": "1.2.0",
            "_view_name": "StyleView",
            "bar_color": null,
            "description_width": ""
          }
        },
        "4411f37e676a496181f1c1ea11c58f36": {
          "model_module": "@jupyter-widgets/controls",
          "model_module_version": "1.5.0",
          "model_name": "DescriptionStyleModel",
          "state": {
            "_model_module": "@jupyter-widgets/controls",
            "_model_module_version": "1.5.0",
            "_model_name": "DescriptionStyleModel",
            "_view_count": null,
            "_view_module": "@jupyter-widgets/base",
            "_view_module_version": "1.2.0",
            "_view_name": "StyleView",
            "description_width": ""
          }
        },
        "443473a66b2048b8b8ad8af11a23edaf": {
          "model_module": "@jupyter-widgets/base",
          "model_module_version": "1.2.0",
          "model_name": "LayoutModel",
          "state": {
            "_model_module": "@jupyter-widgets/base",
            "_model_module_version": "1.2.0",
            "_model_name": "LayoutModel",
            "_view_count": null,
            "_view_module": "@jupyter-widgets/base",
            "_view_module_version": "1.2.0",
            "_view_name": "LayoutView",
            "align_content": null,
            "align_items": null,
            "align_self": null,
            "border": null,
            "bottom": null,
            "display": null,
            "flex": null,
            "flex_flow": null,
            "grid_area": null,
            "grid_auto_columns": null,
            "grid_auto_flow": null,
            "grid_auto_rows": null,
            "grid_column": null,
            "grid_gap": null,
            "grid_row": null,
            "grid_template_areas": null,
            "grid_template_columns": null,
            "grid_template_rows": null,
            "height": null,
            "justify_content": null,
            "justify_items": null,
            "left": null,
            "margin": null,
            "max_height": null,
            "max_width": null,
            "min_height": null,
            "min_width": null,
            "object_fit": null,
            "object_position": null,
            "order": null,
            "overflow": null,
            "overflow_x": null,
            "overflow_y": null,
            "padding": null,
            "right": null,
            "top": null,
            "visibility": "hidden",
            "width": null
          }
        },
        "44b2d18b9aa44a8ba6c41e64f603eff5": {
          "model_module": "@jupyter-widgets/controls",
          "model_module_version": "1.5.0",
          "model_name": "DescriptionStyleModel",
          "state": {
            "_model_module": "@jupyter-widgets/controls",
            "_model_module_version": "1.5.0",
            "_model_name": "DescriptionStyleModel",
            "_view_count": null,
            "_view_module": "@jupyter-widgets/base",
            "_view_module_version": "1.2.0",
            "_view_name": "StyleView",
            "description_width": ""
          }
        },
        "46cd121ea17844b5ba06460e7c696016": {
          "model_module": "@jupyter-widgets/controls",
          "model_module_version": "1.5.0",
          "model_name": "HTMLModel",
          "state": {
            "_dom_classes": [],
            "_model_module": "@jupyter-widgets/controls",
            "_model_module_version": "1.5.0",
            "_model_name": "HTMLModel",
            "_view_count": null,
            "_view_module": "@jupyter-widgets/controls",
            "_view_module_version": "1.5.0",
            "_view_name": "HTMLView",
            "description": "",
            "description_tooltip": null,
            "layout": "IPY_MODEL_e07d3200d4064849838517293bf06133",
            "placeholder": "​",
            "style": "IPY_MODEL_1614f7338b384c69b6312c788e1d0f5e",
            "value": "Downloading data: 100%"
          }
        },
        "46d36b3771a04077b44d9e29d689a4a3": {
          "model_module": "@jupyter-widgets/controls",
          "model_module_version": "1.5.0",
          "model_name": "DescriptionStyleModel",
          "state": {
            "_model_module": "@jupyter-widgets/controls",
            "_model_module_version": "1.5.0",
            "_model_name": "DescriptionStyleModel",
            "_view_count": null,
            "_view_module": "@jupyter-widgets/base",
            "_view_module_version": "1.2.0",
            "_view_name": "StyleView",
            "description_width": ""
          }
        },
        "482e8f26bb20499e83ce777e742fc4f4": {
          "model_module": "@jupyter-widgets/base",
          "model_module_version": "1.2.0",
          "model_name": "LayoutModel",
          "state": {
            "_model_module": "@jupyter-widgets/base",
            "_model_module_version": "1.2.0",
            "_model_name": "LayoutModel",
            "_view_count": null,
            "_view_module": "@jupyter-widgets/base",
            "_view_module_version": "1.2.0",
            "_view_name": "LayoutView",
            "align_content": null,
            "align_items": null,
            "align_self": null,
            "border": null,
            "bottom": null,
            "display": null,
            "flex": null,
            "flex_flow": null,
            "grid_area": null,
            "grid_auto_columns": null,
            "grid_auto_flow": null,
            "grid_auto_rows": null,
            "grid_column": null,
            "grid_gap": null,
            "grid_row": null,
            "grid_template_areas": null,
            "grid_template_columns": null,
            "grid_template_rows": null,
            "height": null,
            "justify_content": null,
            "justify_items": null,
            "left": null,
            "margin": null,
            "max_height": null,
            "max_width": null,
            "min_height": null,
            "min_width": null,
            "object_fit": null,
            "object_position": null,
            "order": null,
            "overflow": null,
            "overflow_x": null,
            "overflow_y": null,
            "padding": null,
            "right": null,
            "top": null,
            "visibility": null,
            "width": null
          }
        },
        "4c2c98d692cc4a1697dac6b4693e9ead": {
          "model_module": "@jupyter-widgets/controls",
          "model_module_version": "1.5.0",
          "model_name": "HTMLModel",
          "state": {
            "_dom_classes": [],
            "_model_module": "@jupyter-widgets/controls",
            "_model_module_version": "1.5.0",
            "_model_name": "HTMLModel",
            "_view_count": null,
            "_view_module": "@jupyter-widgets/controls",
            "_view_module_version": "1.5.0",
            "_view_name": "HTMLView",
            "description": "",
            "description_tooltip": null,
            "layout": "IPY_MODEL_78fc391583694f79909a361bd5d2e49c",
            "placeholder": "​",
            "style": "IPY_MODEL_fd103e6123aa4eb09e502368c4ba1494",
            "value": "100%"
          }
        },
        "4d2718f065e94e189e99e510ba2db092": {
          "model_module": "@jupyter-widgets/base",
          "model_module_version": "1.2.0",
          "model_name": "LayoutModel",
          "state": {
            "_model_module": "@jupyter-widgets/base",
            "_model_module_version": "1.2.0",
            "_model_name": "LayoutModel",
            "_view_count": null,
            "_view_module": "@jupyter-widgets/base",
            "_view_module_version": "1.2.0",
            "_view_name": "LayoutView",
            "align_content": null,
            "align_items": null,
            "align_self": null,
            "border": null,
            "bottom": null,
            "display": null,
            "flex": null,
            "flex_flow": null,
            "grid_area": null,
            "grid_auto_columns": null,
            "grid_auto_flow": null,
            "grid_auto_rows": null,
            "grid_column": null,
            "grid_gap": null,
            "grid_row": null,
            "grid_template_areas": null,
            "grid_template_columns": null,
            "grid_template_rows": null,
            "height": null,
            "justify_content": null,
            "justify_items": null,
            "left": null,
            "margin": null,
            "max_height": null,
            "max_width": null,
            "min_height": null,
            "min_width": null,
            "object_fit": null,
            "object_position": null,
            "order": null,
            "overflow": null,
            "overflow_x": null,
            "overflow_y": null,
            "padding": null,
            "right": null,
            "top": null,
            "visibility": null,
            "width": null
          }
        },
        "4d6bbfe52c554d658eff218a6c132877": {
          "model_module": "@jupyter-widgets/controls",
          "model_module_version": "1.5.0",
          "model_name": "FloatProgressModel",
          "state": {
            "_dom_classes": [],
            "_model_module": "@jupyter-widgets/controls",
            "_model_module_version": "1.5.0",
            "_model_name": "FloatProgressModel",
            "_view_count": null,
            "_view_module": "@jupyter-widgets/controls",
            "_view_module_version": "1.5.0",
            "_view_name": "ProgressView",
            "bar_style": "success",
            "description": "",
            "description_tooltip": null,
            "layout": "IPY_MODEL_af01d46b343342778cd49594ce672c62",
            "max": 1,
            "min": 0,
            "orientation": "horizontal",
            "style": "IPY_MODEL_e982ab40f3ac4e229f8b2ddcc69ee061",
            "value": 1
          }
        },
        "50708f670c1447f1b8d15fe1262ac821": {
          "model_module": "@jupyter-widgets/controls",
          "model_module_version": "1.5.0",
          "model_name": "FloatProgressModel",
          "state": {
            "_dom_classes": [],
            "_model_module": "@jupyter-widgets/controls",
            "_model_module_version": "1.5.0",
            "_model_name": "FloatProgressModel",
            "_view_count": null,
            "_view_module": "@jupyter-widgets/controls",
            "_view_module_version": "1.5.0",
            "_view_name": "ProgressView",
            "bar_style": "success",
            "description": "",
            "description_tooltip": null,
            "layout": "IPY_MODEL_33fa5596e26f489694be62ff4a1b5767",
            "max": 409919983,
            "min": 0,
            "orientation": "horizontal",
            "style": "IPY_MODEL_4321cb104c5c4be8bbf2ac262784835a",
            "value": 409919983
          }
        },
        "51c5860b03334113b81187695e693dee": {
          "model_module": "@jupyter-widgets/base",
          "model_module_version": "1.2.0",
          "model_name": "LayoutModel",
          "state": {
            "_model_module": "@jupyter-widgets/base",
            "_model_module_version": "1.2.0",
            "_model_name": "LayoutModel",
            "_view_count": null,
            "_view_module": "@jupyter-widgets/base",
            "_view_module_version": "1.2.0",
            "_view_name": "LayoutView",
            "align_content": null,
            "align_items": null,
            "align_self": null,
            "border": null,
            "bottom": null,
            "display": null,
            "flex": null,
            "flex_flow": null,
            "grid_area": null,
            "grid_auto_columns": null,
            "grid_auto_flow": null,
            "grid_auto_rows": null,
            "grid_column": null,
            "grid_gap": null,
            "grid_row": null,
            "grid_template_areas": null,
            "grid_template_columns": null,
            "grid_template_rows": null,
            "height": null,
            "justify_content": null,
            "justify_items": null,
            "left": null,
            "margin": null,
            "max_height": null,
            "max_width": null,
            "min_height": null,
            "min_width": null,
            "object_fit": null,
            "object_position": null,
            "order": null,
            "overflow": null,
            "overflow_x": null,
            "overflow_y": null,
            "padding": null,
            "right": null,
            "top": null,
            "visibility": null,
            "width": null
          }
        },
        "51e72b19ecd549c9aa5efd84f8f50958": {
          "model_module": "@jupyter-widgets/base",
          "model_module_version": "1.2.0",
          "model_name": "LayoutModel",
          "state": {
            "_model_module": "@jupyter-widgets/base",
            "_model_module_version": "1.2.0",
            "_model_name": "LayoutModel",
            "_view_count": null,
            "_view_module": "@jupyter-widgets/base",
            "_view_module_version": "1.2.0",
            "_view_name": "LayoutView",
            "align_content": null,
            "align_items": null,
            "align_self": null,
            "border": null,
            "bottom": null,
            "display": null,
            "flex": null,
            "flex_flow": null,
            "grid_area": null,
            "grid_auto_columns": null,
            "grid_auto_flow": null,
            "grid_auto_rows": null,
            "grid_column": null,
            "grid_gap": null,
            "grid_row": null,
            "grid_template_areas": null,
            "grid_template_columns": null,
            "grid_template_rows": null,
            "height": null,
            "justify_content": null,
            "justify_items": null,
            "left": null,
            "margin": null,
            "max_height": null,
            "max_width": null,
            "min_height": null,
            "min_width": null,
            "object_fit": null,
            "object_position": null,
            "order": null,
            "overflow": null,
            "overflow_x": null,
            "overflow_y": null,
            "padding": null,
            "right": null,
            "top": null,
            "visibility": null,
            "width": null
          }
        },
        "52253a6ab0cb4b69900c68c01b630db8": {
          "model_module": "@jupyter-widgets/controls",
          "model_module_version": "1.5.0",
          "model_name": "DescriptionStyleModel",
          "state": {
            "_model_module": "@jupyter-widgets/controls",
            "_model_module_version": "1.5.0",
            "_model_name": "DescriptionStyleModel",
            "_view_count": null,
            "_view_module": "@jupyter-widgets/base",
            "_view_module_version": "1.2.0",
            "_view_name": "StyleView",
            "description_width": ""
          }
        },
        "52ecb044fcc64a40a9ae9d768fdd2239": {
          "model_module": "@jupyter-widgets/controls",
          "model_module_version": "1.5.0",
          "model_name": "HTMLModel",
          "state": {
            "_dom_classes": [],
            "_model_module": "@jupyter-widgets/controls",
            "_model_module_version": "1.5.0",
            "_model_name": "HTMLModel",
            "_view_count": null,
            "_view_module": "@jupyter-widgets/controls",
            "_view_module_version": "1.5.0",
            "_view_name": "HTMLView",
            "description": "",
            "description_tooltip": null,
            "layout": "IPY_MODEL_05a5ba7fb62a48928f27a91aa244184f",
            "placeholder": "​",
            "style": "IPY_MODEL_19a87250f7f241e3885156521a858d11",
            "value": " 401M/401M [00:07&lt;00:00, 61.0MB/s]"
          }
        },
        "53c3a6161e4e4fb792e131df0c4a1bce": {
          "model_module": "@jupyter-widgets/controls",
          "model_module_version": "1.5.0",
          "model_name": "HTMLModel",
          "state": {
            "_dom_classes": [],
            "_model_module": "@jupyter-widgets/controls",
            "_model_module_version": "1.5.0",
            "_model_name": "HTMLModel",
            "_view_count": null,
            "_view_module": "@jupyter-widgets/controls",
            "_view_module_version": "1.5.0",
            "_view_name": "HTMLView",
            "description": "",
            "description_tooltip": null,
            "layout": "IPY_MODEL_bfdd3c7c52cf400c96d99f8b4067a18c",
            "placeholder": "​",
            "style": "IPY_MODEL_bd172ded4c1a46f5a71003d0ba784e51",
            "value": "Generating train split: 100%"
          }
        },
        "55224e6e6b9a420ea229ab1f57e9b6f5": {
          "model_module": "@jupyter-widgets/controls",
          "model_module_version": "1.5.0",
          "model_name": "HBoxModel",
          "state": {
            "_dom_classes": [],
            "_model_module": "@jupyter-widgets/controls",
            "_model_module_version": "1.5.0",
            "_model_name": "HBoxModel",
            "_view_count": null,
            "_view_module": "@jupyter-widgets/controls",
            "_view_module_version": "1.5.0",
            "_view_name": "HBoxView",
            "box_style": "",
            "children": [
              "IPY_MODEL_595115f2cf174aab969cf15e724bed49",
              "IPY_MODEL_7e416ba6db20434fa03ee20b2095284c",
              "IPY_MODEL_f2c131cc692b46cf99ca99150c2cb37f"
            ],
            "layout": "IPY_MODEL_02c8f885b0b3402dbb9e2d4cb877d911"
          }
        },
        "57d2b718c52d4213a4bf2d561f3b24dd": {
          "model_module": "@jupyter-widgets/controls",
          "model_module_version": "1.5.0",
          "model_name": "HBoxModel",
          "state": {
            "_dom_classes": [],
            "_model_module": "@jupyter-widgets/controls",
            "_model_module_version": "1.5.0",
            "_model_name": "HBoxModel",
            "_view_count": null,
            "_view_module": "@jupyter-widgets/controls",
            "_view_module_version": "1.5.0",
            "_view_name": "HBoxView",
            "box_style": "",
            "children": [
              "IPY_MODEL_53c3a6161e4e4fb792e131df0c4a1bce",
              "IPY_MODEL_6e1a6e709eb348398403e67e7aa367f5",
              "IPY_MODEL_d9d4bb329d8a40dbbba8c4b9d79da84e"
            ],
            "layout": "IPY_MODEL_443473a66b2048b8b8ad8af11a23edaf"
          }
        },
        "595115f2cf174aab969cf15e724bed49": {
          "model_module": "@jupyter-widgets/controls",
          "model_module_version": "1.5.0",
          "model_name": "HTMLModel",
          "state": {
            "_dom_classes": [],
            "_model_module": "@jupyter-widgets/controls",
            "_model_module_version": "1.5.0",
            "_model_name": "HTMLModel",
            "_view_count": null,
            "_view_module": "@jupyter-widgets/controls",
            "_view_module_version": "1.5.0",
            "_view_name": "HTMLView",
            "description": "",
            "description_tooltip": null,
            "layout": "IPY_MODEL_a04d0ef5557147cfb8f098edf217b050",
            "placeholder": "​",
            "style": "IPY_MODEL_cec27c3bb29f44df82fd236a0d5a0976",
            "value": "Downloading data: 100%"
          }
        },
        "5a664b443c314d2a9a5a3733c848ec58": {
          "model_module": "@jupyter-widgets/controls",
          "model_module_version": "1.5.0",
          "model_name": "ProgressStyleModel",
          "state": {
            "_model_module": "@jupyter-widgets/controls",
            "_model_module_version": "1.5.0",
            "_model_name": "ProgressStyleModel",
            "_view_count": null,
            "_view_module": "@jupyter-widgets/base",
            "_view_module_version": "1.2.0",
            "_view_name": "StyleView",
            "bar_color": null,
            "description_width": ""
          }
        },
        "5bf3c03e04ae4c20835a342f4b2af308": {
          "model_module": "@jupyter-widgets/controls",
          "model_module_version": "1.5.0",
          "model_name": "HTMLModel",
          "state": {
            "_dom_classes": [],
            "_model_module": "@jupyter-widgets/controls",
            "_model_module_version": "1.5.0",
            "_model_name": "HTMLModel",
            "_view_count": null,
            "_view_module": "@jupyter-widgets/controls",
            "_view_module_version": "1.5.0",
            "_view_name": "HTMLView",
            "description": "",
            "description_tooltip": null,
            "layout": "IPY_MODEL_36a9017aafe3474a8a3e8603d4e0c82b",
            "placeholder": "​",
            "style": "IPY_MODEL_dd55732bb8924370afec93dc39a5dfc8",
            "value": "Downloading data: 100%"
          }
        },
        "5e0f3c95c85449a8a397496209271ee2": {
          "model_module": "@jupyter-widgets/base",
          "model_module_version": "1.2.0",
          "model_name": "LayoutModel",
          "state": {
            "_model_module": "@jupyter-widgets/base",
            "_model_module_version": "1.2.0",
            "_model_name": "LayoutModel",
            "_view_count": null,
            "_view_module": "@jupyter-widgets/base",
            "_view_module_version": "1.2.0",
            "_view_name": "LayoutView",
            "align_content": null,
            "align_items": null,
            "align_self": null,
            "border": null,
            "bottom": null,
            "display": null,
            "flex": null,
            "flex_flow": null,
            "grid_area": null,
            "grid_auto_columns": null,
            "grid_auto_flow": null,
            "grid_auto_rows": null,
            "grid_column": null,
            "grid_gap": null,
            "grid_row": null,
            "grid_template_areas": null,
            "grid_template_columns": null,
            "grid_template_rows": null,
            "height": null,
            "justify_content": null,
            "justify_items": null,
            "left": null,
            "margin": null,
            "max_height": null,
            "max_width": null,
            "min_height": null,
            "min_width": null,
            "object_fit": null,
            "object_position": null,
            "order": null,
            "overflow": null,
            "overflow_x": null,
            "overflow_y": null,
            "padding": null,
            "right": null,
            "top": null,
            "visibility": null,
            "width": null
          }
        },
        "5e69213c3322467cb4979280f995f78b": {
          "model_module": "@jupyter-widgets/base",
          "model_module_version": "1.2.0",
          "model_name": "LayoutModel",
          "state": {
            "_model_module": "@jupyter-widgets/base",
            "_model_module_version": "1.2.0",
            "_model_name": "LayoutModel",
            "_view_count": null,
            "_view_module": "@jupyter-widgets/base",
            "_view_module_version": "1.2.0",
            "_view_name": "LayoutView",
            "align_content": null,
            "align_items": null,
            "align_self": null,
            "border": null,
            "bottom": null,
            "display": null,
            "flex": null,
            "flex_flow": null,
            "grid_area": null,
            "grid_auto_columns": null,
            "grid_auto_flow": null,
            "grid_auto_rows": null,
            "grid_column": null,
            "grid_gap": null,
            "grid_row": null,
            "grid_template_areas": null,
            "grid_template_columns": null,
            "grid_template_rows": null,
            "height": null,
            "justify_content": null,
            "justify_items": null,
            "left": null,
            "margin": null,
            "max_height": null,
            "max_width": null,
            "min_height": null,
            "min_width": null,
            "object_fit": null,
            "object_position": null,
            "order": null,
            "overflow": null,
            "overflow_x": null,
            "overflow_y": null,
            "padding": null,
            "right": null,
            "top": null,
            "visibility": null,
            "width": null
          }
        },
        "5f3fb1d5758443ada3778882453d028b": {
          "model_module": "@jupyter-widgets/base",
          "model_module_version": "1.2.0",
          "model_name": "LayoutModel",
          "state": {
            "_model_module": "@jupyter-widgets/base",
            "_model_module_version": "1.2.0",
            "_model_name": "LayoutModel",
            "_view_count": null,
            "_view_module": "@jupyter-widgets/base",
            "_view_module_version": "1.2.0",
            "_view_name": "LayoutView",
            "align_content": null,
            "align_items": null,
            "align_self": null,
            "border": null,
            "bottom": null,
            "display": null,
            "flex": null,
            "flex_flow": null,
            "grid_area": null,
            "grid_auto_columns": null,
            "grid_auto_flow": null,
            "grid_auto_rows": null,
            "grid_column": null,
            "grid_gap": null,
            "grid_row": null,
            "grid_template_areas": null,
            "grid_template_columns": null,
            "grid_template_rows": null,
            "height": null,
            "justify_content": null,
            "justify_items": null,
            "left": null,
            "margin": null,
            "max_height": null,
            "max_width": null,
            "min_height": null,
            "min_width": null,
            "object_fit": null,
            "object_position": null,
            "order": null,
            "overflow": null,
            "overflow_x": null,
            "overflow_y": null,
            "padding": null,
            "right": null,
            "top": null,
            "visibility": null,
            "width": null
          }
        },
        "638c0a069bdd4857954ed384db6da3d6": {
          "model_module": "@jupyter-widgets/controls",
          "model_module_version": "1.5.0",
          "model_name": "DescriptionStyleModel",
          "state": {
            "_model_module": "@jupyter-widgets/controls",
            "_model_module_version": "1.5.0",
            "_model_name": "DescriptionStyleModel",
            "_view_count": null,
            "_view_module": "@jupyter-widgets/base",
            "_view_module_version": "1.2.0",
            "_view_name": "StyleView",
            "description_width": ""
          }
        },
        "639a78320ee24f29afcbff3b8a220c54": {
          "model_module": "@jupyter-widgets/controls",
          "model_module_version": "1.5.0",
          "model_name": "HTMLModel",
          "state": {
            "_dom_classes": [],
            "_model_module": "@jupyter-widgets/controls",
            "_model_module_version": "1.5.0",
            "_model_name": "HTMLModel",
            "_view_count": null,
            "_view_module": "@jupyter-widgets/controls",
            "_view_module_version": "1.5.0",
            "_view_name": "HTMLView",
            "description": "",
            "description_tooltip": null,
            "layout": "IPY_MODEL_d70afb399516480aa811959aa9d0e73f",
            "placeholder": "​",
            "style": "IPY_MODEL_fcb4b1afe78148fdb83afb3cd701261a",
            "value": "Downloading data: 100%"
          }
        },
        "66e621543a304197b41ea2d957c0a691": {
          "model_module": "@jupyter-widgets/base",
          "model_module_version": "1.2.0",
          "model_name": "LayoutModel",
          "state": {
            "_model_module": "@jupyter-widgets/base",
            "_model_module_version": "1.2.0",
            "_model_name": "LayoutModel",
            "_view_count": null,
            "_view_module": "@jupyter-widgets/base",
            "_view_module_version": "1.2.0",
            "_view_name": "LayoutView",
            "align_content": null,
            "align_items": null,
            "align_self": null,
            "border": null,
            "bottom": null,
            "display": null,
            "flex": null,
            "flex_flow": null,
            "grid_area": null,
            "grid_auto_columns": null,
            "grid_auto_flow": null,
            "grid_auto_rows": null,
            "grid_column": null,
            "grid_gap": null,
            "grid_row": null,
            "grid_template_areas": null,
            "grid_template_columns": null,
            "grid_template_rows": null,
            "height": null,
            "justify_content": null,
            "justify_items": null,
            "left": null,
            "margin": null,
            "max_height": null,
            "max_width": null,
            "min_height": null,
            "min_width": null,
            "object_fit": null,
            "object_position": null,
            "order": null,
            "overflow": null,
            "overflow_x": null,
            "overflow_y": null,
            "padding": null,
            "right": null,
            "top": null,
            "visibility": null,
            "width": null
          }
        },
        "6872debf8479497a8aa508c983321aa2": {
          "model_module": "@jupyter-widgets/controls",
          "model_module_version": "1.5.0",
          "model_name": "ProgressStyleModel",
          "state": {
            "_model_module": "@jupyter-widgets/controls",
            "_model_module_version": "1.5.0",
            "_model_name": "ProgressStyleModel",
            "_view_count": null,
            "_view_module": "@jupyter-widgets/base",
            "_view_module_version": "1.2.0",
            "_view_name": "StyleView",
            "bar_color": null,
            "description_width": ""
          }
        },
        "689812d8bffa4a87802f03a963698030": {
          "model_module": "@jupyter-widgets/base",
          "model_module_version": "1.2.0",
          "model_name": "LayoutModel",
          "state": {
            "_model_module": "@jupyter-widgets/base",
            "_model_module_version": "1.2.0",
            "_model_name": "LayoutModel",
            "_view_count": null,
            "_view_module": "@jupyter-widgets/base",
            "_view_module_version": "1.2.0",
            "_view_name": "LayoutView",
            "align_content": null,
            "align_items": null,
            "align_self": null,
            "border": null,
            "bottom": null,
            "display": null,
            "flex": null,
            "flex_flow": null,
            "grid_area": null,
            "grid_auto_columns": null,
            "grid_auto_flow": null,
            "grid_auto_rows": null,
            "grid_column": null,
            "grid_gap": null,
            "grid_row": null,
            "grid_template_areas": null,
            "grid_template_columns": null,
            "grid_template_rows": null,
            "height": null,
            "justify_content": null,
            "justify_items": null,
            "left": null,
            "margin": null,
            "max_height": null,
            "max_width": null,
            "min_height": null,
            "min_width": null,
            "object_fit": null,
            "object_position": null,
            "order": null,
            "overflow": null,
            "overflow_x": null,
            "overflow_y": null,
            "padding": null,
            "right": null,
            "top": null,
            "visibility": null,
            "width": null
          }
        },
        "691dcc8c159448fd959100ffc5d4f64a": {
          "model_module": "@jupyter-widgets/controls",
          "model_module_version": "1.5.0",
          "model_name": "DescriptionStyleModel",
          "state": {
            "_model_module": "@jupyter-widgets/controls",
            "_model_module_version": "1.5.0",
            "_model_name": "DescriptionStyleModel",
            "_view_count": null,
            "_view_module": "@jupyter-widgets/base",
            "_view_module_version": "1.2.0",
            "_view_name": "StyleView",
            "description_width": ""
          }
        },
        "694d0ebd404c436d8d267efefd5b0e45": {
          "model_module": "@jupyter-widgets/controls",
          "model_module_version": "1.5.0",
          "model_name": "HTMLModel",
          "state": {
            "_dom_classes": [],
            "_model_module": "@jupyter-widgets/controls",
            "_model_module_version": "1.5.0",
            "_model_name": "HTMLModel",
            "_view_count": null,
            "_view_module": "@jupyter-widgets/controls",
            "_view_module_version": "1.5.0",
            "_view_name": "HTMLView",
            "description": "",
            "description_tooltip": null,
            "layout": "IPY_MODEL_42bce9562c15415b8ba2832f38cf3a93",
            "placeholder": "​",
            "style": "IPY_MODEL_3f4c8373af4c4c3688b2675691a7086f",
            "value": "Downloading data: 100%"
          }
        },
        "69d2e576d31a47a2aa1e271c31948e4e": {
          "model_module": "@jupyter-widgets/controls",
          "model_module_version": "1.5.0",
          "model_name": "HTMLModel",
          "state": {
            "_dom_classes": [],
            "_model_module": "@jupyter-widgets/controls",
            "_model_module_version": "1.5.0",
            "_model_name": "HTMLModel",
            "_view_count": null,
            "_view_module": "@jupyter-widgets/controls",
            "_view_module_version": "1.5.0",
            "_view_name": "HTMLView",
            "description": "",
            "description_tooltip": null,
            "layout": "IPY_MODEL_30082ca665f048eba9c6f7d387c99f44",
            "placeholder": "​",
            "style": "IPY_MODEL_0dbfe553172d46c091ca40215a051a0d",
            "value": " 1/1 [01:23&lt;00:00, 83.88s/it]"
          }
        },
        "6e1a6e709eb348398403e67e7aa367f5": {
          "model_module": "@jupyter-widgets/controls",
          "model_module_version": "1.5.0",
          "model_name": "FloatProgressModel",
          "state": {
            "_dom_classes": [],
            "_model_module": "@jupyter-widgets/controls",
            "_model_module_version": "1.5.0",
            "_model_name": "FloatProgressModel",
            "_view_count": null,
            "_view_module": "@jupyter-widgets/controls",
            "_view_module_version": "1.5.0",
            "_view_name": "ProgressView",
            "bar_style": "",
            "description": "",
            "description_tooltip": null,
            "layout": "IPY_MODEL_7a5095b699c04b8ea3b559bba1fcd2a3",
            "max": 116404,
            "min": 0,
            "orientation": "horizontal",
            "style": "IPY_MODEL_9d3d11b998a446af9133c03f5bbea11e",
            "value": 116404
          }
        },
        "6f342e5c08bf48e7ab67cfff12d7d8ab": {
          "model_module": "@jupyter-widgets/base",
          "model_module_version": "1.2.0",
          "model_name": "LayoutModel",
          "state": {
            "_model_module": "@jupyter-widgets/base",
            "_model_module_version": "1.2.0",
            "_model_name": "LayoutModel",
            "_view_count": null,
            "_view_module": "@jupyter-widgets/base",
            "_view_module_version": "1.2.0",
            "_view_name": "LayoutView",
            "align_content": null,
            "align_items": null,
            "align_self": null,
            "border": null,
            "bottom": null,
            "display": null,
            "flex": null,
            "flex_flow": null,
            "grid_area": null,
            "grid_auto_columns": null,
            "grid_auto_flow": null,
            "grid_auto_rows": null,
            "grid_column": null,
            "grid_gap": null,
            "grid_row": null,
            "grid_template_areas": null,
            "grid_template_columns": null,
            "grid_template_rows": null,
            "height": null,
            "justify_content": null,
            "justify_items": null,
            "left": null,
            "margin": null,
            "max_height": null,
            "max_width": null,
            "min_height": null,
            "min_width": null,
            "object_fit": null,
            "object_position": null,
            "order": null,
            "overflow": null,
            "overflow_x": null,
            "overflow_y": null,
            "padding": null,
            "right": null,
            "top": null,
            "visibility": null,
            "width": null
          }
        },
        "6f767f5952fa43349a7715452fb21ad7": {
          "model_module": "@jupyter-widgets/base",
          "model_module_version": "1.2.0",
          "model_name": "LayoutModel",
          "state": {
            "_model_module": "@jupyter-widgets/base",
            "_model_module_version": "1.2.0",
            "_model_name": "LayoutModel",
            "_view_count": null,
            "_view_module": "@jupyter-widgets/base",
            "_view_module_version": "1.2.0",
            "_view_name": "LayoutView",
            "align_content": null,
            "align_items": null,
            "align_self": null,
            "border": null,
            "bottom": null,
            "display": null,
            "flex": null,
            "flex_flow": null,
            "grid_area": null,
            "grid_auto_columns": null,
            "grid_auto_flow": null,
            "grid_auto_rows": null,
            "grid_column": null,
            "grid_gap": null,
            "grid_row": null,
            "grid_template_areas": null,
            "grid_template_columns": null,
            "grid_template_rows": null,
            "height": null,
            "justify_content": null,
            "justify_items": null,
            "left": null,
            "margin": null,
            "max_height": null,
            "max_width": null,
            "min_height": null,
            "min_width": null,
            "object_fit": null,
            "object_position": null,
            "order": null,
            "overflow": null,
            "overflow_x": null,
            "overflow_y": null,
            "padding": null,
            "right": null,
            "top": null,
            "visibility": null,
            "width": null
          }
        },
        "714252d08aea43bd99e4e778d216db2e": {
          "model_module": "@jupyter-widgets/base",
          "model_module_version": "1.2.0",
          "model_name": "LayoutModel",
          "state": {
            "_model_module": "@jupyter-widgets/base",
            "_model_module_version": "1.2.0",
            "_model_name": "LayoutModel",
            "_view_count": null,
            "_view_module": "@jupyter-widgets/base",
            "_view_module_version": "1.2.0",
            "_view_name": "LayoutView",
            "align_content": null,
            "align_items": null,
            "align_self": null,
            "border": null,
            "bottom": null,
            "display": null,
            "flex": null,
            "flex_flow": null,
            "grid_area": null,
            "grid_auto_columns": null,
            "grid_auto_flow": null,
            "grid_auto_rows": null,
            "grid_column": null,
            "grid_gap": null,
            "grid_row": null,
            "grid_template_areas": null,
            "grid_template_columns": null,
            "grid_template_rows": null,
            "height": null,
            "justify_content": null,
            "justify_items": null,
            "left": null,
            "margin": null,
            "max_height": null,
            "max_width": null,
            "min_height": null,
            "min_width": null,
            "object_fit": null,
            "object_position": null,
            "order": null,
            "overflow": null,
            "overflow_x": null,
            "overflow_y": null,
            "padding": null,
            "right": null,
            "top": null,
            "visibility": null,
            "width": null
          }
        },
        "78fc391583694f79909a361bd5d2e49c": {
          "model_module": "@jupyter-widgets/base",
          "model_module_version": "1.2.0",
          "model_name": "LayoutModel",
          "state": {
            "_model_module": "@jupyter-widgets/base",
            "_model_module_version": "1.2.0",
            "_model_name": "LayoutModel",
            "_view_count": null,
            "_view_module": "@jupyter-widgets/base",
            "_view_module_version": "1.2.0",
            "_view_name": "LayoutView",
            "align_content": null,
            "align_items": null,
            "align_self": null,
            "border": null,
            "bottom": null,
            "display": null,
            "flex": null,
            "flex_flow": null,
            "grid_area": null,
            "grid_auto_columns": null,
            "grid_auto_flow": null,
            "grid_auto_rows": null,
            "grid_column": null,
            "grid_gap": null,
            "grid_row": null,
            "grid_template_areas": null,
            "grid_template_columns": null,
            "grid_template_rows": null,
            "height": null,
            "justify_content": null,
            "justify_items": null,
            "left": null,
            "margin": null,
            "max_height": null,
            "max_width": null,
            "min_height": null,
            "min_width": null,
            "object_fit": null,
            "object_position": null,
            "order": null,
            "overflow": null,
            "overflow_x": null,
            "overflow_y": null,
            "padding": null,
            "right": null,
            "top": null,
            "visibility": null,
            "width": null
          }
        },
        "796000c283f64a6184bff22e626e3a0f": {
          "model_module": "@jupyter-widgets/controls",
          "model_module_version": "1.5.0",
          "model_name": "HTMLModel",
          "state": {
            "_dom_classes": [],
            "_model_module": "@jupyter-widgets/controls",
            "_model_module_version": "1.5.0",
            "_model_name": "HTMLModel",
            "_view_count": null,
            "_view_module": "@jupyter-widgets/controls",
            "_view_module_version": "1.5.0",
            "_view_name": "HTMLView",
            "description": "",
            "description_tooltip": null,
            "layout": "IPY_MODEL_e363d49412bf4a42ba35b93074a02a4a",
            "placeholder": "​",
            "style": "IPY_MODEL_ea39a49049124b8897da56ba0423b8ba",
            "value": " 449M/449M [00:07&lt;00:00, 45.4MB/s]"
          }
        },
        "79e4dc2ed3a64d379240bcb20cbe7b64": {
          "model_module": "@jupyter-widgets/base",
          "model_module_version": "1.2.0",
          "model_name": "LayoutModel",
          "state": {
            "_model_module": "@jupyter-widgets/base",
            "_model_module_version": "1.2.0",
            "_model_name": "LayoutModel",
            "_view_count": null,
            "_view_module": "@jupyter-widgets/base",
            "_view_module_version": "1.2.0",
            "_view_name": "LayoutView",
            "align_content": null,
            "align_items": null,
            "align_self": null,
            "border": null,
            "bottom": null,
            "display": null,
            "flex": null,
            "flex_flow": null,
            "grid_area": null,
            "grid_auto_columns": null,
            "grid_auto_flow": null,
            "grid_auto_rows": null,
            "grid_column": null,
            "grid_gap": null,
            "grid_row": null,
            "grid_template_areas": null,
            "grid_template_columns": null,
            "grid_template_rows": null,
            "height": null,
            "justify_content": null,
            "justify_items": null,
            "left": null,
            "margin": null,
            "max_height": null,
            "max_width": null,
            "min_height": null,
            "min_width": null,
            "object_fit": null,
            "object_position": null,
            "order": null,
            "overflow": null,
            "overflow_x": null,
            "overflow_y": null,
            "padding": null,
            "right": null,
            "top": null,
            "visibility": null,
            "width": null
          }
        },
        "7a5095b699c04b8ea3b559bba1fcd2a3": {
          "model_module": "@jupyter-widgets/base",
          "model_module_version": "1.2.0",
          "model_name": "LayoutModel",
          "state": {
            "_model_module": "@jupyter-widgets/base",
            "_model_module_version": "1.2.0",
            "_model_name": "LayoutModel",
            "_view_count": null,
            "_view_module": "@jupyter-widgets/base",
            "_view_module_version": "1.2.0",
            "_view_name": "LayoutView",
            "align_content": null,
            "align_items": null,
            "align_self": null,
            "border": null,
            "bottom": null,
            "display": null,
            "flex": null,
            "flex_flow": null,
            "grid_area": null,
            "grid_auto_columns": null,
            "grid_auto_flow": null,
            "grid_auto_rows": null,
            "grid_column": null,
            "grid_gap": null,
            "grid_row": null,
            "grid_template_areas": null,
            "grid_template_columns": null,
            "grid_template_rows": null,
            "height": null,
            "justify_content": null,
            "justify_items": null,
            "left": null,
            "margin": null,
            "max_height": null,
            "max_width": null,
            "min_height": null,
            "min_width": null,
            "object_fit": null,
            "object_position": null,
            "order": null,
            "overflow": null,
            "overflow_x": null,
            "overflow_y": null,
            "padding": null,
            "right": null,
            "top": null,
            "visibility": null,
            "width": null
          }
        },
        "7e416ba6db20434fa03ee20b2095284c": {
          "model_module": "@jupyter-widgets/controls",
          "model_module_version": "1.5.0",
          "model_name": "FloatProgressModel",
          "state": {
            "_dom_classes": [],
            "_model_module": "@jupyter-widgets/controls",
            "_model_module_version": "1.5.0",
            "_model_name": "FloatProgressModel",
            "_view_count": null,
            "_view_module": "@jupyter-widgets/controls",
            "_view_module_version": "1.5.0",
            "_view_name": "ProgressView",
            "bar_style": "success",
            "description": "",
            "description_tooltip": null,
            "layout": "IPY_MODEL_5f3fb1d5758443ada3778882453d028b",
            "max": 428905795,
            "min": 0,
            "orientation": "horizontal",
            "style": "IPY_MODEL_5a664b443c314d2a9a5a3733c848ec58",
            "value": 428905795
          }
        },
        "802fc20426784db28d2384b4f969ba48": {
          "model_module": "@jupyter-widgets/controls",
          "model_module_version": "1.5.0",
          "model_name": "ProgressStyleModel",
          "state": {
            "_model_module": "@jupyter-widgets/controls",
            "_model_module_version": "1.5.0",
            "_model_name": "ProgressStyleModel",
            "_view_count": null,
            "_view_module": "@jupyter-widgets/base",
            "_view_module_version": "1.2.0",
            "_view_name": "StyleView",
            "bar_color": null,
            "description_width": ""
          }
        },
        "80aadaaa85064f819d1c62c9d3bef67a": {
          "model_module": "@jupyter-widgets/controls",
          "model_module_version": "1.5.0",
          "model_name": "HTMLModel",
          "state": {
            "_dom_classes": [],
            "_model_module": "@jupyter-widgets/controls",
            "_model_module_version": "1.5.0",
            "_model_name": "HTMLModel",
            "_view_count": null,
            "_view_module": "@jupyter-widgets/controls",
            "_view_module_version": "1.5.0",
            "_view_name": "HTMLView",
            "description": "",
            "description_tooltip": null,
            "layout": "IPY_MODEL_51e72b19ecd549c9aa5efd84f8f50958",
            "placeholder": "​",
            "style": "IPY_MODEL_4411f37e676a496181f1c1ea11c58f36",
            "value": "Extracting data files: 100%"
          }
        },
        "81e7241cdfcc46eba5e194844d0de417": {
          "model_module": "@jupyter-widgets/base",
          "model_module_version": "1.2.0",
          "model_name": "LayoutModel",
          "state": {
            "_model_module": "@jupyter-widgets/base",
            "_model_module_version": "1.2.0",
            "_model_name": "LayoutModel",
            "_view_count": null,
            "_view_module": "@jupyter-widgets/base",
            "_view_module_version": "1.2.0",
            "_view_name": "LayoutView",
            "align_content": null,
            "align_items": null,
            "align_self": null,
            "border": null,
            "bottom": null,
            "display": null,
            "flex": null,
            "flex_flow": null,
            "grid_area": null,
            "grid_auto_columns": null,
            "grid_auto_flow": null,
            "grid_auto_rows": null,
            "grid_column": null,
            "grid_gap": null,
            "grid_row": null,
            "grid_template_areas": null,
            "grid_template_columns": null,
            "grid_template_rows": null,
            "height": null,
            "justify_content": null,
            "justify_items": null,
            "left": null,
            "margin": null,
            "max_height": null,
            "max_width": null,
            "min_height": null,
            "min_width": null,
            "object_fit": null,
            "object_position": null,
            "order": null,
            "overflow": null,
            "overflow_x": null,
            "overflow_y": null,
            "padding": null,
            "right": null,
            "top": null,
            "visibility": null,
            "width": null
          }
        },
        "831dc8c08bac4a0b8171df8cea718390": {
          "model_module": "@jupyter-widgets/controls",
          "model_module_version": "1.5.0",
          "model_name": "ProgressStyleModel",
          "state": {
            "_model_module": "@jupyter-widgets/controls",
            "_model_module_version": "1.5.0",
            "_model_name": "ProgressStyleModel",
            "_view_count": null,
            "_view_module": "@jupyter-widgets/base",
            "_view_module_version": "1.2.0",
            "_view_name": "StyleView",
            "bar_color": null,
            "description_width": ""
          }
        },
        "83adca8d9d984daa84556a4bb2c0efe2": {
          "model_module": "@jupyter-widgets/controls",
          "model_module_version": "1.5.0",
          "model_name": "DescriptionStyleModel",
          "state": {
            "_model_module": "@jupyter-widgets/controls",
            "_model_module_version": "1.5.0",
            "_model_name": "DescriptionStyleModel",
            "_view_count": null,
            "_view_module": "@jupyter-widgets/base",
            "_view_module_version": "1.2.0",
            "_view_name": "StyleView",
            "description_width": ""
          }
        },
        "84191869a2e046138ccecef2192eaa88": {
          "model_module": "@jupyter-widgets/controls",
          "model_module_version": "1.5.0",
          "model_name": "ProgressStyleModel",
          "state": {
            "_model_module": "@jupyter-widgets/controls",
            "_model_module_version": "1.5.0",
            "_model_name": "ProgressStyleModel",
            "_view_count": null,
            "_view_module": "@jupyter-widgets/base",
            "_view_module_version": "1.2.0",
            "_view_name": "StyleView",
            "bar_color": null,
            "description_width": ""
          }
        },
        "85387eb4f03e4d829edab0e05c22de87": {
          "model_module": "@jupyter-widgets/base",
          "model_module_version": "1.2.0",
          "model_name": "LayoutModel",
          "state": {
            "_model_module": "@jupyter-widgets/base",
            "_model_module_version": "1.2.0",
            "_model_name": "LayoutModel",
            "_view_count": null,
            "_view_module": "@jupyter-widgets/base",
            "_view_module_version": "1.2.0",
            "_view_name": "LayoutView",
            "align_content": null,
            "align_items": null,
            "align_self": null,
            "border": null,
            "bottom": null,
            "display": null,
            "flex": null,
            "flex_flow": null,
            "grid_area": null,
            "grid_auto_columns": null,
            "grid_auto_flow": null,
            "grid_auto_rows": null,
            "grid_column": null,
            "grid_gap": null,
            "grid_row": null,
            "grid_template_areas": null,
            "grid_template_columns": null,
            "grid_template_rows": null,
            "height": null,
            "justify_content": null,
            "justify_items": null,
            "left": null,
            "margin": null,
            "max_height": null,
            "max_width": null,
            "min_height": null,
            "min_width": null,
            "object_fit": null,
            "object_position": null,
            "order": null,
            "overflow": null,
            "overflow_x": null,
            "overflow_y": null,
            "padding": null,
            "right": null,
            "top": null,
            "visibility": null,
            "width": null
          }
        },
        "8676e4469b65438e883657182da5d984": {
          "model_module": "@jupyter-widgets/controls",
          "model_module_version": "1.5.0",
          "model_name": "HBoxModel",
          "state": {
            "_dom_classes": [],
            "_model_module": "@jupyter-widgets/controls",
            "_model_module_version": "1.5.0",
            "_model_name": "HBoxModel",
            "_view_count": null,
            "_view_module": "@jupyter-widgets/controls",
            "_view_module_version": "1.5.0",
            "_view_name": "HBoxView",
            "box_style": "",
            "children": [
              "IPY_MODEL_46cd121ea17844b5ba06460e7c696016",
              "IPY_MODEL_ba950b378256460db5dd36372458fc9d",
              "IPY_MODEL_ac230de8d09242aabe28f5e861cb6282"
            ],
            "layout": "IPY_MODEL_714252d08aea43bd99e4e778d216db2e"
          }
        },
        "869b9e33230c4f529308cefc95f83e7a": {
          "model_module": "@jupyter-widgets/controls",
          "model_module_version": "1.5.0",
          "model_name": "DescriptionStyleModel",
          "state": {
            "_model_module": "@jupyter-widgets/controls",
            "_model_module_version": "1.5.0",
            "_model_name": "DescriptionStyleModel",
            "_view_count": null,
            "_view_module": "@jupyter-widgets/base",
            "_view_module_version": "1.2.0",
            "_view_name": "StyleView",
            "description_width": ""
          }
        },
        "8b2e1222b7124daf913e8d6317fe41a3": {
          "model_module": "@jupyter-widgets/controls",
          "model_module_version": "1.5.0",
          "model_name": "HTMLModel",
          "state": {
            "_dom_classes": [],
            "_model_module": "@jupyter-widgets/controls",
            "_model_module_version": "1.5.0",
            "_model_name": "HTMLModel",
            "_view_count": null,
            "_view_module": "@jupyter-widgets/controls",
            "_view_module_version": "1.5.0",
            "_view_name": "HTMLView",
            "description": "",
            "description_tooltip": null,
            "layout": "IPY_MODEL_e1d004ea89a44c17ad87ae5634b01369",
            "placeholder": "​",
            "style": "IPY_MODEL_44b2d18b9aa44a8ba6c41e64f603eff5",
            "value": " 411M/411M [00:10&lt;00:00, 43.0MB/s]"
          }
        },
        "8c78711c6a7c44ca9faac2dc9bc35f79": {
          "model_module": "@jupyter-widgets/controls",
          "model_module_version": "1.5.0",
          "model_name": "DescriptionStyleModel",
          "state": {
            "_model_module": "@jupyter-widgets/controls",
            "_model_module_version": "1.5.0",
            "_model_name": "DescriptionStyleModel",
            "_view_count": null,
            "_view_module": "@jupyter-widgets/base",
            "_view_module_version": "1.2.0",
            "_view_name": "StyleView",
            "description_width": ""
          }
        },
        "9440ed6b22cc41ea8fbe27f12a19ce55": {
          "model_module": "@jupyter-widgets/controls",
          "model_module_version": "1.5.0",
          "model_name": "HBoxModel",
          "state": {
            "_dom_classes": [],
            "_model_module": "@jupyter-widgets/controls",
            "_model_module_version": "1.5.0",
            "_model_name": "HBoxModel",
            "_view_count": null,
            "_view_module": "@jupyter-widgets/controls",
            "_view_module_version": "1.5.0",
            "_view_name": "HBoxView",
            "box_style": "",
            "children": [
              "IPY_MODEL_694d0ebd404c436d8d267efefd5b0e45",
              "IPY_MODEL_1530531c9ee44941b9d64c4de2b66ace",
              "IPY_MODEL_52ecb044fcc64a40a9ae9d768fdd2239"
            ],
            "layout": "IPY_MODEL_79e4dc2ed3a64d379240bcb20cbe7b64"
          }
        },
        "99ab11ab9557431ebe0525406df8279f": {
          "model_module": "@jupyter-widgets/controls",
          "model_module_version": "1.5.0",
          "model_name": "HTMLModel",
          "state": {
            "_dom_classes": [],
            "_model_module": "@jupyter-widgets/controls",
            "_model_module_version": "1.5.0",
            "_model_name": "HTMLModel",
            "_view_count": null,
            "_view_module": "@jupyter-widgets/controls",
            "_view_module_version": "1.5.0",
            "_view_name": "HTMLView",
            "description": "",
            "description_tooltip": null,
            "layout": "IPY_MODEL_6f767f5952fa43349a7715452fb21ad7",
            "placeholder": "​",
            "style": "IPY_MODEL_e4caae1814f4432cb2cb070c12098882",
            "value": "Downloading data files: 100%"
          }
        },
        "9aa59be43b5b401da28fda4e168bce4c": {
          "model_module": "@jupyter-widgets/controls",
          "model_module_version": "1.5.0",
          "model_name": "ProgressStyleModel",
          "state": {
            "_model_module": "@jupyter-widgets/controls",
            "_model_module_version": "1.5.0",
            "_model_name": "ProgressStyleModel",
            "_view_count": null,
            "_view_module": "@jupyter-widgets/base",
            "_view_module_version": "1.2.0",
            "_view_name": "StyleView",
            "bar_color": null,
            "description_width": ""
          }
        },
        "9c705d50635b423f80d4f6d7201d59af": {
          "model_module": "@jupyter-widgets/base",
          "model_module_version": "1.2.0",
          "model_name": "LayoutModel",
          "state": {
            "_model_module": "@jupyter-widgets/base",
            "_model_module_version": "1.2.0",
            "_model_name": "LayoutModel",
            "_view_count": null,
            "_view_module": "@jupyter-widgets/base",
            "_view_module_version": "1.2.0",
            "_view_name": "LayoutView",
            "align_content": null,
            "align_items": null,
            "align_self": null,
            "border": null,
            "bottom": null,
            "display": null,
            "flex": null,
            "flex_flow": null,
            "grid_area": null,
            "grid_auto_columns": null,
            "grid_auto_flow": null,
            "grid_auto_rows": null,
            "grid_column": null,
            "grid_gap": null,
            "grid_row": null,
            "grid_template_areas": null,
            "grid_template_columns": null,
            "grid_template_rows": null,
            "height": null,
            "justify_content": null,
            "justify_items": null,
            "left": null,
            "margin": null,
            "max_height": null,
            "max_width": null,
            "min_height": null,
            "min_width": null,
            "object_fit": null,
            "object_position": null,
            "order": null,
            "overflow": null,
            "overflow_x": null,
            "overflow_y": null,
            "padding": null,
            "right": null,
            "top": null,
            "visibility": null,
            "width": null
          }
        },
        "9d3d11b998a446af9133c03f5bbea11e": {
          "model_module": "@jupyter-widgets/controls",
          "model_module_version": "1.5.0",
          "model_name": "ProgressStyleModel",
          "state": {
            "_model_module": "@jupyter-widgets/controls",
            "_model_module_version": "1.5.0",
            "_model_name": "ProgressStyleModel",
            "_view_count": null,
            "_view_module": "@jupyter-widgets/base",
            "_view_module_version": "1.2.0",
            "_view_name": "StyleView",
            "bar_color": null,
            "description_width": ""
          }
        },
        "9e236c1e08d942878de09da0ba2a5602": {
          "model_module": "@jupyter-widgets/base",
          "model_module_version": "1.2.0",
          "model_name": "LayoutModel",
          "state": {
            "_model_module": "@jupyter-widgets/base",
            "_model_module_version": "1.2.0",
            "_model_name": "LayoutModel",
            "_view_count": null,
            "_view_module": "@jupyter-widgets/base",
            "_view_module_version": "1.2.0",
            "_view_name": "LayoutView",
            "align_content": null,
            "align_items": null,
            "align_self": null,
            "border": null,
            "bottom": null,
            "display": null,
            "flex": null,
            "flex_flow": null,
            "grid_area": null,
            "grid_auto_columns": null,
            "grid_auto_flow": null,
            "grid_auto_rows": null,
            "grid_column": null,
            "grid_gap": null,
            "grid_row": null,
            "grid_template_areas": null,
            "grid_template_columns": null,
            "grid_template_rows": null,
            "height": null,
            "justify_content": null,
            "justify_items": null,
            "left": null,
            "margin": null,
            "max_height": null,
            "max_width": null,
            "min_height": null,
            "min_width": null,
            "object_fit": null,
            "object_position": null,
            "order": null,
            "overflow": null,
            "overflow_x": null,
            "overflow_y": null,
            "padding": null,
            "right": null,
            "top": null,
            "visibility": null,
            "width": null
          }
        },
        "9e9154321d9345f59fd968ad248b3dec": {
          "model_module": "@jupyter-widgets/base",
          "model_module_version": "1.2.0",
          "model_name": "LayoutModel",
          "state": {
            "_model_module": "@jupyter-widgets/base",
            "_model_module_version": "1.2.0",
            "_model_name": "LayoutModel",
            "_view_count": null,
            "_view_module": "@jupyter-widgets/base",
            "_view_module_version": "1.2.0",
            "_view_name": "LayoutView",
            "align_content": null,
            "align_items": null,
            "align_self": null,
            "border": null,
            "bottom": null,
            "display": null,
            "flex": null,
            "flex_flow": null,
            "grid_area": null,
            "grid_auto_columns": null,
            "grid_auto_flow": null,
            "grid_auto_rows": null,
            "grid_column": null,
            "grid_gap": null,
            "grid_row": null,
            "grid_template_areas": null,
            "grid_template_columns": null,
            "grid_template_rows": null,
            "height": null,
            "justify_content": null,
            "justify_items": null,
            "left": null,
            "margin": null,
            "max_height": null,
            "max_width": null,
            "min_height": null,
            "min_width": null,
            "object_fit": null,
            "object_position": null,
            "order": null,
            "overflow": null,
            "overflow_x": null,
            "overflow_y": null,
            "padding": null,
            "right": null,
            "top": null,
            "visibility": null,
            "width": null
          }
        },
        "9eeea9557c9f4f4eb0970d40a11e8fcd": {
          "model_module": "@jupyter-widgets/controls",
          "model_module_version": "1.5.0",
          "model_name": "HTMLModel",
          "state": {
            "_dom_classes": [],
            "_model_module": "@jupyter-widgets/controls",
            "_model_module_version": "1.5.0",
            "_model_name": "HTMLModel",
            "_view_count": null,
            "_view_module": "@jupyter-widgets/controls",
            "_view_module_version": "1.5.0",
            "_view_name": "HTMLView",
            "description": "",
            "description_tooltip": null,
            "layout": "IPY_MODEL_3d9c4e250d9b4d9a889e787c56d34d46",
            "placeholder": "​",
            "style": "IPY_MODEL_d1a566c4827a4a5fb2fe08bd04fa5443",
            "value": "Downloading data: 100%"
          }
        },
        "a04d0ef5557147cfb8f098edf217b050": {
          "model_module": "@jupyter-widgets/base",
          "model_module_version": "1.2.0",
          "model_name": "LayoutModel",
          "state": {
            "_model_module": "@jupyter-widgets/base",
            "_model_module_version": "1.2.0",
            "_model_name": "LayoutModel",
            "_view_count": null,
            "_view_module": "@jupyter-widgets/base",
            "_view_module_version": "1.2.0",
            "_view_name": "LayoutView",
            "align_content": null,
            "align_items": null,
            "align_self": null,
            "border": null,
            "bottom": null,
            "display": null,
            "flex": null,
            "flex_flow": null,
            "grid_area": null,
            "grid_auto_columns": null,
            "grid_auto_flow": null,
            "grid_auto_rows": null,
            "grid_column": null,
            "grid_gap": null,
            "grid_row": null,
            "grid_template_areas": null,
            "grid_template_columns": null,
            "grid_template_rows": null,
            "height": null,
            "justify_content": null,
            "justify_items": null,
            "left": null,
            "margin": null,
            "max_height": null,
            "max_width": null,
            "min_height": null,
            "min_width": null,
            "object_fit": null,
            "object_position": null,
            "order": null,
            "overflow": null,
            "overflow_x": null,
            "overflow_y": null,
            "padding": null,
            "right": null,
            "top": null,
            "visibility": null,
            "width": null
          }
        },
        "a1e930ef8b514f8aae6259b712719a43": {
          "model_module": "@jupyter-widgets/base",
          "model_module_version": "1.2.0",
          "model_name": "LayoutModel",
          "state": {
            "_model_module": "@jupyter-widgets/base",
            "_model_module_version": "1.2.0",
            "_model_name": "LayoutModel",
            "_view_count": null,
            "_view_module": "@jupyter-widgets/base",
            "_view_module_version": "1.2.0",
            "_view_name": "LayoutView",
            "align_content": null,
            "align_items": null,
            "align_self": null,
            "border": null,
            "bottom": null,
            "display": null,
            "flex": null,
            "flex_flow": null,
            "grid_area": null,
            "grid_auto_columns": null,
            "grid_auto_flow": null,
            "grid_auto_rows": null,
            "grid_column": null,
            "grid_gap": null,
            "grid_row": null,
            "grid_template_areas": null,
            "grid_template_columns": null,
            "grid_template_rows": null,
            "height": null,
            "justify_content": null,
            "justify_items": null,
            "left": null,
            "margin": null,
            "max_height": null,
            "max_width": null,
            "min_height": null,
            "min_width": null,
            "object_fit": null,
            "object_position": null,
            "order": null,
            "overflow": null,
            "overflow_x": null,
            "overflow_y": null,
            "padding": null,
            "right": null,
            "top": null,
            "visibility": null,
            "width": null
          }
        },
        "a24d6c5f1f6f428e8f9978795043c92a": {
          "model_module": "@jupyter-widgets/controls",
          "model_module_version": "1.5.0",
          "model_name": "ProgressStyleModel",
          "state": {
            "_model_module": "@jupyter-widgets/controls",
            "_model_module_version": "1.5.0",
            "_model_name": "ProgressStyleModel",
            "_view_count": null,
            "_view_module": "@jupyter-widgets/base",
            "_view_module_version": "1.2.0",
            "_view_name": "StyleView",
            "bar_color": null,
            "description_width": ""
          }
        },
        "a2e3382d44984a4eb6a43d790bb45320": {
          "model_module": "@jupyter-widgets/controls",
          "model_module_version": "1.5.0",
          "model_name": "HTMLModel",
          "state": {
            "_dom_classes": [],
            "_model_module": "@jupyter-widgets/controls",
            "_model_module_version": "1.5.0",
            "_model_name": "HTMLModel",
            "_view_count": null,
            "_view_module": "@jupyter-widgets/controls",
            "_view_module_version": "1.5.0",
            "_view_name": "HTMLView",
            "description": "",
            "description_tooltip": null,
            "layout": "IPY_MODEL_d350db6cf77f40848b61762bcc8cf505",
            "placeholder": "​",
            "style": "IPY_MODEL_638c0a069bdd4857954ed384db6da3d6",
            "value": " 420M/420M [00:08&lt;00:00, 39.1MB/s]"
          }
        },
        "a6a831d2f1494a9ab793c8d4786bc02b": {
          "model_module": "@jupyter-widgets/controls",
          "model_module_version": "1.5.0",
          "model_name": "HTMLModel",
          "state": {
            "_dom_classes": [],
            "_model_module": "@jupyter-widgets/controls",
            "_model_module_version": "1.5.0",
            "_model_name": "HTMLModel",
            "_view_count": null,
            "_view_module": "@jupyter-widgets/controls",
            "_view_module_version": "1.5.0",
            "_view_name": "HTMLView",
            "description": "",
            "description_tooltip": null,
            "layout": "IPY_MODEL_a1e930ef8b514f8aae6259b712719a43",
            "placeholder": "​",
            "style": "IPY_MODEL_fdab039f166043488f35bce9968f0199",
            "value": "Downloading data: 100%"
          }
        },
        "a70c22a40d33495bb33a268bfeb51dcd": {
          "model_module": "@jupyter-widgets/controls",
          "model_module_version": "1.5.0",
          "model_name": "ProgressStyleModel",
          "state": {
            "_model_module": "@jupyter-widgets/controls",
            "_model_module_version": "1.5.0",
            "_model_name": "ProgressStyleModel",
            "_view_count": null,
            "_view_module": "@jupyter-widgets/base",
            "_view_module_version": "1.2.0",
            "_view_name": "StyleView",
            "bar_color": null,
            "description_width": ""
          }
        },
        "a856a9411a2e476cb6994d900979fa43": {
          "model_module": "@jupyter-widgets/controls",
          "model_module_version": "1.5.0",
          "model_name": "HBoxModel",
          "state": {
            "_dom_classes": [],
            "_model_module": "@jupyter-widgets/controls",
            "_model_module_version": "1.5.0",
            "_model_name": "HBoxModel",
            "_view_count": null,
            "_view_module": "@jupyter-widgets/controls",
            "_view_module_version": "1.5.0",
            "_view_name": "HBoxView",
            "box_style": "",
            "children": [
              "IPY_MODEL_b9120b20fe77445ea216a08f659d7ca5",
              "IPY_MODEL_3c3f93a0dc4443a99c665127023121c3",
              "IPY_MODEL_a2e3382d44984a4eb6a43d790bb45320"
            ],
            "layout": "IPY_MODEL_223268a021614544b727e8baab1e4c46"
          }
        },
        "aab824d2551a4dfabb1758435ace8811": {
          "model_module": "@jupyter-widgets/controls",
          "model_module_version": "1.5.0",
          "model_name": "HTMLModel",
          "state": {
            "_dom_classes": [],
            "_model_module": "@jupyter-widgets/controls",
            "_model_module_version": "1.5.0",
            "_model_name": "HTMLModel",
            "_view_count": null,
            "_view_module": "@jupyter-widgets/controls",
            "_view_module_version": "1.5.0",
            "_view_name": "HTMLView",
            "description": "",
            "description_tooltip": null,
            "layout": "IPY_MODEL_4d2718f065e94e189e99e510ba2db092",
            "placeholder": "​",
            "style": "IPY_MODEL_b6d66b0ee96b41b39dd80026ef4dc845",
            "value": " 107M/107M [00:01&lt;00:00, 55.0MB/s]"
          }
        },
        "ac230de8d09242aabe28f5e861cb6282": {
          "model_module": "@jupyter-widgets/controls",
          "model_module_version": "1.5.0",
          "model_name": "HTMLModel",
          "state": {
            "_dom_classes": [],
            "_model_module": "@jupyter-widgets/controls",
            "_model_module_version": "1.5.0",
            "_model_name": "HTMLModel",
            "_view_count": null,
            "_view_module": "@jupyter-widgets/controls",
            "_view_module_version": "1.5.0",
            "_view_name": "HTMLView",
            "description": "",
            "description_tooltip": null,
            "layout": "IPY_MODEL_df6fb91b35cb45ffad8ae4df55599e96",
            "placeholder": "​",
            "style": "IPY_MODEL_691dcc8c159448fd959100ffc5d4f64a",
            "value": " 405M/405M [00:09&lt;00:00, 29.2MB/s]"
          }
        },
        "af01d46b343342778cd49594ce672c62": {
          "model_module": "@jupyter-widgets/base",
          "model_module_version": "1.2.0",
          "model_name": "LayoutModel",
          "state": {
            "_model_module": "@jupyter-widgets/base",
            "_model_module_version": "1.2.0",
            "_model_name": "LayoutModel",
            "_view_count": null,
            "_view_module": "@jupyter-widgets/base",
            "_view_module_version": "1.2.0",
            "_view_name": "LayoutView",
            "align_content": null,
            "align_items": null,
            "align_self": null,
            "border": null,
            "bottom": null,
            "display": null,
            "flex": null,
            "flex_flow": null,
            "grid_area": null,
            "grid_auto_columns": null,
            "grid_auto_flow": null,
            "grid_auto_rows": null,
            "grid_column": null,
            "grid_gap": null,
            "grid_row": null,
            "grid_template_areas": null,
            "grid_template_columns": null,
            "grid_template_rows": null,
            "height": null,
            "justify_content": null,
            "justify_items": null,
            "left": null,
            "margin": null,
            "max_height": null,
            "max_width": null,
            "min_height": null,
            "min_width": null,
            "object_fit": null,
            "object_position": null,
            "order": null,
            "overflow": null,
            "overflow_x": null,
            "overflow_y": null,
            "padding": null,
            "right": null,
            "top": null,
            "visibility": null,
            "width": null
          }
        },
        "b306386ac3254e47aa17d21fa5ab17e8": {
          "model_module": "@jupyter-widgets/controls",
          "model_module_version": "1.5.0",
          "model_name": "HBoxModel",
          "state": {
            "_dom_classes": [],
            "_model_module": "@jupyter-widgets/controls",
            "_model_module_version": "1.5.0",
            "_model_name": "HBoxModel",
            "_view_count": null,
            "_view_module": "@jupyter-widgets/controls",
            "_view_module_version": "1.5.0",
            "_view_name": "HBoxView",
            "box_style": "",
            "children": [
              "IPY_MODEL_d936aadc64a3452dbed2ff0a95212a1d",
              "IPY_MODEL_34c8a74c96aa4e8f80df5bb99afca5fe",
              "IPY_MODEL_e79d57755adc44c99881879e1664717b"
            ],
            "layout": "IPY_MODEL_016e83d4b3624a85b9ca2b5230ff9727"
          }
        },
        "b51a647d00084080a1ed9548dab44396": {
          "model_module": "@jupyter-widgets/controls",
          "model_module_version": "1.5.0",
          "model_name": "DescriptionStyleModel",
          "state": {
            "_model_module": "@jupyter-widgets/controls",
            "_model_module_version": "1.5.0",
            "_model_name": "DescriptionStyleModel",
            "_view_count": null,
            "_view_module": "@jupyter-widgets/base",
            "_view_module_version": "1.2.0",
            "_view_name": "StyleView",
            "description_width": ""
          }
        },
        "b58e16ae6c66430f901407f44c44c0ee": {
          "model_module": "@jupyter-widgets/controls",
          "model_module_version": "1.5.0",
          "model_name": "DescriptionStyleModel",
          "state": {
            "_model_module": "@jupyter-widgets/controls",
            "_model_module_version": "1.5.0",
            "_model_name": "DescriptionStyleModel",
            "_view_count": null,
            "_view_module": "@jupyter-widgets/base",
            "_view_module_version": "1.2.0",
            "_view_name": "StyleView",
            "description_width": ""
          }
        },
        "b6d66b0ee96b41b39dd80026ef4dc845": {
          "model_module": "@jupyter-widgets/controls",
          "model_module_version": "1.5.0",
          "model_name": "DescriptionStyleModel",
          "state": {
            "_model_module": "@jupyter-widgets/controls",
            "_model_module_version": "1.5.0",
            "_model_name": "DescriptionStyleModel",
            "_view_count": null,
            "_view_module": "@jupyter-widgets/base",
            "_view_module_version": "1.2.0",
            "_view_name": "StyleView",
            "description_width": ""
          }
        },
        "b713878a37a6455d8ea6f9d6b255db6c": {
          "model_module": "@jupyter-widgets/controls",
          "model_module_version": "1.5.0",
          "model_name": "DescriptionStyleModel",
          "state": {
            "_model_module": "@jupyter-widgets/controls",
            "_model_module_version": "1.5.0",
            "_model_name": "DescriptionStyleModel",
            "_view_count": null,
            "_view_module": "@jupyter-widgets/base",
            "_view_module_version": "1.2.0",
            "_view_name": "StyleView",
            "description_width": ""
          }
        },
        "b7e6f9fab77a4db598e27f79cb38305b": {
          "model_module": "@jupyter-widgets/controls",
          "model_module_version": "1.5.0",
          "model_name": "FloatProgressModel",
          "state": {
            "_dom_classes": [],
            "_model_module": "@jupyter-widgets/controls",
            "_model_module_version": "1.5.0",
            "_model_name": "FloatProgressModel",
            "_view_count": null,
            "_view_module": "@jupyter-widgets/controls",
            "_view_module_version": "1.5.0",
            "_view_name": "ProgressView",
            "bar_style": "success",
            "description": "",
            "description_tooltip": null,
            "layout": "IPY_MODEL_cda0d377637d4f45be920bc9881619a3",
            "max": 1479,
            "min": 0,
            "orientation": "horizontal",
            "style": "IPY_MODEL_1f7f8f8d25e442c2bc238384318081df",
            "value": 1479
          }
        },
        "b9120b20fe77445ea216a08f659d7ca5": {
          "model_module": "@jupyter-widgets/controls",
          "model_module_version": "1.5.0",
          "model_name": "HTMLModel",
          "state": {
            "_dom_classes": [],
            "_model_module": "@jupyter-widgets/controls",
            "_model_module_version": "1.5.0",
            "_model_name": "HTMLModel",
            "_view_count": null,
            "_view_module": "@jupyter-widgets/controls",
            "_view_module_version": "1.5.0",
            "_view_name": "HTMLView",
            "description": "",
            "description_tooltip": null,
            "layout": "IPY_MODEL_5e69213c3322467cb4979280f995f78b",
            "placeholder": "​",
            "style": "IPY_MODEL_46d36b3771a04077b44d9e29d689a4a3",
            "value": "Downloading data: 100%"
          }
        },
        "ba950b378256460db5dd36372458fc9d": {
          "model_module": "@jupyter-widgets/controls",
          "model_module_version": "1.5.0",
          "model_name": "FloatProgressModel",
          "state": {
            "_dom_classes": [],
            "_model_module": "@jupyter-widgets/controls",
            "_model_module_version": "1.5.0",
            "_model_name": "FloatProgressModel",
            "_view_count": null,
            "_view_module": "@jupyter-widgets/controls",
            "_view_module_version": "1.5.0",
            "_view_name": "ProgressView",
            "bar_style": "success",
            "description": "",
            "description_tooltip": null,
            "layout": "IPY_MODEL_bf835a1ab64141c2a3b1dc58f2012942",
            "max": 404724966,
            "min": 0,
            "orientation": "horizontal",
            "style": "IPY_MODEL_802fc20426784db28d2384b4f969ba48",
            "value": 404724966
          }
        },
        "bc6ed26f111d44fbbc651389b0758e45": {
          "model_module": "@jupyter-widgets/controls",
          "model_module_version": "1.5.0",
          "model_name": "HBoxModel",
          "state": {
            "_dom_classes": [],
            "_model_module": "@jupyter-widgets/controls",
            "_model_module_version": "1.5.0",
            "_model_name": "HBoxModel",
            "_view_count": null,
            "_view_module": "@jupyter-widgets/controls",
            "_view_module_version": "1.5.0",
            "_view_name": "HBoxView",
            "box_style": "",
            "children": [
              "IPY_MODEL_80aadaaa85064f819d1c62c9d3bef67a",
              "IPY_MODEL_4d6bbfe52c554d658eff218a6c132877",
              "IPY_MODEL_13506237ea944187b9402a9572c39869"
            ],
            "layout": "IPY_MODEL_e62b24a12b5c4f0e89e70cef4e5f5e22"
          }
        },
        "bd172ded4c1a46f5a71003d0ba784e51": {
          "model_module": "@jupyter-widgets/controls",
          "model_module_version": "1.5.0",
          "model_name": "DescriptionStyleModel",
          "state": {
            "_model_module": "@jupyter-widgets/controls",
            "_model_module_version": "1.5.0",
            "_model_name": "DescriptionStyleModel",
            "_view_count": null,
            "_view_module": "@jupyter-widgets/base",
            "_view_module_version": "1.2.0",
            "_view_name": "StyleView",
            "description_width": ""
          }
        },
        "bd4b96db1a0947fcb71ab610f8e1fb75": {
          "model_module": "@jupyter-widgets/base",
          "model_module_version": "1.2.0",
          "model_name": "LayoutModel",
          "state": {
            "_model_module": "@jupyter-widgets/base",
            "_model_module_version": "1.2.0",
            "_model_name": "LayoutModel",
            "_view_count": null,
            "_view_module": "@jupyter-widgets/base",
            "_view_module_version": "1.2.0",
            "_view_name": "LayoutView",
            "align_content": null,
            "align_items": null,
            "align_self": null,
            "border": null,
            "bottom": null,
            "display": null,
            "flex": null,
            "flex_flow": null,
            "grid_area": null,
            "grid_auto_columns": null,
            "grid_auto_flow": null,
            "grid_auto_rows": null,
            "grid_column": null,
            "grid_gap": null,
            "grid_row": null,
            "grid_template_areas": null,
            "grid_template_columns": null,
            "grid_template_rows": null,
            "height": null,
            "justify_content": null,
            "justify_items": null,
            "left": null,
            "margin": null,
            "max_height": null,
            "max_width": null,
            "min_height": null,
            "min_width": null,
            "object_fit": null,
            "object_position": null,
            "order": null,
            "overflow": null,
            "overflow_x": null,
            "overflow_y": null,
            "padding": null,
            "right": null,
            "top": null,
            "visibility": null,
            "width": null
          }
        },
        "befa9b2c5d7d4d00b061458d7d30e755": {
          "model_module": "@jupyter-widgets/controls",
          "model_module_version": "1.5.0",
          "model_name": "HBoxModel",
          "state": {
            "_dom_classes": [],
            "_model_module": "@jupyter-widgets/controls",
            "_model_module_version": "1.5.0",
            "_model_name": "HBoxModel",
            "_view_count": null,
            "_view_module": "@jupyter-widgets/controls",
            "_view_module_version": "1.5.0",
            "_view_name": "HBoxView",
            "box_style": "",
            "children": [
              "IPY_MODEL_99ab11ab9557431ebe0525406df8279f",
              "IPY_MODEL_0bede93f94f545358e8f6d3efcb53657",
              "IPY_MODEL_69d2e576d31a47a2aa1e271c31948e4e"
            ],
            "layout": "IPY_MODEL_85387eb4f03e4d829edab0e05c22de87"
          }
        },
        "bf054d68d2bd469ab15212c05114a023": {
          "model_module": "@jupyter-widgets/base",
          "model_module_version": "1.2.0",
          "model_name": "LayoutModel",
          "state": {
            "_model_module": "@jupyter-widgets/base",
            "_model_module_version": "1.2.0",
            "_model_name": "LayoutModel",
            "_view_count": null,
            "_view_module": "@jupyter-widgets/base",
            "_view_module_version": "1.2.0",
            "_view_name": "LayoutView",
            "align_content": null,
            "align_items": null,
            "align_self": null,
            "border": null,
            "bottom": null,
            "display": null,
            "flex": null,
            "flex_flow": null,
            "grid_area": null,
            "grid_auto_columns": null,
            "grid_auto_flow": null,
            "grid_auto_rows": null,
            "grid_column": null,
            "grid_gap": null,
            "grid_row": null,
            "grid_template_areas": null,
            "grid_template_columns": null,
            "grid_template_rows": null,
            "height": null,
            "justify_content": null,
            "justify_items": null,
            "left": null,
            "margin": null,
            "max_height": null,
            "max_width": null,
            "min_height": null,
            "min_width": null,
            "object_fit": null,
            "object_position": null,
            "order": null,
            "overflow": null,
            "overflow_x": null,
            "overflow_y": null,
            "padding": null,
            "right": null,
            "top": null,
            "visibility": null,
            "width": null
          }
        },
        "bf835a1ab64141c2a3b1dc58f2012942": {
          "model_module": "@jupyter-widgets/base",
          "model_module_version": "1.2.0",
          "model_name": "LayoutModel",
          "state": {
            "_model_module": "@jupyter-widgets/base",
            "_model_module_version": "1.2.0",
            "_model_name": "LayoutModel",
            "_view_count": null,
            "_view_module": "@jupyter-widgets/base",
            "_view_module_version": "1.2.0",
            "_view_name": "LayoutView",
            "align_content": null,
            "align_items": null,
            "align_self": null,
            "border": null,
            "bottom": null,
            "display": null,
            "flex": null,
            "flex_flow": null,
            "grid_area": null,
            "grid_auto_columns": null,
            "grid_auto_flow": null,
            "grid_auto_rows": null,
            "grid_column": null,
            "grid_gap": null,
            "grid_row": null,
            "grid_template_areas": null,
            "grid_template_columns": null,
            "grid_template_rows": null,
            "height": null,
            "justify_content": null,
            "justify_items": null,
            "left": null,
            "margin": null,
            "max_height": null,
            "max_width": null,
            "min_height": null,
            "min_width": null,
            "object_fit": null,
            "object_position": null,
            "order": null,
            "overflow": null,
            "overflow_x": null,
            "overflow_y": null,
            "padding": null,
            "right": null,
            "top": null,
            "visibility": null,
            "width": null
          }
        },
        "bfdd3c7c52cf400c96d99f8b4067a18c": {
          "model_module": "@jupyter-widgets/base",
          "model_module_version": "1.2.0",
          "model_name": "LayoutModel",
          "state": {
            "_model_module": "@jupyter-widgets/base",
            "_model_module_version": "1.2.0",
            "_model_name": "LayoutModel",
            "_view_count": null,
            "_view_module": "@jupyter-widgets/base",
            "_view_module_version": "1.2.0",
            "_view_name": "LayoutView",
            "align_content": null,
            "align_items": null,
            "align_self": null,
            "border": null,
            "bottom": null,
            "display": null,
            "flex": null,
            "flex_flow": null,
            "grid_area": null,
            "grid_auto_columns": null,
            "grid_auto_flow": null,
            "grid_auto_rows": null,
            "grid_column": null,
            "grid_gap": null,
            "grid_row": null,
            "grid_template_areas": null,
            "grid_template_columns": null,
            "grid_template_rows": null,
            "height": null,
            "justify_content": null,
            "justify_items": null,
            "left": null,
            "margin": null,
            "max_height": null,
            "max_width": null,
            "min_height": null,
            "min_width": null,
            "object_fit": null,
            "object_position": null,
            "order": null,
            "overflow": null,
            "overflow_x": null,
            "overflow_y": null,
            "padding": null,
            "right": null,
            "top": null,
            "visibility": null,
            "width": null
          }
        },
        "bfe1c1c158614537a238235eef3b2232": {
          "model_module": "@jupyter-widgets/base",
          "model_module_version": "1.2.0",
          "model_name": "LayoutModel",
          "state": {
            "_model_module": "@jupyter-widgets/base",
            "_model_module_version": "1.2.0",
            "_model_name": "LayoutModel",
            "_view_count": null,
            "_view_module": "@jupyter-widgets/base",
            "_view_module_version": "1.2.0",
            "_view_name": "LayoutView",
            "align_content": null,
            "align_items": null,
            "align_self": null,
            "border": null,
            "bottom": null,
            "display": null,
            "flex": null,
            "flex_flow": null,
            "grid_area": null,
            "grid_auto_columns": null,
            "grid_auto_flow": null,
            "grid_auto_rows": null,
            "grid_column": null,
            "grid_gap": null,
            "grid_row": null,
            "grid_template_areas": null,
            "grid_template_columns": null,
            "grid_template_rows": null,
            "height": null,
            "justify_content": null,
            "justify_items": null,
            "left": null,
            "margin": null,
            "max_height": null,
            "max_width": null,
            "min_height": null,
            "min_width": null,
            "object_fit": null,
            "object_position": null,
            "order": null,
            "overflow": null,
            "overflow_x": null,
            "overflow_y": null,
            "padding": null,
            "right": null,
            "top": null,
            "visibility": null,
            "width": null
          }
        },
        "c36c1233c65b467abaaf80633191ba0d": {
          "model_module": "@jupyter-widgets/controls",
          "model_module_version": "1.5.0",
          "model_name": "HTMLModel",
          "state": {
            "_dom_classes": [],
            "_model_module": "@jupyter-widgets/controls",
            "_model_module_version": "1.5.0",
            "_model_name": "HTMLModel",
            "_view_count": null,
            "_view_module": "@jupyter-widgets/controls",
            "_view_module_version": "1.5.0",
            "_view_name": "HTMLView",
            "description": "",
            "description_tooltip": null,
            "layout": "IPY_MODEL_379dd63ae08b486484fd553591368757",
            "placeholder": "​",
            "style": "IPY_MODEL_b58e16ae6c66430f901407f44c44c0ee",
            "value": " 402M/402M [00:07&lt;00:00, 52.8MB/s]"
          }
        },
        "caf9e3e46dbe4e97bf585caf20a8c842": {
          "model_module": "@jupyter-widgets/base",
          "model_module_version": "1.2.0",
          "model_name": "LayoutModel",
          "state": {
            "_model_module": "@jupyter-widgets/base",
            "_model_module_version": "1.2.0",
            "_model_name": "LayoutModel",
            "_view_count": null,
            "_view_module": "@jupyter-widgets/base",
            "_view_module_version": "1.2.0",
            "_view_name": "LayoutView",
            "align_content": null,
            "align_items": null,
            "align_self": null,
            "border": null,
            "bottom": null,
            "display": null,
            "flex": null,
            "flex_flow": null,
            "grid_area": null,
            "grid_auto_columns": null,
            "grid_auto_flow": null,
            "grid_auto_rows": null,
            "grid_column": null,
            "grid_gap": null,
            "grid_row": null,
            "grid_template_areas": null,
            "grid_template_columns": null,
            "grid_template_rows": null,
            "height": null,
            "justify_content": null,
            "justify_items": null,
            "left": null,
            "margin": null,
            "max_height": null,
            "max_width": null,
            "min_height": null,
            "min_width": null,
            "object_fit": null,
            "object_position": null,
            "order": null,
            "overflow": null,
            "overflow_x": null,
            "overflow_y": null,
            "padding": null,
            "right": null,
            "top": null,
            "visibility": null,
            "width": null
          }
        },
        "ccfee996bbe0434588d5b2217fc04dcd": {
          "model_module": "@jupyter-widgets/base",
          "model_module_version": "1.2.0",
          "model_name": "LayoutModel",
          "state": {
            "_model_module": "@jupyter-widgets/base",
            "_model_module_version": "1.2.0",
            "_model_name": "LayoutModel",
            "_view_count": null,
            "_view_module": "@jupyter-widgets/base",
            "_view_module_version": "1.2.0",
            "_view_name": "LayoutView",
            "align_content": null,
            "align_items": null,
            "align_self": null,
            "border": null,
            "bottom": null,
            "display": null,
            "flex": null,
            "flex_flow": null,
            "grid_area": null,
            "grid_auto_columns": null,
            "grid_auto_flow": null,
            "grid_auto_rows": null,
            "grid_column": null,
            "grid_gap": null,
            "grid_row": null,
            "grid_template_areas": null,
            "grid_template_columns": null,
            "grid_template_rows": null,
            "height": null,
            "justify_content": null,
            "justify_items": null,
            "left": null,
            "margin": null,
            "max_height": null,
            "max_width": null,
            "min_height": null,
            "min_width": null,
            "object_fit": null,
            "object_position": null,
            "order": null,
            "overflow": null,
            "overflow_x": null,
            "overflow_y": null,
            "padding": null,
            "right": null,
            "top": null,
            "visibility": null,
            "width": null
          }
        },
        "cda0d377637d4f45be920bc9881619a3": {
          "model_module": "@jupyter-widgets/base",
          "model_module_version": "1.2.0",
          "model_name": "LayoutModel",
          "state": {
            "_model_module": "@jupyter-widgets/base",
            "_model_module_version": "1.2.0",
            "_model_name": "LayoutModel",
            "_view_count": null,
            "_view_module": "@jupyter-widgets/base",
            "_view_module_version": "1.2.0",
            "_view_name": "LayoutView",
            "align_content": null,
            "align_items": null,
            "align_self": null,
            "border": null,
            "bottom": null,
            "display": null,
            "flex": null,
            "flex_flow": null,
            "grid_area": null,
            "grid_auto_columns": null,
            "grid_auto_flow": null,
            "grid_auto_rows": null,
            "grid_column": null,
            "grid_gap": null,
            "grid_row": null,
            "grid_template_areas": null,
            "grid_template_columns": null,
            "grid_template_rows": null,
            "height": null,
            "justify_content": null,
            "justify_items": null,
            "left": null,
            "margin": null,
            "max_height": null,
            "max_width": null,
            "min_height": null,
            "min_width": null,
            "object_fit": null,
            "object_position": null,
            "order": null,
            "overflow": null,
            "overflow_x": null,
            "overflow_y": null,
            "padding": null,
            "right": null,
            "top": null,
            "visibility": null,
            "width": null
          }
        },
        "cec27c3bb29f44df82fd236a0d5a0976": {
          "model_module": "@jupyter-widgets/controls",
          "model_module_version": "1.5.0",
          "model_name": "DescriptionStyleModel",
          "state": {
            "_model_module": "@jupyter-widgets/controls",
            "_model_module_version": "1.5.0",
            "_model_name": "DescriptionStyleModel",
            "_view_count": null,
            "_view_module": "@jupyter-widgets/base",
            "_view_module_version": "1.2.0",
            "_view_name": "StyleView",
            "description_width": ""
          }
        },
        "d1a566c4827a4a5fb2fe08bd04fa5443": {
          "model_module": "@jupyter-widgets/controls",
          "model_module_version": "1.5.0",
          "model_name": "DescriptionStyleModel",
          "state": {
            "_model_module": "@jupyter-widgets/controls",
            "_model_module_version": "1.5.0",
            "_model_name": "DescriptionStyleModel",
            "_view_count": null,
            "_view_module": "@jupyter-widgets/base",
            "_view_module_version": "1.2.0",
            "_view_name": "StyleView",
            "description_width": ""
          }
        },
        "d1c0ed04027d46008acb733797c3de60": {
          "model_module": "@jupyter-widgets/base",
          "model_module_version": "1.2.0",
          "model_name": "LayoutModel",
          "state": {
            "_model_module": "@jupyter-widgets/base",
            "_model_module_version": "1.2.0",
            "_model_name": "LayoutModel",
            "_view_count": null,
            "_view_module": "@jupyter-widgets/base",
            "_view_module_version": "1.2.0",
            "_view_name": "LayoutView",
            "align_content": null,
            "align_items": null,
            "align_self": null,
            "border": null,
            "bottom": null,
            "display": null,
            "flex": null,
            "flex_flow": null,
            "grid_area": null,
            "grid_auto_columns": null,
            "grid_auto_flow": null,
            "grid_auto_rows": null,
            "grid_column": null,
            "grid_gap": null,
            "grid_row": null,
            "grid_template_areas": null,
            "grid_template_columns": null,
            "grid_template_rows": null,
            "height": null,
            "justify_content": null,
            "justify_items": null,
            "left": null,
            "margin": null,
            "max_height": null,
            "max_width": null,
            "min_height": null,
            "min_width": null,
            "object_fit": null,
            "object_position": null,
            "order": null,
            "overflow": null,
            "overflow_x": null,
            "overflow_y": null,
            "padding": null,
            "right": null,
            "top": null,
            "visibility": null,
            "width": null
          }
        },
        "d1c2a34f88054bc6a3e49f31eafe6e3b": {
          "model_module": "@jupyter-widgets/controls",
          "model_module_version": "1.5.0",
          "model_name": "HTMLModel",
          "state": {
            "_dom_classes": [],
            "_model_module": "@jupyter-widgets/controls",
            "_model_module_version": "1.5.0",
            "_model_name": "HTMLModel",
            "_view_count": null,
            "_view_module": "@jupyter-widgets/controls",
            "_view_module_version": "1.5.0",
            "_view_name": "HTMLView",
            "description": "",
            "description_tooltip": null,
            "layout": "IPY_MODEL_9e9154321d9345f59fd968ad248b3dec",
            "placeholder": "​",
            "style": "IPY_MODEL_b713878a37a6455d8ea6f9d6b255db6c",
            "value": " 406M/406M [00:09&lt;00:00, 50.1MB/s]"
          }
        },
        "d350db6cf77f40848b61762bcc8cf505": {
          "model_module": "@jupyter-widgets/base",
          "model_module_version": "1.2.0",
          "model_name": "LayoutModel",
          "state": {
            "_model_module": "@jupyter-widgets/base",
            "_model_module_version": "1.2.0",
            "_model_name": "LayoutModel",
            "_view_count": null,
            "_view_module": "@jupyter-widgets/base",
            "_view_module_version": "1.2.0",
            "_view_name": "LayoutView",
            "align_content": null,
            "align_items": null,
            "align_self": null,
            "border": null,
            "bottom": null,
            "display": null,
            "flex": null,
            "flex_flow": null,
            "grid_area": null,
            "grid_auto_columns": null,
            "grid_auto_flow": null,
            "grid_auto_rows": null,
            "grid_column": null,
            "grid_gap": null,
            "grid_row": null,
            "grid_template_areas": null,
            "grid_template_columns": null,
            "grid_template_rows": null,
            "height": null,
            "justify_content": null,
            "justify_items": null,
            "left": null,
            "margin": null,
            "max_height": null,
            "max_width": null,
            "min_height": null,
            "min_width": null,
            "object_fit": null,
            "object_position": null,
            "order": null,
            "overflow": null,
            "overflow_x": null,
            "overflow_y": null,
            "padding": null,
            "right": null,
            "top": null,
            "visibility": null,
            "width": null
          }
        },
        "d549cef7c84a48c18b0f291978ace54f": {
          "model_module": "@jupyter-widgets/base",
          "model_module_version": "1.2.0",
          "model_name": "LayoutModel",
          "state": {
            "_model_module": "@jupyter-widgets/base",
            "_model_module_version": "1.2.0",
            "_model_name": "LayoutModel",
            "_view_count": null,
            "_view_module": "@jupyter-widgets/base",
            "_view_module_version": "1.2.0",
            "_view_name": "LayoutView",
            "align_content": null,
            "align_items": null,
            "align_self": null,
            "border": null,
            "bottom": null,
            "display": null,
            "flex": null,
            "flex_flow": null,
            "grid_area": null,
            "grid_auto_columns": null,
            "grid_auto_flow": null,
            "grid_auto_rows": null,
            "grid_column": null,
            "grid_gap": null,
            "grid_row": null,
            "grid_template_areas": null,
            "grid_template_columns": null,
            "grid_template_rows": null,
            "height": null,
            "justify_content": null,
            "justify_items": null,
            "left": null,
            "margin": null,
            "max_height": null,
            "max_width": null,
            "min_height": null,
            "min_width": null,
            "object_fit": null,
            "object_position": null,
            "order": null,
            "overflow": null,
            "overflow_x": null,
            "overflow_y": null,
            "padding": null,
            "right": null,
            "top": null,
            "visibility": null,
            "width": null
          }
        },
        "d70afb399516480aa811959aa9d0e73f": {
          "model_module": "@jupyter-widgets/base",
          "model_module_version": "1.2.0",
          "model_name": "LayoutModel",
          "state": {
            "_model_module": "@jupyter-widgets/base",
            "_model_module_version": "1.2.0",
            "_model_name": "LayoutModel",
            "_view_count": null,
            "_view_module": "@jupyter-widgets/base",
            "_view_module_version": "1.2.0",
            "_view_name": "LayoutView",
            "align_content": null,
            "align_items": null,
            "align_self": null,
            "border": null,
            "bottom": null,
            "display": null,
            "flex": null,
            "flex_flow": null,
            "grid_area": null,
            "grid_auto_columns": null,
            "grid_auto_flow": null,
            "grid_auto_rows": null,
            "grid_column": null,
            "grid_gap": null,
            "grid_row": null,
            "grid_template_areas": null,
            "grid_template_columns": null,
            "grid_template_rows": null,
            "height": null,
            "justify_content": null,
            "justify_items": null,
            "left": null,
            "margin": null,
            "max_height": null,
            "max_width": null,
            "min_height": null,
            "min_width": null,
            "object_fit": null,
            "object_position": null,
            "order": null,
            "overflow": null,
            "overflow_x": null,
            "overflow_y": null,
            "padding": null,
            "right": null,
            "top": null,
            "visibility": null,
            "width": null
          }
        },
        "d936aadc64a3452dbed2ff0a95212a1d": {
          "model_module": "@jupyter-widgets/controls",
          "model_module_version": "1.5.0",
          "model_name": "HTMLModel",
          "state": {
            "_dom_classes": [],
            "_model_module": "@jupyter-widgets/controls",
            "_model_module_version": "1.5.0",
            "_model_name": "HTMLModel",
            "_view_count": null,
            "_view_module": "@jupyter-widgets/controls",
            "_view_module_version": "1.5.0",
            "_view_name": "HTMLView",
            "description": "",
            "description_tooltip": null,
            "layout": "IPY_MODEL_403221c957f440b3a96e5ddd1483c865",
            "placeholder": "​",
            "style": "IPY_MODEL_869b9e33230c4f529308cefc95f83e7a",
            "value": "Computing checksums: 100%"
          }
        },
        "d9d4bb329d8a40dbbba8c4b9d79da84e": {
          "model_module": "@jupyter-widgets/controls",
          "model_module_version": "1.5.0",
          "model_name": "HTMLModel",
          "state": {
            "_dom_classes": [],
            "_model_module": "@jupyter-widgets/controls",
            "_model_module_version": "1.5.0",
            "_model_name": "HTMLModel",
            "_view_count": null,
            "_view_module": "@jupyter-widgets/controls",
            "_view_module_version": "1.5.0",
            "_view_name": "HTMLView",
            "description": "",
            "description_tooltip": null,
            "layout": "IPY_MODEL_40f4db0c497c4e8093d059bb8d259b8a",
            "placeholder": "​",
            "style": "IPY_MODEL_52253a6ab0cb4b69900c68c01b630db8",
            "value": " 116404/116404 [00:23&lt;00:00, 4344.45 examples/s]"
          }
        },
        "dd55732bb8924370afec93dc39a5dfc8": {
          "model_module": "@jupyter-widgets/controls",
          "model_module_version": "1.5.0",
          "model_name": "DescriptionStyleModel",
          "state": {
            "_model_module": "@jupyter-widgets/controls",
            "_model_module_version": "1.5.0",
            "_model_name": "DescriptionStyleModel",
            "_view_count": null,
            "_view_module": "@jupyter-widgets/base",
            "_view_module_version": "1.2.0",
            "_view_name": "StyleView",
            "description_width": ""
          }
        },
        "df6fb91b35cb45ffad8ae4df55599e96": {
          "model_module": "@jupyter-widgets/base",
          "model_module_version": "1.2.0",
          "model_name": "LayoutModel",
          "state": {
            "_model_module": "@jupyter-widgets/base",
            "_model_module_version": "1.2.0",
            "_model_name": "LayoutModel",
            "_view_count": null,
            "_view_module": "@jupyter-widgets/base",
            "_view_module_version": "1.2.0",
            "_view_name": "LayoutView",
            "align_content": null,
            "align_items": null,
            "align_self": null,
            "border": null,
            "bottom": null,
            "display": null,
            "flex": null,
            "flex_flow": null,
            "grid_area": null,
            "grid_auto_columns": null,
            "grid_auto_flow": null,
            "grid_auto_rows": null,
            "grid_column": null,
            "grid_gap": null,
            "grid_row": null,
            "grid_template_areas": null,
            "grid_template_columns": null,
            "grid_template_rows": null,
            "height": null,
            "justify_content": null,
            "justify_items": null,
            "left": null,
            "margin": null,
            "max_height": null,
            "max_width": null,
            "min_height": null,
            "min_width": null,
            "object_fit": null,
            "object_position": null,
            "order": null,
            "overflow": null,
            "overflow_x": null,
            "overflow_y": null,
            "padding": null,
            "right": null,
            "top": null,
            "visibility": null,
            "width": null
          }
        },
        "dfdb84dd9d77416bbd2b4e45e132efd1": {
          "model_module": "@jupyter-widgets/controls",
          "model_module_version": "1.5.0",
          "model_name": "HBoxModel",
          "state": {
            "_dom_classes": [],
            "_model_module": "@jupyter-widgets/controls",
            "_model_module_version": "1.5.0",
            "_model_name": "HBoxModel",
            "_view_count": null,
            "_view_module": "@jupyter-widgets/controls",
            "_view_module_version": "1.5.0",
            "_view_name": "HBoxView",
            "box_style": "",
            "children": [
              "IPY_MODEL_a6a831d2f1494a9ab793c8d4786bc02b",
              "IPY_MODEL_3354a2296125478c958fbf7a0905626d",
              "IPY_MODEL_8b2e1222b7124daf913e8d6317fe41a3"
            ],
            "layout": "IPY_MODEL_bd4b96db1a0947fcb71ab610f8e1fb75"
          }
        },
        "e07d3200d4064849838517293bf06133": {
          "model_module": "@jupyter-widgets/base",
          "model_module_version": "1.2.0",
          "model_name": "LayoutModel",
          "state": {
            "_model_module": "@jupyter-widgets/base",
            "_model_module_version": "1.2.0",
            "_model_name": "LayoutModel",
            "_view_count": null,
            "_view_module": "@jupyter-widgets/base",
            "_view_module_version": "1.2.0",
            "_view_name": "LayoutView",
            "align_content": null,
            "align_items": null,
            "align_self": null,
            "border": null,
            "bottom": null,
            "display": null,
            "flex": null,
            "flex_flow": null,
            "grid_area": null,
            "grid_auto_columns": null,
            "grid_auto_flow": null,
            "grid_auto_rows": null,
            "grid_column": null,
            "grid_gap": null,
            "grid_row": null,
            "grid_template_areas": null,
            "grid_template_columns": null,
            "grid_template_rows": null,
            "height": null,
            "justify_content": null,
            "justify_items": null,
            "left": null,
            "margin": null,
            "max_height": null,
            "max_width": null,
            "min_height": null,
            "min_width": null,
            "object_fit": null,
            "object_position": null,
            "order": null,
            "overflow": null,
            "overflow_x": null,
            "overflow_y": null,
            "padding": null,
            "right": null,
            "top": null,
            "visibility": null,
            "width": null
          }
        },
        "e0e97113b74f46ac932c2c52590183c4": {
          "model_module": "@jupyter-widgets/controls",
          "model_module_version": "1.5.0",
          "model_name": "HBoxModel",
          "state": {
            "_dom_classes": [],
            "_model_module": "@jupyter-widgets/controls",
            "_model_module_version": "1.5.0",
            "_model_name": "HBoxModel",
            "_view_count": null,
            "_view_module": "@jupyter-widgets/controls",
            "_view_module_version": "1.5.0",
            "_view_name": "HBoxView",
            "box_style": "",
            "children": [
              "IPY_MODEL_639a78320ee24f29afcbff3b8a220c54",
              "IPY_MODEL_239f29236a114c83baf36b5d665f751c",
              "IPY_MODEL_d1c2a34f88054bc6a3e49f31eafe6e3b"
            ],
            "layout": "IPY_MODEL_2e28d4e23a7e426caa84a241ed8e256a"
          }
        },
        "e19755b325604608adfcd63ef62a8567": {
          "model_module": "@jupyter-widgets/base",
          "model_module_version": "1.2.0",
          "model_name": "LayoutModel",
          "state": {
            "_model_module": "@jupyter-widgets/base",
            "_model_module_version": "1.2.0",
            "_model_name": "LayoutModel",
            "_view_count": null,
            "_view_module": "@jupyter-widgets/base",
            "_view_module_version": "1.2.0",
            "_view_name": "LayoutView",
            "align_content": null,
            "align_items": null,
            "align_self": null,
            "border": null,
            "bottom": null,
            "display": null,
            "flex": null,
            "flex_flow": null,
            "grid_area": null,
            "grid_auto_columns": null,
            "grid_auto_flow": null,
            "grid_auto_rows": null,
            "grid_column": null,
            "grid_gap": null,
            "grid_row": null,
            "grid_template_areas": null,
            "grid_template_columns": null,
            "grid_template_rows": null,
            "height": null,
            "justify_content": null,
            "justify_items": null,
            "left": null,
            "margin": null,
            "max_height": null,
            "max_width": null,
            "min_height": null,
            "min_width": null,
            "object_fit": null,
            "object_position": null,
            "order": null,
            "overflow": null,
            "overflow_x": null,
            "overflow_y": null,
            "padding": null,
            "right": null,
            "top": null,
            "visibility": null,
            "width": null
          }
        },
        "e1d004ea89a44c17ad87ae5634b01369": {
          "model_module": "@jupyter-widgets/base",
          "model_module_version": "1.2.0",
          "model_name": "LayoutModel",
          "state": {
            "_model_module": "@jupyter-widgets/base",
            "_model_module_version": "1.2.0",
            "_model_name": "LayoutModel",
            "_view_count": null,
            "_view_module": "@jupyter-widgets/base",
            "_view_module_version": "1.2.0",
            "_view_name": "LayoutView",
            "align_content": null,
            "align_items": null,
            "align_self": null,
            "border": null,
            "bottom": null,
            "display": null,
            "flex": null,
            "flex_flow": null,
            "grid_area": null,
            "grid_auto_columns": null,
            "grid_auto_flow": null,
            "grid_auto_rows": null,
            "grid_column": null,
            "grid_gap": null,
            "grid_row": null,
            "grid_template_areas": null,
            "grid_template_columns": null,
            "grid_template_rows": null,
            "height": null,
            "justify_content": null,
            "justify_items": null,
            "left": null,
            "margin": null,
            "max_height": null,
            "max_width": null,
            "min_height": null,
            "min_width": null,
            "object_fit": null,
            "object_position": null,
            "order": null,
            "overflow": null,
            "overflow_x": null,
            "overflow_y": null,
            "padding": null,
            "right": null,
            "top": null,
            "visibility": null,
            "width": null
          }
        },
        "e363d49412bf4a42ba35b93074a02a4a": {
          "model_module": "@jupyter-widgets/base",
          "model_module_version": "1.2.0",
          "model_name": "LayoutModel",
          "state": {
            "_model_module": "@jupyter-widgets/base",
            "_model_module_version": "1.2.0",
            "_model_name": "LayoutModel",
            "_view_count": null,
            "_view_module": "@jupyter-widgets/base",
            "_view_module_version": "1.2.0",
            "_view_name": "LayoutView",
            "align_content": null,
            "align_items": null,
            "align_self": null,
            "border": null,
            "bottom": null,
            "display": null,
            "flex": null,
            "flex_flow": null,
            "grid_area": null,
            "grid_auto_columns": null,
            "grid_auto_flow": null,
            "grid_auto_rows": null,
            "grid_column": null,
            "grid_gap": null,
            "grid_row": null,
            "grid_template_areas": null,
            "grid_template_columns": null,
            "grid_template_rows": null,
            "height": null,
            "justify_content": null,
            "justify_items": null,
            "left": null,
            "margin": null,
            "max_height": null,
            "max_width": null,
            "min_height": null,
            "min_width": null,
            "object_fit": null,
            "object_position": null,
            "order": null,
            "overflow": null,
            "overflow_x": null,
            "overflow_y": null,
            "padding": null,
            "right": null,
            "top": null,
            "visibility": null,
            "width": null
          }
        },
        "e4caae1814f4432cb2cb070c12098882": {
          "model_module": "@jupyter-widgets/controls",
          "model_module_version": "1.5.0",
          "model_name": "DescriptionStyleModel",
          "state": {
            "_model_module": "@jupyter-widgets/controls",
            "_model_module_version": "1.5.0",
            "_model_name": "DescriptionStyleModel",
            "_view_count": null,
            "_view_module": "@jupyter-widgets/base",
            "_view_module_version": "1.2.0",
            "_view_name": "StyleView",
            "description_width": ""
          }
        },
        "e4f8c5d21626491bb24258d46600b9df": {
          "model_module": "@jupyter-widgets/controls",
          "model_module_version": "1.5.0",
          "model_name": "HTMLModel",
          "state": {
            "_dom_classes": [],
            "_model_module": "@jupyter-widgets/controls",
            "_model_module_version": "1.5.0",
            "_model_name": "HTMLModel",
            "_view_count": null,
            "_view_module": "@jupyter-widgets/controls",
            "_view_module_version": "1.5.0",
            "_view_name": "HTMLView",
            "description": "",
            "description_tooltip": null,
            "layout": "IPY_MODEL_689812d8bffa4a87802f03a963698030",
            "placeholder": "​",
            "style": "IPY_MODEL_b51a647d00084080a1ed9548dab44396",
            "value": "Downloading data: 100%"
          }
        },
        "e55aba251a8c463387cf4bd4ecc2b02a": {
          "model_module": "@jupyter-widgets/controls",
          "model_module_version": "1.5.0",
          "model_name": "HBoxModel",
          "state": {
            "_dom_classes": [],
            "_model_module": "@jupyter-widgets/controls",
            "_model_module_version": "1.5.0",
            "_model_name": "HBoxModel",
            "_view_count": null,
            "_view_module": "@jupyter-widgets/controls",
            "_view_module_version": "1.5.0",
            "_view_name": "HBoxView",
            "box_style": "",
            "children": [
              "IPY_MODEL_4c2c98d692cc4a1697dac6b4693e9ead",
              "IPY_MODEL_3c4445f3aca845bbbe4b04732f107afa",
              "IPY_MODEL_aab824d2551a4dfabb1758435ace8811"
            ],
            "layout": "IPY_MODEL_01d7576c81f947e2b161ff191b90e4e9"
          }
        },
        "e62b24a12b5c4f0e89e70cef4e5f5e22": {
          "model_module": "@jupyter-widgets/base",
          "model_module_version": "1.2.0",
          "model_name": "LayoutModel",
          "state": {
            "_model_module": "@jupyter-widgets/base",
            "_model_module_version": "1.2.0",
            "_model_name": "LayoutModel",
            "_view_count": null,
            "_view_module": "@jupyter-widgets/base",
            "_view_module_version": "1.2.0",
            "_view_name": "LayoutView",
            "align_content": null,
            "align_items": null,
            "align_self": null,
            "border": null,
            "bottom": null,
            "display": null,
            "flex": null,
            "flex_flow": null,
            "grid_area": null,
            "grid_auto_columns": null,
            "grid_auto_flow": null,
            "grid_auto_rows": null,
            "grid_column": null,
            "grid_gap": null,
            "grid_row": null,
            "grid_template_areas": null,
            "grid_template_columns": null,
            "grid_template_rows": null,
            "height": null,
            "justify_content": null,
            "justify_items": null,
            "left": null,
            "margin": null,
            "max_height": null,
            "max_width": null,
            "min_height": null,
            "min_width": null,
            "object_fit": null,
            "object_position": null,
            "order": null,
            "overflow": null,
            "overflow_x": null,
            "overflow_y": null,
            "padding": null,
            "right": null,
            "top": null,
            "visibility": null,
            "width": null
          }
        },
        "e79d57755adc44c99881879e1664717b": {
          "model_module": "@jupyter-widgets/controls",
          "model_module_version": "1.5.0",
          "model_name": "HTMLModel",
          "state": {
            "_dom_classes": [],
            "_model_module": "@jupyter-widgets/controls",
            "_model_module_version": "1.5.0",
            "_model_name": "HTMLModel",
            "_view_count": null,
            "_view_module": "@jupyter-widgets/controls",
            "_view_module_version": "1.5.0",
            "_view_name": "HTMLView",
            "description": "",
            "description_tooltip": null,
            "layout": "IPY_MODEL_d1c0ed04027d46008acb733797c3de60",
            "placeholder": "​",
            "style": "IPY_MODEL_8c78711c6a7c44ca9faac2dc9bc35f79",
            "value": " 9/9 [00:12&lt;00:00,  1.37s/it]"
          }
        },
        "e7ecc69560c04ee9aa8ca38966e88446": {
          "model_module": "@jupyter-widgets/controls",
          "model_module_version": "1.5.0",
          "model_name": "HBoxModel",
          "state": {
            "_dom_classes": [],
            "_model_module": "@jupyter-widgets/controls",
            "_model_module_version": "1.5.0",
            "_model_name": "HBoxModel",
            "_view_count": null,
            "_view_module": "@jupyter-widgets/controls",
            "_view_module_version": "1.5.0",
            "_view_name": "HBoxView",
            "box_style": "",
            "children": [
              "IPY_MODEL_2f2c45e5e6c44d85a2b87e49c9e66893",
              "IPY_MODEL_b7e6f9fab77a4db598e27f79cb38305b",
              "IPY_MODEL_0b3e8fcf0ad34035907d1382ba53b995"
            ],
            "layout": "IPY_MODEL_bfe1c1c158614537a238235eef3b2232"
          }
        },
        "e91ee7ba181743a08f057f3277d9f564": {
          "model_module": "@jupyter-widgets/controls",
          "model_module_version": "1.5.0",
          "model_name": "HBoxModel",
          "state": {
            "_dom_classes": [],
            "_model_module": "@jupyter-widgets/controls",
            "_model_module_version": "1.5.0",
            "_model_name": "HBoxModel",
            "_view_count": null,
            "_view_module": "@jupyter-widgets/controls",
            "_view_module_version": "1.5.0",
            "_view_name": "HBoxView",
            "box_style": "",
            "children": [
              "IPY_MODEL_5bf3c03e04ae4c20835a342f4b2af308",
              "IPY_MODEL_f8eaada99fd54f22b8f2ab237ef14d95",
              "IPY_MODEL_c36c1233c65b467abaaf80633191ba0d"
            ],
            "layout": "IPY_MODEL_9e236c1e08d942878de09da0ba2a5602"
          }
        },
        "e982ab40f3ac4e229f8b2ddcc69ee061": {
          "model_module": "@jupyter-widgets/controls",
          "model_module_version": "1.5.0",
          "model_name": "ProgressStyleModel",
          "state": {
            "_model_module": "@jupyter-widgets/controls",
            "_model_module_version": "1.5.0",
            "_model_name": "ProgressStyleModel",
            "_view_count": null,
            "_view_module": "@jupyter-widgets/base",
            "_view_module_version": "1.2.0",
            "_view_name": "StyleView",
            "bar_color": null,
            "description_width": ""
          }
        },
        "ea39a49049124b8897da56ba0423b8ba": {
          "model_module": "@jupyter-widgets/controls",
          "model_module_version": "1.5.0",
          "model_name": "DescriptionStyleModel",
          "state": {
            "_model_module": "@jupyter-widgets/controls",
            "_model_module_version": "1.5.0",
            "_model_name": "DescriptionStyleModel",
            "_view_count": null,
            "_view_module": "@jupyter-widgets/base",
            "_view_module_version": "1.2.0",
            "_view_name": "StyleView",
            "description_width": ""
          }
        },
        "ebdb98998d724ece81f555399e5893d6": {
          "model_module": "@jupyter-widgets/base",
          "model_module_version": "1.2.0",
          "model_name": "LayoutModel",
          "state": {
            "_model_module": "@jupyter-widgets/base",
            "_model_module_version": "1.2.0",
            "_model_name": "LayoutModel",
            "_view_count": null,
            "_view_module": "@jupyter-widgets/base",
            "_view_module_version": "1.2.0",
            "_view_name": "LayoutView",
            "align_content": null,
            "align_items": null,
            "align_self": null,
            "border": null,
            "bottom": null,
            "display": null,
            "flex": null,
            "flex_flow": null,
            "grid_area": null,
            "grid_auto_columns": null,
            "grid_auto_flow": null,
            "grid_auto_rows": null,
            "grid_column": null,
            "grid_gap": null,
            "grid_row": null,
            "grid_template_areas": null,
            "grid_template_columns": null,
            "grid_template_rows": null,
            "height": null,
            "justify_content": null,
            "justify_items": null,
            "left": null,
            "margin": null,
            "max_height": null,
            "max_width": null,
            "min_height": null,
            "min_width": null,
            "object_fit": null,
            "object_position": null,
            "order": null,
            "overflow": null,
            "overflow_x": null,
            "overflow_y": null,
            "padding": null,
            "right": null,
            "top": null,
            "visibility": null,
            "width": null
          }
        },
        "ec82dbadade048839b527c21d8222c63": {
          "model_module": "@jupyter-widgets/controls",
          "model_module_version": "1.5.0",
          "model_name": "DescriptionStyleModel",
          "state": {
            "_model_module": "@jupyter-widgets/controls",
            "_model_module_version": "1.5.0",
            "_model_name": "DescriptionStyleModel",
            "_view_count": null,
            "_view_module": "@jupyter-widgets/base",
            "_view_module_version": "1.2.0",
            "_view_name": "StyleView",
            "description_width": ""
          }
        },
        "ee7a9349fa9746c1be06fa99bf3659bf": {
          "model_module": "@jupyter-widgets/base",
          "model_module_version": "1.2.0",
          "model_name": "LayoutModel",
          "state": {
            "_model_module": "@jupyter-widgets/base",
            "_model_module_version": "1.2.0",
            "_model_name": "LayoutModel",
            "_view_count": null,
            "_view_module": "@jupyter-widgets/base",
            "_view_module_version": "1.2.0",
            "_view_name": "LayoutView",
            "align_content": null,
            "align_items": null,
            "align_self": null,
            "border": null,
            "bottom": null,
            "display": null,
            "flex": null,
            "flex_flow": null,
            "grid_area": null,
            "grid_auto_columns": null,
            "grid_auto_flow": null,
            "grid_auto_rows": null,
            "grid_column": null,
            "grid_gap": null,
            "grid_row": null,
            "grid_template_areas": null,
            "grid_template_columns": null,
            "grid_template_rows": null,
            "height": null,
            "justify_content": null,
            "justify_items": null,
            "left": null,
            "margin": null,
            "max_height": null,
            "max_width": null,
            "min_height": null,
            "min_width": null,
            "object_fit": null,
            "object_position": null,
            "order": null,
            "overflow": null,
            "overflow_x": null,
            "overflow_y": null,
            "padding": null,
            "right": null,
            "top": null,
            "visibility": null,
            "width": null
          }
        },
        "f2c131cc692b46cf99ca99150c2cb37f": {
          "model_module": "@jupyter-widgets/controls",
          "model_module_version": "1.5.0",
          "model_name": "HTMLModel",
          "state": {
            "_dom_classes": [],
            "_model_module": "@jupyter-widgets/controls",
            "_model_module_version": "1.5.0",
            "_model_name": "HTMLModel",
            "_view_count": null,
            "_view_module": "@jupyter-widgets/controls",
            "_view_module_version": "1.5.0",
            "_view_name": "HTMLView",
            "description": "",
            "description_tooltip": null,
            "layout": "IPY_MODEL_bf054d68d2bd469ab15212c05114a023",
            "placeholder": "​",
            "style": "IPY_MODEL_24ac31ce7ce44d8ea5a8014ba0a9731b",
            "value": " 429M/429M [00:07&lt;00:00, 59.6MB/s]"
          }
        },
        "f4df9095ee674a16a9de189f7d8bdf17": {
          "model_module": "@jupyter-widgets/controls",
          "model_module_version": "1.5.0",
          "model_name": "HBoxModel",
          "state": {
            "_dom_classes": [],
            "_model_module": "@jupyter-widgets/controls",
            "_model_module_version": "1.5.0",
            "_model_name": "HBoxModel",
            "_view_count": null,
            "_view_module": "@jupyter-widgets/controls",
            "_view_module_version": "1.5.0",
            "_view_name": "HBoxView",
            "box_style": "",
            "children": [
              "IPY_MODEL_9eeea9557c9f4f4eb0970d40a11e8fcd",
              "IPY_MODEL_50708f670c1447f1b8d15fe1262ac821",
              "IPY_MODEL_42eb5aa1201e46c5a23929614a440f7e"
            ],
            "layout": "IPY_MODEL_caf9e3e46dbe4e97bf585caf20a8c842"
          }
        },
        "f633eec643f74bbba07f5ac18643470f": {
          "model_module": "@jupyter-widgets/controls",
          "model_module_version": "1.5.0",
          "model_name": "HBoxModel",
          "state": {
            "_dom_classes": [],
            "_model_module": "@jupyter-widgets/controls",
            "_model_module_version": "1.5.0",
            "_model_name": "HBoxModel",
            "_view_count": null,
            "_view_module": "@jupyter-widgets/controls",
            "_view_module_version": "1.5.0",
            "_view_name": "HBoxView",
            "box_style": "",
            "children": [
              "IPY_MODEL_e4f8c5d21626491bb24258d46600b9df",
              "IPY_MODEL_1b45129acd5948828df0950c6a93668e",
              "IPY_MODEL_796000c283f64a6184bff22e626e3a0f"
            ],
            "layout": "IPY_MODEL_6f342e5c08bf48e7ab67cfff12d7d8ab"
          }
        },
        "f8eaada99fd54f22b8f2ab237ef14d95": {
          "model_module": "@jupyter-widgets/controls",
          "model_module_version": "1.5.0",
          "model_name": "FloatProgressModel",
          "state": {
            "_dom_classes": [],
            "_model_module": "@jupyter-widgets/controls",
            "_model_module_version": "1.5.0",
            "_model_name": "FloatProgressModel",
            "_view_count": null,
            "_view_module": "@jupyter-widgets/controls",
            "_view_module_version": "1.5.0",
            "_view_name": "ProgressView",
            "bar_style": "success",
            "description": "",
            "description_tooltip": null,
            "layout": "IPY_MODEL_ee7a9349fa9746c1be06fa99bf3659bf",
            "max": 401686652,
            "min": 0,
            "orientation": "horizontal",
            "style": "IPY_MODEL_fa06c31ae28f4e74bf8ba8a76b3a19ae",
            "value": 401686652
          }
        },
        "fa06c31ae28f4e74bf8ba8a76b3a19ae": {
          "model_module": "@jupyter-widgets/controls",
          "model_module_version": "1.5.0",
          "model_name": "ProgressStyleModel",
          "state": {
            "_model_module": "@jupyter-widgets/controls",
            "_model_module_version": "1.5.0",
            "_model_name": "ProgressStyleModel",
            "_view_count": null,
            "_view_module": "@jupyter-widgets/base",
            "_view_module_version": "1.2.0",
            "_view_name": "StyleView",
            "bar_color": null,
            "description_width": ""
          }
        },
        "fcb4b1afe78148fdb83afb3cd701261a": {
          "model_module": "@jupyter-widgets/controls",
          "model_module_version": "1.5.0",
          "model_name": "DescriptionStyleModel",
          "state": {
            "_model_module": "@jupyter-widgets/controls",
            "_model_module_version": "1.5.0",
            "_model_name": "DescriptionStyleModel",
            "_view_count": null,
            "_view_module": "@jupyter-widgets/base",
            "_view_module_version": "1.2.0",
            "_view_name": "StyleView",
            "description_width": ""
          }
        },
        "fd103e6123aa4eb09e502368c4ba1494": {
          "model_module": "@jupyter-widgets/controls",
          "model_module_version": "1.5.0",
          "model_name": "DescriptionStyleModel",
          "state": {
            "_model_module": "@jupyter-widgets/controls",
            "_model_module_version": "1.5.0",
            "_model_name": "DescriptionStyleModel",
            "_view_count": null,
            "_view_module": "@jupyter-widgets/base",
            "_view_module_version": "1.2.0",
            "_view_name": "StyleView",
            "description_width": ""
          }
        },
        "fdab039f166043488f35bce9968f0199": {
          "model_module": "@jupyter-widgets/controls",
          "model_module_version": "1.5.0",
          "model_name": "DescriptionStyleModel",
          "state": {
            "_model_module": "@jupyter-widgets/controls",
            "_model_module_version": "1.5.0",
            "_model_name": "DescriptionStyleModel",
            "_view_count": null,
            "_view_module": "@jupyter-widgets/base",
            "_view_module_version": "1.2.0",
            "_view_name": "StyleView",
            "description_width": ""
          }
        }
      }
    }
  },
  "nbformat": 4,
  "nbformat_minor": 0
}
