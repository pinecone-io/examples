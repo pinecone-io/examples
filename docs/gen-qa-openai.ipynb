{
 "cells": [
  {
   "cell_type": "markdown",
   "metadata": {
    "id": "SMFUgtvbFeLQ"
   },
   "source": [
    "[![Open In Colab](https://colab.research.google.com/assets/colab-badge.svg)](https://colab.research.google.com/github/pinecone-io/examples/blob/master/docs/gen-qa-openai.ipynb) [![Open nbviewer](https://raw.githubusercontent.com/pinecone-io/examples/master/assets/nbviewer-shield.svg)](https://nbviewer.org/github/pinecone-io/examples/blob/master/docs/gen-qa-openai.ipynb)"
   ]
  },
  {
   "cell_type": "markdown",
   "metadata": {
    "id": "v0to-QXCQjsm"
   },
   "source": [
    "# Retrieval Enhanced Generative Question Answering with OpenAI\n",
    "\n",
    "#### Fixing LLMs that Hallucinate\n",
    "\n",
    "In this notebook we will learn how to query relevant contexts to our queries from Pinecone, and pass these to a generative OpenAI model to generate an answer backed by real data sources. Required installs for this notebook are:"
   ]
  },
  {
   "cell_type": "code",
   "execution_count": 1,
   "metadata": {
    "colab": {
     "base_uri": "https://localhost:8080/"
    },
    "id": "VpMvHAYRQf9N",
    "outputId": "42705370-c5bf-417b-fe8a-3f6d0fe28fbb"
   },
   "outputs": [],
   "source": [
    "!pip install -qU \\\n",
    "    openai==1.66.3 \\\n",
    "    pinecone==6.0.2 \\\n",
    "    pinecone-datasets==1.0.2 \\\n",
    "    pinecone-notebooks==0.1.1 \\\n",
    "    tqdm"
   ]
  },
  {
   "cell_type": "markdown",
   "metadata": {
    "id": "NhWnLkHqmeWI"
   },
   "source": [
    "---\n",
    "\n",
    "## Building a Knowledge Base\n",
    "\n",
    "Building more reliable LLMs tools requires an external _\"Knowledge Base\"_, a place where we can store and use to efficiently retrieve information. We can think of this as the external _long-term memory_ of our LLM.\n",
    "\n",
    "We will need to retrieve information that is semantically related to our queries, to do this we need to use _\"dense vector embeddings\"_. These can be thought of as numerical representations of the *meaning* behind our sentences.\n",
    "\n",
    "There are many options for creating these dense vectors, like open source [sentence transformers](https://pinecone.io/learn/nlp/) or OpenAI's [ada-002 model](https://youtu.be/ocxq84ocYi0). We will use OpenAI's offering in this example.\n",
    "\n",
    "### Demo Data: Youtube Transcripts\n",
    "\n",
    "We have already precomputed the embeddings here to speed things up. If you'd like to work through the full process however, check out [this notebook](https://github.com/pinecone-io/examples/blob/master/learn/generation/openai/gen-qa-openai.ipynb).\n",
    "\n",
    "To download our precomputed embeddings we use Pinecone datasets:"
   ]
  },
  {
   "cell_type": "code",
   "execution_count": 2,
   "metadata": {
    "colab": {
     "base_uri": "https://localhost:8080/",
     "height": 206
    },
    "id": "EI2iYxq16or9",
    "outputId": "55a8dd92-34e1-4237-a5c4-76016346999d"
   },
   "outputs": [
    {
     "name": "stderr",
     "output_type": "stream",
     "text": [
      "Loading documents parquet files: 100%|██████████| 1/1 [00:34<00:00, 34.11s/it]\n"
     ]
    },
    {
     "data": {
      "text/html": [
       "<div>\n",
       "<style scoped>\n",
       "    .dataframe tbody tr th:only-of-type {\n",
       "        vertical-align: middle;\n",
       "    }\n",
       "\n",
       "    .dataframe tbody tr th {\n",
       "        vertical-align: top;\n",
       "    }\n",
       "\n",
       "    .dataframe thead th {\n",
       "        text-align: right;\n",
       "    }\n",
       "</style>\n",
       "<table border=\"1\" class=\"dataframe\">\n",
       "  <thead>\n",
       "    <tr style=\"text-align: right;\">\n",
       "      <th></th>\n",
       "      <th>id</th>\n",
       "      <th>values</th>\n",
       "      <th>sparse_values</th>\n",
       "      <th>metadata</th>\n",
       "    </tr>\n",
       "  </thead>\n",
       "  <tbody>\n",
       "    <tr>\n",
       "      <th>0</th>\n",
       "      <td>35Pdoyi6ZoQ-t0.0</td>\n",
       "      <td>[-0.010402066633105278, -0.018359748646616936,...</td>\n",
       "      <td>None</td>\n",
       "      <td>{'channel_id': 'UCv83tO5cePwHMt1952IVVHw', 'en...</td>\n",
       "    </tr>\n",
       "    <tr>\n",
       "      <th>1</th>\n",
       "      <td>35Pdoyi6ZoQ-t18.48</td>\n",
       "      <td>[-0.011849376372992992, 0.0007984379190020263,...</td>\n",
       "      <td>None</td>\n",
       "      <td>{'channel_id': 'UCv83tO5cePwHMt1952IVVHw', 'en...</td>\n",
       "    </tr>\n",
       "    <tr>\n",
       "      <th>2</th>\n",
       "      <td>35Pdoyi6ZoQ-t32.36</td>\n",
       "      <td>[-0.014534404501318932, -0.0003158661129418760...</td>\n",
       "      <td>None</td>\n",
       "      <td>{'channel_id': 'UCv83tO5cePwHMt1952IVVHw', 'en...</td>\n",
       "    </tr>\n",
       "    <tr>\n",
       "      <th>3</th>\n",
       "      <td>35Pdoyi6ZoQ-t51.519999999999996</td>\n",
       "      <td>[-0.011597747914493084, -0.007550035137683153,...</td>\n",
       "      <td>None</td>\n",
       "      <td>{'channel_id': 'UCv83tO5cePwHMt1952IVVHw', 'en...</td>\n",
       "    </tr>\n",
       "    <tr>\n",
       "      <th>4</th>\n",
       "      <td>35Pdoyi6ZoQ-t67.28</td>\n",
       "      <td>[-0.015879768878221512, 0.0030445053707808256,...</td>\n",
       "      <td>None</td>\n",
       "      <td>{'channel_id': 'UCv83tO5cePwHMt1952IVVHw', 'en...</td>\n",
       "    </tr>\n",
       "  </tbody>\n",
       "</table>\n",
       "</div>"
      ],
      "text/plain": [
       "                                id  \\\n",
       "0                 35Pdoyi6ZoQ-t0.0   \n",
       "1               35Pdoyi6ZoQ-t18.48   \n",
       "2               35Pdoyi6ZoQ-t32.36   \n",
       "3  35Pdoyi6ZoQ-t51.519999999999996   \n",
       "4               35Pdoyi6ZoQ-t67.28   \n",
       "\n",
       "                                              values sparse_values  \\\n",
       "0  [-0.010402066633105278, -0.018359748646616936,...          None   \n",
       "1  [-0.011849376372992992, 0.0007984379190020263,...          None   \n",
       "2  [-0.014534404501318932, -0.0003158661129418760...          None   \n",
       "3  [-0.011597747914493084, -0.007550035137683153,...          None   \n",
       "4  [-0.015879768878221512, 0.0030445053707808256,...          None   \n",
       "\n",
       "                                            metadata  \n",
       "0  {'channel_id': 'UCv83tO5cePwHMt1952IVVHw', 'en...  \n",
       "1  {'channel_id': 'UCv83tO5cePwHMt1952IVVHw', 'en...  \n",
       "2  {'channel_id': 'UCv83tO5cePwHMt1952IVVHw', 'en...  \n",
       "3  {'channel_id': 'UCv83tO5cePwHMt1952IVVHw', 'en...  \n",
       "4  {'channel_id': 'UCv83tO5cePwHMt1952IVVHw', 'en...  "
      ]
     },
     "execution_count": 2,
     "metadata": {},
     "output_type": "execute_result"
    }
   ],
   "source": [
    "from pinecone_datasets import load_dataset\n",
    "\n",
    "dataset = load_dataset('youtube-transcripts-text-embedding-ada-002')\n",
    "\n",
    "# We drop empty 'metadata' column\n",
    "dataset.documents.drop(['metadata'], axis=1, inplace=True)\n",
    "# Rename the 'blob' column to 'metadata'\n",
    "dataset.documents.rename(columns={'blob': 'metadata'}, inplace=True)\n",
    "\n",
    "# View a few records\n",
    "dataset.head()\n"
   ]
  },
  {
   "cell_type": "markdown",
   "metadata": {},
   "source": [
    "Let's take a closer look at one of these rows"
   ]
  },
  {
   "cell_type": "code",
   "execution_count": 3,
   "metadata": {},
   "outputs": [
    {
     "data": {
      "text/plain": [
       "{'id': '35Pdoyi6ZoQ-t0.0',\n",
       " 'values': array([-0.01040207, -0.01835975, -0.00418702, ...,  0.00098548,\n",
       "        -0.03338869,  0.00290606], shape=(1536,)),\n",
       " 'sparse_values': None,\n",
       " 'metadata': {'channel_id': 'UCv83tO5cePwHMt1952IVVHw',\n",
       "  'end': 74,\n",
       "  'published': '2021-07-06 13:00:03 UTC',\n",
       "  'start': 0,\n",
       "  'text': \"Hi, welcome to the video. So this is the fourth video in a Transformers from Scratch mini series. So if you haven't been following along, we've essentially covered what you can see on the screen. So we got some data. We built a tokenizer with it. And then we've set up our input pipeline ready to begin actually training our model, which is what we're going to cover in this video. So let's move over to the code. And we see here that we have essentially everything we've done so far. So we've built our input data, our input pipeline. And we're now at a point where we have a data loader, PyTorch data loader, ready. And we can begin training a model with it. So there are a few things to be aware of. So I mean, first, let's just have a quick look at the structure of our data.\",\n",
       "  'title': 'Training and Testing an Italian BERT - Transformers From Scratch #4',\n",
       "  'url': 'https://youtu.be/35Pdoyi6ZoQ'}}"
      ]
     },
     "execution_count": 3,
     "metadata": {},
     "output_type": "execute_result"
    }
   ],
   "source": [
    "row1 = dataset.documents.iloc[0:1].to_dict(orient=\"records\")[0]\n",
    "row1"
   ]
  },
  {
   "cell_type": "code",
   "execution_count": 4,
   "metadata": {},
   "outputs": [
    {
     "name": "stdout",
     "output_type": "stream",
     "text": [
      "The embeddings in this dataset have dimension 1536\n"
     ]
    }
   ],
   "source": [
    "dimension = len(row1['values'])\n",
    "print(f\"The embeddings in this dataset have dimension {dimension}\")"
   ]
  },
  {
   "cell_type": "markdown",
   "metadata": {
    "id": "VMyJjt1cnwcH"
   },
   "source": [
    "Now we need a place to store these embeddings and enable a efficient _vector search_ through them all. To do that we use Pinecone."
   ]
  },
  {
   "cell_type": "markdown",
   "metadata": {
    "id": "Lfd9lu6JbwoF"
   },
   "source": [
    "## Creating an Index\n",
    "\n",
    "Now the data is ready, we can set up our index to store it.\n",
    "\n",
    "We begin by instantiating a Pinecone client. To do this we need a [free API key](https://app.pinecone.io)."
   ]
  },
  {
   "cell_type": "code",
   "execution_count": 5,
   "metadata": {},
   "outputs": [],
   "source": [
    "import os\n",
    "\n",
    "if not os.environ.get(\"PINECONE_API_KEY\"):\n",
    "    from pinecone_notebooks.colab import Authenticate\n",
    "    Authenticate()"
   ]
  },
  {
   "cell_type": "code",
   "execution_count": 6,
   "metadata": {
    "id": "KPXw1sEubwoF"
   },
   "outputs": [],
   "source": [
    "from pinecone import Pinecone\n",
    "\n",
    "api_key = os.environ.get(\"PINECONE_API_KEY\")\n",
    "\n",
    "# Configure client\n",
    "pc = Pinecone(api_key=api_key)"
   ]
  },
  {
   "cell_type": "code",
   "execution_count": 7,
   "metadata": {
    "colab": {
     "base_uri": "https://localhost:8080/"
    },
    "id": "UPNwQTH0RNcl",
    "outputId": "954a84ba-cc9c-4796-fd12-28920024470c"
   },
   "outputs": [
    {
     "data": {
      "text/plain": [
       "{'dimension': 1536,\n",
       " 'index_fullness': 0.0,\n",
       " 'metric': 'cosine',\n",
       " 'namespaces': {},\n",
       " 'total_vector_count': 0,\n",
       " 'vector_type': 'dense'}"
      ]
     },
     "execution_count": 7,
     "metadata": {},
     "output_type": "execute_result"
    }
   ],
   "source": [
    "from pinecone import ServerlessSpec\n",
    "\n",
    "index_name = 'gen-qa-openai-fast'\n",
    "\n",
    "# Check if index already exists (it shouldn't if this is first time running this demo)\n",
    "if not pc.has_index(name=index_name):\n",
    "    # If does not exist, create index\n",
    "    pc.create_index(\n",
    "        name=index_name,\n",
    "        dimension=dimension, # dimensionality of text-embedding-ada-002\n",
    "        metric='cosine',\n",
    "        spec=ServerlessSpec(\n",
    "            cloud='aws', \n",
    "            region='us-east-1'\n",
    "        )\n",
    "    )\n",
    "\n",
    "# Instantiate an index client\n",
    "index = pc.Index(name=index_name)\n",
    "\n",
    "# View index stats of our new, empty index\n",
    "index.describe_index_stats()"
   ]
  },
  {
   "cell_type": "markdown",
   "metadata": {
    "id": "nELBmqxxzeqL"
   },
   "source": [
    "We can see the index is currently empty with a `total_vector_count` of `0`. \n",
    "\n",
    "We can begin populating it with OpenAI `text-embedding-ada-002` built embeddings like so:"
   ]
  },
  {
   "cell_type": "code",
   "execution_count": 15,
   "metadata": {
    "id": "vPb9liovzrc8"
   },
   "outputs": [
    {
     "name": "stderr",
     "output_type": "stream",
     "text": [
      "Upserting records batch: 100%|██████████| 390/390 [05:45<00:00,  1.13it/s]\n"
     ]
    }
   ],
   "source": [
    "from tqdm import tqdm\n",
    "\n",
    "batch_size = 100\n",
    "\n",
    "for start in tqdm(range(0, len(dataset.documents), batch_size), \"Upserting records batch\"):\n",
    "    batch = dataset.documents.iloc[start:start + batch_size].to_dict(orient=\"records\")\n",
    "    index.upsert(vectors=batch)\n"
   ]
  },
  {
   "cell_type": "markdown",
   "metadata": {
    "id": "2yiF91IbyGYo"
   },
   "source": [
    "Now we've added all of our youtube transcripts and their embeddings to the index. With that we can move on to retrieval and then answer generation."
   ]
  },
  {
   "cell_type": "markdown",
   "metadata": {
    "id": "VfP0TQVeG1hO"
   },
   "source": [
    "## Retrieval with Pinecone"
   ]
  },
  {
   "cell_type": "markdown",
   "metadata": {
    "id": "kXXYoANbG13a"
   },
   "source": [
    "To search through our documents we first need to create a query vector `xq`. Then, using `xq` we will retrieve the most relevant chunks from our index. \n",
    "\n",
    "To create that query vector we will again use OpenAI's `text-embedding-ada-002` model. For this, you need an [OpenAI API key](https://platform.openai.com/)."
   ]
  },
  {
   "cell_type": "code",
   "execution_count": 16,
   "metadata": {
    "id": "LF1U_yZGojRJ"
   },
   "outputs": [],
   "source": [
    "def create_embedding(query):\n",
    "    from openai import OpenAI\n",
    "\n",
    "    # Get OpenAI api key from platform.openai.com\n",
    "    openai_api_key = os.getenv('OPENAI_API_KEY') or 'sk-...'\n",
    "\n",
    "    # Instantiate the OpenAI client\n",
    "    client = OpenAI(api_key=openai_api_key)\n",
    "\n",
    "    # Create an embedding\n",
    "    res = client.embeddings.create(\n",
    "      model=\"text-embedding-ada-002\",\n",
    "      input=[query],\n",
    "    )\n",
    "    return res.data[0].embedding"
   ]
  },
  {
   "cell_type": "code",
   "execution_count": 18,
   "metadata": {},
   "outputs": [
    {
     "data": {
      "text/plain": [
       "{'matches': [{'id': 'pNvujJ1XyeQ-t418.88',\n",
       "              'metadata': {'channel_id': 'UCv83tO5cePwHMt1952IVVHw',\n",
       "                           'end': 568.0,\n",
       "                           'published': '2021-11-24 16:24:24 UTC',\n",
       "                           'start': 418.0,\n",
       "                           'text': 'pairs of related sentences you can go '\n",
       "                                   'ahead and actually try training or '\n",
       "                                   'fine-tuning using NLI with multiple '\n",
       "                                   \"negative ranking loss. If you don't have \"\n",
       "                                   'that fine. Another option is that you have '\n",
       "                                   'a semantic textual similarity data set or '\n",
       "                                   'STS and what this is is you have so you '\n",
       "                                   'have sentence A here, sentence B here and '\n",
       "                                   'then you have a score from from 0 to 1 '\n",
       "                                   'that tells you the similarity between '\n",
       "                                   'those two scores and you would train this '\n",
       "                                   'using something like cosine similarity '\n",
       "                                   \"loss. Now if that's not an option and your \"\n",
       "                                   'focus or use case is on building a '\n",
       "                                   'sentence transformer for another language '\n",
       "                                   'where there is no current sentence '\n",
       "                                   'transformer you can use multilingual '\n",
       "                                   'parallel data. So what I mean by that is '\n",
       "                                   'so parallel data just means translation '\n",
       "                                   'pairs so if you have for example a English '\n",
       "                                   'sentence and then you have another '\n",
       "                                   'language here so it can it can be anything '\n",
       "                                   \"I'm just going to put XX and that XX is \"\n",
       "                                   'your target language you can fine-tune a '\n",
       "                                   'model using something called multilingual '\n",
       "                                   'knowledge distillation and what that does '\n",
       "                                   'is takes a monolingual model for example '\n",
       "                                   'in English and using those translation '\n",
       "                                   'pairs it distills the knowledge the '\n",
       "                                   'semantic similarity knowledge from that '\n",
       "                                   'monolingual English model into a '\n",
       "                                   'multilingual model which can handle both '\n",
       "                                   'English and your target language. So '\n",
       "                                   \"they're three options quite popular very \"\n",
       "                                   'common that you can go for and as a '\n",
       "                                   'supervised methods the chances are that '\n",
       "                                   'probably going to outperform anything you '\n",
       "                                   'do with unsupervised training at least for '\n",
       "                                   'now. So if none of those sound like '\n",
       "                                   'something',\n",
       "                           'title': 'Today Unsupervised Sentence Transformers, '\n",
       "                                    'Tomorrow Skynet (how TSDAE works)',\n",
       "                           'url': 'https://youtu.be/pNvujJ1XyeQ'},\n",
       "              'score': 0.865188,\n",
       "              'values': []},\n",
       "             {'id': 'WS1uVMGhlWQ-t747.92',\n",
       "              'metadata': {'channel_id': 'UCv83tO5cePwHMt1952IVVHw',\n",
       "                           'end': 906.0,\n",
       "                           'published': '2021-10-20 17:06:20 UTC',\n",
       "                           'start': 747.0,\n",
       "                           'text': \"pooling approach. Or we can't use it in \"\n",
       "                                   'its current form. Now the solution to this '\n",
       "                                   'problem was introduced by two people in '\n",
       "                                   '2019 Nils Reimers and Irenia Gurevich. '\n",
       "                                   'They introduced what is the first sentence '\n",
       "                                   'transformer or sentence BERT. And it was '\n",
       "                                   'found that sentence BERT or S BERT '\n",
       "                                   'outformed all of the previous Save the Art '\n",
       "                                   'models on pretty much all benchmarks. Not '\n",
       "                                   'all of them but most of them. And it did '\n",
       "                                   'it in a very quick time. So if we compare '\n",
       "                                   'it to BERT, if we wanted to find the most '\n",
       "                                   'similar sentence pair from 10,000 '\n",
       "                                   'sentences in that 2019 paper they found '\n",
       "                                   'that with BERT that took 65 hours. With S '\n",
       "                                   'BERT embeddings they could create all the '\n",
       "                                   'embeddings in just around five seconds. '\n",
       "                                   'And then they could compare all those with '\n",
       "                                   \"cosine similarity in 0.01 seconds. So it's \"\n",
       "                                   'a lot faster. We go from 65 hours to just '\n",
       "                                   'over five seconds which is I think pretty '\n",
       "                                   \"incredible. Now I think that's pretty much \"\n",
       "                                   'all the context we need behind sentence '\n",
       "                                   'transformers. And what we do now is dive '\n",
       "                                   'into a little bit of how they actually '\n",
       "                                   'work. Now we said before we have the core '\n",
       "                                   'transform models and what S BERT does is '\n",
       "                                   'fine tunes on sentence pairs using what is '\n",
       "                                   'called a Siamese architecture or Siamese '\n",
       "                                   'network. What we mean by a Siamese network '\n",
       "                                   'is that we have what we can see, what can '\n",
       "                                   'view as two BERT models that are identical '\n",
       "                                   'and the weights between those two models '\n",
       "                                   'are tied. Now in reality when implementing '\n",
       "                                   'this we just use a single BERT model. And '\n",
       "                                   'what we do is we process one sentence, a '\n",
       "                                   'sentence A through the model and then we '\n",
       "                                   'process another sentence, sentence B '\n",
       "                                   \"through the model. And that's the sentence \"\n",
       "                                   'pair. So with our cross-linked we were '\n",
       "                                   'processing the sentence pair together. We '\n",
       "                                   'were putting them both together, '\n",
       "                                   'processing them all at once. This time we '\n",
       "                                   'process them separately. And during '\n",
       "                                   'training what happens is the weights '\n",
       "                                   'within BERT are optimized to reduce the '\n",
       "                                   'difference between two vector embeddings '\n",
       "                                   'or two sentence',\n",
       "                           'title': 'Intro to Sentence Embeddings with '\n",
       "                                    'Transformers',\n",
       "                           'url': 'https://youtu.be/WS1uVMGhlWQ'},\n",
       "              'score': 0.863455892,\n",
       "              'values': []}],\n",
       " 'namespace': '',\n",
       " 'usage': {'read_units': 6}}"
      ]
     },
     "execution_count": 18,
     "metadata": {},
     "output_type": "execute_result"
    }
   ],
   "source": [
    "query = (\n",
    "    \"Which training method should I use for sentence transformers when \" +\n",
    "    \"I only have pairs of related sentences?\"\n",
    ")\n",
    "\n",
    "xq = create_embedding(query)\n",
    "\n",
    "# Retrieve from Pinecone\n",
    "# Get relevant contexts (including the questions)\n",
    "query_results = index.query(vector=xq, top_k=2, include_metadata=True)\n",
    "query_results"
   ]
  },
  {
   "cell_type": "markdown",
   "metadata": {
    "id": "A5dDWPGoIrd9"
   },
   "source": [
    "## Building a chat completion prompt with relevant context\n",
    "\n",
    "Next, we write some functions to retrieve these relevant contexts from Pinecone and incorporate them into a richer chat completion prompt."
   ]
  },
  {
   "cell_type": "code",
   "execution_count": 19,
   "metadata": {
    "id": "92NmGGJ1TKQp"
   },
   "outputs": [],
   "source": [
    "def retrieval_augmented_prompt(query):\n",
    "    context_limit = 3750\n",
    "    xq = create_embedding(query)\n",
    "\n",
    "    # Get relevant contexts\n",
    "    query_results = index.query(vector=xq, top_k=3, include_metadata=True)\n",
    "    contexts = [\n",
    "        x.metadata['text'] for x in query_results.matches\n",
    "    ]\n",
    "\n",
    "    # Build our prompt with the retrieved contexts included\n",
    "    prompt_start = (\n",
    "        \"Answer the question based on the context below.\\n\\n\"+\n",
    "        \"Context:\\n\"\n",
    "    )\n",
    "    prompt_end = (\n",
    "        f\"\\n\\nQuestion: {query}\\nAnswer:\"\n",
    "    )\n",
    "    context_separator = \"\\n\\n---\\n\\n\"\n",
    "\n",
    "    # Join contexts and trim to fit within limit\n",
    "    combined_contexts = []\n",
    "    total_length = 0\n",
    "    \n",
    "    for context in contexts:\n",
    "        new_length = total_length + len(context) + len(context_separator)\n",
    "        if new_length >= context_limit:\n",
    "            break\n",
    "        combined_contexts.append(context)\n",
    "        total_length = new_length\n",
    "    \n",
    "    return prompt_start + context_separator.join(combined_contexts) + prompt_end"
   ]
  },
  {
   "cell_type": "code",
   "execution_count": 20,
   "metadata": {
    "colab": {
     "base_uri": "https://localhost:8080/",
     "height": 178
    },
    "id": "LwsZuxiTvU2d",
    "outputId": "33b465e7-360b-442c-8dbc-3359fd3ea50b"
   },
   "outputs": [
    {
     "name": "stdout",
     "output_type": "stream",
     "text": [
      "Answer the question based on the context below.\n",
      "\n",
      "Context:\n",
      "pairs of related sentences you can go ahead and actually try training or fine-tuning using NLI with multiple negative ranking loss. If you don't have that fine. Another option is that you have a semantic textual similarity data set or STS and what this is is you have so you have sentence A here, sentence B here and then you have a score from from 0 to 1 that tells you the similarity between those two scores and you would train this using something like cosine similarity loss. Now if that's not an option and your focus or use case is on building a sentence transformer for another language where there is no current sentence transformer you can use multilingual parallel data. So what I mean by that is so parallel data just means translation pairs so if you have for example a English sentence and then you have another language here so it can it can be anything I'm just going to put XX and that XX is your target language you can fine-tune a model using something called multilingual knowledge distillation and what that does is takes a monolingual model for example in English and using those translation pairs it distills the knowledge the semantic similarity knowledge from that monolingual English model into a multilingual model which can handle both English and your target language. So they're three options quite popular very common that you can go for and as a supervised methods the chances are that probably going to outperform anything you do with unsupervised training at least for now. So if none of those sound like something\n",
      "\n",
      "---\n",
      "\n",
      "pooling approach. Or we can't use it in its current form. Now the solution to this problem was introduced by two people in 2019 Nils Reimers and Irenia Gurevich. They introduced what is the first sentence transformer or sentence BERT. And it was found that sentence BERT or S BERT outformed all of the previous Save the Art models on pretty much all benchmarks. Not all of them but most of them. And it did it in a very quick time. So if we compare it to BERT, if we wanted to find the most similar sentence pair from 10,000 sentences in that 2019 paper they found that with BERT that took 65 hours. With S BERT embeddings they could create all the embeddings in just around five seconds. And then they could compare all those with cosine similarity in 0.01 seconds. So it's a lot faster. We go from 65 hours to just over five seconds which is I think pretty incredible. Now I think that's pretty much all the context we need behind sentence transformers. And what we do now is dive into a little bit of how they actually work. Now we said before we have the core transform models and what S BERT does is fine tunes on sentence pairs using what is called a Siamese architecture or Siamese network. What we mean by a Siamese network is that we have what we can see, what can view as two BERT models that are identical and the weights between those two models are tied. Now in reality when implementing this we just use a single BERT model. And what we do is we process one sentence, a sentence A through the model and then we process another sentence, sentence B through the model. And that's the sentence pair. So with our cross-linked we were processing the sentence pair together. We were putting them both together, processing them all at once. This time we process them separately. And during training what happens is the weights within BERT are optimized to reduce the difference between two vector embeddings or two sentence\n",
      "\n",
      "Question: Which training method should I use for sentence transformers when I only have pairs of related sentences?\n",
      "Answer:\n"
     ]
    }
   ],
   "source": [
    "prompt_with_context = retrieval_augmented_prompt(query)\n",
    "print(prompt_with_context)"
   ]
  },
  {
   "cell_type": "markdown",
   "metadata": {},
   "source": [
    "## Generating knowledgeable answers with RAG\n",
    "\n",
    "Now that we are building a rich prompt with context from our index, we are ready to get chat completions from OpenAI."
   ]
  },
  {
   "cell_type": "code",
   "execution_count": 21,
   "metadata": {
    "colab": {
     "base_uri": "https://localhost:8080/",
     "height": 53
    },
    "id": "ioDVGF7lkDQL",
    "outputId": "304ece44-0205-41b5-8c98-e5e5d47ee21f"
   },
   "outputs": [],
   "source": [
    "def chat_completion(prompt):\n",
    "    from openai import OpenAI\n",
    "\n",
    "    # Get OpenAI api key from platform.openai.com\n",
    "    openai_api_key = os.getenv('OPENAI_API_KEY') or 'sk-...'\n",
    "\n",
    "    # Instantiate the OpenAI client\n",
    "    client = OpenAI(api_key=openai_api_key)\n",
    "    \n",
    "    # Instructions\n",
    "    sys_prompt = \"You are a helpful assistant that always answers questions.\"\n",
    "    res = client.chat.completions.create(\n",
    "        model='gpt-4o-mini-2024-07-18',\n",
    "        messages=[\n",
    "            {\"role\": \"system\", \"content\": sys_prompt},\n",
    "            {\"role\": \"user\", \"content\": prompt}\n",
    "        ],\n",
    "        temperature=0\n",
    "    )\n",
    "    return res.choices[0].message.content.strip()"
   ]
  },
  {
   "cell_type": "code",
   "execution_count": 22,
   "metadata": {},
   "outputs": [],
   "source": [
    "def rag(query):\n",
    "    prompt = retrieval_augmented_prompt(query)\n",
    "    return chat_completion(prompt)"
   ]
  },
  {
   "cell_type": "code",
   "execution_count": 23,
   "metadata": {},
   "outputs": [
    {
     "name": "stdout",
     "output_type": "stream",
     "text": [
      "You should use a training method that involves fine-tuning with pairs of related sentences using a Siamese architecture. This approach allows you to optimize the weights within the model to reduce the difference between the vector embeddings of the sentence pairs. You can also consider using a negative ranking loss if available, or alternatively, you can use a semantic textual similarity dataset to train with cosine similarity loss.\n"
     ]
    }
   ],
   "source": [
    "query = (\n",
    "    \"Which training method should I use for sentence transformers when \" +\n",
    "    \"I only have pairs of related sentences?\"\n",
    ")\n",
    "\n",
    "# Now we can get completions for a context-infused query\n",
    "answer = rag(query)\n",
    "print(answer)"
   ]
  },
  {
   "cell_type": "markdown",
   "metadata": {
    "id": "OPO36aN8QoPZ"
   },
   "source": [
    "And we get a pretty great answer straight away, specifying to use _multiple-rankings loss_ (also called _multiple negatives ranking loss_)."
   ]
  },
  {
   "cell_type": "markdown",
   "metadata": {},
   "source": [
    "## Demo cleanup"
   ]
  },
  {
   "cell_type": "markdown",
   "metadata": {
    "id": "sjOBIQ5rFeLZ"
   },
   "source": [
    "Once we're done with the index we can delete our index to save resources:"
   ]
  },
  {
   "cell_type": "code",
   "execution_count": null,
   "metadata": {
    "id": "PpJp-xExFeLa"
   },
   "outputs": [],
   "source": [
    "pc.delete_index(name=index_name)"
   ]
  },
  {
   "cell_type": "markdown",
   "metadata": {
    "id": "2kNh44bEFeLe"
   },
   "source": [
    "---"
   ]
  }
 ],
 "metadata": {
  "colab": {
   "provenance": []
  },
  "kernelspec": {
   "display_name": "Python 3 (ipykernel)",
   "language": "python",
   "name": "python3"
  },
  "language_info": {
   "codemirror_mode": {
    "name": "ipython",
    "version": 3
   },
   "file_extension": ".py",
   "mimetype": "text/x-python",
   "name": "python",
   "nbconvert_exporter": "python",
   "pygments_lexer": "ipython3",
   "version": "3.12.9"
  },
  "vscode": {
   "interpreter": {
    "hash": "57376684f67c5d7b1589c855d7d0f1a1bdf8944ab1b903e711fdbf39434567bb"
   }
  }
 },
 "nbformat": 4,
 "nbformat_minor": 4
}
